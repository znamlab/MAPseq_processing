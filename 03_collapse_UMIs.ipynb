{
 "cells": [
  {
   "cell_type": "code",
   "execution_count": 2,
   "metadata": {},
   "outputs": [],
   "source": [
    "import pandas as pd\n",
    "import numpy as np\n",
    "import matplotlib.pyplot as plt\n",
    "import networkx as nx\n",
    "from networkx import (draw, DiGraph, Graph)"
   ]
  },
  {
   "cell_type": "markdown",
   "metadata": {},
   "source": [
    "Import bowtie output file"
   ]
  },
  {
   "cell_type": "code",
   "execution_count": 3,
   "metadata": {},
   "outputs": [
    {
     "name": "stdout",
     "output_type": "stream",
     "text": [
      "[[     1      1]\n",
      " [     2      2]\n",
      " [     2      3]\n",
      " ...\n",
      " [274748 274748]\n",
      " [274750 274750]\n",
      " [274751 274751]]\n"
     ]
    }
   ],
   "source": [
    "alignedUMI = np.loadtxt(\"/camp/lab/znamenskiyp/home/shared/projects/turnerb_MAPseq/Sequencing/Processed_data/BRAC5676.1h/trial/unzipped/barcodesplitter/bowtiealignment1_4.txt\", dtype=int)\n",
    "\n",
    "print(alignedUMI)\n"
   ]
  },
  {
   "cell_type": "markdown",
   "metadata": {},
   "source": [
    "Now group according to connections within each row"
   ]
  },
  {
   "cell_type": "code",
   "execution_count": 4,
   "metadata": {},
   "outputs": [],
   "source": [
    "G=nx.Graph()\n",
    "G.add_edges_from(alignedUMI)\n",
    "UMIs =(sorted(nx.connected_components(G), key = len, reverse=True))\n"
   ]
  },
  {
   "cell_type": "markdown",
   "metadata": {},
   "source": [
    "For each set of aligned UMIs in list take the lowest UMI number as UMI label and the count number of UMIs in each set."
   ]
  },
  {
   "cell_type": "code",
   "execution_count": 132,
   "metadata": {},
   "outputs": [],
   "source": [
    "UMI_sorted = pd.DataFrame(columns=['line', 'UMI_frequency'])\n",
    "\n",
    "for i in UMIs:\n",
    "\n",
    "    UMI_sorted = UMI_sorted.append({'line': (min(i)), 'UMI_frequency': (len(i))},ignore_index=True)"
   ]
  },
  {
   "cell_type": "code",
   "execution_count": 136,
   "metadata": {},
   "outputs": [
    {
     "name": "stdout",
     "output_type": "stream",
     "text": [
      "         line UMI_frequency\n",
      "0       61625          2103\n",
      "1      110953          1879\n",
      "2      240603          1392\n",
      "3      105316          1313\n",
      "4      158753          1177\n",
      "...       ...           ...\n",
      "83421  274747             1\n",
      "83422  274749             1\n",
      "83423  274748             1\n",
      "83424  274750             1\n",
      "83425  274751             1\n",
      "\n",
      "[83426 rows x 2 columns]\n"
     ]
    }
   ],
   "source": [
    "print(UMI_sorted)"
   ]
  },
  {
   "cell_type": "markdown",
   "metadata": {},
   "source": [
    "Remove UMI counts of less than 5"
   ]
  },
  {
   "cell_type": "code",
   "execution_count": 168,
   "metadata": {},
   "outputs": [],
   "source": [
    "UMI_final = UMI_sorted[UMI_sorted.UMI_frequency >4]"
   ]
  },
  {
   "cell_type": "code",
   "execution_count": 169,
   "metadata": {},
   "outputs": [
    {
     "data": {
      "text/html": [
       "<div>\n",
       "<style scoped>\n",
       "    .dataframe tbody tr th:only-of-type {\n",
       "        vertical-align: middle;\n",
       "    }\n",
       "\n",
       "    .dataframe tbody tr th {\n",
       "        vertical-align: top;\n",
       "    }\n",
       "\n",
       "    .dataframe thead th {\n",
       "        text-align: right;\n",
       "    }\n",
       "</style>\n",
       "<table border=\"1\" class=\"dataframe\">\n",
       "  <thead>\n",
       "    <tr style=\"text-align: right;\">\n",
       "      <th></th>\n",
       "      <th>line</th>\n",
       "      <th>UMI_frequency</th>\n",
       "    </tr>\n",
       "  </thead>\n",
       "  <tbody>\n",
       "    <tr>\n",
       "      <th>0</th>\n",
       "      <td>61625</td>\n",
       "      <td>2103</td>\n",
       "    </tr>\n",
       "    <tr>\n",
       "      <th>1</th>\n",
       "      <td>110953</td>\n",
       "      <td>1879</td>\n",
       "    </tr>\n",
       "    <tr>\n",
       "      <th>2</th>\n",
       "      <td>240603</td>\n",
       "      <td>1392</td>\n",
       "    </tr>\n",
       "    <tr>\n",
       "      <th>3</th>\n",
       "      <td>105316</td>\n",
       "      <td>1313</td>\n",
       "    </tr>\n",
       "    <tr>\n",
       "      <th>4</th>\n",
       "      <td>158753</td>\n",
       "      <td>1177</td>\n",
       "    </tr>\n",
       "    <tr>\n",
       "      <th>...</th>\n",
       "      <td>...</td>\n",
       "      <td>...</td>\n",
       "    </tr>\n",
       "    <tr>\n",
       "      <th>9139</th>\n",
       "      <td>274084</td>\n",
       "      <td>5</td>\n",
       "    </tr>\n",
       "    <tr>\n",
       "      <th>9140</th>\n",
       "      <td>274164</td>\n",
       "      <td>5</td>\n",
       "    </tr>\n",
       "    <tr>\n",
       "      <th>9141</th>\n",
       "      <td>274470</td>\n",
       "      <td>5</td>\n",
       "    </tr>\n",
       "    <tr>\n",
       "      <th>9142</th>\n",
       "      <td>274602</td>\n",
       "      <td>5</td>\n",
       "    </tr>\n",
       "    <tr>\n",
       "      <th>9143</th>\n",
       "      <td>274658</td>\n",
       "      <td>5</td>\n",
       "    </tr>\n",
       "  </tbody>\n",
       "</table>\n",
       "<p>9144 rows × 2 columns</p>\n",
       "</div>"
      ],
      "text/plain": [
       "        line UMI_frequency\n",
       "0      61625          2103\n",
       "1     110953          1879\n",
       "2     240603          1392\n",
       "3     105316          1313\n",
       "4     158753          1177\n",
       "...      ...           ...\n",
       "9139  274084             5\n",
       "9140  274164             5\n",
       "9141  274470             5\n",
       "9142  274602             5\n",
       "9143  274658             5\n",
       "\n",
       "[9144 rows x 2 columns]"
      ]
     },
     "execution_count": 169,
     "metadata": {},
     "output_type": "execute_result"
    }
   ],
   "source": [
    "UMI_final"
   ]
  },
  {
   "cell_type": "code",
   "execution_count": 139,
   "metadata": {},
   "outputs": [],
   "source": [
    "UMI_final.to_csv(\"/camp/lab/znamenskiyp/home/shared/projects/turnerb_MAPseq/Sequencing/Processed_data/BRAC5676.1h/trial/unzipped/barcodesplitter/UMI_final.txt\", header=None, index=None, sep=' ', mode='a')"
   ]
  },
  {
   "cell_type": "code",
   "execution_count": null,
   "metadata": {},
   "outputs": [],
   "source": []
  },
  {
   "cell_type": "markdown",
   "metadata": {},
   "source": [
    "Display sequence rank of UMIs to explore PCR bias"
   ]
  },
  {
   "cell_type": "code",
   "execution_count": 157,
   "metadata": {},
   "outputs": [
    {
     "data": {
      "text/plain": [
       "[<matplotlib.lines.Line2D at 0x7f7808296e80>]"
      ]
     },
     "execution_count": 157,
     "metadata": {},
     "output_type": "execute_result"
    },
    {
     "data": {
      "image/png": "[encoded data removed]",
      "text/plain": [
       "<Figure size 432x288 with 1 Axes>"
      ]
     },
     "metadata": {
      "needs_background": "light"
     },
     "output_type": "display_data"
    }
   ],
   "source": [
    "plt.figure()\n",
    "\n",
    "plt.xlabel('Sequence Rank')\n",
    "plt.ylabel('UMI counts')\n",
    "l=  len(UMI_final)\n",
    "x = list(range(0, l))\n",
    "\n",
    "\n",
    "\n",
    "plt.semilogy(x, UMI_final['UMI_frequency'])"
   ]
  },
  {
   "cell_type": "markdown",
   "metadata": {},
   "source": [
    "For each line in each UMI find associated barcode sequence, save final sequence and UMI count in txt file for final barcode alignment"
   ]
  },
  {
   "cell_type": "code",
   "execution_count": 158,
   "metadata": {},
   "outputs": [],
   "source": [
    "barcodes = np.loadtxt(\"/camp/lab/znamenskiyp/home/shared/projects/turnerb_MAPseq/Sequencing/Processed_data/BRAC5676.1h/trial/unzipped/barcodesplitter/TUR4405A1processedBC5_fasta.txt\", dtype=str, delimiter = \" \")\n"
   ]
  },
  {
   "cell_type": "code",
   "execution_count": 159,
   "metadata": {},
   "outputs": [],
   "source": [
    "line = (barcodes[::2])\n",
    "sequence = (barcodes[1::2])\n",
    "line = np.char.strip(line, chars ='>')\n",
    "barcode_seq = pd.DataFrame(columns = ['line', 'sequence'])\n",
    "barcode_seq['line'] = line\n",
    "barcode_seq['sequence'] = sequence"
   ]
  },
  {
   "cell_type": "code",
   "execution_count": 172,
   "metadata": {},
   "outputs": [
    {
     "name": "stderr",
     "output_type": "stream",
     "text": [
      "<ipython-input-172-45200ec6c447>:1: SettingWithCopyWarning: \n",
      "A value is trying to be set on a copy of a slice from a DataFrame.\n",
      "Try using .loc[row_indexer,col_indexer] = value instead\n",
      "\n",
      "See the caveats in the documentation: https://pandas.pydata.org/pandas-docs/stable/user_guide/indexing.html#returning-a-view-versus-a-copy\n",
      "  UMI_final['sequence'] = UMI_final.line.map(barcode_seq.sequence)\n"
     ]
    }
   ],
   "source": [
    "UMI_final['sequence'] = UMI_final.line.map(barcode_seq.sequence)"
   ]
  },
  {
   "cell_type": "code",
   "execution_count": 173,
   "metadata": {},
   "outputs": [
    {
     "data": {
      "text/html": [
       "<div>\n",
       "<style scoped>\n",
       "    .dataframe tbody tr th:only-of-type {\n",
       "        vertical-align: middle;\n",
       "    }\n",
       "\n",
       "    .dataframe tbody tr th {\n",
       "        vertical-align: top;\n",
       "    }\n",
       "\n",
       "    .dataframe thead th {\n",
       "        text-align: right;\n",
       "    }\n",
       "</style>\n",
       "<table border=\"1\" class=\"dataframe\">\n",
       "  <thead>\n",
       "    <tr style=\"text-align: right;\">\n",
       "      <th></th>\n",
       "      <th>line</th>\n",
       "      <th>UMI_frequency</th>\n",
       "      <th>sequence</th>\n",
       "    </tr>\n",
       "  </thead>\n",
       "  <tbody>\n",
       "    <tr>\n",
       "      <th>0</th>\n",
       "      <td>61625</td>\n",
       "      <td>2103</td>\n",
       "      <td>TATTTTGAGTAGTTGGCTCCTCATGCCGTTTTGTACTTCCTTTTTT...</td>\n",
       "    </tr>\n",
       "    <tr>\n",
       "      <th>1</th>\n",
       "      <td>110953</td>\n",
       "      <td>1879</td>\n",
       "      <td>GGGCGCGTACAGCAGACAATCATTCGGGTGCCGTACCATTTTTATT...</td>\n",
       "    </tr>\n",
       "    <tr>\n",
       "      <th>2</th>\n",
       "      <td>240603</td>\n",
       "      <td>1392</td>\n",
       "      <td>AGATATTCAGGGGGCCTCACTATCTGCTCGTTGTACTTCTTGTAAA...</td>\n",
       "    </tr>\n",
       "    <tr>\n",
       "      <th>3</th>\n",
       "      <td>105316</td>\n",
       "      <td>1313</td>\n",
       "      <td>GGTCAAGTGAGTGGTGGAGTGTGTATGAGCTCGTACTTTCACATTG...</td>\n",
       "    </tr>\n",
       "    <tr>\n",
       "      <th>4</th>\n",
       "      <td>158753</td>\n",
       "      <td>1177</td>\n",
       "      <td>CTCTTCTTTCCATCGTCTTTTTATTACCCGTACTGCTTTTTTGTTT...</td>\n",
       "    </tr>\n",
       "    <tr>\n",
       "      <th>...</th>\n",
       "      <td>...</td>\n",
       "      <td>...</td>\n",
       "      <td>...</td>\n",
       "    </tr>\n",
       "    <tr>\n",
       "      <th>9139</th>\n",
       "      <td>274084</td>\n",
       "      <td>5</td>\n",
       "      <td>AAAACTATATCAGCACACCCGCAGCCGTGTTCGTACTCTTGTTTTT...</td>\n",
       "    </tr>\n",
       "    <tr>\n",
       "      <th>9140</th>\n",
       "      <td>274164</td>\n",
       "      <td>5</td>\n",
       "      <td>AAAACTATATCAGCACACCCGCAGCCGTGTTCGTACTATCAATGGT...</td>\n",
       "    </tr>\n",
       "    <tr>\n",
       "      <th>9141</th>\n",
       "      <td>274470</td>\n",
       "      <td>5</td>\n",
       "      <td>AAAACTATATCAGCACACCCGCAGCCGTGTTCGTACATTCCTTCGT...</td>\n",
       "    </tr>\n",
       "    <tr>\n",
       "      <th>9142</th>\n",
       "      <td>274602</td>\n",
       "      <td>5</td>\n",
       "      <td>AAAACTATATCAGCACACCCGCAGCCGTGTTCGTACAATTATGTTT...</td>\n",
       "    </tr>\n",
       "    <tr>\n",
       "      <th>9143</th>\n",
       "      <td>274658</td>\n",
       "      <td>5</td>\n",
       "      <td>AAAACGCAGAGTCAATTAAAGAAGCCAACATCGTACTCTTTGTGTG...</td>\n",
       "    </tr>\n",
       "  </tbody>\n",
       "</table>\n",
       "<p>9144 rows × 3 columns</p>\n",
       "</div>"
      ],
      "text/plain": [
       "        line UMI_frequency                                           sequence\n",
       "0      61625          2103  TATTTTGAGTAGTTGGCTCCTCATGCCGTTTTGTACTTCCTTTTTT...\n",
       "1     110953          1879  GGGCGCGTACAGCAGACAATCATTCGGGTGCCGTACCATTTTTATT...\n",
       "2     240603          1392  AGATATTCAGGGGGCCTCACTATCTGCTCGTTGTACTTCTTGTAAA...\n",
       "3     105316          1313  GGTCAAGTGAGTGGTGGAGTGTGTATGAGCTCGTACTTTCACATTG...\n",
       "4     158753          1177  CTCTTCTTTCCATCGTCTTTTTATTACCCGTACTGCTTTTTTGTTT...\n",
       "...      ...           ...                                                ...\n",
       "9139  274084             5  AAAACTATATCAGCACACCCGCAGCCGTGTTCGTACTCTTGTTTTT...\n",
       "9140  274164             5  AAAACTATATCAGCACACCCGCAGCCGTGTTCGTACTATCAATGGT...\n",
       "9141  274470             5  AAAACTATATCAGCACACCCGCAGCCGTGTTCGTACATTCCTTCGT...\n",
       "9142  274602             5  AAAACTATATCAGCACACCCGCAGCCGTGTTCGTACAATTATGTTT...\n",
       "9143  274658             5  AAAACGCAGAGTCAATTAAAGAAGCCAACATCGTACTCTTTGTGTG...\n",
       "\n",
       "[9144 rows x 3 columns]"
      ]
     },
     "execution_count": 173,
     "metadata": {},
     "output_type": "execute_result"
    }
   ],
   "source": [
    "UMI_final"
   ]
  },
  {
   "cell_type": "code",
   "execution_count": 174,
   "metadata": {},
   "outputs": [],
   "source": [
    "UMI_final.to_csv(\"/camp/lab/znamenskiyp/home/shared/projects/turnerb_MAPseq/Sequencing/Processed_data/BRAC5676.1h/trial/unzipped/barcodesplitter/barcodes_UMI_final.txt\", header=None, index=None, sep=' ', mode='a')"
   ]
  },
  {
   "cell_type": "code",
   "execution_count": null,
   "metadata": {},
   "outputs": [],
   "source": []
  },
  {
   "cell_type": "code",
   "execution_count": null,
   "metadata": {},
   "outputs": [],
   "source": []
  },
  {
   "cell_type": "code",
   "execution_count": null,
   "metadata": {},
   "outputs": [],
   "source": [
    "\n"
   ]
  },
  {
   "cell_type": "code",
   "execution_count": null,
   "metadata": {},
   "outputs": [],
   "source": []
  },
  {
   "cell_type": "code",
   "execution_count": null,
   "metadata": {},
   "outputs": [],
   "source": []
  }
 ],
 "metadata": {
  "kernelspec": {
   "display_name": "Python 3",
   "language": "python",
   "name": "python3"
  },
  "language_info": {
   "codemirror_mode": {
    "name": "ipython",
    "version": 3
   },
   "file_extension": ".py",
   "mimetype": "text/x-python",
   "name": "python",
   "nbconvert_exporter": "python",
   "pygments_lexer": "ipython3",
   "version": "3.8.2"
  }
 },
 "nbformat": 4,
 "nbformat_minor": 4
}
