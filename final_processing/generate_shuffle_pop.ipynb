{
 "cells": [
  {
   "cell_type": "code",
   "execution_count": null,
   "metadata": {},
   "outputs": [],
   "source": [
    "import yaml\n",
    "from final_processing import final_processing_functions as fpf"
   ]
  },
  {
   "cell_type": "markdown",
   "metadata": {},
   "source": [
    "Load parameters"
   ]
  },
  {
   "cell_type": "code",
   "execution_count": null,
   "metadata": {},
   "outputs": [],
   "source": [
    "with open(\"general_analysis_parameters.yaml\", \"r\") as file:\n",
    "    gen_parameters = yaml.safe_load(file)"
   ]
  },
  {
   "cell_type": "markdown",
   "metadata": {},
   "source": [
    "Run this command to generate shuffle population"
   ]
  },
  {
   "cell_type": "code",
   "execution_count": null,
   "metadata": {},
   "outputs": [],
   "source": [
    "fpf.generate_shuffle_population(mice=gen_parameters['MICE'], proj_folder= str(gen_parameters['proj_path']), total_number_shuffles= gen_parameters['number_shuffles'], mice_sep=False, use_slurm=False)"
   ]
  },
  {
   "cell_type": "markdown",
   "metadata": {},
   "source": [
    "If any shuffle jobs have failed, run this function"
   ]
  },
  {
   "cell_type": "code",
   "execution_count": null,
   "metadata": {},
   "outputs": [],
   "source": [
    "temp_shuffle_folder=gen_parameters['proj_path'] + '/temp_shuffles'\n",
    "mice_sep=False\n",
    "total=int(gen_parameters['number_shuffles']/200) # the number of chunks shuffles are split into per job\n",
    "fpf.check_and_run_missing_scripts(total= total, mice = gen_parameters['MICE'], temp_shuffle_folder=str(temp_shuffle_folder), mice_sep=mice_sep, use_slurm=False)"
   ]
  }
 ],
 "metadata": {
  "language_info": {
   "name": "python"
  }
 },
 "nbformat": 4,
 "nbformat_minor": 2
}
