{
 "cells": [
  {
   "cell_type": "code",
   "execution_count": 2,
   "metadata": {},
   "outputs": [],
   "source": [
    "%load_ext autoreload\n",
    "%autoreload 2\n",
    "import nrrd\n",
    "import numpy as np\n",
    "import matplotlib.pyplot as plt\n",
    "import ccf_streamlines.projection as ccfproj\n",
    "import pathlib\n",
    "import pandas as pd\n",
    "import numpy as np\n",
    "import os\n",
    "import matplotlib.colors as mcolors\n",
    "from matplotlib import cm\n",
    "from matplotlib.colors import ListedColormap, LinearSegmentedColormap\n",
    "from matplotlib.colors import LogNorm\n",
    "import copy\n",
    "import seaborn as sb\n",
    "import nrrd\n",
    "#from preprocessing_sequencing import preprocess_sequences as ps\n",
    "from bg_atlasapi import BrainGlobeAtlas \n",
    "#from final_processing import final_processing_functions as fpf\n",
    "import MAPseq_flatmap_functions as mff\n",
    "import ast\n",
    "import yaml\n",
    "from scipy.ndimage import zoom\n",
    "from allensdk.core.mouse_connectivity_cache import MouseConnectivityCache\n",
    "import loading_functions as lf\n",
    "import figure_formatting as ff\n",
    "%matplotlib inline\n"
   ]
  },
  {
   "cell_type": "markdown",
   "metadata": {},
   "source": [
    "First load parameters, barcode and sample dictionaries + initialise flatmap requirements"
   ]
  },
  {
   "cell_type": "code",
   "execution_count": 3,
   "metadata": {},
   "outputs": [],
   "source": [
    "gen_parameters = lf.load_gen_params()\n",
    "mice = gen_parameters['MICE']\n",
    "saving_path = gen_parameters['fig_saving_path']\n",
    "proj_path = gen_parameters['proj_path']\n",
    "ff.set_font_params(gen_parameters)"
   ]
  },
  {
   "cell_type": "code",
   "execution_count": null,
   "metadata": {},
   "outputs": [],
   "source": [
    "roi_dict, barcodes_dict, all_bcs_with_source, barcodes_no_source, sample_vol_and_regions = mff.make_dicts_of_mouse_3d_sample_rois(gen_parameters)\n",
    "proj_top, bf_left_boundaries, bf_right_boundaries = mff.set_up_for_flatmaps(proj_path=gen_parameters['proj_path'])"
   ]
  },
  {
   "cell_type": "markdown",
   "metadata": {},
   "source": [
    "Fig. 1g"
   ]
  },
  {
   "cell_type": "code",
   "execution_count": null,
   "metadata": {},
   "outputs": [],
   "source": [
    "fig = plt.figure(figsize=(7.8, 2), facecolor=\"white\",dpi=400)\n",
    "mff.plot_indiv_projections(sample_vol_and_regions=sample_vol_and_regions, roi_dict=roi_dict, barcodes_dict=barcodes_dict, gen_parameters=gen_parameters, fig=fig, proj_top=proj_top, bf_left_boundaries=bf_left_boundaries, bf_right_boundaries=bf_right_boundaries) \n",
    "fig.savefig(f\"{saving_path}/fig_1_example_projections_updated.svg\", format=\"svg\", bbox_inches='tight', dpi=400)\n",
    "fig.savefig(f\"{saving_path}/fig_1_example_projections_updated.pdf\", format=\"pdf\", bbox_inches='tight', dpi=400) "
   ]
  },
  {
   "cell_type": "markdown",
   "metadata": {},
   "source": [
    "Fig. 2a"
   ]
  },
  {
   "cell_type": "code",
   "execution_count": null,
   "metadata": {},
   "outputs": [],
   "source": [
    "normalised_bc_matrices, soma_coordinates_2d = mff.get_source_2d_and_normalised_matrices(roi_dict=roi_dict, gen_parameters=gen_parameters,  proj_top=proj_top, barcodes_no_source=barcodes_no_source)\n",
    "to_look = mff.make_mean_3d(roi_dict=roi_dict, normalised_bc_matrices=normalised_bc_matrices, gen_parameters=gen_parameters, proj_top=proj_top)"
   ]
  },
  {
   "cell_type": "code",
   "execution_count": null,
   "metadata": {},
   "outputs": [],
   "source": [
    "fig, ax = plt.subplots(figsize=(3, 3))\n",
    "mff.plot_mean_flatmap(to_look=to_look, soma_coordinates_2d=soma_coordinates_2d, fig=fig, ax=ax, bf_left_boundaries=bf_left_boundaries, bf_right_boundaries=bf_right_boundaries)\n",
    "fig.savefig(f\"{saving_path}/mean_soma_projection_densities_small.svg\", format=\"svg\", dpi=400)"
   ]
  },
  {
   "cell_type": "markdown",
   "metadata": {},
   "source": [
    "Fig. 2d"
   ]
  },
  {
   "cell_type": "code",
   "execution_count": 7,
   "metadata": {},
   "outputs": [],
   "source": [
    "mouse_dict_AP_source, mouse_dict_A1_coords = mff.get_AP_coords(\n",
    "        gen_parameters=gen_parameters\n",
    "    )\n",
    "cortical_roi_dict, all_AP_dict, which_soma = mff.find_soma_AP_roi(\n",
    "    mice=gen_parameters[\"MICE\"],\n",
    "    proj_path=gen_parameters[\"proj_path\"],\n",
    "    mouse_dict_AP_source=mouse_dict_AP_source,\n",
    "    mouse_dict_A1_coords=mouse_dict_A1_coords,\n",
    "    roi_dict=roi_dict,\n",
    ")"
   ]
  },
  {
   "cell_type": "code",
   "execution_count": null,
   "metadata": {},
   "outputs": [],
   "source": [
    "fig, ax = plt.subplots(figsize=(3, 3))\n",
    "mff.plot_AP_soma_cubelet_flatmap(gen_parameters=gen_parameters, fig=fig, ax=ax, roi_dict=roi_dict, bf_left_boundaries=bf_left_boundaries, bf_right_boundaries=bf_right_boundaries, proj_top=proj_top)\n",
    "fig.savefig(f\"{saving_path}/mean_AP_soma_projection_all_cortex_small.svg\", format=\"svg\", dpi=400)"
   ]
  },
  {
   "cell_type": "markdown",
   "metadata": {},
   "source": [
    "Extended data fig 2. a-b"
   ]
  },
  {
   "cell_type": "code",
   "execution_count": null,
   "metadata": {},
   "outputs": [],
   "source": [
    "#nb. this takes a long time to run, since we generate the flatmap for each roi sequentially to avoid overlap in visualisation going from 3d to 2d\n",
    "fig, axes = plt.subplots(2, 3, figsize=(7, 3.5))  \n",
    "fig.subplots_adjust(wspace=0.30)\n",
    "mff.plot_bulk_flatmaps_indiv(fig=fig, axes=axes, proj_top=proj_top, roi_dict=roi_dict, barcodes_dict=barcodes_dict, gen_parameters=gen_parameters, bf_left_boundaries=bf_left_boundaries, bf_right_boundaries=bf_right_boundaries)\n",
    "mff.plot_bulk_allen_anterograde(proj_top, fig, axes, bf_left_boundaries=bf_left_boundaries, bf_right_boundaries=bf_right_boundaries)\n",
    "plt.tight_layout()\n",
    "fig.savefig(f\"{saving_path}/bulk_MAPseq_and_allen_flatmaps.svg\", format=\"svg\")\n",
    "plt.show()"
   ]
  }
 ],
 "metadata": {
  "kernelspec": {
   "display_name": "MAPseq_processing_py39",
   "language": "python",
   "name": "python3"
  },
  "language_info": {
   "codemirror_mode": {
    "name": "ipython",
    "version": 3
   },
   "file_extension": ".py",
   "mimetype": "text/x-python",
   "name": "python",
   "nbconvert_exporter": "python",
   "pygments_lexer": "ipython3",
   "version": "3.9.0"
  }
 },
 "nbformat": 4,
 "nbformat_minor": 2
}
