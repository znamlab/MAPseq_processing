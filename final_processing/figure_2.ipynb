{
 "cells": [
  {
   "cell_type": "code",
   "execution_count": null,
   "metadata": {},
   "outputs": [],
   "source": [
    "%load_ext autoreload\n",
    "%autoreload 2\n",
    "import numpy as np\n",
    "import pandas as pd\n",
    "from final_processing import final_processing_functions as fpf\n",
    "import pathlib\n",
    "from matplotlib import pyplot as plt\n",
    "import seaborn as sb\n",
    "import warnings\n",
    "from matplotlib.lines import Line2D\n",
    "from scipy.optimize import curve_fit\n",
    "from scipy.stats import ks_2samp\n",
    "from allensdk.core.mouse_connectivity_cache import MouseConnectivityCache\n",
    "from matplotlib import rcParams\n",
    "import yaml\n",
    "import figure_formatting as ff\n",
    "# from matplotlib.ticker import FormatStrFormatter\n",
    "\n",
    "import matplotlib\n",
    "warnings.filterwarnings('ignore')\n",
    "import final_processing.loading_functions as lf\n",
    "import final_processing.MAPseq_data_processing as mdp\n",
    "import statsmodels.formula.api as smf\n",
    "import final_processing.fig2_plotting as pltt\n",
    "import final_processing.helper_functions as hf\n",
    "%matplotlib inline"
   ]
  },
  {
   "cell_type": "markdown",
   "metadata": {},
   "source": [
    "Load filepaths and perform area assignment"
   ]
  },
  {
   "cell_type": "code",
   "execution_count": 10,
   "metadata": {},
   "outputs": [],
   "source": [
    "gen_parameters = lf.load_gen_params()\n",
    "mice = gen_parameters['MICE']\n",
    "saving_path = gen_parameters['fig_saving_path']\n",
    "proj_path = gen_parameters['proj_path']\n",
    "ff.set_font_params(gen_parameters)\n"
   ]
  },
  {
   "cell_type": "code",
   "execution_count": 11,
   "metadata": {},
   "outputs": [],
   "source": [
    "#load all mice neuron projection datasets\n",
    "combined_dict = mdp.samples_to_areas(mice = mice, proj_path=proj_path)\n",
    "all_mice_combined = pd.concat([\n",
    "    combined_dict[k]['homogenous_across_cubelet'][mdp.get_common_columns(mice=mice, combined_dict=combined_dict, cortex=True)]\n",
    "    for k in mice\n",
    "])"
   ]
  },
  {
   "cell_type": "markdown",
   "metadata": {},
   "source": [
    "Fig 2b-c"
   ]
  },
  {
   "cell_type": "code",
   "execution_count": null,
   "metadata": {},
   "outputs": [],
   "source": [
    "fig, axes = plt.subplots(1, 2, figsize=(3, 1))\n",
    "\n",
    "pltt.plot_all_distance_decay_from_A1(\n",
    "    fig,\n",
    "    axes,\n",
    "    combined_dict=combined_dict,\n",
    "    all_mice_combined=all_mice_combined,\n",
    "    mice=mice,\n",
    "    gen_parameters=gen_parameters,\n",
    ")\n",
    "fig.savefig(f\"{saving_path}/fig2_dist_vs_proj.pdf\", format=\"pdf\")\n",
    "fig.savefig(f\"{saving_path}/fig2_dist_vs_proj.svg\", format=\"svg\")"
   ]
  },
  {
   "cell_type": "markdown",
   "metadata": {},
   "source": [
    "Fig. 2e"
   ]
  },
  {
   "cell_type": "code",
   "execution_count": null,
   "metadata": {},
   "outputs": [],
   "source": [
    "fig, ax = plt.subplots(figsize=(1, 1))\n",
    "AP_position_dict_list_combined, AP_soma_VC_sample = mdp.compute_mean_soma_AP_positions(gen_parameters=gen_parameters)\n",
    "pltt.plot_ap_vs_visap(ax, AP_soma_VC_sample, gen_parameters)\n",
    "fig.savefig(f\"{saving_path}/fig_2_AP_vs_VISAP.svg\", format=\"svg\")\n",
    "fig.savefig(f\"{saving_path}/fig_2_AP_vs_VISAP.pdf\", format=\"pdf\")"
   ]
  },
  {
   "cell_type": "markdown",
   "metadata": {},
   "source": [
    "Fig. 2f"
   ]
  },
  {
   "cell_type": "code",
   "execution_count": null,
   "metadata": {},
   "outputs": [],
   "source": [
    "where_AP_vis, area_AP_dict = mdp.get_area_mean_AP(gen_parameters=gen_parameters, combined_dict=combined_dict, AP_position_dict_list_combined=AP_position_dict_list_combined)\n",
    "fig, ax = plt.subplots(figsize=(1.4, 1.4))\n",
    "pltt.plot_area_AP_positions(\n",
    "    ax=ax,\n",
    "    fig=fig,\n",
    "    area_AP_dict=area_AP_dict,\n",
    "    where_AP_vis=where_AP_vis,\n",
    "    font_size=gen_parameters[\"font_size\"],\n",
    ")\n",
    "fig.savefig(f\"{saving_path}/fig2_meanAP_pos_area.svg\", format=\"svg\")\n",
    "fig.savefig(f\"{saving_path}/fig2_meanAP_pos_area.pdf\", format=\"pdf\")\n"
   ]
  },
  {
   "cell_type": "markdown",
   "metadata": {},
   "source": [
    "Fig. 2g"
   ]
  },
  {
   "cell_type": "code",
   "execution_count": null,
   "metadata": {},
   "outputs": [],
   "source": [
    "areas_to_plot = ['VISam', 'VISrl', 'VISpor', 'VISpl']\n",
    "fig, axes = plt.subplots(\n",
    "    nrows=4,          \n",
    "    ncols=1,        \n",
    "    figsize=(1.4, 2.8),\n",
    "    sharex=True       \n",
    ")\n",
    "pltt.plot_area_projection_probs(areas_to_plot=areas_to_plot, gen_parameters=gen_parameters, combined_dict=combined_dict, AP_position_dict_list_combined=AP_position_dict_list_combined, fig=fig, axes=axes)\n",
    "fig.savefig(f\"{saving_path}/fig2_proj_prob_AP.svg\", format=\"svg\")\n",
    "fig.savefig(f\"{saving_path}/fig2_proj_prob_AP.pdf\", format=\"pdf\")\n"
   ]
  },
  {
   "cell_type": "markdown",
   "metadata": {},
   "source": [
    "Fig. 2h"
   ]
  },
  {
   "cell_type": "code",
   "execution_count": null,
   "metadata": {},
   "outputs": [],
   "source": [
    "fig, ax = plt.subplots(figsize=(0.8, 1.5))  \n",
    "pltt.plot_vc_projecting_cells(visual_areas=gen_parameters['HVA_cols'], all_mice=all_mice_combined, fig=fig, ax=ax, gen_parameters=gen_parameters)\n",
    "fig.savefig(f\"{saving_path}/vc_projection_counts.pdf\", format=\"pdf\")\n",
    "fig.savefig(f\"{saving_path}/vc_projection_counts.svg\", format=\"svg\")\n"
   ]
  },
  {
   "cell_type": "markdown",
   "metadata": {},
   "source": [
    "Fig. 2i-j"
   ]
  },
  {
   "cell_type": "code",
   "execution_count": null,
   "metadata": {},
   "outputs": [],
   "source": [
    "fig = plt.figure(figsize=(15/2.54, 4/2.54))\n",
    "pltt.plot_the_heatmap_and_bubble(gen_parameters=gen_parameters, all_mice_combined=all_mice_combined, fig=fig)\n",
    "fig.savefig(f\"{saving_path}/fig_2_heatmapbubble_combined.svg\", format=\"svg\")\n",
    "fig.savefig(f\"{saving_path}/fig_2_heatmapbubble_combined.pdf\", format=\"pdf\")\n"
   ]
  },
  {
   "cell_type": "markdown",
   "metadata": {},
   "source": [
    "Fig. 2k-m"
   ]
  },
  {
   "cell_type": "code",
   "execution_count": null,
   "metadata": {},
   "outputs": [],
   "source": [
    "cosine_df = mdp.cal_cosine_sim(gen_parameters=gen_parameters, all_mice_combined=all_mice_combined)\n",
    "to_plot = mdp.perform_motif_analysis(gen_parameters=gen_parameters, barcodes=all_mice_combined)\n",
    "\n",
    "fig = plt.figure(figsize=(18/2.54, 5.5/2.54))\n",
    "ax = fig.add_axes([0.1, 0.25, 0.2, 0.6])\n",
    "cbax = fig.add_axes([0.31, 0.4, 0.01, 0.35])\n",
    "pltt.add_cosine_sim_plot(ax=ax, cbax=cbax, cosine_df=cosine_df, gen_parameters=gen_parameters)\n",
    "ax = fig.add_axes([0.46, 0.25, 0.24, 0.6])\n",
    "pltt.add_motif_volcano_plot(gen_parameters=gen_parameters, to_plot=to_plot, ax=ax)\n",
    "ax = fig.add_axes([0.83, 0.35, 0.08, 0.5])\n",
    "pltt.plot_stream_effects(ax=ax, to_plot=to_plot, gen_parameters=gen_parameters)\n",
    "\n",
    "\n",
    "fig.savefig(f\"{saving_path}/fig2_stream_effectsize.svg\", format=\"svg\")\n",
    "fig.savefig(f\"{saving_path}/fig2_stream_effectsize.pdf\", format=\"pdf\")\n"
   ]
  }
 ],
 "metadata": {
  "kernelspec": {
   "display_name": "MAPseq_processing",
   "language": "python",
   "name": "python3"
  },
  "language_info": {
   "codemirror_mode": {
    "name": "ipython",
    "version": 3
   },
   "file_extension": ".py",
   "mimetype": "text/x-python",
   "name": "python",
   "nbconvert_exporter": "python",
   "pygments_lexer": "ipython3",
   "version": "3.8.16"
  }
 },
 "nbformat": 4,
 "nbformat_minor": 2
}
