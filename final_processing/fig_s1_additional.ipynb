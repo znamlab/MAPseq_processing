{
 "cells": [
  {
   "cell_type": "code",
   "execution_count": 6,
   "metadata": {},
   "outputs": [],
   "source": [
    "import pathlib\n",
    "import pandas as pd\n",
    "import numpy as np\n",
    "import matplotlib.pyplot as plt\n",
    "from matplotlib import rcParams\n",
    "from preprocessing_sequencing import preprocess_sequences as ps\n",
    "import os\n",
    "from matplotlib.colors import LogNorm\n",
    "%matplotlib inline\n",
    "import yaml\n",
    "from collections import Counter\n",
    "from math import log\n",
    "from datetime import datetime\n",
    "from scipy.stats import ttest_rel\n",
    "import figure_formatting as ff\n",
    "%matplotlib inline\n"
   ]
  },
  {
   "cell_type": "code",
   "execution_count": 3,
   "metadata": {},
   "outputs": [],
   "source": [
    "\n",
    "with open(\"general_analysis_parameters.yaml\", \"r\") as file:\n",
    "    gen_parameters = yaml.safe_load(file)\n",
    "rcParams['font.sans-serif'] = gen_parameters['font']\n",
    "rcParams['font.family'] = gen_parameters['font']\n",
    "rcParams['font.size'] = gen_parameters['font_size']\n",
    "font_size = gen_parameters['font_size']\n",
    "saving_path = gen_parameters['fig_saving_path']\n",
    "mice = gen_parameters['MICE']\n",
    "proj_path = gen_parameters['proj_path']"
   ]
  },
  {
   "cell_type": "code",
   "execution_count": 4,
   "metadata": {},
   "outputs": [],
   "source": [
    "\n",
    "# mice = ['FIAA45.6a', 'FIAA45.6d', 'FIAA55.4d']\n",
    "negs_dict = {}\n",
    "\n",
    "for mouse in mice:\n",
    "    parameters_path = pathlib.Path(f\"{proj_path}/{mouse}/Sequencing\")\n",
    "    parameters = ps.load_parameters(directory=str(parameters_path))\n",
    "    barcodes_across_sample = pd.read_pickle(\n",
    "        str(parameters_path / \"final_processed_sequences/barcodes_across_sample.pkl\")\n",
    "    )\n",
    "    max_y = 100\n",
    "    rcParams[\"figure.figsize\"] = (8, 5)\n",
    "    interpolate_on_x = len(np.flip(np.sort(barcodes_across_sample.sum(axis=1)))) - len(\n",
    "        np.flip(np.sort(barcodes_across_sample.sum(axis=1)))[\n",
    "            np.flip(np.sort(barcodes_across_sample.sum(axis=1))) < max_y\n",
    "        ]\n",
    "    )\n",
    "    filtered_barcodes = barcodes_across_sample[barcodes_across_sample.sum(axis=1) >= max_y]\n",
    "    negative_samples = parameters['negative_control_samples']\n",
    "    negs_dict[mouse] = filtered_barcodes[negative_samples].melt(\n",
    "        var_name=\"samples\", value_name=\"barcode_counts\")"
   ]
  },
  {
   "cell_type": "code",
   "execution_count": 28,
   "metadata": {},
   "outputs": [
    {
     "data": {
      "image/png": "[encoded data removed]",
      "text/plain": [
       "<Figure size 100x100 with 1 Axes>"
      ]
     },
     "metadata": {},
     "output_type": "display_data"
    }
   ],
   "source": [
    "import matplotlib.ticker as mticker\n",
    "\n",
    "dist_list = []\n",
    "for mouse, df in negs_dict.items():\n",
    "    dist = df.loc[df[\"barcode_counts\"] > 0, \"barcode_counts\"].value_counts()\n",
    "    dist_list.append(dist)\n",
    "total_distribution = pd.concat(dist_list, axis=1).fillna(0).sum(axis=1)\n",
    "total_distribution = total_distribution.sort_index()\n",
    "total_distribution_norm = total_distribution / total_distribution.sum()\n",
    "fig, axes = plt.subplots(figsize=(1, 1))\n",
    "ax = total_distribution_norm.plot(kind=\"bar\", width=1, color='black')  \n",
    "ax.axvline(x=0.5, color='red', linestyle='dotted', linewidth=1, label='cut off')\n",
    "# plt.xlabel(f\"UMI Counts\\nNegative control\")\n",
    "# plt.ylabel(\"Frequency\")\n",
    "plt.legend(loc='upper right', bbox_to_anchor=(1.2, 1), frameon=False,)\n",
    "plt.xticks(rotation=90)\n",
    "ff.myPlotSettings_splitAxis(fig=fig, ax=axes, ytitle= \"Frequency\", xtitle=f\"UMI Counts\\nNegative control\", title='', mySize =font_size)\n",
    "axes.xaxis.set_major_formatter(mticker.FuncFormatter(lambda x, _: f\"{int(x)}\"))\n",
    "plt.show()\n",
    "fig.savefig(f\"{saving_path}/supplementary/extended_data_fig_1_neg_control.svg\", format=\"svg\")"
   ]
  },
  {
   "cell_type": "code",
   "execution_count": 38,
   "metadata": {},
   "outputs": [
    {
     "name": "stdout",
     "output_type": "stream",
     "text": [
      "Paired t-test result: t-statistic = 4.8339, p-value = 0.0084\n"
     ]
    },
    {
     "data": {
      "image/png": "[encoded data removed]",
      "text/plain": [
       "<Figure size 100x100 with 1 Axes>"
      ]
     },
     "metadata": {},
     "output_type": "display_data"
    }
   ],
   "source": [
    "#load excel file recording results of non-targeted versus targeted second strand synthesis approach\n",
    "ssynth = pd.read_excel(f'{proj_path}/second_str_synth_results_120122.xlsx')\n",
    "non_targeted = ssynth['Non-targeted']\n",
    "targeted = ssynth['Targeted']\n",
    "t_stat, p_value_two_tailed = ttest_rel(targeted, non_targeted)\n",
    "if t_stat > 0:\n",
    "    p_value_one_tailed = p_value_two_tailed / 2\n",
    "else:\n",
    "    p_value_one_tailed = 1 - (p_value_two_tailed / 2)\n",
    "\n",
    "print(f\"Paired t-test result: t-statistic = {t_stat:.4f}, p-value = {p_value_one_tailed:.4f}\")\n",
    "fig, axes = plt.subplots(figsize=(1, 1))\n",
    "x_positions = [1, 2]  # '1' for non-targeted, '2' for targeted\n",
    "\n",
    "for i in range(len(non_targeted)):\n",
    "    plt.plot(x_positions, [non_targeted[i], targeted[i]], color='black', marker='o', markersize=0.2, linewidth=0.3)\n",
    "plt.scatter(np.ones(len(non_targeted)), non_targeted, color='black', label='Non-Targeted', s=1)\n",
    "plt.scatter(np.ones(len(targeted)) * 2, targeted, color='black', label='Targeted', s=1)\n",
    "\n",
    "plt.xticks([1, 2], ['Non-Targeted', 'Targeted'])\n",
    "if p_value_one_tailed < 0.01:\n",
    "    max_y = max(max(non_targeted), max(targeted)) \n",
    "    #plt.plot([1, 2], [max_y * 1.1, max_y * 1.1], color='black', linestyle='-', linewidth=1)\n",
    "    plt.text(1.5, max_y*0.8, '**', fontsize=10, ha='center')\n",
    "plt.ylim(0, max_y * 1.1)\n",
    "plt.xticks([1.1, 1.9], ['Non-Targeted', 'Targeted'])\n",
    "ff.myPlotSettings_splitAxis(fig=fig, ax=axes, ytitle= \"Concentration (ng/μL)\", xtitle=\"\", title='', mySize =font_size)\n",
    "plt.show()\n",
    "fig.savefig(f\"{saving_path}/supplementary/extended_data_fig_1_second_strand_synth_approach.svg\", format=\"svg\")"
   ]
  },
  {
   "cell_type": "code",
   "execution_count": null,
   "metadata": {},
   "outputs": [],
   "source": [
    "#if you haven't already - run this to combine all raw tables for template switching fig:\n",
    "ps.combine_tables_for_supp_fig(mice=mice, proj_path=proj_path, use_slurm=True,\n",
    "            slurm_folder='/camp/home/turnerb/slurm_logs')"
   ]
  },
  {
   "cell_type": "code",
   "execution_count": 39,
   "metadata": {},
   "outputs": [
    {
     "name": "stderr",
     "output_type": "stream",
     "text": [
      "/tmp/ipykernel_2365400/2643430392.py:5: SettingWithCopyWarning: \n",
      "A value is trying to be set on a copy of a slice from a DataFrame.\n",
      "Try using .loc[row_indexer,col_indexer] = value instead\n",
      "\n",
      "See the caveats in the documentation: https://pandas.pydata.org/pandas-docs/stable/user_guide/indexing.html#returning-a-view-versus-a-copy\n",
      "  template_switches[\"entropy\"] = template_switches[\"UMI\"].apply(s)\n",
      "/tmp/ipykernel_2365400/2643430392.py:6: SettingWithCopyWarning: \n",
      "A value is trying to be set on a copy of a slice from a DataFrame.\n",
      "Try using .loc[row_indexer,col_indexer] = value instead\n",
      "\n",
      "See the caveats in the documentation: https://pandas.pydata.org/pandas-docs/stable/user_guide/indexing.html#returning-a-view-versus-a-copy\n",
      "  template_switches[\"relative_abundance\"] = (\n",
      "/tmp/ipykernel_2365400/2643430392.py:11: SettingWithCopyWarning: \n",
      "A value is trying to be set on a copy of a slice from a DataFrame.\n",
      "Try using .loc[row_indexer,col_indexer] = value instead\n",
      "\n",
      "See the caveats in the documentation: https://pandas.pydata.org/pandas-docs/stable/user_guide/indexing.html#returning-a-view-versus-a-copy\n",
      "  template_switches[\"AT_content\"] = template_switches[\"UMI\"].apply(AT_calc)\n"
     ]
    }
   ],
   "source": [
    "switching_tab = pd.read_pickle(f\"{proj_path}/switching_tab_combined.pkl\")\n",
    "template_switches = switching_tab[switching_tab[\"different_neurons\"] > 1]\n",
    "# calculate shannon entropy for umi's to see if it might be bias for low complexity sequences\n",
    "s = lambda i: -sum(f * log(f, 2) for f in ((j / len(i)) for j in Counter(i).values()))\n",
    "template_switches[\"entropy\"] = template_switches[\"UMI\"].apply(s)\n",
    "template_switches[\"relative_abundance\"] = (\n",
    "    template_switches[\"1st_abundant\"] / template_switches[\"2nd_abundant\"]\n",
    ")\n",
    "# calculate AT content\n",
    "AT_calc = lambda x: (x.count(\"A\") + x.count(\"T\")) / len(x)\n",
    "template_switches[\"AT_content\"] = template_switches[\"UMI\"].apply(AT_calc)"
   ]
  },
  {
   "cell_type": "code",
   "execution_count": 53,
   "metadata": {},
   "outputs": [
    {
     "data": {
      "image/png": "[encoded data removed]",
      "text/plain": [
       "<Figure size 280x170 with 2 Axes>"
      ]
     },
     "metadata": {},
     "output_type": "display_data"
    }
   ],
   "source": [
    "\n",
    "df = pd.DataFrame(template_switches)\n",
    "fig, ax1 = plt.subplots(figsize=(2.8, 1.7))\n",
    "hist = ax1.hist2d(\n",
    "    df[\"entropy\"],\n",
    "    df[\"relative_abundance\"],\n",
    "    norm=LogNorm(),\n",
    "    bins=(20, np.arange(1, 100, 4))\n",
    ")\n",
    "\n",
    "plt.colorbar(hist[3], ax=ax1, label=\"# Neurons\")  \n",
    "\n",
    "ax1.set_xlabel(\"Entropy of UMI sequence\")\n",
    "ax1.set_ylabel(\"1st/2nd abundance\")\n",
    "#ax1.set_title(\"Entropy\")\n",
    "\n",
    "y_bins = np.arange(1, 100, 4)\n",
    "df['bin'] = np.digitize(df[\"relative_abundance\"], y_bins)\n",
    "grouped = df.groupby('bin').agg(count=('entropy', 'size'), median_entropy=('entropy', 'mean'))\n",
    "medians_to_plot = []\n",
    "y_bin_centers = []\n",
    "\n",
    "for bin_index, row in grouped.iterrows():\n",
    "    if row['count'] > 5:  # Only consider bins with 3 or more data points\n",
    "        y_center = y_bins[bin_index - 1] + np.diff(y_bins)[0] / 2  # Center of the bin\n",
    "        medians_to_plot.append(row['median_entropy'])\n",
    "        y_bin_centers.append(y_center)\n",
    "\n",
    "\n",
    "ax1.plot(medians_to_plot, y_bin_centers, color='deeppink', markersize=0.5, marker='o', linestyle='--', label='Mean Entropy')\n",
    "ax1.legend(loc='upper left', frameon=True)\n",
    "\n",
    "plt.tight_layout()\n",
    "plt.show()\n",
    "fig.savefig(f\"{saving_path}/supplementary/extended_data_fig_1_entropy.svg\", format=\"svg\")"
   ]
  },
  {
   "cell_type": "code",
   "execution_count": 52,
   "metadata": {},
   "outputs": [
    {
     "data": {
      "image/png": "[encoded data removed]",
      "text/plain": [
       "<Figure size 280x170 with 2 Axes>"
      ]
     },
     "metadata": {},
     "output_type": "display_data"
    }
   ],
   "source": [
    "df = pd.DataFrame(template_switches)\n",
    "fig, ax1 = plt.subplots(figsize=(2.8, 1.7))\n",
    "\n",
    "hist = ax1.hist2d(\n",
    "    df[\"AT_content\"],\n",
    "    df[\"relative_abundance\"],\n",
    "    norm=LogNorm(),\n",
    "    bins=(10, np.arange(1, 100, 4))\n",
    ")\n",
    "\n",
    "plt.colorbar(hist[3], ax=ax1, label=\"# Neurons\")  \n",
    "ax1.set_xlabel(\"UMI sequence A/T content\")\n",
    "ax1.set_ylabel(\"1st/2nd abundance\")\n",
    "#ax1.set_title(\"UMI AT content\")\n",
    "y_bins = np.arange(1, 100, 4)\n",
    "df['bin'] = np.digitize(df[\"relative_abundance\"], y_bins)\n",
    "grouped = df.groupby('bin').agg(count=('AT_content', 'size'), median_AT_content=('AT_content', 'mean'))\n",
    "medians_to_plot = []\n",
    "y_bin_centers = []\n",
    "for bin_index, row in grouped.iterrows():\n",
    "    if row['count'] > 5:  # Only consider bins with 3 or more data points\n",
    "        y_center = y_bins[bin_index - 1] + np.diff(y_bins)[0] / 2  \n",
    "        medians_to_plot.append(row['median_AT_content'])\n",
    "        y_bin_centers.append(y_center)\n",
    "ax1.plot(medians_to_plot, y_bin_centers, color='deeppink', markersize=0.5, marker='o', linestyle='--', label='Mean A/T content')\n",
    "ax1.legend(loc='upper left', frameon=True)\n",
    "\n",
    "plt.tight_layout()\n",
    "plt.show()\n",
    "fig.savefig(f\"{saving_path}/supplementary/extended_data_fig_1_AT_content.svg\", format=\"svg\")"
   ]
  }
 ],
 "metadata": {
  "kernelspec": {
   "display_name": "MAPseq_processing",
   "language": "python",
   "name": "python3"
  },
  "language_info": {
   "codemirror_mode": {
    "name": "ipython",
    "version": 3
   },
   "file_extension": ".py",
   "mimetype": "text/x-python",
   "name": "python",
   "nbconvert_exporter": "python",
   "pygments_lexer": "ipython3",
   "version": "3.8.16"
  }
 },
 "nbformat": 4,
 "nbformat_minor": 2
}
