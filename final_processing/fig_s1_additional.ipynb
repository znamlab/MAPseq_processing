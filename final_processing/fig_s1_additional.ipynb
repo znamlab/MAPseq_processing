{
 "cells": [
  {
   "cell_type": "code",
   "execution_count": 1,
   "metadata": {},
   "outputs": [],
   "source": [
    "import pathlib\n",
    "import pandas as pd\n",
    "import numpy as np\n",
    "import matplotlib.pyplot as plt\n",
    "from matplotlib import rcParams\n",
    "from preprocessing_sequencing import preprocess_sequences as ps\n",
    "%matplotlib inline\n"
   ]
  },
  {
   "cell_type": "code",
   "execution_count": 2,
   "metadata": {},
   "outputs": [],
   "source": [
    "\n",
    "mice = ['FIAA45.6a', 'FIAA45.6d', 'FIAA55.4d']\n",
    "negs_dict = {}\n",
    "\n",
    "for mouse in mice:\n",
    "    parameters_path = pathlib.Path(f\"/camp/lab/znamenskiyp/home/shared/projects/turnerb_A1_MAPseq/{mouse}/Sequencing\")\n",
    "    parameters = ps.load_parameters(directory=str(parameters_path))\n",
    "    barcodes_across_sample = pd.read_pickle(\n",
    "        str(parameters_path / \"final_processed_sequences/barcodes_across_sample.pkl\")\n",
    "    )\n",
    "    max_y = 100\n",
    "    rcParams[\"figure.figsize\"] = (8, 5)\n",
    "    interpolate_on_x = len(np.flip(np.sort(barcodes_across_sample.sum(axis=1)))) - len(\n",
    "        np.flip(np.sort(barcodes_across_sample.sum(axis=1)))[\n",
    "            np.flip(np.sort(barcodes_across_sample.sum(axis=1))) < max_y\n",
    "        ]\n",
    "    )\n",
    "    filtered_barcodes = barcodes_across_sample[barcodes_across_sample.sum(axis=1) >= max_y]\n",
    "    negative_samples = parameters['negative_control_samples']\n",
    "    negs_dict[mouse] = filtered_barcodes[negative_samples].melt(\n",
    "        var_name=\"samples\", value_name=\"barcode_counts\")"
   ]
  },
  {
   "cell_type": "code",
   "execution_count": 27,
   "metadata": {},
   "outputs": [
    {
     "data": {
      "image/png": "[encoded data removed]",
      "text/plain": [
       "<Figure size 300x300 with 1 Axes>"
      ]
     },
     "metadata": {},
     "output_type": "display_data"
    }
   ],
   "source": [
    "dist_list = []\n",
    "\n",
    "for mouse, df in negs_dict.items():\n",
    "    # Filter for barcode_counts > 0 and get value counts\n",
    "    dist = df.loc[df[\"barcode_counts\"] > 0, \"barcode_counts\"].value_counts()\n",
    "    dist_list.append(dist)\n",
    "\n",
    "# Combine the distributions (summing frequencies for matching barcode_counts)\n",
    "total_distribution = pd.concat(dist_list, axis=1).fillna(0).sum(axis=1)\n",
    "total_distribution = total_distribution.sort_index()\n",
    "\n",
    "# Normalize the distribution to frequencies (relative frequency)\n",
    "total_distribution_norm = total_distribution / total_distribution.sum()\n",
    "\n",
    "# Plot the normalized histogram as a bar plot with no spacing between bars\n",
    "plt.figure(figsize=(3, 3))\n",
    "ax = total_distribution_norm.plot(kind=\"bar\", width=1, color='black')  # width=1 to remove spacing between bars\n",
    "ax.axvline(x=0.5, color='black', linestyle='dotted', linewidth=1, label='cut off')\n",
    "plt.xlabel(f\"UMI Counts\\nNegative control\")\n",
    "plt.ylabel(\"Frequency\")\n",
    "plt.legend(loc='upper right')\n",
    "plt.xticks(rotation=0)  # Rotate x labels to 0 degrees\n",
    "plt.tight_layout()\n",
    "plt.show()"
   ]
  },
  {
   "cell_type": "code",
   "execution_count": 22,
   "metadata": {},
   "outputs": [
    {
     "data": {
      "text/plain": [
       "1.0    0.945416\n",
       "2.0    0.048225\n",
       "3.0    0.005299\n",
       "4.0    0.000530\n",
       "5.0    0.000530\n",
       "dtype: float64"
      ]
     },
     "execution_count": 22,
     "metadata": {},
     "output_type": "execute_result"
    }
   ],
   "source": [
    "total_distribution_norm"
   ]
  }
 ],
 "metadata": {
  "kernelspec": {
   "display_name": "MAPseq_processing",
   "language": "python",
   "name": "python3"
  },
  "language_info": {
   "codemirror_mode": {
    "name": "ipython",
    "version": 3
   },
   "file_extension": ".py",
   "mimetype": "text/x-python",
   "name": "python",
   "nbconvert_exporter": "python",
   "pygments_lexer": "ipython3",
   "version": "3.8.16"
  }
 },
 "nbformat": 4,
 "nbformat_minor": 2
}
