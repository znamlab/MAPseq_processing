{
 "cells": [
  {
   "cell_type": "code",
   "execution_count": null,
   "metadata": {},
   "outputs": [],
   "source": [
    "%load_ext autoreload\n",
    "%autoreload 2\n",
    "import numpy as np\n",
    "import pandas as pd\n",
    "from final_processing import final_processing_functions as fpf\n",
    "import pathlib\n",
    "from matplotlib import pyplot as plt\n",
    "import seaborn as sb\n",
    "import warnings\n",
    "from matplotlib.lines import Line2D\n",
    "from scipy.optimize import curve_fit\n",
    "from scipy.stats import ks_2samp\n",
    "from allensdk.core.mouse_connectivity_cache import MouseConnectivityCache\n",
    "from matplotlib import rcParams\n",
    "import yaml\n",
    "import figure_formatting as ff\n",
    "# from matplotlib.ticker import FormatStrFormatter\n",
    "\n",
    "import matplotlib\n",
    "warnings.filterwarnings('ignore')\n",
    "import final_processing.loading_functions as lf\n",
    "import final_processing.MAPseq_data_processing as mdp\n",
    "import statsmodels.formula.api as smf\n",
    "import final_processing.fig2_plotting as pltt\n",
    "import final_processing.helper_functions as hf\n",
    "%matplotlib inline"
   ]
  },
  {
   "cell_type": "markdown",
   "metadata": {},
   "source": [
    "Load parameters and dataframes"
   ]
  },
  {
   "cell_type": "code",
   "execution_count": 2,
   "metadata": {},
   "outputs": [],
   "source": [
    "gen_parameters = lf.load_gen_params()\n",
    "mice = gen_parameters['MICE']\n",
    "saving_path = gen_parameters['fig_saving_path']\n",
    "proj_path = gen_parameters['proj_path']\n",
    "ff.set_font_params(gen_parameters)\n"
   ]
  },
  {
   "cell_type": "code",
   "execution_count": 3,
   "metadata": {},
   "outputs": [],
   "source": [
    "#load all mice neuron projection datasets\n",
    "combined_dict = mdp.samples_to_areas(mice = mice, proj_path=proj_path)\n",
    "all_mice_combined = pd.concat([\n",
    "    combined_dict[k]['homogenous_across_cubelet'][mdp.get_common_columns(mice=mice, combined_dict=combined_dict, cortex=True)]\n",
    "    for k in mice\n",
    "])"
   ]
  },
  {
   "cell_type": "markdown",
   "metadata": {},
   "source": [
    "Extended data fig. 3a"
   ]
  },
  {
   "cell_type": "code",
   "execution_count": null,
   "metadata": {},
   "outputs": [],
   "source": [
    "fig= plt.figure(figsize=(2.7, 2.25)) \n",
    "pltt.plot_corr_heatmap(gen_parameters=gen_parameters)\n",
    "fig.savefig(f\"{saving_path}/supplementary/extended_fig_3a.svg\", format=\"svg\")\n",
    "fig.savefig(f\"{saving_path}/supplementary/extended_fig_3a.pdf\", format=\"pdf\")"
   ]
  },
  {
   "cell_type": "markdown",
   "metadata": {},
   "source": [
    "Extended data fig. 3b"
   ]
  },
  {
   "cell_type": "code",
   "execution_count": null,
   "metadata": {},
   "outputs": [],
   "source": [
    "fig, ax = plt.subplots(figsize=(2.2, 2.2))\n",
    "pltt.plot_max_counts_vs_areas_targeted(fig=fig, ax=ax, gen_parameters=gen_parameters, combined_dict=combined_dict, all_mice_combined=all_mice_combined)\n",
    "plt.show()\n",
    "fig.savefig(f\"{saving_path}/supplementary/extended_fig_3b_change_in_vis_areas_versus_max_count.svg\", format=\"svg\")\n",
    "fig.savefig(f\"{saving_path}/supplementary/extended_fig_3b_change_in_vis_areas_versus_max_count.pdf\", format=\"pdf\")"
   ]
  },
  {
   "cell_type": "markdown",
   "metadata": {},
   "source": [
    "Extended data fig. 3c"
   ]
  },
  {
   "cell_type": "code",
   "execution_count": null,
   "metadata": {},
   "outputs": [],
   "source": [
    "fig, axs = plt.subplots(1, 2, figsize=(3.5, 1.4), constrained_layout=True)\n",
    "pltt.plot_simulation(gen_parameters=gen_parameters, axs=axs)\n",
    "fig.savefig(f\"{saving_path}/supplementary/extended_fig_3c.svg\", format=\"svg\")\n",
    "fig.savefig(f\"{saving_path}/supplementary/extended_fig_3c.pdf\", format=\"pdf\")"
   ]
  },
  {
   "cell_type": "markdown",
   "metadata": {},
   "source": [
    "Extended data fig. 3d"
   ]
  },
  {
   "cell_type": "code",
   "execution_count": null,
   "metadata": {},
   "outputs": [],
   "source": [
    "fig, axs = plt.subplots(3, 1, figsize=(3, 6.5), constrained_layout=True)\n",
    "pltt.plot_supp_cond_prob_heatmaps(gen_parameters=gen_parameters, axs=axs, all_mice_combined=all_mice_combined)\n",
    "fig.savefig(f\"{saving_path}/supplementary/extended_fig_3d.svg\", format=\"svg\", bbox_inches='tight')\n",
    "fig.savefig(f\"{saving_path}/supplementary/extended_fig_3d.pdf\", format=\"pdf\", bbox_inches='tight')\n",
    "\n"
   ]
  }
 ],
 "metadata": {
  "kernelspec": {
   "display_name": "MAPseq_processing",
   "language": "python",
   "name": "python3"
  },
  "language_info": {
   "codemirror_mode": {
    "name": "ipython",
    "version": 3
   },
   "file_extension": ".py",
   "mimetype": "text/x-python",
   "name": "python",
   "nbconvert_exporter": "python",
   "pygments_lexer": "ipython3",
   "version": "3.8.16"
  }
 },
 "nbformat": 4,
 "nbformat_minor": 2
}
