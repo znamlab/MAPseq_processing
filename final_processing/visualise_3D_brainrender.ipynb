{
 "cells": [
  {
   "cell_type": "code",
   "execution_count": 1,
   "metadata": {},
   "outputs": [],
   "source": [
    "import numpy as np\n",
    "import vedo\n",
    "vedo.settings.default_backend= 'k3d'\n",
    "\n",
    "from brainrender import Scene\n",
    "import pathlib\n"
   ]
  },
  {
   "cell_type": "code",
   "execution_count": 2,
   "metadata": {},
   "outputs": [],
   "source": [
    "from myterial import orange\n",
    "from rich import print\n",
    "\n",
    "from brainrender import Scene, settings\n",
    "from brainrender.atlas_specific import GeneExpressionAPI\n",
    "from brainrender.actors import Volume"
   ]
  },
  {
   "cell_type": "code",
   "execution_count": 11,
   "metadata": {},
   "outputs": [],
   "source": [
    "mouse = 'FIAA45.6d'\n",
    "lcm_directory = pathlib.Path(\n",
    "   f\"/camp/lab/znamenskiyp/home/shared/projects/turnerb_A1_MAPseq/{mouse}/LCM\"\n",
    ")\n",
    "ROI_3D = np.load(lcm_directory / \"ROI_3D_25.npy\")\n",
    "scene = Scene(atlas_name='allen_mouse_25um')"
   ]
  },
  {
   "cell_type": "code",
   "execution_count": 6,
   "metadata": {},
   "outputs": [
    {
     "name": "stderr",
     "output_type": "stream",
     "text": [
      "/tmp/ipykernel_151519/75824251.py:3: MatplotlibDeprecationWarning: The get_cmap function was deprecated in Matplotlib 3.7 and will be removed two minor releases later. Use ``matplotlib.colormaps[name]`` or ``matplotlib.colormaps.get_cmap(obj)`` instead.\n",
      "  tab20 = cm.get_cmap(\"gist_ncar\", 250)\n"
     ]
    }
   ],
   "source": [
    "from matplotlib import cm\n",
    "from matplotlib.colors import ListedColormap, LinearSegmentedColormap\n",
    "tab20 = cm.get_cmap(\"gist_ncar\", 250)\n",
    "tab20_cmap = tab20(np.linspace(0, 1, 20))\n",
    "new_colors = tab20(np.linspace(0, 1, 180))\n",
    "\n",
    "black = np.array([1 / 256, 1 / 256, 1 / 256, 1])\n",
    "\n",
    "for i, row in enumerate(new_colors):\n",
    "    if i == 0:\n",
    "        new_colors[i, :] = black\n",
    "    else:\n",
    "        idx = np.random.randint(20)\n",
    "        new_colors[i, :] = tab20_cmap[idx]\n",
    "newcmp = ListedColormap(new_colors)"
   ]
  },
  {
   "cell_type": "code",
   "execution_count": 12,
   "metadata": {},
   "outputs": [
    {
     "data": {
      "text/html": [
       "<pre style=\"white-space:pre;overflow-x:auto;line-height:normal;font-family:Menlo,'DejaVu Sans Mono',consolas,'Courier New',monospace\"><span style=\"color: #ffa726; text-decoration-color: #ffa726\">╭─────────────────────────────────╮</span>\n",
       "<span style=\"color: #ffa726; text-decoration-color: #ffa726\">│</span>  <span style=\"font-weight: bold\">                             </span>  <span style=\"color: #ffa726; text-decoration-color: #ffa726\">│</span>\n",
       "<span style=\"color: #ffa726; text-decoration-color: #ffa726\">│</span>   <span style=\"color: #ff7043; text-decoration-color: #ff7043; font-weight: bold\">Scene actors</span>                  <span style=\"color: #ffa726; text-decoration-color: #ffa726\">│</span>\n",
       "<span style=\"color: #ffa726; text-decoration-color: #ffa726\">│</span>   <span style=\"color: #ff7043; text-decoration-color: #ff7043; font-weight: bold\">────────────</span>                  <span style=\"color: #ffa726; text-decoration-color: #ffa726\">│</span>\n",
       "<span style=\"color: #ffa726; text-decoration-color: #ffa726\">│</span>                                 <span style=\"color: #ffa726; text-decoration-color: #ffa726\">│</span>\n",
       "<span style=\"color: #ffa726; text-decoration-color: #ffa726\">│</span>   <span style=\"color: #ffca28; text-decoration-color: #ffca28; font-weight: bold\">- root</span><span style=\"color: #ef6c00; text-decoration-color: #ef6c00\"> (type: </span><span style=\"color: #ffa726; text-decoration-color: #ffa726\">brain region</span><span style=\"color: #ef6c00; text-decoration-color: #ef6c00\">)</span>   <span style=\"color: #ffa726; text-decoration-color: #ffa726\">│</span>\n",
       "<span style=\"color: #ffa726; text-decoration-color: #ffa726\">│</span>   <span style=\"color: #ffca28; text-decoration-color: #ffca28; font-weight: bold\">- Volume</span><span style=\"color: #ef6c00; text-decoration-color: #ef6c00\"> (type: </span><span style=\"color: #ffa726; text-decoration-color: #ffa726\">Volume</span><span style=\"color: #ef6c00; text-decoration-color: #ef6c00\">)</span>       <span style=\"color: #ffa726; text-decoration-color: #ffa726\">│</span>\n",
       "<span style=\"color: #ffa726; text-decoration-color: #ffa726\">│</span>                                 <span style=\"color: #ffa726; text-decoration-color: #ffa726\">│</span>\n",
       "<span style=\"color: #ffa726; text-decoration-color: #ffa726\">╰─────────────────────────────────╯</span>\n",
       "</pre>\n"
      ],
      "text/plain": [
       "\u001b[38;2;255;167;38m╭─────────────────────────────────╮\u001b[0m\n",
       "\u001b[38;2;255;167;38m│\u001b[0m  \u001b[1m \u001b[0m\u001b[1m                           \u001b[0m\u001b[1m \u001b[0m  \u001b[38;2;255;167;38m│\u001b[0m\n",
       "\u001b[38;2;255;167;38m│\u001b[0m   \u001b[1;38;2;255;112;67mScene actors\u001b[0m                  \u001b[38;2;255;167;38m│\u001b[0m\n",
       "\u001b[38;2;255;167;38m│\u001b[0m   \u001b[1;38;2;255;112;67m────────────\u001b[0m                  \u001b[38;2;255;167;38m│\u001b[0m\n",
       "\u001b[38;2;255;167;38m│\u001b[0m                                 \u001b[38;2;255;167;38m│\u001b[0m\n",
       "\u001b[38;2;255;167;38m│\u001b[0m   \u001b[1;38;2;255;202;40m- root\u001b[0m\u001b[38;2;239;108;0m (type: \u001b[0m\u001b[38;2;255;167;38mbrain region\u001b[0m\u001b[38;2;239;108;0m)\u001b[0m   \u001b[38;2;255;167;38m│\u001b[0m\n",
       "\u001b[38;2;255;167;38m│\u001b[0m   \u001b[1;38;2;255;202;40m- Volume\u001b[0m\u001b[38;2;239;108;0m (type: \u001b[0m\u001b[38;2;255;167;38mVolume\u001b[0m\u001b[38;2;239;108;0m)\u001b[0m       \u001b[38;2;255;167;38m│\u001b[0m\n",
       "\u001b[38;2;255;167;38m│\u001b[0m                                 \u001b[38;2;255;167;38m│\u001b[0m\n",
       "\u001b[38;2;255;167;38m╰─────────────────────────────────╯\u001b[0m\n"
      ]
     },
     "metadata": {},
     "output_type": "display_data"
    },
    {
     "data": {
      "text/html": [
       "<pre style=\"white-space:pre;overflow-x:auto;line-height:normal;font-family:Menlo,'DejaVu Sans Mono',consolas,'Courier New',monospace\"><span style=\"color: #fb8c00; text-decoration-color: #fb8c00\">Cannot run function </span><span style=\"color: #ff7043; text-decoration-color: #ff7043; font-weight: bold\">_get_inset</span><span style=\"color: #fb8c00; text-decoration-color: #fb8c00\"> in a jupyter notebook</span> <span style=\"color: #fb8c00; text-decoration-color: #fb8c00\">Try setting the correct backend before creating your scene:</span>\n",
       "\n",
       "<span style=\"color: #f92672; text-decoration-color: #f92672; background-color: #272822\">from</span><span style=\"color: #f8f8f2; text-decoration-color: #f8f8f2; background-color: #272822\"> vedo </span><span style=\"color: #f92672; text-decoration-color: #f92672; background-color: #272822\">import</span><span style=\"color: #f8f8f2; text-decoration-color: #f8f8f2; background-color: #272822\"> embedWindow</span><span style=\"background-color: #272822\">                                                                                       </span>\n",
       "<span style=\"color: #f8f8f2; text-decoration-color: #f8f8f2; background-color: #272822\">embedWindow(</span><span style=\"color: #66d9ef; text-decoration-color: #66d9ef; background-color: #272822\">None</span><span style=\"color: #f8f8f2; text-decoration-color: #f8f8f2; background-color: #272822\">)</span><span style=\"background-color: #272822\">                                                                                                  </span>\n",
       "</pre>\n"
      ],
      "text/plain": [
       "\u001b[38;2;251;140;0mCannot run function \u001b[0m\u001b[1;38;2;255;112;67m_get_inset\u001b[0m\u001b[38;2;251;140;0m in a jupyter notebook\u001b[0m \u001b[38;2;251;140;0mTry setting the correct backend before creating your scene:\u001b[0m\n",
       "\n",
       "\u001b[38;2;249;38;114;48;2;39;40;34mfrom\u001b[0m\u001b[38;2;248;248;242;48;2;39;40;34m \u001b[0m\u001b[38;2;248;248;242;48;2;39;40;34mvedo\u001b[0m\u001b[38;2;248;248;242;48;2;39;40;34m \u001b[0m\u001b[38;2;249;38;114;48;2;39;40;34mimport\u001b[0m\u001b[38;2;248;248;242;48;2;39;40;34m \u001b[0m\u001b[38;2;248;248;242;48;2;39;40;34membedWindow\u001b[0m\u001b[48;2;39;40;34m                                                                                       \u001b[0m\n",
       "\u001b[38;2;248;248;242;48;2;39;40;34membedWindow\u001b[0m\u001b[38;2;248;248;242;48;2;39;40;34m(\u001b[0m\u001b[38;2;102;217;239;48;2;39;40;34mNone\u001b[0m\u001b[38;2;248;248;242;48;2;39;40;34m)\u001b[0m\u001b[48;2;39;40;34m                                                                                                  \u001b[0m\n"
      ]
     },
     "metadata": {},
     "output_type": "display_data"
    },
    {
     "data": {
      "text/html": [
       "<pre style=\"white-space:pre;overflow-x:auto;line-height:normal;font-family:Menlo,'DejaVu Sans Mono',consolas,'Courier New',monospace\"><span style=\"color: #26a69a; text-decoration-color: #26a69a\">Your scene is ready for rendering, use:</span>\n",
       "\n",
       "<span style=\"color: #f92672; text-decoration-color: #f92672; background-color: #272822\">from</span><span style=\"color: #f8f8f2; text-decoration-color: #f8f8f2; background-color: #272822\"> vedo </span><span style=\"color: #f92672; text-decoration-color: #f92672; background-color: #272822\">import</span><span style=\"color: #f8f8f2; text-decoration-color: #f8f8f2; background-color: #272822\"> show</span><span style=\"background-color: #272822\">                                                                                              </span>\n",
       "<span style=\"color: #f8f8f2; text-decoration-color: #f8f8f2; background-color: #272822\">vedo</span><span style=\"color: #f92672; text-decoration-color: #f92672; background-color: #272822\">.</span><span style=\"color: #f8f8f2; text-decoration-color: #f8f8f2; background-color: #272822\">show(</span><span style=\"color: #f92672; text-decoration-color: #f92672; background-color: #272822\">*</span><span style=\"color: #f8f8f2; text-decoration-color: #f8f8f2; background-color: #272822\">scene</span><span style=\"color: #f92672; text-decoration-color: #f92672; background-color: #272822\">.</span><span style=\"color: #f8f8f2; text-decoration-color: #f8f8f2; background-color: #272822\">renderables)</span><span style=\"background-color: #272822\">                                                                                      </span>\n",
       "</pre>\n"
      ],
      "text/plain": [
       "\u001b[38;2;38;166;154mYour scene is ready for rendering, use:\u001b[0m\n",
       "\n",
       "\u001b[38;2;249;38;114;48;2;39;40;34mfrom\u001b[0m\u001b[38;2;248;248;242;48;2;39;40;34m \u001b[0m\u001b[38;2;248;248;242;48;2;39;40;34mvedo\u001b[0m\u001b[38;2;248;248;242;48;2;39;40;34m \u001b[0m\u001b[38;2;249;38;114;48;2;39;40;34mimport\u001b[0m\u001b[38;2;248;248;242;48;2;39;40;34m \u001b[0m\u001b[38;2;248;248;242;48;2;39;40;34mshow\u001b[0m\u001b[48;2;39;40;34m                                                                                              \u001b[0m\n",
       "\u001b[38;2;248;248;242;48;2;39;40;34mvedo\u001b[0m\u001b[38;2;249;38;114;48;2;39;40;34m.\u001b[0m\u001b[38;2;248;248;242;48;2;39;40;34mshow\u001b[0m\u001b[38;2;248;248;242;48;2;39;40;34m(\u001b[0m\u001b[38;2;249;38;114;48;2;39;40;34m*\u001b[0m\u001b[38;2;248;248;242;48;2;39;40;34mscene\u001b[0m\u001b[38;2;249;38;114;48;2;39;40;34m.\u001b[0m\u001b[38;2;248;248;242;48;2;39;40;34mrenderables\u001b[0m\u001b[38;2;248;248;242;48;2;39;40;34m)\u001b[0m\u001b[48;2;39;40;34m                                                                                      \u001b[0m\n"
      ]
     },
     "metadata": {},
     "output_type": "display_data"
    }
   ],
   "source": [
    "bla = Volume(ROI_3D, min_value=1, voxel_size=25, cmap=newcmp)\n",
    "act = scene.add(bla)\n",
    "scene.jupyter = True\n",
    "# render\n",
    "scene.content\n",
    "scene.render()"
   ]
  },
  {
   "cell_type": "code",
   "execution_count": 13,
   "metadata": {},
   "outputs": [
    {
     "name": "stderr",
     "output_type": "stream",
     "text": [
      "/camp/home/turnerb/.conda/envs/MAPseq_processing_py39/lib/python3.9/site-packages/traittypes/traittypes.py:97: UserWarning: Given trait value dtype \"float64\" does not match required type \"float32\". A coerced copy has been created.\n",
      "  warnings.warn(\n"
     ]
    },
    {
     "data": {
      "application/vnd.jupyter.widget-view+json": {
       "model_id": "39021ba2f42c46f8bf9ad499486d6b8a",
       "version_major": 2,
       "version_minor": 0
      },
      "text/plain": [
       "Plot(antialias=True, axes=['x', 'y', 'z'], axes_helper=1.0, axes_helper_colors=[16711680, 65280, 255], backgro…"
      ]
     },
     "execution_count": 13,
     "metadata": {},
     "output_type": "execute_result"
    }
   ],
   "source": [
    "from vedo import Plotter  # <- this will be used to render an embedded scene \n",
    "plt = Plotter()\n",
    "plt.show(*scene.renderables)                                                                                  "
   ]
  },
  {
   "cell_type": "code",
   "execution_count": null,
   "metadata": {},
   "outputs": [],
   "source": []
  },
  {
   "cell_type": "code",
   "execution_count": null,
   "metadata": {},
   "outputs": [],
   "source": [
    "#this doesn't work - even if you run not off jupyter notebook\n",
    "vedo.settings.default_backend= 'vtk'\n",
    "from brainrender.video import VideoMaker\n",
    "vm = VideoMaker(scene, str(lcm_directory/'vids'), 'vid1')\n",
    "vm.make_video(elevation=1, roll=5)"
   ]
  },
  {
   "cell_type": "code",
   "execution_count": 13,
   "metadata": {},
   "outputs": [],
   "source": [
    "import pandas as pd\n",
    "barcodes_across_sample = pd.read_pickle(\n",
    "    f\"/camp/lab/znamenskiyp/home/shared/projects/turnerb_A1_MAPseq/{mouse}/Sequencing/barcode_matrix_soma_thresholded.pkl\"\n",
    ")\n",
    "sample_vol_and_regions =pd.read_pickle(lcm_directory/'sample_vol_and_regions.pkl')\n",
    "A1 = sample_vol_and_regions[sample_vol_and_regions['main']=='AUDp']['ROI Number'].to_list()\n",
    "barcodes_across_sample = barcodes_across_sample[barcodes_across_sample.idxmax(axis=1).isin(A1)]"
   ]
  },
  {
   "cell_type": "code",
   "execution_count": 14,
   "metadata": {},
   "outputs": [],
   "source": [
    "# remove tubes in ROI flatmap that aren't in normalised barcode path\n",
    "tubes = np.arange(\n",
    "    np.min(barcodes_across_sample.columns), np.max(barcodes_across_sample.columns), 1\n",
    ")\n",
    "tubes_not_in = [i for i in tubes if i not in barcodes_across_sample.columns.to_list()]\n",
    "for x in tubes_not_in:\n",
    "    ROI_3D[ROI_3D == x] = 0"
   ]
  },
  {
   "cell_type": "code",
   "execution_count": 18,
   "metadata": {},
   "outputs": [
    {
     "name": "stderr",
     "output_type": "stream",
     "text": [
      "/tmp/ipykernel_60664/4106561458.py:3: FutureWarning: In a future version of pandas all arguments of DataFrame.any and Series.any will be keyword-only.\n",
      "  barcodes_across_sample[barcodes_across_sample[VIS_samples].ne(0).any(1)]\n"
     ]
    }
   ],
   "source": [
    "#if you just want visual areas to look at\n",
    "VIS_samples = sample_vol_and_regions[sample_vol_and_regions.main.str.contains('VIS')]['ROI Number'].to_list()\n",
    "barcodes_across_sample[barcodes_across_sample[VIS_samples].ne(0).any(1)]\n",
    "\n",
    "barcode_matrix = np.zeros(\n",
    "    (len(barcodes_across_sample), max(barcodes_across_sample.columns.to_list()) + 1)\n",
    ")\n",
    "\n",
    "for column in barcodes_across_sample:\n",
    "    barcode_matrix[:, column] = barcodes_across_sample[column].to_numpy()\n",
    "\n",
    "# now set zero values to -1\n",
    "barcode_matrix[:, 0] = 0\n"
   ]
  },
  {
   "cell_type": "code",
   "execution_count": 21,
   "metadata": {},
   "outputs": [],
   "source": [
    "barcode_index = np.random.randint(len(barcode_matrix))\n",
    "barcode_matrix[:, 0] = -1\n",
    "new_mat = np.log(\n",
    "            1 + barcode_matrix[barcode_index, ROI_3D.astype(int)]\n",
    "        )\n"
   ]
  },
  {
   "cell_type": "code",
   "execution_count": 55,
   "metadata": {},
   "outputs": [
    {
     "data": {
      "text/html": [
       "<pre style=\"white-space:pre;overflow-x:auto;line-height:normal;font-family:Menlo,'DejaVu Sans Mono',consolas,'Courier New',monospace\"></pre>\n"
      ],
      "text/plain": []
     },
     "metadata": {},
     "output_type": "display_data"
    },
    {
     "data": {
      "text/plain": [
       "\u001b[1;36m2110\u001b[0m"
      ]
     },
     "execution_count": 55,
     "metadata": {},
     "output_type": "execute_result"
    }
   ],
   "source": [
    "np.where"
   ]
  },
  {
   "cell_type": "code",
   "execution_count": 58,
   "metadata": {},
   "outputs": [
    {
     "data": {
      "text/html": [
       "<pre style=\"white-space:pre;overflow-x:auto;line-height:normal;font-family:Menlo,'DejaVu Sans Mono',consolas,'Courier New',monospace\"></pre>\n"
      ],
      "text/plain": []
     },
     "metadata": {},
     "output_type": "display_data"
    },
    {
     "data": {
      "text/plain": [
       "\u001b[1;36m2.685752146934234\u001b[0m"
      ]
     },
     "execution_count": 58,
     "metadata": {},
     "output_type": "execute_result"
    }
   ],
   "source": [
    "barcode_roi.max()"
   ]
  },
  {
   "cell_type": "code",
   "execution_count": 56,
   "metadata": {},
   "outputs": [],
   "source": [
    "barcode_roi = np.empty_like(ROI_3D)\n",
    "for i in barcodes_across_sample.columns:\n",
    "    mask = np.isin(ROI_3D, i)\n",
    "    barcode_roi[mask] = np.log10(barcode_matrix[barcode_index, i] + 1)"
   ]
  },
  {
   "cell_type": "code",
   "execution_count": 57,
   "metadata": {},
   "outputs": [
    {
     "data": {
      "text/html": [
       "<pre style=\"white-space:pre;overflow-x:auto;line-height:normal;font-family:Menlo,'DejaVu Sans Mono',consolas,'Courier New',monospace\"><span style=\"color: #ffa726; text-decoration-color: #ffa726\">╭─────────────────────────────────╮</span>\n",
       "<span style=\"color: #ffa726; text-decoration-color: #ffa726\">│</span>  <span style=\"font-weight: bold\">                             </span>  <span style=\"color: #ffa726; text-decoration-color: #ffa726\">│</span>\n",
       "<span style=\"color: #ffa726; text-decoration-color: #ffa726\">│</span>   <span style=\"color: #ff7043; text-decoration-color: #ff7043; font-weight: bold\">Scene actors</span>                  <span style=\"color: #ffa726; text-decoration-color: #ffa726\">│</span>\n",
       "<span style=\"color: #ffa726; text-decoration-color: #ffa726\">│</span>   <span style=\"color: #ff7043; text-decoration-color: #ff7043; font-weight: bold\">────────────</span>                  <span style=\"color: #ffa726; text-decoration-color: #ffa726\">│</span>\n",
       "<span style=\"color: #ffa726; text-decoration-color: #ffa726\">│</span>                                 <span style=\"color: #ffa726; text-decoration-color: #ffa726\">│</span>\n",
       "<span style=\"color: #ffa726; text-decoration-color: #ffa726\">│</span>   <span style=\"color: #ffca28; text-decoration-color: #ffca28; font-weight: bold\">- root</span><span style=\"color: #ef6c00; text-decoration-color: #ef6c00\"> (type: </span><span style=\"color: #ffa726; text-decoration-color: #ffa726\">brain region</span><span style=\"color: #ef6c00; text-decoration-color: #ef6c00\">)</span>   <span style=\"color: #ffa726; text-decoration-color: #ffa726\">│</span>\n",
       "<span style=\"color: #ffa726; text-decoration-color: #ffa726\">│</span>   <span style=\"color: #ffca28; text-decoration-color: #ffca28; font-weight: bold\">- Volume</span><span style=\"color: #ef6c00; text-decoration-color: #ef6c00\"> (type: </span><span style=\"color: #ffa726; text-decoration-color: #ffa726\">Volume</span><span style=\"color: #ef6c00; text-decoration-color: #ef6c00\">)</span>       <span style=\"color: #ffa726; text-decoration-color: #ffa726\">│</span>\n",
       "<span style=\"color: #ffa726; text-decoration-color: #ffa726\">│</span>                                 <span style=\"color: #ffa726; text-decoration-color: #ffa726\">│</span>\n",
       "<span style=\"color: #ffa726; text-decoration-color: #ffa726\">╰─────────────────────────────────╯</span>\n",
       "</pre>\n"
      ],
      "text/plain": [
       "\u001b[38;2;255;167;38m╭─────────────────────────────────╮\u001b[0m\n",
       "\u001b[38;2;255;167;38m│\u001b[0m  \u001b[1m \u001b[0m\u001b[1m                           \u001b[0m\u001b[1m \u001b[0m  \u001b[38;2;255;167;38m│\u001b[0m\n",
       "\u001b[38;2;255;167;38m│\u001b[0m   \u001b[1;38;2;255;112;67mScene actors\u001b[0m                  \u001b[38;2;255;167;38m│\u001b[0m\n",
       "\u001b[38;2;255;167;38m│\u001b[0m   \u001b[1;38;2;255;112;67m────────────\u001b[0m                  \u001b[38;2;255;167;38m│\u001b[0m\n",
       "\u001b[38;2;255;167;38m│\u001b[0m                                 \u001b[38;2;255;167;38m│\u001b[0m\n",
       "\u001b[38;2;255;167;38m│\u001b[0m   \u001b[1;38;2;255;202;40m- root\u001b[0m\u001b[38;2;239;108;0m (type: \u001b[0m\u001b[38;2;255;167;38mbrain region\u001b[0m\u001b[38;2;239;108;0m)\u001b[0m   \u001b[38;2;255;167;38m│\u001b[0m\n",
       "\u001b[38;2;255;167;38m│\u001b[0m   \u001b[1;38;2;255;202;40m- Volume\u001b[0m\u001b[38;2;239;108;0m (type: \u001b[0m\u001b[38;2;255;167;38mVolume\u001b[0m\u001b[38;2;239;108;0m)\u001b[0m       \u001b[38;2;255;167;38m│\u001b[0m\n",
       "\u001b[38;2;255;167;38m│\u001b[0m                                 \u001b[38;2;255;167;38m│\u001b[0m\n",
       "\u001b[38;2;255;167;38m╰─────────────────────────────────╯\u001b[0m\n"
      ]
     },
     "metadata": {},
     "output_type": "display_data"
    },
    {
     "data": {
      "text/html": [
       "<pre style=\"white-space:pre;overflow-x:auto;line-height:normal;font-family:Menlo,'DejaVu Sans Mono',consolas,'Courier New',monospace\"><span style=\"color: #fb8c00; text-decoration-color: #fb8c00\">Cannot run function </span><span style=\"color: #ff7043; text-decoration-color: #ff7043; font-weight: bold\">_get_inset</span><span style=\"color: #fb8c00; text-decoration-color: #fb8c00\"> in a jupyter notebook</span> <span style=\"color: #fb8c00; text-decoration-color: #fb8c00\">Try setting the correct backend before creating your scene:</span>\n",
       "\n",
       "<span style=\"color: #f92672; text-decoration-color: #f92672; background-color: #272822\">from</span><span style=\"color: #f8f8f2; text-decoration-color: #f8f8f2; background-color: #272822\"> vedo </span><span style=\"color: #f92672; text-decoration-color: #f92672; background-color: #272822\">import</span><span style=\"color: #f8f8f2; text-decoration-color: #f8f8f2; background-color: #272822\"> embedWindow</span><span style=\"background-color: #272822\">                                                                                       </span>\n",
       "<span style=\"color: #f8f8f2; text-decoration-color: #f8f8f2; background-color: #272822\">embedWindow(</span><span style=\"color: #66d9ef; text-decoration-color: #66d9ef; background-color: #272822\">None</span><span style=\"color: #f8f8f2; text-decoration-color: #f8f8f2; background-color: #272822\">)</span><span style=\"background-color: #272822\">                                                                                                  </span>\n",
       "</pre>\n"
      ],
      "text/plain": [
       "\u001b[38;2;251;140;0mCannot run function \u001b[0m\u001b[1;38;2;255;112;67m_get_inset\u001b[0m\u001b[38;2;251;140;0m in a jupyter notebook\u001b[0m \u001b[38;2;251;140;0mTry setting the correct backend before creating your scene:\u001b[0m\n",
       "\n",
       "\u001b[38;2;249;38;114;48;2;39;40;34mfrom\u001b[0m\u001b[38;2;248;248;242;48;2;39;40;34m \u001b[0m\u001b[38;2;248;248;242;48;2;39;40;34mvedo\u001b[0m\u001b[38;2;248;248;242;48;2;39;40;34m \u001b[0m\u001b[38;2;249;38;114;48;2;39;40;34mimport\u001b[0m\u001b[38;2;248;248;242;48;2;39;40;34m \u001b[0m\u001b[38;2;248;248;242;48;2;39;40;34membedWindow\u001b[0m\u001b[48;2;39;40;34m                                                                                       \u001b[0m\n",
       "\u001b[38;2;248;248;242;48;2;39;40;34membedWindow\u001b[0m\u001b[38;2;248;248;242;48;2;39;40;34m(\u001b[0m\u001b[38;2;102;217;239;48;2;39;40;34mNone\u001b[0m\u001b[38;2;248;248;242;48;2;39;40;34m)\u001b[0m\u001b[48;2;39;40;34m                                                                                                  \u001b[0m\n"
      ]
     },
     "metadata": {},
     "output_type": "display_data"
    },
    {
     "data": {
      "text/html": [
       "<pre style=\"white-space:pre;overflow-x:auto;line-height:normal;font-family:Menlo,'DejaVu Sans Mono',consolas,'Courier New',monospace\"><span style=\"color: #26a69a; text-decoration-color: #26a69a\">Your scene is ready for rendering, use:</span>\n",
       "\n",
       "<span style=\"color: #f92672; text-decoration-color: #f92672; background-color: #272822\">from</span><span style=\"color: #f8f8f2; text-decoration-color: #f8f8f2; background-color: #272822\"> vedo </span><span style=\"color: #f92672; text-decoration-color: #f92672; background-color: #272822\">import</span><span style=\"color: #f8f8f2; text-decoration-color: #f8f8f2; background-color: #272822\"> show</span><span style=\"background-color: #272822\">                                                                                              </span>\n",
       "<span style=\"color: #f8f8f2; text-decoration-color: #f8f8f2; background-color: #272822\">vedo</span><span style=\"color: #f92672; text-decoration-color: #f92672; background-color: #272822\">.</span><span style=\"color: #f8f8f2; text-decoration-color: #f8f8f2; background-color: #272822\">show(</span><span style=\"color: #f92672; text-decoration-color: #f92672; background-color: #272822\">*</span><span style=\"color: #f8f8f2; text-decoration-color: #f8f8f2; background-color: #272822\">scene</span><span style=\"color: #f92672; text-decoration-color: #f92672; background-color: #272822\">.</span><span style=\"color: #f8f8f2; text-decoration-color: #f8f8f2; background-color: #272822\">renderables)</span><span style=\"background-color: #272822\">                                                                                      </span>\n",
       "</pre>\n"
      ],
      "text/plain": [
       "\u001b[38;2;38;166;154mYour scene is ready for rendering, use:\u001b[0m\n",
       "\n",
       "\u001b[38;2;249;38;114;48;2;39;40;34mfrom\u001b[0m\u001b[38;2;248;248;242;48;2;39;40;34m \u001b[0m\u001b[38;2;248;248;242;48;2;39;40;34mvedo\u001b[0m\u001b[38;2;248;248;242;48;2;39;40;34m \u001b[0m\u001b[38;2;249;38;114;48;2;39;40;34mimport\u001b[0m\u001b[38;2;248;248;242;48;2;39;40;34m \u001b[0m\u001b[38;2;248;248;242;48;2;39;40;34mshow\u001b[0m\u001b[48;2;39;40;34m                                                                                              \u001b[0m\n",
       "\u001b[38;2;248;248;242;48;2;39;40;34mvedo\u001b[0m\u001b[38;2;249;38;114;48;2;39;40;34m.\u001b[0m\u001b[38;2;248;248;242;48;2;39;40;34mshow\u001b[0m\u001b[38;2;248;248;242;48;2;39;40;34m(\u001b[0m\u001b[38;2;249;38;114;48;2;39;40;34m*\u001b[0m\u001b[38;2;248;248;242;48;2;39;40;34mscene\u001b[0m\u001b[38;2;249;38;114;48;2;39;40;34m.\u001b[0m\u001b[38;2;248;248;242;48;2;39;40;34mrenderables\u001b[0m\u001b[38;2;248;248;242;48;2;39;40;34m)\u001b[0m\u001b[48;2;39;40;34m                                                                                      \u001b[0m\n"
      ]
     },
     "metadata": {},
     "output_type": "display_data"
    },
    {
     "name": "stderr",
     "output_type": "stream",
     "text": [
      "/camp/home/turnerb/.conda/envs/MAPseq_processing_py39/lib/python3.9/site-packages/traittypes/traittypes.py:97: UserWarning: Given trait value dtype \"float64\" does not match required type \"float32\". A coerced copy has been created.\n",
      "  warnings.warn(\n"
     ]
    },
    {
     "data": {
      "application/vnd.jupyter.widget-view+json": {
       "model_id": "5f053bdd1832413686213935995aa0f4",
       "version_major": 2,
       "version_minor": 0
      },
      "text/plain": [
       "Plot(antialias=True, axes=['x', 'y', 'z'], axes_helper=1.0, axes_helper_colors=[16711680, 65280, 255], backgro…"
      ]
     },
     "execution_count": 57,
     "metadata": {},
     "output_type": "execute_result"
    }
   ],
   "source": [
    "scene_single_neuron = Scene(atlas_name='allen_mouse_25um')\n",
    "neuron_sing = Volume(barcode_roi, min_value=1, voxel_size=25, cmap='inferno')\n",
    "actor_neuron = scene_single_neuron.add(neuron_sing)\n",
    "\n",
    "scene_single_neuron.jupyter = True\n",
    "# render\n",
    "scene_single_neuron.content\n",
    "scene_single_neuron.render()\n",
    "plt = Plotter()\n",
    "plt.show(*scene_single_neuron.renderables)    "
   ]
  },
  {
   "cell_type": "code",
   "execution_count": 25,
   "metadata": {},
   "outputs": [
    {
     "data": {
      "application/vnd.jupyter.widget-view+json": {
       "model_id": "a2e2748a9a954abbb810773e6b4486d6",
       "version_major": 2,
       "version_minor": 0
      },
      "text/plain": [
       "Plot(antialias=True, axes=['x', 'y', 'z'], axes_helper=1.0, axes_helper_colors=[16711680, 65280, 255], backgro…"
      ]
     },
     "execution_count": 25,
     "metadata": {},
     "output_type": "execute_result"
    }
   ],
   "source": [
    "plt.show(*scene_single_neuron.renderables)    "
   ]
  },
  {
   "cell_type": "code",
   "execution_count": 23,
   "metadata": {},
   "outputs": [
    {
     "data": {
      "text/html": [
       "<pre style=\"white-space:pre;overflow-x:auto;line-height:normal;font-family:Menlo,'DejaVu Sans Mono',consolas,'Courier New',monospace\"><span style=\"color: #26a69a; text-decoration-color: #26a69a\">Your scene is ready for rendering, use:</span>\n",
       "\n",
       "<span style=\"color: #ff4689; text-decoration-color: #ff4689; background-color: #272822\">from</span><span style=\"color: #f8f8f2; text-decoration-color: #f8f8f2; background-color: #272822\"> vedo </span><span style=\"color: #ff4689; text-decoration-color: #ff4689; background-color: #272822\">import</span><span style=\"color: #f8f8f2; text-decoration-color: #f8f8f2; background-color: #272822\"> show</span><span style=\"background-color: #272822\">                                                                                              </span>\n",
       "<span style=\"color: #f8f8f2; text-decoration-color: #f8f8f2; background-color: #272822\">vedo</span><span style=\"color: #ff4689; text-decoration-color: #ff4689; background-color: #272822\">.</span><span style=\"color: #f8f8f2; text-decoration-color: #f8f8f2; background-color: #272822\">show(</span><span style=\"color: #ff4689; text-decoration-color: #ff4689; background-color: #272822\">*</span><span style=\"color: #f8f8f2; text-decoration-color: #f8f8f2; background-color: #272822\">scene</span><span style=\"color: #ff4689; text-decoration-color: #ff4689; background-color: #272822\">.</span><span style=\"color: #f8f8f2; text-decoration-color: #f8f8f2; background-color: #272822\">renderables)</span><span style=\"background-color: #272822\">                                                                                      </span>\n",
       "</pre>\n"
      ],
      "text/plain": [
       "\u001b[38;2;38;166;154mYour scene is ready for rendering, use:\u001b[0m\n",
       "\n",
       "\u001b[38;2;255;70;137;48;2;39;40;34mfrom\u001b[0m\u001b[38;2;248;248;242;48;2;39;40;34m \u001b[0m\u001b[38;2;248;248;242;48;2;39;40;34mvedo\u001b[0m\u001b[38;2;248;248;242;48;2;39;40;34m \u001b[0m\u001b[38;2;255;70;137;48;2;39;40;34mimport\u001b[0m\u001b[38;2;248;248;242;48;2;39;40;34m \u001b[0m\u001b[38;2;248;248;242;48;2;39;40;34mshow\u001b[0m\u001b[48;2;39;40;34m                                                                                              \u001b[0m\n",
       "\u001b[38;2;248;248;242;48;2;39;40;34mvedo\u001b[0m\u001b[38;2;255;70;137;48;2;39;40;34m.\u001b[0m\u001b[38;2;248;248;242;48;2;39;40;34mshow\u001b[0m\u001b[38;2;248;248;242;48;2;39;40;34m(\u001b[0m\u001b[38;2;255;70;137;48;2;39;40;34m*\u001b[0m\u001b[38;2;248;248;242;48;2;39;40;34mscene\u001b[0m\u001b[38;2;255;70;137;48;2;39;40;34m.\u001b[0m\u001b[38;2;248;248;242;48;2;39;40;34mrenderables\u001b[0m\u001b[38;2;248;248;242;48;2;39;40;34m)\u001b[0m\u001b[48;2;39;40;34m                                                                                      \u001b[0m\n"
      ]
     },
     "metadata": {},
     "output_type": "display_data"
    },
    {
     "data": {
      "text/html": [
       "<pre style=\"white-space:pre;overflow-x:auto;line-height:normal;font-family:Menlo,'DejaVu Sans Mono',consolas,'Courier New',monospace\"><span style=\"color: #ffca28; text-decoration-color: #ffca28\">Saving video in </span><span style=\"color: #ffa726; text-decoration-color: #ffa726\">/camp/lab/znamenskiyp/home/shared/projects/turnerb_A1_MAPseq/FIAA45.6a/LCM/vids</span>\n",
       "</pre>\n"
      ],
      "text/plain": [
       "\u001b[38;2;255;202;40mSaving video in \u001b[0m\u001b[38;2;255;167;38m/camp/lab/znamenskiyp/home/shared/projects/turnerb_A1_MAPseq/FIAA45.6a/LCM/\u001b[0m\u001b[38;2;255;167;38mvids\u001b[0m\n"
      ]
     },
     "metadata": {},
     "output_type": "display_data"
    },
    {
     "name": "stdout",
     "output_type": "stream",
     "text": [
      "\u001b[1m\u001b[35m📽  Video file vid1 is open... \u001b[0m"
     ]
    },
    {
     "data": {
      "application/vnd.jupyter.widget-view+json": {
       "model_id": "db4bbfeefaa845c0981494b3f49cf501",
       "version_major": 2,
       "version_minor": 0
      },
      "text/plain": [
       "Output()"
      ]
     },
     "metadata": {},
     "output_type": "display_data"
    },
    {
     "data": {
      "text/html": [
       "<pre style=\"white-space:pre;overflow-x:auto;line-height:normal;font-family:Menlo,'DejaVu Sans Mono',consolas,'Courier New',monospace\"></pre>\n"
      ],
      "text/plain": []
     },
     "metadata": {},
     "output_type": "display_data"
    },
    {
     "data": {
      "text/html": [
       "<pre style=\"white-space:pre;overflow-x:auto;line-height:normal;font-family:Menlo,'DejaVu Sans Mono',consolas,'Courier New',monospace\">\n",
       "</pre>\n"
      ],
      "text/plain": [
       "\n"
      ]
     },
     "metadata": {},
     "output_type": "display_data"
    },
    {
     "ename": "AttributeError",
     "evalue": "'NoneType' object has no attribute 'ComputeVisiblePropBounds'",
     "output_type": "error",
     "traceback": [
      "\u001b[0;31m---------------------------------------------------------------------------\u001b[0m",
      "\u001b[0;31mAttributeError\u001b[0m                            Traceback (most recent call last)",
      "Cell \u001b[0;32mIn[23], line 4\u001b[0m\n\u001b[1;32m      2\u001b[0m \u001b[38;5;28;01mfrom\u001b[39;00m \u001b[38;5;21;01mbrainrender\u001b[39;00m\u001b[38;5;21;01m.\u001b[39;00m\u001b[38;5;21;01mvideo\u001b[39;00m \u001b[38;5;28;01mimport\u001b[39;00m VideoMaker\n\u001b[1;32m      3\u001b[0m vm \u001b[38;5;241m=\u001b[39m VideoMaker(scene, \u001b[38;5;28mstr\u001b[39m(lcm_directory\u001b[38;5;241m/\u001b[39m\u001b[38;5;124m'\u001b[39m\u001b[38;5;124mvids\u001b[39m\u001b[38;5;124m'\u001b[39m), \u001b[38;5;124m'\u001b[39m\u001b[38;5;124mvid1\u001b[39m\u001b[38;5;124m'\u001b[39m)\n\u001b[0;32m----> 4\u001b[0m \u001b[43mvm\u001b[49m\u001b[38;5;241;43m.\u001b[39;49m\u001b[43mmake_video\u001b[49m\u001b[43m(\u001b[49m\u001b[43melevation\u001b[49m\u001b[38;5;241;43m=\u001b[39;49m\u001b[38;5;241;43m1\u001b[39;49m\u001b[43m,\u001b[49m\u001b[43m \u001b[49m\u001b[43mroll\u001b[49m\u001b[38;5;241;43m=\u001b[39;49m\u001b[38;5;241;43m5\u001b[39;49m\u001b[43m)\u001b[49m\n",
      "File \u001b[0;32m~/.conda/envs/brainrender_env/lib/python3.8/site-packages/brainrender/_jupyter.py:43\u001b[0m, in \u001b[0;36mnot_on_jupyter.__call__\u001b[0;34m(self, obj, *args, **kwargs)\u001b[0m\n\u001b[1;32m     41\u001b[0m backend \u001b[38;5;241m=\u001b[39m JupyterMixIn()\u001b[38;5;241m.\u001b[39mbackend\n\u001b[1;32m     42\u001b[0m \u001b[38;5;28;01mif\u001b[39;00m \u001b[38;5;129;01mnot\u001b[39;00m backend:\n\u001b[0;32m---> 43\u001b[0m     \u001b[38;5;28;01mreturn\u001b[39;00m \u001b[38;5;28;43mself\u001b[39;49m\u001b[38;5;241;43m.\u001b[39;49m\u001b[43mfunc\u001b[49m\u001b[43m(\u001b[49m\u001b[43mobj\u001b[49m\u001b[43m,\u001b[49m\u001b[43m \u001b[49m\u001b[38;5;241;43m*\u001b[39;49m\u001b[43margs\u001b[49m\u001b[43m,\u001b[49m\u001b[43m \u001b[49m\u001b[38;5;241;43m*\u001b[39;49m\u001b[38;5;241;43m*\u001b[39;49m\u001b[43mkwargs\u001b[49m\u001b[43m)\u001b[49m\n\u001b[1;32m     44\u001b[0m \u001b[38;5;28;01melse\u001b[39;00m:\n\u001b[1;32m     45\u001b[0m     \u001b[38;5;28mprint\u001b[39m(\n\u001b[1;32m     46\u001b[0m         \u001b[38;5;124mf\u001b[39m\u001b[38;5;124m\"\u001b[39m\u001b[38;5;124m[\u001b[39m\u001b[38;5;132;01m{\u001b[39;00morange_dark\u001b[38;5;132;01m}\u001b[39;00m\u001b[38;5;124m]Cannot run function [bold \u001b[39m\u001b[38;5;132;01m{\u001b[39;00msalmon\u001b[38;5;132;01m}\u001b[39;00m\u001b[38;5;124m]\u001b[39m\u001b[38;5;132;01m{\u001b[39;00m\u001b[38;5;28mself\u001b[39m\u001b[38;5;241m.\u001b[39mfunc\u001b[38;5;241m.\u001b[39m\u001b[38;5;18m__name__\u001b[39m\u001b[38;5;132;01m}\u001b[39;00m\u001b[38;5;124m[/ bold \u001b[39m\u001b[38;5;132;01m{\u001b[39;00msalmon\u001b[38;5;132;01m}\u001b[39;00m\u001b[38;5;124m] in a jupyter notebook\u001b[39m\u001b[38;5;124m\"\u001b[39m,\n\u001b[1;32m     47\u001b[0m         \u001b[38;5;124mf\u001b[39m\u001b[38;5;124m\"\u001b[39m\u001b[38;5;124m[\u001b[39m\u001b[38;5;132;01m{\u001b[39;00morange_dark\u001b[38;5;132;01m}\u001b[39;00m\u001b[38;5;124m]Try setting the correct backend before creating your scene:\u001b[39m\u001b[38;5;130;01m\\n\u001b[39;00m\u001b[38;5;124m\"\u001b[39m,\n\u001b[1;32m     48\u001b[0m         Syntax(\u001b[38;5;124m\"\u001b[39m\u001b[38;5;124mfrom vedo import embedWindow\u001b[39m\u001b[38;5;124m\"\u001b[39m, lexer\u001b[38;5;241m=\u001b[39m\u001b[38;5;124m\"\u001b[39m\u001b[38;5;124mpython\u001b[39m\u001b[38;5;124m\"\u001b[39m),\n\u001b[1;32m     49\u001b[0m         Syntax(\u001b[38;5;124m\"\u001b[39m\u001b[38;5;124membedWindow(None)\u001b[39m\u001b[38;5;124m\"\u001b[39m, lexer\u001b[38;5;241m=\u001b[39m\u001b[38;5;124m\"\u001b[39m\u001b[38;5;124mpython\u001b[39m\u001b[38;5;124m\"\u001b[39m),\n\u001b[1;32m     50\u001b[0m     )\n",
      "File \u001b[0;32m~/.conda/envs/brainrender_env/lib/python3.8/site-packages/brainrender/video.py:140\u001b[0m, in \u001b[0;36mVideoMaker.make_video\u001b[0;34m(self, duration, fps, render_kwargs, *args, **kwargs)\u001b[0m\n\u001b[1;32m    131\u001b[0m video \u001b[38;5;241m=\u001b[39m Video(\n\u001b[1;32m    132\u001b[0m     name\u001b[38;5;241m=\u001b[39m\u001b[38;5;28mself\u001b[39m\u001b[38;5;241m.\u001b[39msave_name,\n\u001b[1;32m    133\u001b[0m     duration\u001b[38;5;241m=\u001b[39mduration,\n\u001b[0;32m   (...)\u001b[0m\n\u001b[1;32m    136\u001b[0m     size\u001b[38;5;241m=\u001b[39m\u001b[38;5;28mself\u001b[39m\u001b[38;5;241m.\u001b[39msize,\n\u001b[1;32m    137\u001b[0m )\n\u001b[1;32m    139\u001b[0m \u001b[38;5;66;03m# Make frames\u001b[39;00m\n\u001b[0;32m--> 140\u001b[0m \u001b[38;5;28;43mself\u001b[39;49m\u001b[38;5;241;43m.\u001b[39;49m\u001b[43mgenerate_frames\u001b[49m\u001b[43m(\u001b[49m\u001b[43mfps\u001b[49m\u001b[43m,\u001b[49m\u001b[43m \u001b[49m\u001b[43mduration\u001b[49m\u001b[43m,\u001b[49m\u001b[43m \u001b[49m\u001b[43mvideo\u001b[49m\u001b[43m,\u001b[49m\u001b[43m \u001b[49m\u001b[38;5;241;43m*\u001b[39;49m\u001b[43margs\u001b[49m\u001b[43m,\u001b[49m\u001b[43m \u001b[49m\u001b[38;5;241;43m*\u001b[39;49m\u001b[38;5;241;43m*\u001b[39;49m\u001b[43mkwargs\u001b[49m\u001b[43m)\u001b[49m\n\u001b[1;32m    141\u001b[0m \u001b[38;5;28mself\u001b[39m\u001b[38;5;241m.\u001b[39mscene\u001b[38;5;241m.\u001b[39mclose()\n\u001b[1;32m    143\u001b[0m \u001b[38;5;66;03m# Stitch frames into uncompressed video\u001b[39;00m\n",
      "File \u001b[0;32m~/.conda/envs/brainrender_env/lib/python3.8/site-packages/brainrender/video.py:90\u001b[0m, in \u001b[0;36mVideoMaker.generate_frames\u001b[0;34m(self, fps, duration, video, *args, **kwargs)\u001b[0m\n\u001b[1;32m     88\u001b[0m nframes \u001b[38;5;241m=\u001b[39m \u001b[38;5;28mint\u001b[39m(fps \u001b[38;5;241m*\u001b[39m duration)\n\u001b[1;32m     89\u001b[0m \u001b[38;5;28;01mfor\u001b[39;00m i \u001b[38;5;129;01min\u001b[39;00m track(\u001b[38;5;28mrange\u001b[39m(nframes), description\u001b[38;5;241m=\u001b[39m\u001b[38;5;124m\"\u001b[39m\u001b[38;5;124mGenerating frames\u001b[39m\u001b[38;5;124m\"\u001b[39m):\n\u001b[0;32m---> 90\u001b[0m     \u001b[38;5;28;43mself\u001b[39;49m\u001b[38;5;241;43m.\u001b[39;49m\u001b[43mmake_frame_func\u001b[49m\u001b[43m(\u001b[49m\u001b[38;5;28;43mself\u001b[39;49m\u001b[38;5;241;43m.\u001b[39;49m\u001b[43mscene\u001b[49m\u001b[43m,\u001b[49m\u001b[43m \u001b[49m\u001b[43mi\u001b[49m\u001b[43m,\u001b[49m\u001b[43m \u001b[49m\u001b[43mnframes\u001b[49m\u001b[43m,\u001b[49m\u001b[43m \u001b[49m\u001b[38;5;241;43m*\u001b[39;49m\u001b[43margs\u001b[49m\u001b[43m,\u001b[49m\u001b[43m \u001b[49m\u001b[38;5;241;43m*\u001b[39;49m\u001b[38;5;241;43m*\u001b[39;49m\u001b[43mkwargs\u001b[49m\u001b[43m)\u001b[49m\n\u001b[1;32m     91\u001b[0m     video\u001b[38;5;241m.\u001b[39madd_frame()\n",
      "File \u001b[0;32m~/.conda/envs/brainrender_env/lib/python3.8/site-packages/brainrender/video.py:75\u001b[0m, in \u001b[0;36mVideoMaker._make_frame\u001b[0;34m(scene, frame_number, tot_frames, azimuth, elevation, roll)\u001b[0m\n\u001b[1;32m     58\u001b[0m \u001b[38;5;129m@staticmethod\u001b[39m\n\u001b[1;32m     59\u001b[0m \u001b[38;5;28;01mdef\u001b[39;00m \u001b[38;5;21m_make_frame\u001b[39m(\n\u001b[1;32m     60\u001b[0m     scene, frame_number, tot_frames, azimuth\u001b[38;5;241m=\u001b[39m\u001b[38;5;241m0\u001b[39m, elevation\u001b[38;5;241m=\u001b[39m\u001b[38;5;241m0\u001b[39m, roll\u001b[38;5;241m=\u001b[39m\u001b[38;5;241m0\u001b[39m\n\u001b[1;32m     61\u001b[0m ):\n\u001b[1;32m     62\u001b[0m \u001b[38;5;250m    \u001b[39m\u001b[38;5;124;03m\"\"\"\u001b[39;00m\n\u001b[1;32m     63\u001b[0m \u001b[38;5;124;03m    Default `make_frame_func`. Rotates the camera in 3 directions\u001b[39;00m\n\u001b[1;32m     64\u001b[0m \n\u001b[0;32m   (...)\u001b[0m\n\u001b[1;32m     73\u001b[0m \u001b[38;5;124;03m                per frame on the relative axis. (Default value = 0)\u001b[39;00m\n\u001b[1;32m     74\u001b[0m \u001b[38;5;124;03m    \"\"\"\u001b[39;00m\n\u001b[0;32m---> 75\u001b[0m     \u001b[43mscene\u001b[49m\u001b[38;5;241;43m.\u001b[39;49m\u001b[43mplotter\u001b[49m\u001b[38;5;241;43m.\u001b[39;49m\u001b[43mshow\u001b[49m\u001b[43m(\u001b[49m\u001b[43minteractive\u001b[49m\u001b[38;5;241;43m=\u001b[39;49m\u001b[38;5;28;43;01mFalse\u001b[39;49;00m\u001b[43m)\u001b[49m\n\u001b[1;32m     76\u001b[0m     scene\u001b[38;5;241m.\u001b[39mplotter\u001b[38;5;241m.\u001b[39mcamera\u001b[38;5;241m.\u001b[39mElevation(elevation)\n\u001b[1;32m     77\u001b[0m     scene\u001b[38;5;241m.\u001b[39mplotter\u001b[38;5;241m.\u001b[39mcamera\u001b[38;5;241m.\u001b[39mAzimuth(azimuth)\n",
      "File \u001b[0;32m~/.conda/envs/brainrender_env/lib/python3.8/site-packages/vedo/plotter.py:3318\u001b[0m, in \u001b[0;36mPlotter.show\u001b[0;34m(self, at, axes, resetcam, zoom, interactive, viewup, azimuth, elevation, roll, camera, mode, rate, bg, bg2, size, title, screenshot, *objects)\u001b[0m\n\u001b[1;32m   3316\u001b[0m \u001b[38;5;28;01mif\u001b[39;00m \u001b[38;5;28mself\u001b[39m\u001b[38;5;241m.\u001b[39maxes \u001b[38;5;129;01mis\u001b[39;00m \u001b[38;5;129;01mnot\u001b[39;00m \u001b[38;5;28;01mNone\u001b[39;00m:\n\u001b[1;32m   3317\u001b[0m     \u001b[38;5;28;01mif\u001b[39;00m viewup \u001b[38;5;241m!=\u001b[39m \u001b[38;5;124m\"\u001b[39m\u001b[38;5;124m2d\u001b[39m\u001b[38;5;124m\"\u001b[39m \u001b[38;5;129;01mor\u001b[39;00m \u001b[38;5;28mself\u001b[39m\u001b[38;5;241m.\u001b[39maxes \u001b[38;5;129;01min\u001b[39;00m [\u001b[38;5;241m1\u001b[39m, \u001b[38;5;241m8\u001b[39m] \u001b[38;5;129;01mor\u001b[39;00m \u001b[38;5;28misinstance\u001b[39m(\u001b[38;5;28mself\u001b[39m\u001b[38;5;241m.\u001b[39maxes, \u001b[38;5;28mdict\u001b[39m):\n\u001b[0;32m-> 3318\u001b[0m         bns \u001b[38;5;241m=\u001b[39m \u001b[38;5;28;43mself\u001b[39;49m\u001b[38;5;241;43m.\u001b[39;49m\u001b[43mrenderer\u001b[49m\u001b[38;5;241;43m.\u001b[39;49m\u001b[43mComputeVisiblePropBounds\u001b[49m()\n\u001b[1;32m   3319\u001b[0m         addons\u001b[38;5;241m.\u001b[39madd_global_axes(\u001b[38;5;28mself\u001b[39m\u001b[38;5;241m.\u001b[39maxes, bounds\u001b[38;5;241m=\u001b[39mbns)\n\u001b[1;32m   3321\u001b[0m \u001b[38;5;66;03m# Backend ###############################################################\u001b[39;00m\n",
      "\u001b[0;31mAttributeError\u001b[0m: 'NoneType' object has no attribute 'ComputeVisiblePropBounds'"
     ]
    }
   ],
   "source": [
    "vedo.settings.default_backend= 'vtk'\n",
    "from brainrender.video import VideoMaker\n",
    "vm = VideoMaker(scene, str(lcm_directory/'vids'), 'vid1')\n",
    "vm.make_video(elevation=1, roll=5)"
   ]
  },
  {
   "cell_type": "code",
   "execution_count": 19,
   "metadata": {},
   "outputs": [
    {
     "data": {
      "text/html": [
       "<pre style=\"white-space:pre;overflow-x:auto;line-height:normal;font-family:Menlo,'DejaVu Sans Mono',consolas,'Courier New',monospace\"><span style=\"color: #fb8c00; text-decoration-color: #fb8c00\">Cannot run function </span><span style=\"color: #ff7043; text-decoration-color: #ff7043; font-weight: bold\">_get_inset</span><span style=\"color: #fb8c00; text-decoration-color: #fb8c00\"> in a jupyter notebook</span> <span style=\"color: #fb8c00; text-decoration-color: #fb8c00\">Try setting the correct backend before creating your scene:</span>\n",
       "\n",
       "<span style=\"color: #f92672; text-decoration-color: #f92672; background-color: #272822\">from</span><span style=\"color: #f8f8f2; text-decoration-color: #f8f8f2; background-color: #272822\"> vedo </span><span style=\"color: #f92672; text-decoration-color: #f92672; background-color: #272822\">import</span><span style=\"color: #f8f8f2; text-decoration-color: #f8f8f2; background-color: #272822\"> embedWindow</span><span style=\"background-color: #272822\">                                                                                       </span>\n",
       "<span style=\"color: #f8f8f2; text-decoration-color: #f8f8f2; background-color: #272822\">embedWindow(</span><span style=\"color: #66d9ef; text-decoration-color: #66d9ef; background-color: #272822\">None</span><span style=\"color: #f8f8f2; text-decoration-color: #f8f8f2; background-color: #272822\">)</span><span style=\"background-color: #272822\">                                                                                                  </span>\n",
       "</pre>\n"
      ],
      "text/plain": [
       "\u001b[38;2;251;140;0mCannot run function \u001b[0m\u001b[1;38;2;255;112;67m_get_inset\u001b[0m\u001b[38;2;251;140;0m in a jupyter notebook\u001b[0m \u001b[38;2;251;140;0mTry setting the correct backend before creating your scene:\u001b[0m\n",
       "\n",
       "\u001b[38;2;249;38;114;48;2;39;40;34mfrom\u001b[0m\u001b[38;2;248;248;242;48;2;39;40;34m \u001b[0m\u001b[38;2;248;248;242;48;2;39;40;34mvedo\u001b[0m\u001b[38;2;248;248;242;48;2;39;40;34m \u001b[0m\u001b[38;2;249;38;114;48;2;39;40;34mimport\u001b[0m\u001b[38;2;248;248;242;48;2;39;40;34m \u001b[0m\u001b[38;2;248;248;242;48;2;39;40;34membedWindow\u001b[0m\u001b[48;2;39;40;34m                                                                                       \u001b[0m\n",
       "\u001b[38;2;248;248;242;48;2;39;40;34membedWindow\u001b[0m\u001b[38;2;248;248;242;48;2;39;40;34m(\u001b[0m\u001b[38;2;102;217;239;48;2;39;40;34mNone\u001b[0m\u001b[38;2;248;248;242;48;2;39;40;34m)\u001b[0m\u001b[48;2;39;40;34m                                                                                                  \u001b[0m\n"
      ]
     },
     "metadata": {},
     "output_type": "display_data"
    },
    {
     "data": {
      "text/html": [
       "<pre style=\"white-space:pre;overflow-x:auto;line-height:normal;font-family:Menlo,'DejaVu Sans Mono',consolas,'Courier New',monospace\"><span style=\"color: #26a69a; text-decoration-color: #26a69a\">Your scene is ready for rendering, use:</span>\n",
       "\n",
       "<span style=\"color: #f92672; text-decoration-color: #f92672; background-color: #272822\">from</span><span style=\"color: #f8f8f2; text-decoration-color: #f8f8f2; background-color: #272822\"> vedo </span><span style=\"color: #f92672; text-decoration-color: #f92672; background-color: #272822\">import</span><span style=\"color: #f8f8f2; text-decoration-color: #f8f8f2; background-color: #272822\"> show</span><span style=\"background-color: #272822\">                                                                                              </span>\n",
       "<span style=\"color: #f8f8f2; text-decoration-color: #f8f8f2; background-color: #272822\">vedo</span><span style=\"color: #f92672; text-decoration-color: #f92672; background-color: #272822\">.</span><span style=\"color: #f8f8f2; text-decoration-color: #f8f8f2; background-color: #272822\">show(</span><span style=\"color: #f92672; text-decoration-color: #f92672; background-color: #272822\">*</span><span style=\"color: #f8f8f2; text-decoration-color: #f8f8f2; background-color: #272822\">scene</span><span style=\"color: #f92672; text-decoration-color: #f92672; background-color: #272822\">.</span><span style=\"color: #f8f8f2; text-decoration-color: #f8f8f2; background-color: #272822\">renderables)</span><span style=\"background-color: #272822\">                                                                                      </span>\n",
       "</pre>\n"
      ],
      "text/plain": [
       "\u001b[38;2;38;166;154mYour scene is ready for rendering, use:\u001b[0m\n",
       "\n",
       "\u001b[38;2;249;38;114;48;2;39;40;34mfrom\u001b[0m\u001b[38;2;248;248;242;48;2;39;40;34m \u001b[0m\u001b[38;2;248;248;242;48;2;39;40;34mvedo\u001b[0m\u001b[38;2;248;248;242;48;2;39;40;34m \u001b[0m\u001b[38;2;249;38;114;48;2;39;40;34mimport\u001b[0m\u001b[38;2;248;248;242;48;2;39;40;34m \u001b[0m\u001b[38;2;248;248;242;48;2;39;40;34mshow\u001b[0m\u001b[48;2;39;40;34m                                                                                              \u001b[0m\n",
       "\u001b[38;2;248;248;242;48;2;39;40;34mvedo\u001b[0m\u001b[38;2;249;38;114;48;2;39;40;34m.\u001b[0m\u001b[38;2;248;248;242;48;2;39;40;34mshow\u001b[0m\u001b[38;2;248;248;242;48;2;39;40;34m(\u001b[0m\u001b[38;2;249;38;114;48;2;39;40;34m*\u001b[0m\u001b[38;2;248;248;242;48;2;39;40;34mscene\u001b[0m\u001b[38;2;249;38;114;48;2;39;40;34m.\u001b[0m\u001b[38;2;248;248;242;48;2;39;40;34mrenderables\u001b[0m\u001b[38;2;248;248;242;48;2;39;40;34m)\u001b[0m\u001b[48;2;39;40;34m                                                                                      \u001b[0m\n"
      ]
     },
     "metadata": {},
     "output_type": "display_data"
    },
    {
     "name": "stderr",
     "output_type": "stream",
     "text": [
      "/camp/home/turnerb/.conda/envs/MAPseq_processing_py39/lib/python3.9/site-packages/traittypes/traittypes.py:97: UserWarning: Given trait value dtype \"float64\" does not match required type \"float32\". A coerced copy has been created.\n",
      "  warnings.warn(\n"
     ]
    },
    {
     "data": {
      "application/vnd.jupyter.widget-view+json": {
       "model_id": "7a426a9b444049d8851fc94cd550f2f1",
       "version_major": 2,
       "version_minor": 0
      },
      "text/plain": [
       "Plot(antialias=True, axes=['x', 'y', 'z'], axes_helper=1.0, axes_helper_colors=[16711680, 65280, 255], backgro…"
      ]
     },
     "execution_count": 19,
     "metadata": {},
     "output_type": "execute_result"
    }
   ],
   "source": [
    "popup_scene = Scene(atlas_name='allen_mouse_50um', title='popup')\n",
    "\n",
    "popup_scene.add_brain_region('VISp')\n",
    "popup_scene.jupyter = True\n",
    "popup_scene.render() \n",
    "from vedo import Plotter  # <- this will be used to render an embedded scene \n",
    "plt = Plotter()\n",
    "plt.show(*popup_scene.renderables)"
   ]
  },
  {
   "cell_type": "code",
   "execution_count": 8,
   "metadata": {},
   "outputs": [],
   "source": [
    "source_origin = (\"Posterior\", \"Inferior\", \"Right\")\n",
    "target_space = scene.atlas.space\n",
    "import brainglobe_space as bg\n",
    "mapped_stack = bg.map_stack_to(source_origin, target_space, ROI_3D)"
   ]
  },
  {
   "cell_type": "code",
   "execution_count": 29,
   "metadata": {},
   "outputs": [],
   "source": [
    "scene.jupyter = True"
   ]
  },
  {
   "cell_type": "code",
   "execution_count": 11,
   "metadata": {},
   "outputs": [],
   "source": [
    "from vedo import Volume\n",
    "vol = Volume(mapped_stack)"
   ]
  },
  {
   "cell_type": "code",
   "execution_count": 30,
   "metadata": {},
   "outputs": [],
   "source": [
    "gene_actor = geapi.griddata_to_volume(ROI_3D, min_quantile=99, cmap=\"inferno\")"
   ]
  },
  {
   "cell_type": "code",
   "execution_count": 44,
   "metadata": {},
   "outputs": [],
   "source": [
    "from brainrender.actors import Volume\n",
    "bla = Volume(ROI_3D, voxel_size=25, as_surface=False, c='Reds')"
   ]
  },
  {
   "cell_type": "code",
   "execution_count": 45,
   "metadata": {},
   "outputs": [],
   "source": [
    "act = scene.add(bla)"
   ]
  },
  {
   "cell_type": "code",
   "execution_count": 12,
   "metadata": {},
   "outputs": [],
   "source": [
    "settings.SHOW_AXES = False\n",
    "\n",
    "scene = Scene(inset=False)\n",
    "\n",
    "gene = \"Gpr161\"\n",
    "geapi = GeneExpressionAPI()\n",
    "expids = geapi.get_gene_experiments(gene)\n",
    "data = geapi.get_gene_data(gene, expids[1])\n",
    "\n",
    "gene_actor = geapi.griddata_to_volume(data, min_quantile=99, cmap=\"inferno\")\n",
    "act = scene.add(gene_actor)\n",
    "\n",
    "#ca1 = scene.add_brain_region(\"CA1\", alpha=0.2, color=\"skyblue\")\n",
    "#ca3 = scene.add_brain_region(\"CA3\", alpha=0.5, color=\"salmon\")\n"
   ]
  },
  {
   "cell_type": "code",
   "execution_count": 39,
   "metadata": {},
   "outputs": [],
   "source": [
    "from brainrender.actors import Points\n",
    "\n",
    "\n",
    "\n",
    "def get_n_random_points_in_region(region, N):\n",
    "    \"\"\"\n",
    "    Gets N random points inside (or on the surface) of a mes\n",
    "    \"\"\"\n",
    "\n",
    "    region_bounds = region.mesh.bounds()\n",
    "    X = np.random.randint(region_bounds[0], region_bounds[1], size=10000)\n",
    "    Y = np.random.randint(region_bounds[2], region_bounds[3], size=10000)\n",
    "    Z = np.random.randint(region_bounds[4], region_bounds[5], size=10000)\n",
    "    pts = [[x, y, z] for x, y, z in zip(X, Y, Z)]\n",
    "\n",
    "    ipts = region.mesh.inside_points(pts).coordinates\n",
    "    return np.vstack(random.choices(ipts, k=N))"
   ]
  },
  {
   "cell_type": "code",
   "execution_count": 41,
   "metadata": {},
   "outputs": [
    {
     "data": {
      "text/html": [
       "<pre style=\"white-space:pre;overflow-x:auto;line-height:normal;font-family:Menlo,'DejaVu Sans Mono',consolas,'Courier New',monospace\"><span style=\"color: #ffa726; text-decoration-color: #ffa726\">╭─────────────────────────────────╮</span>\n",
       "<span style=\"color: #ffa726; text-decoration-color: #ffa726\">│</span>  <span style=\"font-weight: bold\">                             </span>  <span style=\"color: #ffa726; text-decoration-color: #ffa726\">│</span>\n",
       "<span style=\"color: #ffa726; text-decoration-color: #ffa726\">│</span>   <span style=\"color: #ff7043; text-decoration-color: #ff7043; font-weight: bold\">Scene actors</span>                  <span style=\"color: #ffa726; text-decoration-color: #ffa726\">│</span>\n",
       "<span style=\"color: #ffa726; text-decoration-color: #ffa726\">│</span>   <span style=\"color: #ff7043; text-decoration-color: #ff7043; font-weight: bold\">────────────</span>                  <span style=\"color: #ffa726; text-decoration-color: #ffa726\">│</span>\n",
       "<span style=\"color: #ffa726; text-decoration-color: #ffa726\">│</span>                                 <span style=\"color: #ffa726; text-decoration-color: #ffa726\">│</span>\n",
       "<span style=\"color: #ffa726; text-decoration-color: #ffa726\">│</span>   <span style=\"color: #ffca28; text-decoration-color: #ffca28; font-weight: bold\">- root</span><span style=\"color: #ef6c00; text-decoration-color: #ef6c00\"> (type: </span><span style=\"color: #ffa726; text-decoration-color: #ffa726\">brain region</span><span style=\"color: #ef6c00; text-decoration-color: #ef6c00\">)</span>   <span style=\"color: #ffa726; text-decoration-color: #ffa726\">│</span>\n",
       "<span style=\"color: #ffa726; text-decoration-color: #ffa726\">│</span>   <span style=\"color: #ffca28; text-decoration-color: #ffca28; font-weight: bold\">- title</span><span style=\"color: #ef6c00; text-decoration-color: #ef6c00\"> (type: </span><span style=\"color: #ffa726; text-decoration-color: #ffa726\">title</span><span style=\"color: #ef6c00; text-decoration-color: #ef6c00\">)</span>         <span style=\"color: #ffa726; text-decoration-color: #ffa726\">│</span>\n",
       "<span style=\"color: #ffa726; text-decoration-color: #ffa726\">│</span>   <span style=\"color: #ffca28; text-decoration-color: #ffca28; font-weight: bold\">- MOs</span><span style=\"color: #ef6c00; text-decoration-color: #ef6c00\"> (type: </span><span style=\"color: #ffa726; text-decoration-color: #ffa726\">brain region</span><span style=\"color: #ef6c00; text-decoration-color: #ef6c00\">)</span>    <span style=\"color: #ffa726; text-decoration-color: #ffa726\">│</span>\n",
       "<span style=\"color: #ffa726; text-decoration-color: #ffa726\">│</span>   <span style=\"color: #ffca28; text-decoration-color: #ffca28; font-weight: bold\">- CELLS</span><span style=\"color: #ef6c00; text-decoration-color: #ef6c00\"> (type: </span><span style=\"color: #ffa726; text-decoration-color: #ffa726\">Points</span><span style=\"color: #ef6c00; text-decoration-color: #ef6c00\">)</span>        <span style=\"color: #ffa726; text-decoration-color: #ffa726\">│</span>\n",
       "<span style=\"color: #ffa726; text-decoration-color: #ffa726\">│</span>                                 <span style=\"color: #ffa726; text-decoration-color: #ffa726\">│</span>\n",
       "<span style=\"color: #ffa726; text-decoration-color: #ffa726\">╰─────────────────────────────────╯</span>\n",
       "</pre>\n"
      ],
      "text/plain": [
       "\u001b[38;2;255;167;38m╭─────────────────────────────────╮\u001b[0m\n",
       "\u001b[38;2;255;167;38m│\u001b[0m  \u001b[1m \u001b[0m\u001b[1m                           \u001b[0m\u001b[1m \u001b[0m  \u001b[38;2;255;167;38m│\u001b[0m\n",
       "\u001b[38;2;255;167;38m│\u001b[0m   \u001b[1;38;2;255;112;67mScene actors\u001b[0m                  \u001b[38;2;255;167;38m│\u001b[0m\n",
       "\u001b[38;2;255;167;38m│\u001b[0m   \u001b[1;38;2;255;112;67m────────────\u001b[0m                  \u001b[38;2;255;167;38m│\u001b[0m\n",
       "\u001b[38;2;255;167;38m│\u001b[0m                                 \u001b[38;2;255;167;38m│\u001b[0m\n",
       "\u001b[38;2;255;167;38m│\u001b[0m   \u001b[1;38;2;255;202;40m- root\u001b[0m\u001b[38;2;239;108;0m (type: \u001b[0m\u001b[38;2;255;167;38mbrain region\u001b[0m\u001b[38;2;239;108;0m)\u001b[0m   \u001b[38;2;255;167;38m│\u001b[0m\n",
       "\u001b[38;2;255;167;38m│\u001b[0m   \u001b[1;38;2;255;202;40m- title\u001b[0m\u001b[38;2;239;108;0m (type: \u001b[0m\u001b[38;2;255;167;38mtitle\u001b[0m\u001b[38;2;239;108;0m)\u001b[0m         \u001b[38;2;255;167;38m│\u001b[0m\n",
       "\u001b[38;2;255;167;38m│\u001b[0m   \u001b[1;38;2;255;202;40m- MOs\u001b[0m\u001b[38;2;239;108;0m (type: \u001b[0m\u001b[38;2;255;167;38mbrain region\u001b[0m\u001b[38;2;239;108;0m)\u001b[0m    \u001b[38;2;255;167;38m│\u001b[0m\n",
       "\u001b[38;2;255;167;38m│\u001b[0m   \u001b[1;38;2;255;202;40m- CELLS\u001b[0m\u001b[38;2;239;108;0m (type: \u001b[0m\u001b[38;2;255;167;38mPoints\u001b[0m\u001b[38;2;239;108;0m)\u001b[0m        \u001b[38;2;255;167;38m│\u001b[0m\n",
       "\u001b[38;2;255;167;38m│\u001b[0m                                 \u001b[38;2;255;167;38m│\u001b[0m\n",
       "\u001b[38;2;255;167;38m╰─────────────────────────────────╯\u001b[0m\n"
      ]
     },
     "metadata": {},
     "output_type": "display_data"
    },
    {
     "data": {
      "text/html": [
       "<pre style=\"white-space:pre;overflow-x:auto;line-height:normal;font-family:Menlo,'DejaVu Sans Mono',consolas,'Courier New',monospace\"><span style=\"color: #fb8c00; text-decoration-color: #fb8c00\">Cannot run function </span><span style=\"color: #ff7043; text-decoration-color: #ff7043; font-weight: bold\">_get_inset</span><span style=\"color: #fb8c00; text-decoration-color: #fb8c00\"> in a jupyter notebook</span> <span style=\"color: #fb8c00; text-decoration-color: #fb8c00\">Try setting the correct backend before creating your scene:</span>\n",
       "\n",
       "<span style=\"color: #f92672; text-decoration-color: #f92672; background-color: #272822\">from</span><span style=\"color: #f8f8f2; text-decoration-color: #f8f8f2; background-color: #272822\"> vedo </span><span style=\"color: #f92672; text-decoration-color: #f92672; background-color: #272822\">import</span><span style=\"color: #f8f8f2; text-decoration-color: #f8f8f2; background-color: #272822\"> embedWindow</span><span style=\"background-color: #272822\">                                                                                       </span>\n",
       "<span style=\"color: #f8f8f2; text-decoration-color: #f8f8f2; background-color: #272822\">embedWindow(</span><span style=\"color: #66d9ef; text-decoration-color: #66d9ef; background-color: #272822\">None</span><span style=\"color: #f8f8f2; text-decoration-color: #f8f8f2; background-color: #272822\">)</span><span style=\"background-color: #272822\">                                                                                                  </span>\n",
       "</pre>\n"
      ],
      "text/plain": [
       "\u001b[38;2;251;140;0mCannot run function \u001b[0m\u001b[1;38;2;255;112;67m_get_inset\u001b[0m\u001b[38;2;251;140;0m in a jupyter notebook\u001b[0m \u001b[38;2;251;140;0mTry setting the correct backend before creating your scene:\u001b[0m\n",
       "\n",
       "\u001b[38;2;249;38;114;48;2;39;40;34mfrom\u001b[0m\u001b[38;2;248;248;242;48;2;39;40;34m \u001b[0m\u001b[38;2;248;248;242;48;2;39;40;34mvedo\u001b[0m\u001b[38;2;248;248;242;48;2;39;40;34m \u001b[0m\u001b[38;2;249;38;114;48;2;39;40;34mimport\u001b[0m\u001b[38;2;248;248;242;48;2;39;40;34m \u001b[0m\u001b[38;2;248;248;242;48;2;39;40;34membedWindow\u001b[0m\u001b[48;2;39;40;34m                                                                                       \u001b[0m\n",
       "\u001b[38;2;248;248;242;48;2;39;40;34membedWindow\u001b[0m\u001b[38;2;248;248;242;48;2;39;40;34m(\u001b[0m\u001b[38;2;102;217;239;48;2;39;40;34mNone\u001b[0m\u001b[38;2;248;248;242;48;2;39;40;34m)\u001b[0m\u001b[48;2;39;40;34m                                                                                                  \u001b[0m\n"
      ]
     },
     "metadata": {},
     "output_type": "display_data"
    },
    {
     "data": {
      "text/html": [
       "<pre style=\"white-space:pre;overflow-x:auto;line-height:normal;font-family:Menlo,'DejaVu Sans Mono',consolas,'Courier New',monospace\"><span style=\"color: #26a69a; text-decoration-color: #26a69a\">Your scene is ready for rendering, use:</span>\n",
       "\n",
       "<span style=\"color: #f92672; text-decoration-color: #f92672; background-color: #272822\">from</span><span style=\"color: #f8f8f2; text-decoration-color: #f8f8f2; background-color: #272822\"> vedo </span><span style=\"color: #f92672; text-decoration-color: #f92672; background-color: #272822\">import</span><span style=\"color: #f8f8f2; text-decoration-color: #f8f8f2; background-color: #272822\"> show</span><span style=\"background-color: #272822\">                                                                                              </span>\n",
       "<span style=\"color: #f8f8f2; text-decoration-color: #f8f8f2; background-color: #272822\">vedo</span><span style=\"color: #f92672; text-decoration-color: #f92672; background-color: #272822\">.</span><span style=\"color: #f8f8f2; text-decoration-color: #f8f8f2; background-color: #272822\">show(</span><span style=\"color: #f92672; text-decoration-color: #f92672; background-color: #272822\">*</span><span style=\"color: #f8f8f2; text-decoration-color: #f8f8f2; background-color: #272822\">scene</span><span style=\"color: #f92672; text-decoration-color: #f92672; background-color: #272822\">.</span><span style=\"color: #f8f8f2; text-decoration-color: #f8f8f2; background-color: #272822\">renderables)</span><span style=\"background-color: #272822\">                                                                                      </span>\n",
       "</pre>\n"
      ],
      "text/plain": [
       "\u001b[38;2;38;166;154mYour scene is ready for rendering, use:\u001b[0m\n",
       "\n",
       "\u001b[38;2;249;38;114;48;2;39;40;34mfrom\u001b[0m\u001b[38;2;248;248;242;48;2;39;40;34m \u001b[0m\u001b[38;2;248;248;242;48;2;39;40;34mvedo\u001b[0m\u001b[38;2;248;248;242;48;2;39;40;34m \u001b[0m\u001b[38;2;249;38;114;48;2;39;40;34mimport\u001b[0m\u001b[38;2;248;248;242;48;2;39;40;34m \u001b[0m\u001b[38;2;248;248;242;48;2;39;40;34mshow\u001b[0m\u001b[48;2;39;40;34m                                                                                              \u001b[0m\n",
       "\u001b[38;2;248;248;242;48;2;39;40;34mvedo\u001b[0m\u001b[38;2;249;38;114;48;2;39;40;34m.\u001b[0m\u001b[38;2;248;248;242;48;2;39;40;34mshow\u001b[0m\u001b[38;2;248;248;242;48;2;39;40;34m(\u001b[0m\u001b[38;2;249;38;114;48;2;39;40;34m*\u001b[0m\u001b[38;2;248;248;242;48;2;39;40;34mscene\u001b[0m\u001b[38;2;249;38;114;48;2;39;40;34m.\u001b[0m\u001b[38;2;248;248;242;48;2;39;40;34mrenderables\u001b[0m\u001b[38;2;248;248;242;48;2;39;40;34m)\u001b[0m\u001b[48;2;39;40;34m                                                                                      \u001b[0m\n"
      ]
     },
     "metadata": {},
     "output_type": "display_data"
    }
   ],
   "source": [
    "import random\n",
    "scene = Scene(title=\"Labelled cells\")\n",
    "\n",
    "# Get a numpy array with (fake) coordinates of some labelled cells\n",
    "mos = scene.add_brain_region(\"MOs\", alpha=0.15)\n",
    "coordinates = get_n_random_points_in_region(mos, 2000)\n",
    "\n",
    "# Add to scene\n",
    "scene.add(Points(coordinates, name=\"CELLS\", colors=\"steelblue\"))\n",
    "scene.jupyter = True\n",
    "# render\n",
    "scene.content\n",
    "scene.render()"
   ]
  },
  {
   "cell_type": "code",
   "execution_count": 43,
   "metadata": {},
   "outputs": [
    {
     "data": {
      "text/html": [
       "<pre style=\"white-space:pre;overflow-x:auto;line-height:normal;font-family:Menlo,'DejaVu Sans Mono',consolas,'Courier New',monospace\"></pre>\n"
      ],
      "text/plain": []
     },
     "metadata": {},
     "output_type": "display_data"
    },
    {
     "data": {
      "text/plain": [
       "\n",
       "\u001b[1;35marray\u001b[0m\u001b[1m(\u001b[0m\u001b[1m[\u001b[0m\u001b[1m[\u001b[0m\u001b[1;36m5192\u001b[0m., \u001b[1;36m1040\u001b[0m., \u001b[1;36m6347\u001b[0m.\u001b[1m]\u001b[0m,\n",
       "       \u001b[1m[\u001b[0m\u001b[1;36m5066\u001b[0m.,  \u001b[1;36m982\u001b[0m., \u001b[1;36m4884\u001b[0m.\u001b[1m]\u001b[0m,\n",
       "       \u001b[1m[\u001b[0m\u001b[1;36m2931\u001b[0m., \u001b[1;36m2385\u001b[0m., \u001b[1;36m3051\u001b[0m.\u001b[1m]\u001b[0m,\n",
       "       \u001b[33m...\u001b[0m,\n",
       "       \u001b[1m[\u001b[0m\u001b[1;36m2786\u001b[0m., \u001b[1;36m3352\u001b[0m., \u001b[1;36m3516\u001b[0m.\u001b[1m]\u001b[0m,\n",
       "       \u001b[1m[\u001b[0m\u001b[1;36m4043\u001b[0m., \u001b[1;36m2764\u001b[0m., \u001b[1;36m7258\u001b[0m.\u001b[1m]\u001b[0m,\n",
       "       \u001b[1m[\u001b[0m\u001b[1;36m2792\u001b[0m., \u001b[1;36m1902\u001b[0m., \u001b[1;36m7110\u001b[0m.\u001b[1m]\u001b[0m\u001b[1m]\u001b[0m, \u001b[33mdtype\u001b[0m=\u001b[35mfloat32\u001b[0m\u001b[1m)\u001b[0m"
      ]
     },
     "execution_count": 43,
     "metadata": {},
     "output_type": "execute_result"
    }
   ],
   "source": [
    "coordinates"
   ]
  },
  {
   "cell_type": "code",
   "execution_count": 4,
   "metadata": {},
   "outputs": [
    {
     "data": {
      "text/html": [
       "<pre style=\"white-space:pre;overflow-x:auto;line-height:normal;font-family:Menlo,'DejaVu Sans Mono',consolas,'Courier New',monospace\"><span style=\"color: #fb8c00; text-decoration-color: #fb8c00\">Cannot run function </span><span style=\"color: #ff7043; text-decoration-color: #ff7043; font-weight: bold\">add_silhouette</span><span style=\"color: #fb8c00; text-decoration-color: #fb8c00\"> in a jupyter notebook</span> <span style=\"color: #fb8c00; text-decoration-color: #fb8c00\">Try setting the correct backend before creating your </span>\n",
       "<span style=\"color: #fb8c00; text-decoration-color: #fb8c00\">scene:</span>\n",
       "\n",
       "<span style=\"color: #f92672; text-decoration-color: #f92672; background-color: #272822\">from</span><span style=\"color: #f8f8f2; text-decoration-color: #f8f8f2; background-color: #272822\"> vedo </span><span style=\"color: #f92672; text-decoration-color: #f92672; background-color: #272822\">import</span><span style=\"color: #f8f8f2; text-decoration-color: #f8f8f2; background-color: #272822\"> embedWindow</span><span style=\"background-color: #272822\">                                                                                       </span>\n",
       "<span style=\"color: #f8f8f2; text-decoration-color: #f8f8f2; background-color: #272822\">embedWindow(</span><span style=\"color: #66d9ef; text-decoration-color: #66d9ef; background-color: #272822\">None</span><span style=\"color: #f8f8f2; text-decoration-color: #f8f8f2; background-color: #272822\">)</span><span style=\"background-color: #272822\">                                                                                                  </span>\n",
       "</pre>\n"
      ],
      "text/plain": [
       "\u001b[38;2;251;140;0mCannot run function \u001b[0m\u001b[1;38;2;255;112;67madd_silhouette\u001b[0m\u001b[38;2;251;140;0m in a jupyter notebook\u001b[0m \u001b[38;2;251;140;0mTry setting the correct backend before creating your \u001b[0m\n",
       "\u001b[38;2;251;140;0mscene:\u001b[0m\n",
       "\n",
       "\u001b[38;2;249;38;114;48;2;39;40;34mfrom\u001b[0m\u001b[38;2;248;248;242;48;2;39;40;34m \u001b[0m\u001b[38;2;248;248;242;48;2;39;40;34mvedo\u001b[0m\u001b[38;2;248;248;242;48;2;39;40;34m \u001b[0m\u001b[38;2;249;38;114;48;2;39;40;34mimport\u001b[0m\u001b[38;2;248;248;242;48;2;39;40;34m \u001b[0m\u001b[38;2;248;248;242;48;2;39;40;34membedWindow\u001b[0m\u001b[48;2;39;40;34m                                                                                       \u001b[0m\n",
       "\u001b[38;2;248;248;242;48;2;39;40;34membedWindow\u001b[0m\u001b[38;2;248;248;242;48;2;39;40;34m(\u001b[0m\u001b[38;2;102;217;239;48;2;39;40;34mNone\u001b[0m\u001b[38;2;248;248;242;48;2;39;40;34m)\u001b[0m\u001b[48;2;39;40;34m                                                                                                  \u001b[0m\n"
      ]
     },
     "metadata": {},
     "output_type": "display_data"
    }
   ],
   "source": [
    "#scene.jupyter = True\n",
    "scene.add_silhouette(act)"
   ]
  },
  {
   "cell_type": "code",
   "execution_count": 46,
   "metadata": {},
   "outputs": [],
   "source": [
    "scene.jupyter = True"
   ]
  },
  {
   "cell_type": "code",
   "execution_count": 1,
   "metadata": {},
   "outputs": [
    {
     "ename": "NameError",
     "evalue": "name 'scene' is not defined",
     "output_type": "error",
     "traceback": [
      "\u001b[0;31m---------------------------------------------------------------------------\u001b[0m",
      "\u001b[0;31mNameError\u001b[0m                                 Traceback (most recent call last)",
      "Cell \u001b[0;32mIn[1], line 1\u001b[0m\n\u001b[0;32m----> 1\u001b[0m \u001b[43mscene\u001b[49m\u001b[38;5;241m.\u001b[39mrender()\n",
      "\u001b[0;31mNameError\u001b[0m: name 'scene' is not defined"
     ]
    }
   ],
   "source": [
    "\n",
    "scene.render()"
   ]
  },
  {
   "cell_type": "code",
   "execution_count": 48,
   "metadata": {},
   "outputs": [
    {
     "name": "stderr",
     "output_type": "stream",
     "text": [
      "/camp/home/turnerb/.conda/envs/MAPseq_processing_py39/lib/python3.9/site-packages/traittypes/traittypes.py:97: UserWarning: Given trait value dtype \"float64\" does not match required type \"float32\". A coerced copy has been created.\n",
      "  warnings.warn(\n"
     ]
    }
   ],
   "source": [
    "from vedo import show                                                                                              \n",
    "vedo.show(*scene.renderables)"
   ]
  },
  {
   "cell_type": "code",
   "execution_count": null,
   "metadata": {},
   "outputs": [
    {
     "ename": "",
     "evalue": "",
     "output_type": "error",
     "traceback": [
      "\u001b[1;31mThe Kernel crashed while executing code in the the current cell or a previous cell. Please review the code in the cell(s) to identify a possible cause of the failure. Click <a href='https://aka.ms/vscodeJupyterKernelCrash'>here</a> for more info. View Jupyter <a href='command:jupyter.viewOutput'>log</a> for further details."
     ]
    }
   ],
   "source": [
    "popup_scene = Scene(atlas_name='allen_mouse_50um', title='popup')\n",
    "\n",
    "popup_scene.add_brain_region('VISp')\n",
    "# Make sure it gets embedded in the window\n",
    "popup_scene.jupyter = True\n",
    "popup_scene.render()  # press 'Esc' to close\n",
    "from vedo import Plotter  # <- this will be used to render an embedded scene \n",
    "plt = Plotter()\n",
    "plt.show(*popup_scene.renderables)"
   ]
  },
  {
   "cell_type": "code",
   "execution_count": 6,
   "metadata": {},
   "outputs": [],
   "source": [
    "mouse = 'FIAA45.6a'\n",
    "lcm_directory = pathlib.Path(\n",
    "   f\"/camp/lab/znamenskiyp/home/shared/projects/turnerb_A1_MAPseq/{mouse}/LCM\"\n",
    ")\n",
    "ROI_3D = np.load(lcm_directory / \"ROI_3D_25.npy\")"
   ]
  },
  {
   "cell_type": "code",
   "execution_count": 8,
   "metadata": {},
   "outputs": [
    {
     "ename": "",
     "evalue": "",
     "output_type": "error",
     "traceback": [
      "\u001b[1;31mThe Kernel crashed while executing code in the the current cell or a previous cell. Please review the code in the cell(s) to identify a possible cause of the failure. Click <a href='https://aka.ms/vscodeJupyterKernelCrash'>here</a> for more info. View Jupyter <a href='command:jupyter.viewOutput'>log</a> for further details."
     ]
    }
   ],
   "source": [
    "from brainrender import Scene, actors\n",
    "scene = Scene(atlas_name='allen_mouse_25um')\n",
    "scene.add(actors.Volume(ROI_3D))"
   ]
  },
  {
   "cell_type": "code",
   "execution_count": 15,
   "metadata": {},
   "outputs": [
    {
     "ename": "AttributeError",
     "evalue": "module 'matplotlib' has no attribute 'colormaps'",
     "output_type": "error",
     "traceback": [
      "\u001b[0;31m---------------------------------------------------------------------------\u001b[0m",
      "\u001b[0;31mAttributeError\u001b[0m                            Traceback (most recent call last)",
      "Cell \u001b[0;32mIn[15], line 2\u001b[0m\n\u001b[1;32m      1\u001b[0m \u001b[38;5;28;01mfrom\u001b[39;00m \u001b[38;5;21;01mbrainrender\u001b[39;00m\u001b[38;5;21;01m.\u001b[39;00m\u001b[38;5;21;01mactors\u001b[39;00m \u001b[38;5;28;01mimport\u001b[39;00m Volume\n\u001b[0;32m----> 2\u001b[0m mesh \u001b[38;5;241m=\u001b[39m \u001b[43mVolume\u001b[49m\u001b[43m(\u001b[49m\u001b[43mROI_3D\u001b[49m\u001b[43m)\u001b[49m\u001b[38;5;241m.\u001b[39misosurface()\n\u001b[1;32m      3\u001b[0m scene \u001b[38;5;241m=\u001b[39m Scene()\n\u001b[1;32m      4\u001b[0m scene\u001b[38;5;241m.\u001b[39madd(mesh)\n",
      "File \u001b[0;32m~/.conda/envs/MAPseq_processing_py39/lib/python3.9/site-packages/brainrender/actors/volume.py:49\u001b[0m, in \u001b[0;36mVolume.__init__\u001b[0;34m(self, griddata, voxel_size, cmap, min_quantile, min_value, name, br_class, as_surface, **volume_kwargs)\u001b[0m\n\u001b[1;32m     46\u001b[0m color \u001b[38;5;241m=\u001b[39m volume_kwargs\u001b[38;5;241m.\u001b[39mpop(\u001b[38;5;124m\"\u001b[39m\u001b[38;5;124mc\u001b[39m\u001b[38;5;124m\"\u001b[39m, \u001b[38;5;124m\"\u001b[39m\u001b[38;5;124mviridis\u001b[39m\u001b[38;5;124m\"\u001b[39m)\n\u001b[1;32m     47\u001b[0m \u001b[38;5;28;01mif\u001b[39;00m \u001b[38;5;28misinstance\u001b[39m(griddata, np\u001b[38;5;241m.\u001b[39mndarray):\n\u001b[1;32m     48\u001b[0m     \u001b[38;5;66;03m# create volume from data\u001b[39;00m\n\u001b[0;32m---> 49\u001b[0m     mesh \u001b[38;5;241m=\u001b[39m \u001b[38;5;28;43mself\u001b[39;49m\u001b[38;5;241;43m.\u001b[39;49m\u001b[43m_from_numpy\u001b[49m\u001b[43m(\u001b[49m\n\u001b[1;32m     50\u001b[0m \u001b[43m        \u001b[49m\u001b[43mgriddata\u001b[49m\u001b[43m,\u001b[49m\u001b[43m \u001b[49m\u001b[43mvoxel_size\u001b[49m\u001b[43m,\u001b[49m\u001b[43m \u001b[49m\u001b[43mcolor\u001b[49m\u001b[43m,\u001b[49m\u001b[43m \u001b[49m\u001b[38;5;241;43m*\u001b[39;49m\u001b[38;5;241;43m*\u001b[39;49m\u001b[43mvolume_kwargs\u001b[49m\n\u001b[1;32m     51\u001b[0m \u001b[43m    \u001b[49m\u001b[43m)\u001b[49m\n\u001b[1;32m     52\u001b[0m \u001b[38;5;28;01melif\u001b[39;00m \u001b[38;5;28misinstance\u001b[39m(griddata, (\u001b[38;5;28mstr\u001b[39m, Path)):\n\u001b[1;32m     53\u001b[0m     \u001b[38;5;66;03m# create from .npy file\u001b[39;00m\n\u001b[1;32m     54\u001b[0m     mesh \u001b[38;5;241m=\u001b[39m \u001b[38;5;28mself\u001b[39m\u001b[38;5;241m.\u001b[39m_from_file(\n\u001b[1;32m     55\u001b[0m         griddata, voxel_size, color, \u001b[38;5;241m*\u001b[39m\u001b[38;5;241m*\u001b[39mvolume_kwargs\n\u001b[1;32m     56\u001b[0m     )\n",
      "File \u001b[0;32m~/.conda/envs/MAPseq_processing_py39/lib/python3.9/site-packages/brainrender/actors/volume.py:80\u001b[0m, in \u001b[0;36mVolume._from_numpy\u001b[0;34m(self, griddata, voxel_size, color, **volume_kwargs)\u001b[0m\n\u001b[1;32m     76\u001b[0m \u001b[38;5;28;01mdef\u001b[39;00m \u001b[38;5;21m_from_numpy\u001b[39m(\u001b[38;5;28mself\u001b[39m, griddata, voxel_size, color, \u001b[38;5;241m*\u001b[39m\u001b[38;5;241m*\u001b[39mvolume_kwargs):\n\u001b[1;32m     77\u001b[0m \u001b[38;5;250m    \u001b[39m\u001b[38;5;124;03m\"\"\"\u001b[39;00m\n\u001b[1;32m     78\u001b[0m \u001b[38;5;124;03m    Creates a vedo.Volume actor from a 3D numpy array with volume data.\u001b[39;00m\n\u001b[1;32m     79\u001b[0m \u001b[38;5;124;03m    \"\"\"\u001b[39;00m\n\u001b[0;32m---> 80\u001b[0m     vvol \u001b[38;5;241m=\u001b[39m \u001b[43mVedoVolume\u001b[49m\u001b[43m(\u001b[49m\n\u001b[1;32m     81\u001b[0m \u001b[43m        \u001b[49m\u001b[43mgriddata\u001b[49m\u001b[43m,\u001b[49m\n\u001b[1;32m     82\u001b[0m \u001b[43m        \u001b[49m\u001b[43mspacing\u001b[49m\u001b[38;5;241;43m=\u001b[39;49m\u001b[43m[\u001b[49m\u001b[43mvoxel_size\u001b[49m\u001b[43m,\u001b[49m\u001b[43m \u001b[49m\u001b[43mvoxel_size\u001b[49m\u001b[43m,\u001b[49m\u001b[43m \u001b[49m\u001b[43mvoxel_size\u001b[49m\u001b[43m]\u001b[49m\u001b[43m,\u001b[49m\n\u001b[1;32m     83\u001b[0m \u001b[43m        \u001b[49m\u001b[38;5;241;43m*\u001b[39;49m\u001b[38;5;241;43m*\u001b[39;49m\u001b[43mvolume_kwargs\u001b[49m\u001b[43m,\u001b[49m\n\u001b[1;32m     84\u001b[0m \u001b[43m    \u001b[49m\u001b[43m)\u001b[49m\n\u001b[1;32m     85\u001b[0m     vvol\u001b[38;5;241m.\u001b[39mcmap(color)\n\u001b[1;32m     86\u001b[0m     \u001b[38;5;66;03m# The transformation below is ALREADY applied\u001b[39;00m\n\u001b[1;32m     87\u001b[0m     \u001b[38;5;66;03m# to vedo.Volume instances in render.py\u001b[39;00m\n\u001b[1;32m     88\u001b[0m     \u001b[38;5;66;03m# so we should not apply it here.\u001b[39;00m\n\u001b[0;32m   (...)\u001b[0m\n\u001b[1;32m     91\u001b[0m     \u001b[38;5;66;03m# mtx = [[1, 0, 0, 0], [0, 1, 0, 0], [0, 0, -1, 0], [0, 0, 0, 1]]\u001b[39;00m\n\u001b[1;32m     92\u001b[0m     \u001b[38;5;66;03m# vvol.apply_transform(mtx)\u001b[39;00m\n",
      "File \u001b[0;32m~/.conda/envs/MAPseq_processing_py39/lib/python3.9/site-packages/vedo/volume.py:184\u001b[0m, in \u001b[0;36mVolume.__init__\u001b[0;34m(self, inputobj, dims, origin, spacing)\u001b[0m\n\u001b[1;32m    182\u001b[0m \u001b[38;5;28mself\u001b[39m\u001b[38;5;241m.\u001b[39mproperties\u001b[38;5;241m.\u001b[39mSetShade(\u001b[38;5;28;01mTrue\u001b[39;00m)\n\u001b[1;32m    183\u001b[0m \u001b[38;5;28mself\u001b[39m\u001b[38;5;241m.\u001b[39mproperties\u001b[38;5;241m.\u001b[39mSetInterpolationType(\u001b[38;5;241m1\u001b[39m)\n\u001b[0;32m--> 184\u001b[0m \u001b[38;5;28;43mself\u001b[39;49m\u001b[38;5;241;43m.\u001b[39;49m\u001b[43mcmap\u001b[49m\u001b[43m(\u001b[49m\u001b[38;5;124;43m\"\u001b[39;49m\u001b[38;5;124;43mRdBu_r\u001b[39;49m\u001b[38;5;124;43m\"\u001b[39;49m\u001b[43m)\u001b[49m\n\u001b[1;32m    185\u001b[0m \u001b[38;5;28mself\u001b[39m\u001b[38;5;241m.\u001b[39malpha([\u001b[38;5;241m0.0\u001b[39m, \u001b[38;5;241m0.0\u001b[39m, \u001b[38;5;241m0.2\u001b[39m, \u001b[38;5;241m0.4\u001b[39m, \u001b[38;5;241m0.8\u001b[39m, \u001b[38;5;241m1.0\u001b[39m])\n\u001b[1;32m    186\u001b[0m \u001b[38;5;28mself\u001b[39m\u001b[38;5;241m.\u001b[39malpha_gradient(\u001b[38;5;28;01mNone\u001b[39;00m)\n",
      "File \u001b[0;32m~/.conda/envs/MAPseq_processing_py39/lib/python3.9/site-packages/vedo/visual.py:2708\u001b[0m, in \u001b[0;36mVolumeVisual.cmap\u001b[0;34m(self, c, alpha, vmin, vmax)\u001b[0m\n\u001b[1;32m   2697\u001b[0m \u001b[38;5;28;01mdef\u001b[39;00m \u001b[38;5;21mcmap\u001b[39m(\u001b[38;5;28mself\u001b[39m, c, alpha\u001b[38;5;241m=\u001b[39m\u001b[38;5;28;01mNone\u001b[39;00m, vmin\u001b[38;5;241m=\u001b[39m\u001b[38;5;28;01mNone\u001b[39;00m, vmax\u001b[38;5;241m=\u001b[39m\u001b[38;5;28;01mNone\u001b[39;00m):\n\u001b[1;32m   2698\u001b[0m \u001b[38;5;250m    \u001b[39m\u001b[38;5;124;03m\"\"\"Same as `color()`.\u001b[39;00m\n\u001b[1;32m   2699\u001b[0m \n\u001b[1;32m   2700\u001b[0m \u001b[38;5;124;03m    Arguments:\u001b[39;00m\n\u001b[0;32m   (...)\u001b[0m\n\u001b[1;32m   2706\u001b[0m \u001b[38;5;124;03m            force the max of the scalar range to be this value\u001b[39;00m\n\u001b[1;32m   2707\u001b[0m \u001b[38;5;124;03m    \"\"\"\u001b[39;00m\n\u001b[0;32m-> 2708\u001b[0m     \u001b[38;5;28;01mreturn\u001b[39;00m \u001b[38;5;28;43mself\u001b[39;49m\u001b[38;5;241;43m.\u001b[39;49m\u001b[43mcolor\u001b[49m\u001b[43m(\u001b[49m\u001b[43mc\u001b[49m\u001b[43m,\u001b[49m\u001b[43m \u001b[49m\u001b[43malpha\u001b[49m\u001b[43m,\u001b[49m\u001b[43m \u001b[49m\u001b[43mvmin\u001b[49m\u001b[43m,\u001b[49m\u001b[43m \u001b[49m\u001b[43mvmax\u001b[49m\u001b[43m)\u001b[49m\n",
      "File \u001b[0;32m~/.conda/envs/MAPseq_processing_py39/lib/python3.9/site-packages/vedo/visual.py:477\u001b[0m, in \u001b[0;36mCommonVisual.color\u001b[0;34m(self, col, alpha, vmin, vmax)\u001b[0m\n\u001b[1;32m    475\u001b[0m     \u001b[38;5;28;01melse\u001b[39;00m:  \u001b[38;5;66;03m# assume it's a colormap\u001b[39;00m\n\u001b[1;32m    476\u001b[0m         \u001b[38;5;28;01mfor\u001b[39;00m x \u001b[38;5;129;01min\u001b[39;00m np\u001b[38;5;241m.\u001b[39mlinspace(vmin, vmax, num\u001b[38;5;241m=\u001b[39m\u001b[38;5;241m64\u001b[39m, endpoint\u001b[38;5;241m=\u001b[39m\u001b[38;5;28;01mTrue\u001b[39;00m):\n\u001b[0;32m--> 477\u001b[0m             r, g, b \u001b[38;5;241m=\u001b[39m \u001b[43mcolors\u001b[49m\u001b[38;5;241;43m.\u001b[39;49m\u001b[43mcolor_map\u001b[49m\u001b[43m(\u001b[49m\u001b[43mx\u001b[49m\u001b[43m,\u001b[49m\u001b[43m \u001b[49m\u001b[43mname\u001b[49m\u001b[38;5;241;43m=\u001b[39;49m\u001b[43mcol\u001b[49m\u001b[43m,\u001b[49m\u001b[43m \u001b[49m\u001b[43mvmin\u001b[49m\u001b[38;5;241;43m=\u001b[39;49m\u001b[43mvmin\u001b[49m\u001b[43m,\u001b[49m\u001b[43m \u001b[49m\u001b[43mvmax\u001b[49m\u001b[38;5;241;43m=\u001b[39;49m\u001b[43mvmax\u001b[49m\u001b[43m)\u001b[49m\n\u001b[1;32m    478\u001b[0m             ctf\u001b[38;5;241m.\u001b[39mAddRGBPoint(x, r, g, b)\n\u001b[1;32m    479\u001b[0m \u001b[38;5;28;01melif\u001b[39;00m \u001b[38;5;28misinstance\u001b[39m(col, \u001b[38;5;28mint\u001b[39m):\n",
      "File \u001b[0;32m~/.conda/envs/MAPseq_processing_py39/lib/python3.9/site-packages/vedo/colors.py:914\u001b[0m, in \u001b[0;36mcolor_map\u001b[0;34m(value, name, vmin, vmax)\u001b[0m\n\u001b[1;32m    911\u001b[0m \u001b[38;5;28;01mif\u001b[39;00m _has_matplotlib:\n\u001b[1;32m    912\u001b[0m     \u001b[38;5;66;03m# matplotlib is available, use it! ###########################\u001b[39;00m\n\u001b[1;32m    913\u001b[0m     \u001b[38;5;28;01mif\u001b[39;00m \u001b[38;5;28misinstance\u001b[39m(name, \u001b[38;5;28mstr\u001b[39m):\n\u001b[0;32m--> 914\u001b[0m         mp \u001b[38;5;241m=\u001b[39m \u001b[43mmatplotlib\u001b[49m\u001b[38;5;241;43m.\u001b[39;49m\u001b[43mcolormaps\u001b[49m[name]\n\u001b[1;32m    915\u001b[0m     \u001b[38;5;28;01melse\u001b[39;00m:\n\u001b[1;32m    916\u001b[0m         mp \u001b[38;5;241m=\u001b[39m name  \u001b[38;5;66;03m# assume matplotlib.colors.LinearSegmentedColormap\u001b[39;00m\n",
      "\u001b[0;31mAttributeError\u001b[0m: module 'matplotlib' has no attribute 'colormaps'"
     ]
    }
   ],
   "source": [
    "from brainrender.actors import Volume\n",
    "mesh = Volume(ROI_3D).isosurface()\n",
    "scene = Scene()\n",
    "scene.add(mesh)\n",
    "scene.render()  # press 'Esc' to close\n",
    "from vedo import Plotter  # <- this will be used to render an embedded scene \n",
    "plt = Plotter()\n",
    "plt.show(*scene.renderables)"
   ]
  },
  {
   "cell_type": "code",
   "execution_count": 20,
   "metadata": {},
   "outputs": [],
   "source": [
    "scene = Scene(atlas_name='allen_mouse_25um')"
   ]
  },
  {
   "cell_type": "code",
   "execution_count": 21,
   "metadata": {},
   "outputs": [],
   "source": [
    "from vedo import Volume\n",
    "from brainrender import Scene"
   ]
  },
  {
   "cell_type": "code",
   "execution_count": 5,
   "metadata": {},
   "outputs": [],
   "source": [
    "from matplotlib import colormaps"
   ]
  },
  {
   "cell_type": "code",
   "execution_count": 26,
   "metadata": {},
   "outputs": [
    {
     "ename": "AttributeError",
     "evalue": "module 'matplotlib' has no attribute 'colormaps'",
     "output_type": "error",
     "traceback": [
      "\u001b[0;31m---------------------------------------------------------------------------\u001b[0m",
      "\u001b[0;31mAttributeError\u001b[0m                            Traceback (most recent call last)",
      "Cell \u001b[0;32mIn[26], line 1\u001b[0m\n\u001b[0;32m----> 1\u001b[0m vol \u001b[38;5;241m=\u001b[39m \u001b[43mVolume\u001b[49m\u001b[43m(\u001b[49m\u001b[43mROI_3D\u001b[49m\u001b[43m)\u001b[49m\n\u001b[1;32m      2\u001b[0m mesh \u001b[38;5;241m=\u001b[39m vol\u001b[38;5;241m.\u001b[39misosurface()\n",
      "File \u001b[0;32m~/.conda/envs/MAPseq_processing_py39/lib/python3.9/site-packages/vedo/volume.py:184\u001b[0m, in \u001b[0;36mVolume.__init__\u001b[0;34m(self, inputobj, dims, origin, spacing)\u001b[0m\n\u001b[1;32m    182\u001b[0m \u001b[38;5;28mself\u001b[39m\u001b[38;5;241m.\u001b[39mproperties\u001b[38;5;241m.\u001b[39mSetShade(\u001b[38;5;28;01mTrue\u001b[39;00m)\n\u001b[1;32m    183\u001b[0m \u001b[38;5;28mself\u001b[39m\u001b[38;5;241m.\u001b[39mproperties\u001b[38;5;241m.\u001b[39mSetInterpolationType(\u001b[38;5;241m1\u001b[39m)\n\u001b[0;32m--> 184\u001b[0m \u001b[38;5;28;43mself\u001b[39;49m\u001b[38;5;241;43m.\u001b[39;49m\u001b[43mcmap\u001b[49m\u001b[43m(\u001b[49m\u001b[38;5;124;43m\"\u001b[39;49m\u001b[38;5;124;43mRdBu_r\u001b[39;49m\u001b[38;5;124;43m\"\u001b[39;49m\u001b[43m)\u001b[49m\n\u001b[1;32m    185\u001b[0m \u001b[38;5;28mself\u001b[39m\u001b[38;5;241m.\u001b[39malpha([\u001b[38;5;241m0.0\u001b[39m, \u001b[38;5;241m0.0\u001b[39m, \u001b[38;5;241m0.2\u001b[39m, \u001b[38;5;241m0.4\u001b[39m, \u001b[38;5;241m0.8\u001b[39m, \u001b[38;5;241m1.0\u001b[39m])\n\u001b[1;32m    186\u001b[0m \u001b[38;5;28mself\u001b[39m\u001b[38;5;241m.\u001b[39malpha_gradient(\u001b[38;5;28;01mNone\u001b[39;00m)\n",
      "File \u001b[0;32m~/.conda/envs/MAPseq_processing_py39/lib/python3.9/site-packages/vedo/visual.py:2708\u001b[0m, in \u001b[0;36mVolumeVisual.cmap\u001b[0;34m(self, c, alpha, vmin, vmax)\u001b[0m\n\u001b[1;32m   2697\u001b[0m \u001b[38;5;28;01mdef\u001b[39;00m \u001b[38;5;21mcmap\u001b[39m(\u001b[38;5;28mself\u001b[39m, c, alpha\u001b[38;5;241m=\u001b[39m\u001b[38;5;28;01mNone\u001b[39;00m, vmin\u001b[38;5;241m=\u001b[39m\u001b[38;5;28;01mNone\u001b[39;00m, vmax\u001b[38;5;241m=\u001b[39m\u001b[38;5;28;01mNone\u001b[39;00m):\n\u001b[1;32m   2698\u001b[0m \u001b[38;5;250m    \u001b[39m\u001b[38;5;124;03m\"\"\"Same as `color()`.\u001b[39;00m\n\u001b[1;32m   2699\u001b[0m \n\u001b[1;32m   2700\u001b[0m \u001b[38;5;124;03m    Arguments:\u001b[39;00m\n\u001b[0;32m   (...)\u001b[0m\n\u001b[1;32m   2706\u001b[0m \u001b[38;5;124;03m            force the max of the scalar range to be this value\u001b[39;00m\n\u001b[1;32m   2707\u001b[0m \u001b[38;5;124;03m    \"\"\"\u001b[39;00m\n\u001b[0;32m-> 2708\u001b[0m     \u001b[38;5;28;01mreturn\u001b[39;00m \u001b[38;5;28;43mself\u001b[39;49m\u001b[38;5;241;43m.\u001b[39;49m\u001b[43mcolor\u001b[49m\u001b[43m(\u001b[49m\u001b[43mc\u001b[49m\u001b[43m,\u001b[49m\u001b[43m \u001b[49m\u001b[43malpha\u001b[49m\u001b[43m,\u001b[49m\u001b[43m \u001b[49m\u001b[43mvmin\u001b[49m\u001b[43m,\u001b[49m\u001b[43m \u001b[49m\u001b[43mvmax\u001b[49m\u001b[43m)\u001b[49m\n",
      "File \u001b[0;32m~/.conda/envs/MAPseq_processing_py39/lib/python3.9/site-packages/vedo/visual.py:477\u001b[0m, in \u001b[0;36mCommonVisual.color\u001b[0;34m(self, col, alpha, vmin, vmax)\u001b[0m\n\u001b[1;32m    475\u001b[0m     \u001b[38;5;28;01melse\u001b[39;00m:  \u001b[38;5;66;03m# assume it's a colormap\u001b[39;00m\n\u001b[1;32m    476\u001b[0m         \u001b[38;5;28;01mfor\u001b[39;00m x \u001b[38;5;129;01min\u001b[39;00m np\u001b[38;5;241m.\u001b[39mlinspace(vmin, vmax, num\u001b[38;5;241m=\u001b[39m\u001b[38;5;241m64\u001b[39m, endpoint\u001b[38;5;241m=\u001b[39m\u001b[38;5;28;01mTrue\u001b[39;00m):\n\u001b[0;32m--> 477\u001b[0m             r, g, b \u001b[38;5;241m=\u001b[39m \u001b[43mcolors\u001b[49m\u001b[38;5;241;43m.\u001b[39;49m\u001b[43mcolor_map\u001b[49m\u001b[43m(\u001b[49m\u001b[43mx\u001b[49m\u001b[43m,\u001b[49m\u001b[43m \u001b[49m\u001b[43mname\u001b[49m\u001b[38;5;241;43m=\u001b[39;49m\u001b[43mcol\u001b[49m\u001b[43m,\u001b[49m\u001b[43m \u001b[49m\u001b[43mvmin\u001b[49m\u001b[38;5;241;43m=\u001b[39;49m\u001b[43mvmin\u001b[49m\u001b[43m,\u001b[49m\u001b[43m \u001b[49m\u001b[43mvmax\u001b[49m\u001b[38;5;241;43m=\u001b[39;49m\u001b[43mvmax\u001b[49m\u001b[43m)\u001b[49m\n\u001b[1;32m    478\u001b[0m             ctf\u001b[38;5;241m.\u001b[39mAddRGBPoint(x, r, g, b)\n\u001b[1;32m    479\u001b[0m \u001b[38;5;28;01melif\u001b[39;00m \u001b[38;5;28misinstance\u001b[39m(col, \u001b[38;5;28mint\u001b[39m):\n",
      "File \u001b[0;32m~/.conda/envs/MAPseq_processing_py39/lib/python3.9/site-packages/vedo/colors.py:914\u001b[0m, in \u001b[0;36mcolor_map\u001b[0;34m(value, name, vmin, vmax)\u001b[0m\n\u001b[1;32m    911\u001b[0m \u001b[38;5;28;01mif\u001b[39;00m _has_matplotlib:\n\u001b[1;32m    912\u001b[0m     \u001b[38;5;66;03m# matplotlib is available, use it! ###########################\u001b[39;00m\n\u001b[1;32m    913\u001b[0m     \u001b[38;5;28;01mif\u001b[39;00m \u001b[38;5;28misinstance\u001b[39m(name, \u001b[38;5;28mstr\u001b[39m):\n\u001b[0;32m--> 914\u001b[0m         mp \u001b[38;5;241m=\u001b[39m \u001b[43mmatplotlib\u001b[49m\u001b[38;5;241;43m.\u001b[39;49m\u001b[43mcolormaps\u001b[49m[name]\n\u001b[1;32m    915\u001b[0m     \u001b[38;5;28;01melse\u001b[39;00m:\n\u001b[1;32m    916\u001b[0m         mp \u001b[38;5;241m=\u001b[39m name  \u001b[38;5;66;03m# assume matplotlib.colors.LinearSegmentedColormap\u001b[39;00m\n",
      "\u001b[0;31mAttributeError\u001b[0m: module 'matplotlib' has no attribute 'colormaps'"
     ]
    }
   ],
   "source": [
    "vol = Volume(ROI_3D)\n",
    "mesh = vol.isosurface()\n"
   ]
  }
 ],
 "metadata": {
  "kernelspec": {
   "display_name": "MAPseq_processing_py39",
   "language": "python",
   "name": "python3"
  },
  "language_info": {
   "codemirror_mode": {
    "name": "ipython",
    "version": 3
   },
   "file_extension": ".py",
   "mimetype": "text/x-python",
   "name": "python",
   "nbconvert_exporter": "python",
   "pygments_lexer": "ipython3",
   "version": "3.9.0"
  }
 },
 "nbformat": 4,
 "nbformat_minor": 2
}
