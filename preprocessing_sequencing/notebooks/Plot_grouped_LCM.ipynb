{
 "cells": [
  {
   "cell_type": "code",
   "execution_count": null,
   "id": "758e03b3",
   "metadata": {},
   "outputs": [],
   "source": [
    "import pandas as pd\n",
    "import numpy as np\n",
    "import matplotlib.pyplot as plt\n",
    "from matplotlib.colors import LogNorm, Normalize\n",
    "import seaborn as sb\n",
    "import os\n",
    "import sys\n",
    "sys.setrecursionlimit(1000000)\n",
    "from scipy.stats import spearmanr\n",
    "import pathlib\n"
   ]
  },
  {
   "cell_type": "code",
   "execution_count": null,
   "id": "cbae9e4b",
   "metadata": {},
   "outputs": [],
   "source": [
    "directory = pathlib.PurePath('/camp/lab/znamenskiyp/home/shared/projects/turnerb_MAPseq/A1_MAPseq/FIAA32.6a/Sequencing/Processed_data/BC_split/temp/increased_cutoff/')\n",
    "barcodes_across_sample = pd.read_pickle(directory/'raw_barcodes_across_sample_higher_cutoff.pkl')\n",
    "#load registration files containing volume of each brain area within each sample and which RT primer corresponds to which sample name\n",
    "lcm_reg_dir = pathlib.PurePath('/nemo/lab/znamenskiyp/home/shared/code/MAPseq_processing/AC_MAPseq/Brain1_FIAA32.6a/LCM_registration')\n",
    "#_3dareas = '/camp/lab/znamenskiyp/home/shared/code/MAPseq_processing/AC_MAPseq/Brain1_FIAA32.6a/LCM_registration/3D_areas_in_sample.csv'\n",
    "areas = pd.read_csv(lcm_reg_dir/'3d_areas.csv')\n",
    "RTtosample = pd.read_csv(lcm_reg_dir/'RTprimer_tosample.csv')\n",
    "areas = areas.merge(RTtosample, how='inner', on='sample')\n",
    "areas.sort_values(\"RT_primer\", inplace=True)"
   ]
  },
  {
   "cell_type": "code",
   "execution_count": null,
   "id": "17b500c3",
   "metadata": {},
   "outputs": [],
   "source": [
    "#spike-in normalisation, generate table of spike counts per sample\n",
    "spike_counts = pd.DataFrame(columns=[\"sample\", \"spike_count\"])\n",
    "for sample in os.listdir(directory):\n",
    "    if sample.startswith(\"spikecounts\"):\n",
    "        sample_name = sample.split(\"spikecounts_\", 1)\n",
    "        sample_name = sample_name[1][: -len(\".csv\")]\n",
    "        sample_num = float(sample_name[2 :])\n",
    "        sample_reading = pd.read_csv(directory/sample)\n",
    "        sample_reading[\"counts\"] = sample_reading[\"counts\"].astype(\"int\")\n",
    "        sum_counts = sample_reading[\"counts\"].sum()\n",
    "        new_row = pd.DataFrame(\n",
    "            {\"sample\": sample_num, \"spike_count\": sum_counts}, index=[0]\n",
    "        )\n",
    "        spike_counts = pd.concat([spike_counts, new_row])\n"
   ]
  },
  {
   "cell_type": "code",
   "execution_count": null,
   "id": "824eec64",
   "metadata": {},
   "outputs": [],
   "source": [
    "#drop samples that contain spike count less than 10, as RT likely failed for these samples\n",
    "min_spike = 1500\n",
    "spike_thresholded = spike_counts[spike_counts['spike_count'] >= min_spike]\n",
    "areas_dropped= areas[areas['RT_primer'].isin(spike_thresholded['sample']) == False].RT_primer\n",
    "areas= areas[areas['RT_primer'].isin(spike_thresholded['sample']) == True]\n",
    "barcodes_across_sample = barcodes_across_sample.drop(columns=np.array(areas_dropped))    "
   ]
  },
  {
   "cell_type": "code",
   "execution_count": null,
   "id": "8e5aedc2",
   "metadata": {},
   "outputs": [],
   "source": [
    "#also drop sample 5 that doesn't have reg info\n",
    "areas = areas.drop([4])\n",
    "barcodes_across_sample =barcodes_across_sample.drop(columns=[5])"
   ]
  },
  {
   "cell_type": "code",
   "execution_count": null,
   "id": "2af9c48f",
   "metadata": {},
   "outputs": [],
   "source": [
    "#now remove any barcodes with a count less than 1, then remove barcodes that don't have a count anywhere.\\\n",
    "barcodes_across_sample = barcodes_across_sample.replace(1,0)\n",
    "barcodes_across_sample.fillna(0,inplace=True)\n",
    "barcodes_across_sample = barcodes_across_sample.loc[~(barcodes_across_sample==0).all(axis=1)]\n"
   ]
  },
  {
   "cell_type": "code",
   "execution_count": null,
   "id": "883b99c7",
   "metadata": {},
   "outputs": [],
   "source": [
    "index=0\n",
    "for i in barcodes_across_sample.iloc[2]:\n",
    "    index =index +1\n",
    "    print(index, i)\n",
    "#areas.shape\n",
    "index=0\n",
    "for column in barcodes_across_sample.columns:\n",
    "    index = index+1\n",
    "    print(index, column)"
   ]
  },
  {
   "cell_type": "code",
   "execution_count": null,
   "id": "1389c8d9",
   "metadata": {},
   "outputs": [],
   "source": [
    "bla = barcodes_across_sample[[1, 2, 3, 4]]\n",
    "bla = bla.loc[~(bla==0).all(axis=1)]\n",
    "bla"
   ]
  },
  {
   "cell_type": "code",
   "execution_count": null,
   "id": "5d0ae6f2",
   "metadata": {},
   "outputs": [],
   "source": []
  },
  {
   "cell_type": "code",
   "execution_count": null,
   "id": "b90823c4",
   "metadata": {},
   "outputs": [],
   "source": [
    "#normalise counts by spike-in counts\n",
    "lowest = min(spike_thresholded[\"spike_count\"])\n",
    "spike_thresholded[\"normalisation_factor\"] = spike_thresholded[\"spike_count\"] / lowest\n",
    "#spike_thresholded= spike_thresholded.sort_values(\"sample\", inplace=True)\n",
    "spike_thresholded =spike_thresholded.set_index('sample')\n",
    "spike_thresholded.sort_index(inplace=True)\n",
    "norm = spike_thresholded['normalisation_factor'].T\n",
    "barcodes_across_sample_changed = barcodes_across_sample.div(norm, axis='columns')\n",
    "\n",
    "barcodes_across_sample_changed.fillna(0,inplace=True)\n",
    "#plt heatmap of barcode matrix after spike normalisation\n",
    "fig, ax = plt.subplots(figsize=(60, 10))\n",
    "sb.heatmap(barcodes_across_sample, cmap='Blues', norm=LogNorm())\n",
    "plt.show()"
   ]
  },
  {
   "cell_type": "code",
   "execution_count": null,
   "id": "2c236d13",
   "metadata": {},
   "outputs": [],
   "source": [
    "#label sample 29 as caudal striatum \n",
    "CStr = areas[areas['RT_primer']==29]\n",
    "CStr_val = CStr.sum(axis=1)-(CStr['RT_primer']+CStr['sample'])\n",
    "to_add = pd.DataFrame(columns=areas.columns)\n",
    "to_add['Cstr'] = CStr_val\n",
    "to_add =to_add.fillna(0)\n",
    "to_add"
   ]
  },
  {
   "cell_type": "code",
   "execution_count": null,
   "id": "a9d9b01e",
   "metadata": {},
   "outputs": [],
   "source": [
    "areas['Cstr'] = 0\n",
    "areas.update(to_add)"
   ]
  },
  {
   "cell_type": "code",
   "execution_count": null,
   "id": "a872ba32",
   "metadata": {
    "scrolled": false
   },
   "outputs": [],
   "source": []
  },
  {
   "cell_type": "code",
   "execution_count": null,
   "id": "1148bd65",
   "metadata": {},
   "outputs": [],
   "source": []
  },
  {
   "cell_type": "code",
   "execution_count": null,
   "id": "6f181023",
   "metadata": {},
   "outputs": [],
   "source": [
    "group_areas = {\n",
    "    'tectum': ['SCdg', 'SCdw', 'SCig', 'SCiw', 'SCop', 'SCsg', 'SCzo', 'ICc', 'ICd', 'ICe', 'NB'],\n",
    "    'thalamus': ['PoT', 'TH', 'MGm', 'MGv', 'MGd', 'LGd-co', 'LP', 'POL', 'PO', 'LD', 'VPL', 'PIL', 'Eth'],\n",
    "    'SS': ['SSp-bfd', 'SSp-ll', 'SSp-m', 'SSp-n', 'SSp-tr', 'SSp-ul', 'SSp-un', 'SSs'],\n",
    "    'M': ['MOs', 'MOp'],\n",
    "    'contra': areas.filter(like=\"Contra\").columns,\n",
    "    #'AudC': ['Contra-AUDd', 'Contra-AUDp', 'Contra-AUDv'],\n",
    "    #'VisC': ['Contra-VISa', 'Contra-VISam'],\n",
    "    'VisIP': ['VISa', 'VISal', 'VISam', 'VISl', 'VISp', 'VISpm', 'VISpor', 'VISrl', 'VISli', 'VISpl'],\n",
    "    'RStr': ['CP', 'STR', 'ACB'],\n",
    "    'pons': ['SOCm', 'SOCl', 'POR', 'PRNr', 'PRNc', 'TRN', 'P', 'P-mot', 'PG', 'NLL']\n",
    "}"
   ]
  },
  {
   "cell_type": "code",
   "execution_count": null,
   "id": "b2510a8c",
   "metadata": {},
   "outputs": [],
   "source": [
    "for group, columns in group_areas.items():\n",
    "    areas[group] = areas.filter(items=columns).sum(axis=1)\n",
    "    areas = areas.drop(columns, axis=1)"
   ]
  },
  {
   "cell_type": "code",
   "execution_count": null,
   "id": "d3cb271a",
   "metadata": {},
   "outputs": [],
   "source": [
    "areas_only = areas.drop(['sample', 'RT_primer', 'ar', 'bic', 'bsc', 'ccb', 'ccb', 'ccg', 'cing', 'cpd', 'csc', 'cst', 'ec', 'fa', 'fi',\n",
    "    'fiber tracts', 'fp', 'll', 'mcp', 'ml', 'onl', 'or', 'py', 'root', 'sctv', 'scwm', 'tb', 'CTXsp', 'act', 'alv', 'amc', 'cic', 'VL', 'MRN'], axis=1)"
   ]
  },
  {
   "cell_type": "code",
   "execution_count": null,
   "id": "b1caf16e",
   "metadata": {},
   "outputs": [],
   "source": [
    "areas_only = areas_only.loc[:, np.sum(areas_only, axis=0)>0]\n",
    "areas_matrix = areas_only.to_numpy()\n",
    "areas_matrix /= np.sum(areas_matrix, axis=0)"
   ]
  },
  {
   "cell_type": "code",
   "execution_count": null,
   "id": "89cb4e28",
   "metadata": {},
   "outputs": [],
   "source": [
    "areas_only"
   ]
  },
  {
   "cell_type": "code",
   "execution_count": null,
   "id": "e6df977c",
   "metadata": {},
   "outputs": [],
   "source": [
    "\n",
    "barcodes_across_sample.fillna(0,inplace=True)\n",
    "barcodes_matrix = barcodes_across_sample.to_numpy()\n",
    "barcodes_matrix[np.isnan(barcodes_matrix)] = 0\n",
    "total_projection_strength = np.sum(barcodes_matrix, axis=1)\n",
    "barcodes_matrix /= total_projection_strength[:, np.newaxis]\n",
    "\n",
    "barcodes_matrix = barcodes_matrix[total_projection_strength>0, :]"
   ]
  },
  {
   "cell_type": "code",
   "execution_count": null,
   "id": "a70391b1",
   "metadata": {},
   "outputs": [],
   "source": [
    "pd.DataFrame(barcodes_matrix)"
   ]
  },
  {
   "cell_type": "code",
   "execution_count": null,
   "id": "7f8371f4",
   "metadata": {},
   "outputs": [],
   "source": [
    "from sklearn.linear_model import LinearRegression, Lasso\n",
    "\n",
    "mdl = LinearRegression(fit_intercept=False, positive=True)\n",
    "mdl.fit(areas_matrix, barcodes_matrix.T)"
   ]
  },
  {
   "cell_type": "code",
   "execution_count": null,
   "id": "9327e078",
   "metadata": {},
   "outputs": [],
   "source": [
    "#raw, not spike normalised, with higher cutoff\n",
    "plt.figure(figsize=(20,70))\n",
    "df = pd.DataFrame(mdl.coef_[:15000,:], columns=areas_only.columns)\n",
    "sb.clustermap(df.T, vmax=0.1, dendrogram_ratio=[0.1, 0.1], yticklabels=True)"
   ]
  },
  {
   "cell_type": "code",
   "execution_count": null,
   "id": "96723532",
   "metadata": {},
   "outputs": [],
   "source": [
    "areas_comp = ['MOB', 'M', 'Cstr', 'RStr', 'tectum', 'thalamus', 'contra', 'VisIP', 'SS']\n",
    "areas_grouped = df[areas_comp]"
   ]
  },
  {
   "cell_type": "code",
   "execution_count": null,
   "id": "80b422e5",
   "metadata": {},
   "outputs": [],
   "source": []
  },
  {
   "cell_type": "code",
   "execution_count": null,
   "id": "fbf901ea",
   "metadata": {},
   "outputs": [],
   "source": [
    "areas_grouped = areas_grouped.loc[~(areas_grouped==0).all(axis=1)]"
   ]
  },
  {
   "cell_type": "code",
   "execution_count": null,
   "id": "a12d5103",
   "metadata": {},
   "outputs": [],
   "source": [
    "#raw, not spike normalised, with higher cutoff\n",
    "plt.figure(figsize=(10,50))\n",
    "\n",
    "sb.clustermap(areas_grouped.T, cmap=\"Blues\", dendrogram_ratio=(.1, .2), vmax=0.05, cbar_pos=(-0.2, .5, .1, .4), yticklabels=True)"
   ]
  },
  {
   "cell_type": "code",
   "execution_count": null,
   "id": "538c0d04",
   "metadata": {},
   "outputs": [],
   "source": [
    "#create a dataframe of the fractions of each brain area contained within each sample\n",
    "areas_matrix = areas_only.to_numpy()\n",
    "total_frac = np.sum(areas_matrix, axis=1)\n",
    "frac_matrix = areas_matrix/total_frac[:, np.newaxis]\n",
    "areasFrac = pd.DataFrame(frac_matrix, columns=areas_only.columns)"
   ]
  },
  {
   "cell_type": "code",
   "execution_count": null,
   "id": "40000620",
   "metadata": {},
   "outputs": [],
   "source": [
    "areas_only"
   ]
  },
  {
   "cell_type": "code",
   "execution_count": null,
   "id": "d7bc9c68",
   "metadata": {},
   "outputs": [],
   "source": [
    "#for each barcode, create a matrix of BC count for regions in a sample based on amount of each region in LCM (makes assumption of equal BC distribution)\n",
    "bc_matrix = np.zeros(shape=((len(barcodes_across_sample), (len(areas_only.columns)))))\n",
    "bc_matrix = pd.DataFrame(data= bc_matrix, columns=areas_only.columns, index=barcodes_across_sample.index)"
   ]
  },
  {
   "cell_type": "code",
   "execution_count": null,
   "id": "90ea0c3d",
   "metadata": {},
   "outputs": [],
   "source": [
    "for i, row in barcodes_across_sample.iterrows():\n",
    "    bc_matrix1 =pd.DataFrame(columns=areas_only.columns)\n",
    "    for samplename in barcodes_across_sample.columns:\n",
    "        counts = row.to_numpy()\n",
    "        frac_counts =frac_matrix* counts[:, np.newaxis]\n",
    "        sample_counts =pd.DataFrame(frac_counts, columns = areas_only.columns)\n",
    "    for region in sample_counts.columns:\n",
    "        bc_matrix.at[i, region] = sample_counts[region].sum()/areas_only[region].sum()\n",
    "#bc_matrix.to_pickle(lcm_reg_dir/'bc_matrix_lcm_2.pkl')"
   ]
  },
  {
   "cell_type": "code",
   "execution_count": null,
   "id": "38f17cea",
   "metadata": {},
   "outputs": [],
   "source": [
    "bc_matrix1 =bc_matrix.drop(['AUDpo'], axis=1)"
   ]
  },
  {
   "cell_type": "code",
   "execution_count": null,
   "id": "b7ca4d7d",
   "metadata": {},
   "outputs": [],
   "source": [
    "areas_comp = ['MOB', 'M', 'Cstr', 'RStr', 'tectum', 'thalamus', 'contra', 'VisIP', 'SS']\n",
    "areas_grouped = bc_matrix[areas_comp]"
   ]
  },
  {
   "cell_type": "code",
   "execution_count": null,
   "id": "422ac41f",
   "metadata": {},
   "outputs": [],
   "source": [
    "areas_grouped = areas_grouped.loc[~(areas_grouped==0).all(axis=1)]\n",
    "areas_grouped"
   ]
  },
  {
   "cell_type": "code",
   "execution_count": null,
   "id": "12131cd7",
   "metadata": {},
   "outputs": [],
   "source": [
    "# perform hierarchial clustering of all barcodes across samples\n",
    "sb.clustermap(areas_grouped, metric='euclidean', standard_scale=0, norm=LogNorm(), cmap=\"Blues\", figsize=(10, 10))"
   ]
  },
  {
   "cell_type": "code",
   "execution_count": null,
   "id": "2a0a7dc0",
   "metadata": {},
   "outputs": [],
   "source": [
    "sample_counts = pd.DataFrame(frac_counts, columns = areas_only.columns)\n",
    "for region in sample_counts.columns:\n",
    "    bc_matrix.at[i, region] = sample_counts[region].sum()/areas_only[region].sum()"
   ]
  },
  {
   "cell_type": "code",
   "execution_count": null,
   "id": "1d3c152e",
   "metadata": {},
   "outputs": [],
   "source": [
    "for region in sample_counts.columns:\n",
    "    bc_matrix.at[i, region] = sample_counts[region].sum()/areas_only[region].sum()"
   ]
  },
  {
   "cell_type": "code",
   "execution_count": null,
   "id": "699832ff",
   "metadata": {},
   "outputs": [],
   "source": [
    "sample_counts.sum()"
   ]
  },
  {
   "cell_type": "code",
   "execution_count": null,
   "id": "9e9fec5c",
   "metadata": {},
   "outputs": [],
   "source": [
    "sample_counts['thalamus'].sum()/areas_only[region].sum()"
   ]
  },
  {
   "cell_type": "code",
   "execution_count": null,
   "id": "f8864157",
   "metadata": {},
   "outputs": [],
   "source": [
    "areas_only[region].sum()"
   ]
  },
  {
   "cell_type": "code",
   "execution_count": null,
   "id": "d74b3d67",
   "metadata": {},
   "outputs": [],
   "source": [
    "barcodes_across_sample"
   ]
  },
  {
   "cell_type": "code",
   "execution_count": null,
   "id": "0754b597",
   "metadata": {},
   "outputs": [],
   "source": [
    "areas_only.iloc[0].sum()"
   ]
  },
  {
   "cell_type": "code",
   "execution_count": null,
   "id": "e1bd5a5b",
   "metadata": {},
   "outputs": [],
   "source": [
    "for i in areas_only[region]:\n",
    "    print(i)"
   ]
  },
  {
   "cell_type": "code",
   "execution_count": null,
   "id": "7c1a1498",
   "metadata": {},
   "outputs": [],
   "source": [
    "row =barcodes_across_sample.iloc[2].to_numpy()\n",
    "\n",
    "bl =frac_matrix* row[:, np.newaxis]\n",
    "f =pd.DataFrame(bl, columns = areas_only.columns)"
   ]
  },
  {
   "cell_type": "code",
   "execution_count": null,
   "id": "15816c03",
   "metadata": {},
   "outputs": [],
   "source": [
    "f"
   ]
  },
  {
   "cell_type": "code",
   "execution_count": null,
   "id": "ead8d1df",
   "metadata": {},
   "outputs": [],
   "source": [
    "f.iloc[32]"
   ]
  },
  {
   "cell_type": "code",
   "execution_count": null,
   "id": "db167c17",
   "metadata": {},
   "outputs": [],
   "source": [
    "ind = -1\n",
    "for samplename in barcodes_across_sample.columns:\n",
    "    ind = +1\n",
    "    bl = row.iloc[ind]*areasFrac\n",
    "    print(samplename)"
   ]
  },
  {
   "cell_type": "code",
   "execution_count": null,
   "id": "8e511d2e",
   "metadata": {},
   "outputs": [],
   "source": [
    "areasFrac.shape"
   ]
  },
  {
   "cell_type": "code",
   "execution_count": null,
   "id": "5a1a0913",
   "metadata": {},
   "outputs": [],
   "source": [
    "barcodes_across_sample.loc[2]"
   ]
  },
  {
   "cell_type": "code",
   "execution_count": null,
   "id": "afbf10f0",
   "metadata": {},
   "outputs": [],
   "source": [
    "for i in barcodes_across_sample.loc[2]:\n",
    "    print (i)"
   ]
  },
  {
   "cell_type": "code",
   "execution_count": null,
   "id": "234416b1",
   "metadata": {},
   "outputs": [],
   "source": [
    "bl =row*areasFrac\n"
   ]
  },
  {
   "cell_type": "code",
   "execution_count": null,
   "id": "907ba338",
   "metadata": {},
   "outputs": [],
   "source": [
    "areasFrac"
   ]
  },
  {
   "cell_type": "code",
   "execution_count": null,
   "id": "9e16c995",
   "metadata": {},
   "outputs": [],
   "source": [
    "#for each barcode, create a matrix of BC count for regions in a sample based on amount of each region in LCM (makes assumption of equal BC distribution)\n",
    "bc_matrix = np.zeros(shape=((len(newdf), (len(areas_only.columns)))))\n",
    "bc_matrix = pd.DataFrame(data= bc_matrix, columns=areas_only.columns, index=newdf.index)\n",
    "for i, row in newdf.iterrows():\n",
    "    bc_matrix1 =pd.DataFrame(columns=areas_only.columns)\n",
    "    for samplename in newdf.columns:\n",
    "        ind = areas.index[areas['RT_primer']==samplename].tolist()\n",
    "        fractionC = areasFrac.iloc[ind[0]]*row.loc[samplename]\n",
    "        bc_matrix1 = bc_matrix1.append(fractionC)\n",
    "    for region in bc_matrix1.columns:\n",
    "        bc_matrix.at[i, region] = bc_matrix1[region].sum()/areas_only[region].sum()\n",
    "#bc_matrix.to_pickle(lcm_reg_dir/'bc_matrix_lcm_2.pkl')"
   ]
  }
 ],
 "metadata": {
  "kernelspec": {
   "display_name": "Python [conda env:.conda-MAPseq_processing] *",
   "language": "python",
   "name": "conda-env-.conda-MAPseq_processing-py"
  },
  "language_info": {
   "codemirror_mode": {
    "name": "ipython",
    "version": 3
   },
   "file_extension": ".py",
   "mimetype": "text/x-python",
   "name": "python",
   "nbconvert_exporter": "python",
   "pygments_lexer": "ipython3",
   "version": "3.8.16"
  }
 },
 "nbformat": 4,
 "nbformat_minor": 5
}
