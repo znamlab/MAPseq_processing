{
 "cells": [
  {
   "cell_type": "code",
   "execution_count": null,
   "id": "75c72707",
   "metadata": {},
   "outputs": [],
   "source": [
    "import os\n",
    "import numpy as np\n",
    "import pandas as pd\n",
    "import pathlib\n",
    "import matplotlib.pyplot as plt"
   ]
  },
  {
   "cell_type": "code",
   "execution_count": null,
   "id": "df13feb3",
   "metadata": {},
   "outputs": [],
   "source": [
    "#to see how things look after removing template switching 'junk'\n",
    "directory = pathlib.Path('/camp/lab/znamenskiyp/home/shared/projects/turnerb_MAPseq/A1_MAPseq/FIAA32.6a/Sequencing/Processed_data/UpdatedApril/preprocessed_seq_corrected/template_switching/analysed_chunks')\n",
    "template_switching_check = pd.DataFrame(\n",
    "        columns=[\n",
    "            \"UMI\",\n",
    "            \"total\",\n",
    "            \"different_neurons\",\n",
    "            \"1st_abundant\",\n",
    "            \"2nd_abundant\",\n",
    "            \"sequence_of_1st\",\n",
    "            \"sample_of_1st\",\n",
    "            \"chunk\",\n",
    "        ]\n",
    "    ).set_index(\"UMI\")\n",
    "print(\"starting combining samples into one big file\", flush=True)\n",
    "for file in os.listdir(directory):\n",
    "    barcode_file = directory / file\n",
    "    if barcode_file.stem.startswith(\"template_switching_chunk_\"):\n",
    "        bc_table = pd.read_csv(barcode_file)\n",
    "        sample = barcode_file.stem.split(\"template_switching_chunk_\", 1)[1]\n",
    "        bc_table[\"chunk\"] = sample\n",
    "        template_switching_check = pd.concat([template_switching_check, bc_table])\n",
    "#bla = pd.read_csv(directory / \"template_switching/template_switching_all_seq.csv\")"
   ]
  },
  {
   "cell_type": "code",
   "execution_count": null,
   "id": "1d778971",
   "metadata": {},
   "outputs": [],
   "source": [
    "#ignore duplicates\n",
    "only_ones = template_switching_check[template_switching_check['different_neurons']==1]\n",
    "plt.hist(only_ones[\"1st_abundant\"], bins=50)\n",
    "# plt.xticks(range(4),np.logspace(0,3,4))\n",
    "plt.title('Number of reads per UMI post correction', fontsize=12)\n",
    "plt.yscale('log')\n",
    "\n",
    "plt.axvline(x = 4, color = \"Black\", label = \"cut-off\")\n",
    "plt.legend(loc = 'upper right')\n",
    "plt.xlabel('UMI counts')\n",
    "plt.ylabel('Frequency')"
   ]
  },
  {
   "cell_type": "code",
   "execution_count": null,
   "id": "866580f8",
   "metadata": {},
   "outputs": [],
   "source": [
    "switches = template_switching_check[template_switching_check['different_neurons']>1]\n",
    "plt.hist(switches[switches['1st_abundant']/switches['2nd_abundant']<10]['chunk'], bins=91)"
   ]
  },
  {
   "cell_type": "code",
   "execution_count": null,
   "id": "91e43670",
   "metadata": {},
   "outputs": [],
   "source": [
    "directory = pathlib.Path('/camp/lab/znamenskiyp/home/shared/projects/turnerb_MAPseq/A1_MAPseq/FIAA32.6a/Sequencing/Processed_data/UpdatedApril/preprocessed_seq_corrected')\n"
   ]
  },
  {
   "cell_type": "code",
   "execution_count": null,
   "id": "435b27c0",
   "metadata": {},
   "outputs": [],
   "source": [
    "bla = pd.read_csv(directory / \"template_switching/template_switching_all_seq.csv\")"
   ]
  },
  {
   "cell_type": "code",
   "execution_count": null,
   "id": "3b7d8b8b",
   "metadata": {},
   "outputs": [],
   "source": [
    "bla"
   ]
  },
  {
   "cell_type": "code",
   "execution_count": null,
   "id": "74a45691",
   "metadata": {},
   "outputs": [],
   "source": [
    "barcode_file_range =96\n",
    "dir_path = pathlib.Path(directory)\n",
    "value_counts = pd.DataFrame()\n",
    "out_dir = dir_path.joinpath(\"Final_processed_sequences\")\n",
    "pathlib.Path(out_dir).mkdir(parents=True, exist_ok=True)\n",
    "for i in range(barcode_file_range):\n",
    "    barcode = f\"BC{i+1}\"\n",
    "    sample_file = dir_path / f\"corrected_{barcode}.csv\"\n",
    "    if os.path.isfile(sample_file):\n",
    "        sample_table = pd.read_csv(sample_file)\n",
    "        sample_table[\"combined\"] = (sample_table[\"corrected_sequences_neuron\"]+ sample_table[\"corrected_sequences_umi\"])\n",
    "        total_counts =sample_table['combined'].value_counts().rename_axis('sequence').reset_index(name='counts')\n",
    "        value_counts = pd.concat([value_counts, total_counts])"
   ]
  },
  {
   "cell_type": "code",
   "execution_count": null,
   "id": "cbb76cfc",
   "metadata": {},
   "outputs": [],
   "source": [
    "plt.hist(value_counts[\"counts\"], bins=100)\n",
    "# plt.xticks(range(4),np.logspace(0,3,4))\n",
    "plt.title('Number of reads per UMI post correction', fontsize=12)\n",
    "plt.yscale('log')\n",
    "\n",
    "#plt.axvline(x = 9, color = \"Black\", label = \"cut-off\")\n",
    "plt.legend(loc = 'upper right')\n",
    "plt.xlabel('UMI counts')\n",
    "plt.ylabel('Frequency')"
   ]
  },
  {
   "cell_type": "code",
   "execution_count": null,
   "id": "1f206065",
   "metadata": {},
   "outputs": [],
   "source": [
    "value_counts.counts.sum()"
   ]
  },
  {
   "cell_type": "code",
   "execution_count": null,
   "id": "a28cb675",
   "metadata": {},
   "outputs": [],
   "source": [
    "barcode_range =91\n",
    "raw_value_counts = pd.DataFrame()\n",
    "raw_path = pathlib.Path('/camp/lab/znamenskiyp/home/shared/projects/turnerb_MAPseq/A1_MAPseq/FIAA32.6a/Sequencing/Processed_data/New/')\n",
    "for x in range(barcode_range):\n",
    "        barcode_num = \"BC\" + str(x + 1) + \".txt\"\n",
    "        if barcode_num != 'BC36.txt' and barcode_num != 'BC65.txt':\n",
    "            barcode_file = raw_path.joinpath(barcode_num)\n",
    "            raw_bc = pd.read_csv(u\n",
    "                barcode_file, delimiter=\"\\t\", skiprows=lambda x: (x != 0) and not x % 2\n",
    "            )   \n",
    "            raw_total_counts = raw_bc.value_counts().rename_axis('sequence').reset_index(name='counts')\n",
    "            raw_value_counts = pd.concat([raw_value_counts, raw_total_counts])"
   ]
  },
  {
   "cell_type": "code",
   "execution_count": null,
   "id": "bd3bbd13",
   "metadata": {},
   "outputs": [],
   "source": [
    "plt.hist(raw_value_counts[\"counts\"], bins=100)\n",
    "plt.title('Number of reads per UMI (pre error correction)', fontsize=12)\n",
    "plt.yscale('log')\n",
    "\n",
    "#plt.axvline(x = 9, color = \"Black\", label = \"cut-off\")\n",
    "plt.legend(loc = 'upper right')\n",
    "plt.xlabel('UMI counts')\n",
    "plt.ylabel('Frequency')"
   ]
  },
  {
   "cell_type": "code",
   "execution_count": null,
   "id": "244c5877",
   "metadata": {},
   "outputs": [],
   "source": [
    "raw_value_counts['counts'].sum()"
   ]
  },
  {
   "cell_type": "code",
   "execution_count": null,
   "id": "db762775",
   "metadata": {},
   "outputs": [],
   "source": [
    "plt.hist(value_counts[\"counts\"], bins=200)\n",
    "plt.title('Number of reads per UMI (pre error correction)', fontsize=12)\n",
    "plt.yscale('log')\n",
    "\n",
    "#plt.axvline(x = 9, color = \"Black\", label = \"cut-off\")\n",
    "plt.legend(loc = 'upper right')\n",
    "plt.xlabel('UMI counts')\n",
    "plt.ylabel('Frequency')"
   ]
  },
  {
   "cell_type": "code",
   "execution_count": null,
   "id": "550ad87c",
   "metadata": {},
   "outputs": [],
   "source": [
    "plt.hist(value_counts[\"counts\"], bins=200)\n",
    "# plt.xticks(range(4),np.logspace(0,3,4))\n",
    "plt.title('Number of reads per UMI', fontsize=12)\n",
    "plt.yscale('log')\n",
    "plt.xlim(0,400)\n",
    "plt.axvline(x = 9, color = \"Black\", label = \"cut-off\")\n",
    "plt.legend(loc = 'upper right')\n",
    "plt.xlabel('UMI counts')\n",
    "plt.ylabel('Frequency')"
   ]
  },
  {
   "cell_type": "code",
   "execution_count": null,
   "id": "4dc2eef4",
   "metadata": {},
   "outputs": [],
   "source": []
  },
  {
   "cell_type": "code",
   "execution_count": null,
   "id": "43ef0d56",
   "metadata": {},
   "outputs": [],
   "source": []
  },
  {
   "cell_type": "code",
   "execution_count": null,
   "id": "314df6ac",
   "metadata": {},
   "outputs": [],
   "source": []
  },
  {
   "cell_type": "code",
   "execution_count": null,
   "id": "f7e78064",
   "metadata": {},
   "outputs": [],
   "source": [
    "sorting_directory = '/camp/lab/znamenskiyp/home/shared/projects/turnerb_MAPseq/A1_MAPseq/FIAA32.6a/Sequencing/Processed_data/BC_split/temp/increased_cutoff'\n",
    "\n",
    "sorting_dir = pathlib.Path(sorting_directory)\n",
    "all_seq = pd.DataFrame()\n",
    "for barcode_file in os.listdir(sorting_dir):\n",
    "    if barcode_file.startswith(\"neuroncounts_\"):\n",
    "        to_read = pd.read_csv(sorting_dir/barcode_file)\n",
    "        sequences = to_read[\"sequence\"]\n",
    "        all_seq =pd.concat([all_seq, sequences])\n",
    "all_seq_unique =all_seq.value_counts().rename_axis('sequence').reset_index(name='counts')\n"
   ]
  },
  {
   "cell_type": "code",
   "execution_count": null,
   "id": "64c426af",
   "metadata": {},
   "outputs": [],
   "source": [
    "samples = list(range(1, 92))\n",
    "zeros = np.zeros(shape=(len(all_seq_unique['sequence']),len(samples)))\n",
    "barcodes_across_sample = pd.DataFrame(zeros, columns=samples)\n",
    "barcodes_across_sample =barcodes_across_sample.set_index(all_seq_unique['sequence'])"
   ]
  },
  {
   "cell_type": "code",
   "execution_count": null,
   "id": "d3e19226",
   "metadata": {},
   "outputs": [],
   "source": [
    "for file in os.listdir(sorting_directory):\n",
    "    barcodefile= sorting_dir/file\n",
    "    if barcodefile.stem.startswith(\"neuroncounts_\"):\n",
    "        toread = pd.read_csv(barcodefile)\n",
    "        sample = int(barcodefile.stem.split(\"neuroncounts_BC\", 1)[1])\n",
    "        for r, sequence in toread[\"sequence\"].items():\n",
    "            barcodes_across_sample.loc[sequence,sample] = toread[\"counts\"][r]\n",
    "        "
   ]
  },
  {
   "cell_type": "code",
   "execution_count": null,
   "id": "e4139cee",
   "metadata": {},
   "outputs": [],
   "source": [
    "summary = barcodes_across_sample.sum(axis=1)\n",
    "plt.hist(summary, bins=3)\n"
   ]
  },
  {
   "cell_type": "code",
   "execution_count": null,
   "id": "e7e11454",
   "metadata": {},
   "outputs": [],
   "source": [
    "min(summary)"
   ]
  },
  {
   "cell_type": "code",
   "execution_count": null,
   "id": "536faefc",
   "metadata": {},
   "outputs": [],
   "source": [
    "bla = barcodes_across_sample[29][barcodes_across_sample[29]>0]\n",
    "bla"
   ]
  },
  {
   "cell_type": "code",
   "execution_count": null,
   "id": "a62dcebb",
   "metadata": {},
   "outputs": [],
   "source": [
    "barcodes_across_sample.loc['TTGTTTAGATAGTTTGTACCTGTGCGTCGGTT',1]"
   ]
  },
  {
   "cell_type": "code",
   "execution_count": null,
   "id": "e12abfb6",
   "metadata": {},
   "outputs": [],
   "source": [
    "for barcode in all_seq_unique:\n",
    "index += 1\n",
    "#for barcodefile in os.listdir(sorting_directory):\n",
    "\n",
    "if barcodefile.startswith(\"neuroncounts_\"):\n",
    "    toread = pd.read_csv(barcodefile)\n",
    "    sample = int(barcodefile.split(\"neuroncounts_BC\", 1)[1][: -len(\".csv\")])\n",
    "    for r, sequence in toread[\"sequence\"].items():\n",
    "        barcodes_across_sample.loc[sequence,sample] = toread[\"counts\"][r]\n",
    "        "
   ]
  },
  {
   "cell_type": "code",
   "execution_count": null,
   "id": "7b22ab76",
   "metadata": {},
   "outputs": [],
   "source": []
  },
  {
   "cell_type": "code",
   "execution_count": null,
   "id": "2a28a154",
   "metadata": {},
   "outputs": [],
   "source": [
    "samples = list(range(1, 92))\n",
    "zeros = np.zeros(shape=(len(all_seq_unique['sequence']),len(samples)))\n",
    "barcodes_across_sample = pd.DataFrame(zeros, columns=samples)"
   ]
  },
  {
   "cell_type": "code",
   "execution_count": null,
   "id": "829aebd6",
   "metadata": {},
   "outputs": [],
   "source": [
    "barcodes_across_sample.set_index(all_seq_unique['sequence'])"
   ]
  },
  {
   "cell_type": "code",
   "execution_count": null,
   "id": "9fe55862",
   "metadata": {},
   "outputs": [],
   "source": [
    "barcodefile.stem.split(\"neuroncounts_BC\", 1)[1]"
   ]
  },
  {
   "cell_type": "code",
   "execution_count": null,
   "id": "9dc8bf18",
   "metadata": {},
   "outputs": [],
   "source": [
    "barcodefile = sorting_dir/'neuroncounts_BC29.csv'\n",
    "for i, row in all_seq_unique.iterrows():\n",
    "    barcode = row['sequence']\n",
    "    toread = pd.read_csv(barcodefile)\n",
    "    sample = int(barcodefile.stem.split(\"neuroncounts_BC\", 1)[1])\n",
    "    for r, sequence in toread[\"sequence\"].items():\n",
    "        if sequence == barcode:\n",
    "            barcodes_across_sample.at[index, sample] = toread[\"counts\"][r]"
   ]
  },
  {
   "cell_type": "code",
   "execution_count": null,
   "id": "dd9d8623",
   "metadata": {},
   "outputs": [],
   "source": [
    "df.set_index('month')\n",
    "for r, sequence in toread[\"sequence\"].items():"
   ]
  },
  {
   "cell_type": "code",
   "execution_count": null,
   "id": "9fb3a8bd",
   "metadata": {},
   "outputs": [],
   "source": [
    "for i, barcode in all_seq_unique.iterrows():\n",
    "    print"
   ]
  },
  {
   "cell_type": "code",
   "execution_count": null,
   "id": "01a30ecf",
   "metadata": {},
   "outputs": [],
   "source": [
    "# Note this figure was used in Shirom Chabra's code to evaluate the UMI cut-off.\n",
    "plt.hist(np.log(total_counts[\"counts\"])/np.log(10), bins=50)\n",
    "# plt.xticks(range(4),np.logspace(0,3,4))\n",
    "plt.title('Number of UMIs per barcode', fontsize=12)\n",
    "plt.yscale('log')\n",
    "plt.axvline(x = np.log(2), color = \"Black\", label = \"cut-off\")\n",
    "plt.legend(loc = 'upper left')"
   ]
  },
  {
   "cell_type": "code",
   "execution_count": null,
   "id": "a75ed636",
   "metadata": {},
   "outputs": [],
   "source": [
    "barcode_file"
   ]
  },
  {
   "cell_type": "code",
   "execution_count": null,
   "id": "90fcd0bb",
   "metadata": {
    "scrolled": true
   },
   "outputs": [],
   "source": [
    "plt.hist(total_counts[\"counts\"], bins=100)\n",
    "# plt.xticks(range(4),np.logspace(0,3,4))\n",
    "plt.title('Number of UMIs per barcode', fontsize=12)\n",
    "plt.yscale('log')\n",
    "plt.axvline(x = 9, color = \"Black\", label = \"cut-off\")\n",
    "plt.legend(loc = 'upper right')"
   ]
  },
  {
   "cell_type": "code",
   "execution_count": null,
   "id": "71223a04",
   "metadata": {},
   "outputs": [],
   "source": [
    "plt.hist(value_counts[\"counts\"], bins=100)\n",
    "# plt.xticks(range(4),np.logspace(0,3,4))\n",
    "plt.title('Number of UMIs per barcode', fontsize=12)\n",
    "plt.yscale('log')\n",
    "\n",
    "plt.axvline(x = 9, color = \"Black\", label = \"cut-off\")\n",
    "plt.legend(loc = 'upper right')\n",
    "plt.xlabel('UMI counts')\n",
    "plt.ylabel('Frequency')"
   ]
  },
  {
   "cell_type": "code",
   "execution_count": null,
   "id": "57ecd429",
   "metadata": {},
   "outputs": [],
   "source": [
    "# set new file with cut-off as 7\n",
    "def combineUMIandBC(directory, outdirectory, barcodefilerange=96):\n",
    "    \"\"\"\n",
    "    Function to combine corrected barcodes and UMI's for each read and collect value counts.\n",
    "    Also to detect degree of template switching between reads by seeing if UMI is shared by more than one barcode\n",
    "    Also to split spike RNA from neuron barcodes, by whether contains N[24]ATCAGTCA (vs N[32]CTCT for neuron barcodes)\n",
    "    Args:\n",
    "        directory: temp file where the intermediate UMI and barcode clustered csv files are kept\n",
    "        barcodefilerange: the number of samples you want to loop through (default set for 96)\n",
    "    \"\"\"\n",
    "    os.chdir(directory)\n",
    "    UMI_cutoff = 7\n",
    "    for i in range(barcodefilerange):\n",
    "        os.chdir(directory)\n",
    "        num = i + 1\n",
    "        barcode = \"BC%s\" % num\n",
    "        neuronfile = \"neuronBCcorrected_%s.csv\" % barcode\n",
    "        umifile = \"UMIs_corrected_%s.csv\" % barcode\n",
    "        if os.path.isfile(neuronfile) and os.path.isfile(umifile):\n",
    "            print(\"processing %s\" % barcode, flush=True)\n",
    "            combined = pd.concat(\n",
    "                [pd.read_csv(neuronfile), pd.read_csv(umifile)], axis=1\n",
    "            )\n",
    "            combined[\"combined\"] = (\n",
    "                combined[\"corrected_neuronBC\"] + combined[\"corrected_umi\"]\n",
    "            )\n",
    "            spikein = combined[\n",
    "                combined[\"combined\"].str.contains(\"^.{24}ATCAGTCA\") == True\n",
    "            ].rename_axis(\"sequence\")\n",
    "            neurons = combined[\n",
    "                combined[\"combined\"].str.contains(\"^.{30}[CT][CT]\") == True\n",
    "            ].rename_axis(\"sequence\")\n",
    "            neuroncounts = (\n",
    "                neurons[\"combined\"]\n",
    "                .value_counts()\n",
    "                .rename_axis(\"sequence\")\n",
    "                .reset_index(name=\"counts\")\n",
    "            )\n",
    "            counts_spike = (\n",
    "                spikein[\"combined\"]\n",
    "                .value_counts()\n",
    "                .rename_axis(\"sequence\")\n",
    "                .reset_index(name=\"counts\")\n",
    "            )\n",
    "            # only take umi counts greater or equal to 2\n",
    "            neuroncounts = neuroncounts[neuroncounts[\"counts\"] >= UMI_cutoff]\n",
    "            counts_spike = counts_spike[counts_spike[\"counts\"] >= UMI_cutoff]\n",
    "            counts_spike[\"barcode\"] = counts_spike[\"sequence\"].str[:32]\n",
    "            neuroncounts[\"barcode\"] = neuroncounts[\"sequence\"].str[:32]\n",
    "            spikeneuron = (\n",
    "                counts_spike[\"barcode\"]\n",
    "                .value_counts()\n",
    "                .rename_axis(\"sequence\")\n",
    "                .reset_index(name=\"counts\")\n",
    "            )\n",
    "            neuroncounts = (\n",
    "                neuroncounts[\"barcode\"]\n",
    "                .value_counts()\n",
    "                .rename_axis(\"sequence\")\n",
    "                .reset_index(name=\"counts\")\n",
    "            )\n",
    "            os.chdir(outdirectory)\n",
    "            print(\"finished %s\" % barcode, flush=True)\n",
    "            tosaveBC = \"neuroncounts_%s.csv\" % barcode\n",
    "            tosavespike = \"spikecounts_%s.csv\" % barcode\n",
    "            spikeneuron.to_csv(tosavespike)\n",
    "            neuroncounts.to_csv(tosaveBC)\n",
    "        else:\n",
    "            print(\"both not there for %s\" % barcode)"
   ]
  },
  {
   "cell_type": "code",
   "execution_count": null,
   "id": "c13cdd26",
   "metadata": {},
   "outputs": [],
   "source": [
    "out_dir = dir_path.joinpath('increased_cutoff')\n",
    "combineUMIandBC(directory=directory, outdirectory=out_dir, barcodefilerange=96)"
   ]
  },
  {
   "cell_type": "code",
   "execution_count": null,
   "id": "710635d6",
   "metadata": {},
   "outputs": [],
   "source": [
    "import os\n",
    "import numpy as np\n",
    "import pandas as pd\n",
    "from umi_tools import UMIClusterer\n",
    "from datetime import datetime\n",
    "import subprocess, shlex\n",
    "import pathlib"
   ]
  },
  {
   "cell_type": "code",
   "execution_count": null,
   "id": "e0959248",
   "metadata": {},
   "outputs": [],
   "source": []
  }
 ],
 "metadata": {
  "kernelspec": {
   "display_name": "Python [conda env:.conda-MAPseq_processing] *",
   "language": "python",
   "name": "conda-env-.conda-MAPseq_processing-py"
  },
  "language_info": {
   "codemirror_mode": {
    "name": "ipython",
    "version": 3
   },
   "file_extension": ".py",
   "mimetype": "text/x-python",
   "name": "python",
   "nbconvert_exporter": "python",
   "pygments_lexer": "ipython3",
   "version": "3.8.16"
  }
 },
 "nbformat": 4,
 "nbformat_minor": 5
}
