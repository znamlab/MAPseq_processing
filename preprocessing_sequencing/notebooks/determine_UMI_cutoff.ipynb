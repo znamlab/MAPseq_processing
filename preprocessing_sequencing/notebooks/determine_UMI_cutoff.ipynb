{
 "cells": [
  {
   "cell_type": "code",
   "execution_count": 2,
   "id": "75c72707",
   "metadata": {},
   "outputs": [],
   "source": [
    "import os\n",
    "import numpy as np\n",
    "import pandas as pd\n",
    "import pathlib\n",
    "import matplotlib.pyplot as plt\n",
    "from preprocessing_sequencing import preprocess_sequences as ps\n",
    "%matplotlib inline"
   ]
  },
  {
   "cell_type": "code",
   "execution_count": 3,
   "id": "23052658",
   "metadata": {},
   "outputs": [],
   "source": [
    "# put in path to processed data folder containing parameters yaml file \n",
    "parameters_path = pathlib.Path('/camp/lab/znamenskiyp/home/shared/projects/turnerb_A1_MAPseq/FIAA32.6a/Sequencing/TUR5514A4')"
   ]
  },
  {
   "cell_type": "markdown",
   "id": "dcfb3048",
   "metadata": {},
   "source": [
    "Load parameters"
   ]
  },
  {
   "cell_type": "code",
   "execution_count": 4,
   "id": "87e90fc6",
   "metadata": {},
   "outputs": [],
   "source": [
    "parameters = ps.load_parameters(directory=parameters_path)"
   ]
  },
  {
   "cell_type": "markdown",
   "id": "6a0e6a74",
   "metadata": {},
   "source": [
    "Combine template switching tables to look set template switching cut-offs and UMI cut-offs"
   ]
  },
  {
   "cell_type": "code",
   "execution_count": 5,
   "id": "fd6a5cf2",
   "metadata": {},
   "outputs": [
    {
     "name": "stdout",
     "output_type": "stream",
     "text": [
      "starting combining samples into one big file\n"
     ]
    },
    {
     "ename": "FileNotFoundError",
     "evalue": "[Errno 2] No such file or directory: '/camp/lab/znamenskiyp/home/shared/projects/turnerb_A1_MAPseq/FIAA32.6a/Sequencing/TUR5514A4/template_switching/analysed_chunks'",
     "output_type": "error",
     "traceback": [
      "\u001b[0;31m---------------------------------------------------------------------------\u001b[0m",
      "\u001b[0;31mFileNotFoundError\u001b[0m                         Traceback (most recent call last)",
      "\u001b[1;32m/camp/home/turnerb/home/users/turnerb/code/MAPseq_processing/preprocessing_sequencing/notebooks/determine_UMI_cutoff.ipynb Cell 6\u001b[0m line \u001b[0;36m2\n\u001b[1;32m      <a href='vscode-notebook-cell://ssh-remote%2Bssh_int002/camp/home/turnerb/home/users/turnerb/code/MAPseq_processing/preprocessing_sequencing/notebooks/determine_UMI_cutoff.ipynb#X63sdnNjb2RlLXJlbW90ZQ%3D%3D?line=0'>1</a>\u001b[0m dir_path \u001b[39m=\u001b[39m pathlib\u001b[39m.\u001b[39mPath(parameters_path)\n\u001b[0;32m----> <a href='vscode-notebook-cell://ssh-remote%2Bssh_int002/camp/home/turnerb/home/users/turnerb/code/MAPseq_processing/preprocessing_sequencing/notebooks/determine_UMI_cutoff.ipynb#X63sdnNjb2RlLXJlbW90ZQ%3D%3D?line=1'>2</a>\u001b[0m switching_tab \u001b[39m=\u001b[39m ps\u001b[39m.\u001b[39;49mcombine_switch_tables(\n\u001b[1;32m      <a href='vscode-notebook-cell://ssh-remote%2Bssh_int002/camp/home/turnerb/home/users/turnerb/code/MAPseq_processing/preprocessing_sequencing/notebooks/determine_UMI_cutoff.ipynb#X63sdnNjb2RlLXJlbW90ZQ%3D%3D?line=2'>3</a>\u001b[0m         template_sw_directory\u001b[39m=\u001b[39;49mdir_path \u001b[39m/\u001b[39;49m \u001b[39m\"\u001b[39;49m\u001b[39mtemplate_switching/analysed_chunks\u001b[39;49m\u001b[39m\"\u001b[39;49m\n\u001b[1;32m      <a href='vscode-notebook-cell://ssh-remote%2Bssh_int002/camp/home/turnerb/home/users/turnerb/code/MAPseq_processing/preprocessing_sequencing/notebooks/determine_UMI_cutoff.ipynb#X63sdnNjb2RlLXJlbW90ZQ%3D%3D?line=3'>4</a>\u001b[0m     )\n",
      "File \u001b[0;32m/nemo/lab/znamenskiyp/home/users/turnerb/code/MAPseq_processing/preprocessing_sequencing/preprocess_sequences.py:661\u001b[0m, in \u001b[0;36mcombine_switch_tables\u001b[0;34m(template_sw_directory)\u001b[0m\n\u001b[1;32m    648\u001b[0m template_switching_check \u001b[39m=\u001b[39m pd\u001b[39m.\u001b[39mDataFrame(\n\u001b[1;32m    649\u001b[0m     columns\u001b[39m=\u001b[39m[\n\u001b[1;32m    650\u001b[0m         \u001b[39m\"\u001b[39m\u001b[39mUMI\u001b[39m\u001b[39m\"\u001b[39m,\n\u001b[0;32m   (...)\u001b[0m\n\u001b[1;32m    658\u001b[0m     ]\n\u001b[1;32m    659\u001b[0m )\u001b[39m.\u001b[39mset_index(\u001b[39m\"\u001b[39m\u001b[39mUMI\u001b[39m\u001b[39m\"\u001b[39m)\n\u001b[1;32m    660\u001b[0m \u001b[39mprint\u001b[39m(\u001b[39m\"\u001b[39m\u001b[39mstarting combining samples into one big file\u001b[39m\u001b[39m\"\u001b[39m, flush\u001b[39m=\u001b[39m\u001b[39mTrue\u001b[39;00m)\n\u001b[0;32m--> 661\u001b[0m \u001b[39mfor\u001b[39;00m file \u001b[39min\u001b[39;00m os\u001b[39m.\u001b[39;49mlistdir(dir_path):\n\u001b[1;32m    662\u001b[0m     barcode_file \u001b[39m=\u001b[39m dir_path \u001b[39m/\u001b[39m file\n\u001b[1;32m    663\u001b[0m     \u001b[39mif\u001b[39;00m barcode_file\u001b[39m.\u001b[39mstem\u001b[39m.\u001b[39mstartswith(\u001b[39m\"\u001b[39m\u001b[39mtemplate_switching_chunk_\u001b[39m\u001b[39m\"\u001b[39m):\n",
      "\u001b[0;31mFileNotFoundError\u001b[0m: [Errno 2] No such file or directory: '/camp/lab/znamenskiyp/home/shared/projects/turnerb_A1_MAPseq/FIAA32.6a/Sequencing/TUR5514A4/template_switching/analysed_chunks'"
     ]
    }
   ],
   "source": [
    "dir_path = pathlib.Path(parameters_path)\n",
    "switching_tab = ps.combine_switch_tables(\n",
    "        template_sw_directory=dir_path / \"template_switching/analysed_chunks\"\n",
    "    )"
   ]
  },
  {
   "cell_type": "code",
   "execution_count": 6,
   "id": "2c5109a3",
   "metadata": {},
   "outputs": [
    {
     "name": "stdout",
     "output_type": "stream",
     "text": [
      "starting combining samples into one big file\n"
     ]
    }
   ],
   "source": [
    "directory = pathlib.Path('/camp/lab/znamenskiyp/home/shared/projects/turnerb_MAPseq/A1_MAPseq/FIAA32.6a/Sequencing/Processed_data/UpdatedApril/preprocessed_seq_corrected/template_switching/analysed_chunks')\n",
    "switching_tab = ps.combine_switch_tables(\n",
    "        template_sw_directory=directory)#dir_path / \"template_switching/analysed_chunks\"\n",
    "    "
   ]
  },
  {
   "cell_type": "code",
   "execution_count": 12,
   "id": "a2c61301",
   "metadata": {},
   "outputs": [
    {
     "data": {
      "text/plain": [
       "(array([1.483926e+06, 2.013420e+05, 3.035780e+05, 3.539700e+05,\n",
       "        4.729710e+05, 5.528450e+05, 3.072910e+05, 1.705500e+05,\n",
       "        1.124940e+05, 6.355500e+04, 5.514400e+04, 7.045400e+04,\n",
       "        7.185100e+04, 1.055480e+05, 1.011210e+05, 1.072460e+05,\n",
       "        1.269400e+05, 9.547700e+04, 8.009700e+04, 7.267900e+04,\n",
       "        4.169500e+04, 2.753100e+04, 1.966600e+04, 9.178000e+03,\n",
       "        5.232000e+03, 3.648000e+03, 1.643000e+03, 1.231000e+03,\n",
       "        6.860000e+02, 4.390000e+02, 3.470000e+02, 1.840000e+02,\n",
       "        1.170000e+02, 8.400000e+01, 3.900000e+01, 2.700000e+01,\n",
       "        1.400000e+01, 1.000000e+01, 3.000000e+00, 1.000000e+00,\n",
       "        0.000000e+00, 1.000000e+00, 0.000000e+00, 0.000000e+00,\n",
       "        0.000000e+00, 0.000000e+00, 0.000000e+00, 0.000000e+00,\n",
       "        0.000000e+00, 2.000000e+00]),\n",
       " array([1.0, 6.36, 11.72, 17.080000000000002, 22.44, 27.8,\n",
       "        33.160000000000004, 38.52, 43.88, 49.24, 54.6, 59.96,\n",
       "        65.32000000000001, 70.68, 76.04, 81.4, 86.76, 92.12, 97.48, 102.84,\n",
       "        108.2, 113.56, 118.92, 124.28, 129.64000000000001, 135.0, 140.36,\n",
       "        145.72, 151.08, 156.44, 161.8, 167.16, 172.52, 177.88000000000002,\n",
       "        183.24, 188.60000000000002, 193.96, 199.32000000000002, 204.68,\n",
       "        210.04000000000002, 215.4, 220.76000000000002, 226.12,\n",
       "        231.48000000000002, 236.84, 242.20000000000002, 247.56,\n",
       "        252.92000000000002, 258.28000000000003, 263.64000000000004, 269.0],\n",
       "       dtype=object),\n",
       " <BarContainer object of 50 artists>)"
      ]
     },
     "execution_count": 12,
     "metadata": {},
     "output_type": "execute_result"
    },
    {
     "data": {
      "image/png": "[encoded data removed]",
      "text/plain": [
       "<Figure size 640x480 with 1 Axes>"
      ]
     },
     "metadata": {},
     "output_type": "display_data"
    }
   ],
   "source": [
    "only_ones = switching_tab[switching_tab['different_neurons']==1]\n",
    "plt.hist(only_ones[\"1st_abundant\"], bins=50)"
   ]
  },
  {
   "cell_type": "code",
   "execution_count": 13,
   "id": "afd20b5e",
   "metadata": {},
   "outputs": [
    {
     "data": {
      "text/html": [
       "<div>\n",
       "<style scoped>\n",
       "    .dataframe tbody tr th:only-of-type {\n",
       "        vertical-align: middle;\n",
       "    }\n",
       "\n",
       "    .dataframe tbody tr th {\n",
       "        vertical-align: top;\n",
       "    }\n",
       "\n",
       "    .dataframe thead th {\n",
       "        text-align: right;\n",
       "    }\n",
       "</style>\n",
       "<table border=\"1\" class=\"dataframe\">\n",
       "  <thead>\n",
       "    <tr style=\"text-align: right;\">\n",
       "      <th></th>\n",
       "      <th>total</th>\n",
       "      <th>different_neurons</th>\n",
       "      <th>1st_abundant</th>\n",
       "      <th>2nd_abundant</th>\n",
       "      <th>sequence_of_1st</th>\n",
       "      <th>sample_of_1st</th>\n",
       "      <th>chunk</th>\n",
       "      <th>UMI</th>\n",
       "    </tr>\n",
       "  </thead>\n",
       "  <tbody>\n",
       "    <tr>\n",
       "      <th>0</th>\n",
       "      <td>99</td>\n",
       "      <td>3</td>\n",
       "      <td>97</td>\n",
       "      <td>1</td>\n",
       "      <td>TGCACAATTCAGGTCAATAACTTCGGGATGCTTTATATTGTTACTA</td>\n",
       "      <td>BC64</td>\n",
       "      <td>63</td>\n",
       "      <td>TTATATTGTTACTA</td>\n",
       "    </tr>\n",
       "    <tr>\n",
       "      <th>1</th>\n",
       "      <td>67</td>\n",
       "      <td>1</td>\n",
       "      <td>67</td>\n",
       "      <td>0</td>\n",
       "      <td>GTTATATGATCTGGTTTTGGTATGGAAATTTCTTCTAAACGCTAAA</td>\n",
       "      <td>BC64</td>\n",
       "      <td>63</td>\n",
       "      <td>TTCTAAACGCTAAA</td>\n",
       "    </tr>\n",
       "    <tr>\n",
       "      <th>2</th>\n",
       "      <td>97</td>\n",
       "      <td>2</td>\n",
       "      <td>96</td>\n",
       "      <td>1</td>\n",
       "      <td>TACAGTGTGCACGTGCTCCCCTTGATTCTGCTGATTTCCATTTGCC</td>\n",
       "      <td>BC64</td>\n",
       "      <td>63</td>\n",
       "      <td>GATTTCCATTTGCC</td>\n",
       "    </tr>\n",
       "    <tr>\n",
       "      <th>3</th>\n",
       "      <td>60</td>\n",
       "      <td>1</td>\n",
       "      <td>60</td>\n",
       "      <td>0</td>\n",
       "      <td>TGCACAATTCAGGTCAATAACTTCGGGATGCTTTTCACAAACCATA</td>\n",
       "      <td>BC64</td>\n",
       "      <td>63</td>\n",
       "      <td>TTTCACAAACCATA</td>\n",
       "    </tr>\n",
       "    <tr>\n",
       "      <th>4</th>\n",
       "      <td>88</td>\n",
       "      <td>1</td>\n",
       "      <td>88</td>\n",
       "      <td>0</td>\n",
       "      <td>TGATTACATCGCCTTGATATATCTTGTCGTTTCCCTCCATTTCCTA</td>\n",
       "      <td>BC64</td>\n",
       "      <td>63</td>\n",
       "      <td>CCCTCCATTTCCTA</td>\n",
       "    </tr>\n",
       "    <tr>\n",
       "      <th>...</th>\n",
       "      <td>...</td>\n",
       "      <td>...</td>\n",
       "      <td>...</td>\n",
       "      <td>...</td>\n",
       "      <td>...</td>\n",
       "      <td>...</td>\n",
       "      <td>...</td>\n",
       "      <td>...</td>\n",
       "    </tr>\n",
       "    <tr>\n",
       "      <th>29995</th>\n",
       "      <td>20</td>\n",
       "      <td>1</td>\n",
       "      <td>20</td>\n",
       "      <td>0</td>\n",
       "      <td>TCAATGTTGGCCAGATACATTCATCAGCATTCGCATTTTTCGTGAT</td>\n",
       "      <td>BC36</td>\n",
       "      <td>218</td>\n",
       "      <td>GCATTTTTCGTGAT</td>\n",
       "    </tr>\n",
       "    <tr>\n",
       "      <th>29996</th>\n",
       "      <td>29</td>\n",
       "      <td>2</td>\n",
       "      <td>28</td>\n",
       "      <td>1</td>\n",
       "      <td>ACCTGCAGGACCTGCGTACATCCATCCACTTTTGATGTTTCAGAGA</td>\n",
       "      <td>BC36</td>\n",
       "      <td>218</td>\n",
       "      <td>TGATGTTTCAGAGA</td>\n",
       "    </tr>\n",
       "    <tr>\n",
       "      <th>29997</th>\n",
       "      <td>5</td>\n",
       "      <td>1</td>\n",
       "      <td>5</td>\n",
       "      <td>0</td>\n",
       "      <td>CTGGCCGCTTGTGTGCATCTTCATGTATGTTTATGGGCAAGCCGTA</td>\n",
       "      <td>BC36</td>\n",
       "      <td>218</td>\n",
       "      <td>ATGGGCAAGCCGTA</td>\n",
       "    </tr>\n",
       "    <tr>\n",
       "      <th>29998</th>\n",
       "      <td>29</td>\n",
       "      <td>1</td>\n",
       "      <td>29</td>\n",
       "      <td>0</td>\n",
       "      <td>CGGCTTCTTCTCAAGGGATATTTTGGAATTTCTGGTGTTAGAAATT</td>\n",
       "      <td>BC36</td>\n",
       "      <td>218</td>\n",
       "      <td>TGGTGTTAGAAATT</td>\n",
       "    </tr>\n",
       "    <tr>\n",
       "      <th>29999</th>\n",
       "      <td>25</td>\n",
       "      <td>1</td>\n",
       "      <td>25</td>\n",
       "      <td>0</td>\n",
       "      <td>AGGGCATAGAACATTGCTTATTTGGGCGTGTTTTGAAATCAATGTT</td>\n",
       "      <td>BC36</td>\n",
       "      <td>218</td>\n",
       "      <td>TTGAAATCAATGTT</td>\n",
       "    </tr>\n",
       "  </tbody>\n",
       "</table>\n",
       "<p>7443910 rows × 8 columns</p>\n",
       "</div>"
      ],
      "text/plain": [
       "      total different_neurons 1st_abundant 2nd_abundant  \\\n",
       "0        99                 3           97            1   \n",
       "1        67                 1           67            0   \n",
       "2        97                 2           96            1   \n",
       "3        60                 1           60            0   \n",
       "4        88                 1           88            0   \n",
       "...     ...               ...          ...          ...   \n",
       "29995    20                 1           20            0   \n",
       "29996    29                 2           28            1   \n",
       "29997     5                 1            5            0   \n",
       "29998    29                 1           29            0   \n",
       "29999    25                 1           25            0   \n",
       "\n",
       "                                      sequence_of_1st sample_of_1st chunk  \\\n",
       "0      TGCACAATTCAGGTCAATAACTTCGGGATGCTTTATATTGTTACTA          BC64    63   \n",
       "1      GTTATATGATCTGGTTTTGGTATGGAAATTTCTTCTAAACGCTAAA          BC64    63   \n",
       "2      TACAGTGTGCACGTGCTCCCCTTGATTCTGCTGATTTCCATTTGCC          BC64    63   \n",
       "3      TGCACAATTCAGGTCAATAACTTCGGGATGCTTTTCACAAACCATA          BC64    63   \n",
       "4      TGATTACATCGCCTTGATATATCTTGTCGTTTCCCTCCATTTCCTA          BC64    63   \n",
       "...                                               ...           ...   ...   \n",
       "29995  TCAATGTTGGCCAGATACATTCATCAGCATTCGCATTTTTCGTGAT          BC36   218   \n",
       "29996  ACCTGCAGGACCTGCGTACATCCATCCACTTTTGATGTTTCAGAGA          BC36   218   \n",
       "29997  CTGGCCGCTTGTGTGCATCTTCATGTATGTTTATGGGCAAGCCGTA          BC36   218   \n",
       "29998  CGGCTTCTTCTCAAGGGATATTTTGGAATTTCTGGTGTTAGAAATT          BC36   218   \n",
       "29999  AGGGCATAGAACATTGCTTATTTGGGCGTGTTTTGAAATCAATGTT          BC36   218   \n",
       "\n",
       "                  UMI  \n",
       "0      TTATATTGTTACTA  \n",
       "1      TTCTAAACGCTAAA  \n",
       "2      GATTTCCATTTGCC  \n",
       "3      TTTCACAAACCATA  \n",
       "4      CCCTCCATTTCCTA  \n",
       "...               ...  \n",
       "29995  GCATTTTTCGTGAT  \n",
       "29996  TGATGTTTCAGAGA  \n",
       "29997  ATGGGCAAGCCGTA  \n",
       "29998  TGGTGTTAGAAATT  \n",
       "29999  TTGAAATCAATGTT  \n",
       "\n",
       "[7443910 rows x 8 columns]"
      ]
     },
     "execution_count": 13,
     "metadata": {},
     "output_type": "execute_result"
    }
   ],
   "source": [
    "switching_tab"
   ]
  },
  {
   "cell_type": "code",
   "execution_count": null,
   "id": "df13feb3",
   "metadata": {},
   "outputs": [],
   "source": [
    "#to see how things look after removing template switching 'junk'\n",
    "directory = pathlib.Path('/camp/lab/znamenskiyp/home/shared/projects/turnerb_MAPseq/A1_MAPseq/FIAA32.6a/Sequencing/Processed_data/UpdatedApril/preprocessed_seq_corrected/template_switching/analysed_chunks')\n",
    "template_switching_check = pd.DataFrame(\n",
    "        columns=[\n",
    "            \"UMI\",\n",
    "            \"total\",\n",
    "            \"different_neurons\",\n",
    "            \"1st_abundant\",\n",
    "            \"2nd_abundant\",\n",
    "            \"sequence_of_1st\",\n",
    "            \"sample_of_1st\",\n",
    "            \"chunk\",\n",
    "        ]\n",
    "    ).set_index(\"UMI\")\n",
    "print(\"starting combining samples into one big file\", flush=True)\n",
    "for file in os.listdir(directory):\n",
    "    barcode_file = directory / file\n",
    "    if barcode_file.stem.startswith(\"template_switching_chunk_\"):\n",
    "        bc_table = pd.read_csv(barcode_file)\n",
    "        sample = barcode_file.stem.split(\"template_switching_chunk_\", 1)[1]\n",
    "        bc_table[\"chunk\"] = sample\n",
    "        template_switching_check = pd.concat([template_switching_check, bc_table])\n",
    "#bla = pd.read_csv(directory / \"template_switching/template_switching_all_seq.csv\")"
   ]
  },
  {
   "cell_type": "code",
   "execution_count": null,
   "id": "1d778971",
   "metadata": {},
   "outputs": [],
   "source": [
    "#ignore duplicates\n",
    "only_ones = template_switching_check[template_switching_check['different_neurons']==1]\n",
    "plt.hist(only_ones[\"1st_abundant\"], bins=50)\n",
    "# plt.xticks(range(4),np.logspace(0,3,4))\n",
    "plt.title('Number of reads per UMI post correction', fontsize=12)\n",
    "plt.yscale('log')\n",
    "\n",
    "plt.axvline(x = 4, color = \"Black\", label = \"cut-off\")\n",
    "plt.legend(loc = 'upper right')\n",
    "plt.xlabel('UMI counts')\n",
    "plt.ylabel('Frequency')"
   ]
  },
  {
   "cell_type": "code",
   "execution_count": null,
   "id": "866580f8",
   "metadata": {},
   "outputs": [],
   "source": [
    "switches = template_switching_check[template_switching_check['different_neurons']>1]\n",
    "plt.hist(switches[switches['1st_abundant']/switches['2nd_abundant']<10]['chunk'], bins=91)"
   ]
  },
  {
   "cell_type": "code",
   "execution_count": null,
   "id": "91e43670",
   "metadata": {},
   "outputs": [],
   "source": [
    "directory = pathlib.Path('/camp/lab/znamenskiyp/home/shared/projects/turnerb_MAPseq/A1_MAPseq/FIAA32.6a/Sequencing/Processed_data/UpdatedApril/preprocessed_seq_corrected')\n"
   ]
  },
  {
   "cell_type": "code",
   "execution_count": null,
   "id": "435b27c0",
   "metadata": {},
   "outputs": [],
   "source": [
    "bla = pd.read_csv(directory / \"template_switching/template_switching_all_seq.csv\")"
   ]
  },
  {
   "cell_type": "code",
   "execution_count": null,
   "id": "3b7d8b8b",
   "metadata": {},
   "outputs": [],
   "source": [
    "bla"
   ]
  },
  {
   "cell_type": "code",
   "execution_count": null,
   "id": "74a45691",
   "metadata": {},
   "outputs": [],
   "source": [
    "barcode_file_range =96\n",
    "dir_path = pathlib.Path(directory)\n",
    "value_counts = pd.DataFrame()\n",
    "out_dir = dir_path.joinpath(\"Final_processed_sequences\")\n",
    "pathlib.Path(out_dir).mkdir(parents=True, exist_ok=True)\n",
    "for i in range(barcode_file_range):\n",
    "    barcode = f\"BC{i+1}\"\n",
    "    sample_file = dir_path / f\"corrected_{barcode}.csv\"\n",
    "    if os.path.isfile(sample_file):\n",
    "        sample_table = pd.read_csv(sample_file)\n",
    "        sample_table[\"combined\"] = (sample_table[\"corrected_sequences_neuron\"]+ sample_table[\"corrected_sequences_umi\"])\n",
    "        total_counts =sample_table['combined'].value_counts().rename_axis('sequence').reset_index(name='counts')\n",
    "        value_counts = pd.concat([value_counts, total_counts])"
   ]
  },
  {
   "cell_type": "code",
   "execution_count": null,
   "id": "cbb76cfc",
   "metadata": {},
   "outputs": [],
   "source": [
    "plt.hist(value_counts[\"counts\"], bins=100)\n",
    "# plt.xticks(range(4),np.logspace(0,3,4))\n",
    "plt.title('Number of reads per UMI post correction', fontsize=12)\n",
    "plt.yscale('log')\n",
    "\n",
    "#plt.axvline(x = 9, color = \"Black\", label = \"cut-off\")\n",
    "plt.legend(loc = 'upper right')\n",
    "plt.xlabel('UMI counts')\n",
    "plt.ylabel('Frequency')"
   ]
  },
  {
   "cell_type": "code",
   "execution_count": null,
   "id": "1f206065",
   "metadata": {},
   "outputs": [],
   "source": [
    "value_counts.counts.sum()"
   ]
  },
  {
   "cell_type": "code",
   "execution_count": null,
   "id": "a28cb675",
   "metadata": {},
   "outputs": [],
   "source": [
    "barcode_range =91\n",
    "raw_value_counts = pd.DataFrame()\n",
    "raw_path = pathlib.Path('/camp/lab/znamenskiyp/home/shared/projects/turnerb_MAPseq/A1_MAPseq/FIAA32.6a/Sequencing/Processed_data/New/')\n",
    "for x in range(barcode_range):\n",
    "        barcode_num = \"BC\" + str(x + 1) + \".txt\"\n",
    "        if barcode_num != 'BC36.txt' and barcode_num != 'BC65.txt':\n",
    "            barcode_file = raw_path.joinpath(barcode_num)\n",
    "            raw_bc = pd.read_csv(u\n",
    "                barcode_file, delimiter=\"\\t\", skiprows=lambda x: (x != 0) and not x % 2\n",
    "            )   \n",
    "            raw_total_counts = raw_bc.value_counts().rename_axis('sequence').reset_index(name='counts')\n",
    "            raw_value_counts = pd.concat([raw_value_counts, raw_total_counts])"
   ]
  },
  {
   "cell_type": "code",
   "execution_count": null,
   "id": "bd3bbd13",
   "metadata": {},
   "outputs": [],
   "source": [
    "plt.hist(raw_value_counts[\"counts\"], bins=100)\n",
    "plt.title('Number of reads per UMI (pre error correction)', fontsize=12)\n",
    "plt.yscale('log')\n",
    "\n",
    "#plt.axvline(x = 9, color = \"Black\", label = \"cut-off\")\n",
    "plt.legend(loc = 'upper right')\n",
    "plt.xlabel('UMI counts')\n",
    "plt.ylabel('Frequency')"
   ]
  },
  {
   "cell_type": "code",
   "execution_count": null,
   "id": "244c5877",
   "metadata": {},
   "outputs": [],
   "source": [
    "raw_value_counts['counts'].sum()"
   ]
  },
  {
   "cell_type": "code",
   "execution_count": null,
   "id": "db762775",
   "metadata": {},
   "outputs": [],
   "source": [
    "plt.hist(value_counts[\"counts\"], bins=200)\n",
    "plt.title('Number of reads per UMI (pre error correction)', fontsize=12)\n",
    "plt.yscale('log')\n",
    "\n",
    "#plt.axvline(x = 9, color = \"Black\", label = \"cut-off\")\n",
    "plt.legend(loc = 'upper right')\n",
    "plt.xlabel('UMI counts')\n",
    "plt.ylabel('Frequency')"
   ]
  },
  {
   "cell_type": "code",
   "execution_count": null,
   "id": "550ad87c",
   "metadata": {},
   "outputs": [],
   "source": [
    "plt.hist(value_counts[\"counts\"], bins=200)\n",
    "# plt.xticks(range(4),np.logspace(0,3,4))\n",
    "plt.title('Number of reads per UMI', fontsize=12)\n",
    "plt.yscale('log')\n",
    "plt.xlim(0,400)\n",
    "plt.axvline(x = 9, color = \"Black\", label = \"cut-off\")\n",
    "plt.legend(loc = 'upper right')\n",
    "plt.xlabel('UMI counts')\n",
    "plt.ylabel('Frequency')"
   ]
  },
  {
   "cell_type": "code",
   "execution_count": null,
   "id": "4dc2eef4",
   "metadata": {},
   "outputs": [],
   "source": []
  },
  {
   "cell_type": "code",
   "execution_count": null,
   "id": "43ef0d56",
   "metadata": {},
   "outputs": [],
   "source": []
  },
  {
   "cell_type": "code",
   "execution_count": null,
   "id": "314df6ac",
   "metadata": {},
   "outputs": [],
   "source": []
  },
  {
   "cell_type": "code",
   "execution_count": null,
   "id": "f7e78064",
   "metadata": {},
   "outputs": [],
   "source": [
    "sorting_directory = '/camp/lab/znamenskiyp/home/shared/projects/turnerb_MAPseq/A1_MAPseq/FIAA32.6a/Sequencing/Processed_data/BC_split/temp/increased_cutoff'\n",
    "\n",
    "sorting_dir = pathlib.Path(sorting_directory)\n",
    "all_seq = pd.DataFrame()\n",
    "for barcode_file in os.listdir(sorting_dir):\n",
    "    if barcode_file.startswith(\"neuroncounts_\"):\n",
    "        to_read = pd.read_csv(sorting_dir/barcode_file)\n",
    "        sequences = to_read[\"sequence\"]\n",
    "        all_seq =pd.concat([all_seq, sequences])\n",
    "all_seq_unique =all_seq.value_counts().rename_axis('sequence').reset_index(name='counts')\n"
   ]
  },
  {
   "cell_type": "code",
   "execution_count": null,
   "id": "64c426af",
   "metadata": {},
   "outputs": [],
   "source": [
    "samples = list(range(1, 92))\n",
    "zeros = np.zeros(shape=(len(all_seq_unique['sequence']),len(samples)))\n",
    "barcodes_across_sample = pd.DataFrame(zeros, columns=samples)\n",
    "barcodes_across_sample =barcodes_across_sample.set_index(all_seq_unique['sequence'])"
   ]
  },
  {
   "cell_type": "code",
   "execution_count": null,
   "id": "d3e19226",
   "metadata": {},
   "outputs": [],
   "source": [
    "for file in os.listdir(sorting_directory):\n",
    "    barcodefile= sorting_dir/file\n",
    "    if barcodefile.stem.startswith(\"neuroncounts_\"):\n",
    "        toread = pd.read_csv(barcodefile)\n",
    "        sample = int(barcodefile.stem.split(\"neuroncounts_BC\", 1)[1])\n",
    "        for r, sequence in toread[\"sequence\"].items():\n",
    "            barcodes_across_sample.loc[sequence,sample] = toread[\"counts\"][r]\n",
    "        "
   ]
  },
  {
   "cell_type": "code",
   "execution_count": null,
   "id": "e4139cee",
   "metadata": {},
   "outputs": [],
   "source": [
    "summary = barcodes_across_sample.sum(axis=1)\n",
    "plt.hist(summary, bins=3)\n"
   ]
  },
  {
   "cell_type": "code",
   "execution_count": null,
   "id": "e7e11454",
   "metadata": {},
   "outputs": [],
   "source": [
    "min(summary)"
   ]
  },
  {
   "cell_type": "code",
   "execution_count": null,
   "id": "536faefc",
   "metadata": {},
   "outputs": [],
   "source": [
    "bla = barcodes_across_sample[29][barcodes_across_sample[29]>0]\n",
    "bla"
   ]
  },
  {
   "cell_type": "code",
   "execution_count": null,
   "id": "a62dcebb",
   "metadata": {},
   "outputs": [],
   "source": [
    "barcodes_across_sample.loc['TTGTTTAGATAGTTTGTACCTGTGCGTCGGTT',1]"
   ]
  },
  {
   "cell_type": "code",
   "execution_count": null,
   "id": "e12abfb6",
   "metadata": {},
   "outputs": [],
   "source": [
    "for barcode in all_seq_unique:\n",
    "index += 1\n",
    "#for barcodefile in os.listdir(sorting_directory):\n",
    "\n",
    "if barcodefile.startswith(\"neuroncounts_\"):\n",
    "    toread = pd.read_csv(barcodefile)\n",
    "    sample = int(barcodefile.split(\"neuroncounts_BC\", 1)[1][: -len(\".csv\")])\n",
    "    for r, sequence in toread[\"sequence\"].items():\n",
    "        barcodes_across_sample.loc[sequence,sample] = toread[\"counts\"][r]\n",
    "        "
   ]
  },
  {
   "cell_type": "code",
   "execution_count": null,
   "id": "7b22ab76",
   "metadata": {},
   "outputs": [],
   "source": []
  },
  {
   "cell_type": "code",
   "execution_count": null,
   "id": "2a28a154",
   "metadata": {},
   "outputs": [],
   "source": [
    "samples = list(range(1, 92))\n",
    "zeros = np.zeros(shape=(len(all_seq_unique['sequence']),len(samples)))\n",
    "barcodes_across_sample = pd.DataFrame(zeros, columns=samples)"
   ]
  },
  {
   "cell_type": "code",
   "execution_count": null,
   "id": "829aebd6",
   "metadata": {},
   "outputs": [],
   "source": [
    "barcodes_across_sample.set_index(all_seq_unique['sequence'])"
   ]
  },
  {
   "cell_type": "code",
   "execution_count": null,
   "id": "9fe55862",
   "metadata": {},
   "outputs": [],
   "source": [
    "barcodefile.stem.split(\"neuroncounts_BC\", 1)[1]"
   ]
  },
  {
   "cell_type": "code",
   "execution_count": null,
   "id": "9dc8bf18",
   "metadata": {},
   "outputs": [],
   "source": [
    "barcodefile = sorting_dir/'neuroncounts_BC29.csv'\n",
    "for i, row in all_seq_unique.iterrows():\n",
    "    barcode = row['sequence']\n",
    "    toread = pd.read_csv(barcodefile)\n",
    "    sample = int(barcodefile.stem.split(\"neuroncounts_BC\", 1)[1])\n",
    "    for r, sequence in toread[\"sequence\"].items():\n",
    "        if sequence == barcode:\n",
    "            barcodes_across_sample.at[index, sample] = toread[\"counts\"][r]"
   ]
  },
  {
   "cell_type": "code",
   "execution_count": null,
   "id": "dd9d8623",
   "metadata": {},
   "outputs": [],
   "source": [
    "df.set_index('month')\n",
    "for r, sequence in toread[\"sequence\"].items():"
   ]
  },
  {
   "cell_type": "code",
   "execution_count": null,
   "id": "9fb3a8bd",
   "metadata": {},
   "outputs": [],
   "source": [
    "for i, barcode in all_seq_unique.iterrows():\n",
    "    print"
   ]
  },
  {
   "cell_type": "code",
   "execution_count": null,
   "id": "01a30ecf",
   "metadata": {},
   "outputs": [],
   "source": [
    "# Note this figure was used in Shirom Chabra's code to evaluate the UMI cut-off.\n",
    "plt.hist(np.log(total_counts[\"counts\"])/np.log(10), bins=50)\n",
    "# plt.xticks(range(4),np.logspace(0,3,4))\n",
    "plt.title('Number of UMIs per barcode', fontsize=12)\n",
    "plt.yscale('log')\n",
    "plt.axvline(x = np.log(2), color = \"Black\", label = \"cut-off\")\n",
    "plt.legend(loc = 'upper left')"
   ]
  },
  {
   "cell_type": "code",
   "execution_count": null,
   "id": "a75ed636",
   "metadata": {},
   "outputs": [],
   "source": [
    "barcode_file"
   ]
  },
  {
   "cell_type": "code",
   "execution_count": null,
   "id": "90fcd0bb",
   "metadata": {
    "scrolled": true
   },
   "outputs": [],
   "source": [
    "plt.hist(total_counts[\"counts\"], bins=100)\n",
    "# plt.xticks(range(4),np.logspace(0,3,4))\n",
    "plt.title('Number of UMIs per barcode', fontsize=12)\n",
    "plt.yscale('log')\n",
    "plt.axvline(x = 9, color = \"Black\", label = \"cut-off\")\n",
    "plt.legend(loc = 'upper right')"
   ]
  },
  {
   "cell_type": "code",
   "execution_count": null,
   "id": "71223a04",
   "metadata": {},
   "outputs": [],
   "source": [
    "plt.hist(value_counts[\"counts\"], bins=100)\n",
    "# plt.xticks(range(4),np.logspace(0,3,4))\n",
    "plt.title('Number of UMIs per barcode', fontsize=12)\n",
    "plt.yscale('log')\n",
    "\n",
    "plt.axvline(x = 9, color = \"Black\", label = \"cut-off\")\n",
    "plt.legend(loc = 'upper right')\n",
    "plt.xlabel('UMI counts')\n",
    "plt.ylabel('Frequency')"
   ]
  },
  {
   "cell_type": "code",
   "execution_count": null,
   "id": "57ecd429",
   "metadata": {},
   "outputs": [],
   "source": [
    "# set new file with cut-off as 7\n",
    "def combineUMIandBC(directory, outdirectory, barcodefilerange=96):\n",
    "    \"\"\"\n",
    "    Function to combine corrected barcodes and UMI's for each read and collect value counts.\n",
    "    Also to detect degree of template switching between reads by seeing if UMI is shared by more than one barcode\n",
    "    Also to split spike RNA from neuron barcodes, by whether contains N[24]ATCAGTCA (vs N[32]CTCT for neuron barcodes)\n",
    "    Args:\n",
    "        directory: temp file where the intermediate UMI and barcode clustered csv files are kept\n",
    "        barcodefilerange: the number of samples you want to loop through (default set for 96)\n",
    "    \"\"\"\n",
    "    os.chdir(directory)\n",
    "    UMI_cutoff = 7\n",
    "    for i in range(barcodefilerange):\n",
    "        os.chdir(directory)\n",
    "        num = i + 1\n",
    "        barcode = \"BC%s\" % num\n",
    "        neuronfile = \"neuronBCcorrected_%s.csv\" % barcode\n",
    "        umifile = \"UMIs_corrected_%s.csv\" % barcode\n",
    "        if os.path.isfile(neuronfile) and os.path.isfile(umifile):\n",
    "            print(\"processing %s\" % barcode, flush=True)\n",
    "            combined = pd.concat(\n",
    "                [pd.read_csv(neuronfile), pd.read_csv(umifile)], axis=1\n",
    "            )\n",
    "            combined[\"combined\"] = (\n",
    "                combined[\"corrected_neuronBC\"] + combined[\"corrected_umi\"]\n",
    "            )\n",
    "            spikein = combined[\n",
    "                combined[\"combined\"].str.contains(\"^.{24}ATCAGTCA\") == True\n",
    "            ].rename_axis(\"sequence\")\n",
    "            neurons = combined[\n",
    "                combined[\"combined\"].str.contains(\"^.{30}[CT][CT]\") == True\n",
    "            ].rename_axis(\"sequence\")\n",
    "            neuroncounts = (\n",
    "                neurons[\"combined\"]\n",
    "                .value_counts()\n",
    "                .rename_axis(\"sequence\")\n",
    "                .reset_index(name=\"counts\")\n",
    "            )\n",
    "            counts_spike = (\n",
    "                spikein[\"combined\"]\n",
    "                .value_counts()\n",
    "                .rename_axis(\"sequence\")\n",
    "                .reset_index(name=\"counts\")\n",
    "            )\n",
    "            # only take umi counts greater or equal to 2\n",
    "            neuroncounts = neuroncounts[neuroncounts[\"counts\"] >= UMI_cutoff]\n",
    "            counts_spike = counts_spike[counts_spike[\"counts\"] >= UMI_cutoff]\n",
    "            counts_spike[\"barcode\"] = counts_spike[\"sequence\"].str[:32]\n",
    "            neuroncounts[\"barcode\"] = neuroncounts[\"sequence\"].str[:32]\n",
    "            spikeneuron = (\n",
    "                counts_spike[\"barcode\"]\n",
    "                .value_counts()\n",
    "                .rename_axis(\"sequence\")\n",
    "                .reset_index(name=\"counts\")\n",
    "            )\n",
    "            neuroncounts = (\n",
    "                neuroncounts[\"barcode\"]\n",
    "                .value_counts()\n",
    "                .rename_axis(\"sequence\")\n",
    "                .reset_index(name=\"counts\")\n",
    "            )\n",
    "            os.chdir(outdirectory)\n",
    "            print(\"finished %s\" % barcode, flush=True)\n",
    "            tosaveBC = \"neuroncounts_%s.csv\" % barcode\n",
    "            tosavespike = \"spikecounts_%s.csv\" % barcode\n",
    "            spikeneuron.to_csv(tosavespike)\n",
    "            neuroncounts.to_csv(tosaveBC)\n",
    "        else:\n",
    "            print(\"both not there for %s\" % barcode)"
   ]
  },
  {
   "cell_type": "code",
   "execution_count": null,
   "id": "c13cdd26",
   "metadata": {},
   "outputs": [],
   "source": [
    "out_dir = dir_path.joinpath('increased_cutoff')\n",
    "combineUMIandBC(directory=directory, outdirectory=out_dir, barcodefilerange=96)"
   ]
  },
  {
   "cell_type": "code",
   "execution_count": null,
   "id": "710635d6",
   "metadata": {},
   "outputs": [],
   "source": [
    "import os\n",
    "import numpy as np\n",
    "import pandas as pd\n",
    "from umi_tools import UMIClusterer\n",
    "from datetime import datetime\n",
    "import subprocess, shlex\n",
    "import pathlib"
   ]
  },
  {
   "cell_type": "code",
   "execution_count": null,
   "id": "e0959248",
   "metadata": {},
   "outputs": [],
   "source": []
  }
 ],
 "metadata": {
  "kernelspec": {
   "display_name": "MAPseq_processing",
   "language": "python",
   "name": "python3"
  },
  "language_info": {
   "codemirror_mode": {
    "name": "ipython",
    "version": 3
   },
   "file_extension": ".py",
   "mimetype": "text/x-python",
   "name": "python",
   "nbconvert_exporter": "python",
   "pygments_lexer": "ipython3",
   "version": "3.8.16"
  }
 },
 "nbformat": 4,
 "nbformat_minor": 5
}
