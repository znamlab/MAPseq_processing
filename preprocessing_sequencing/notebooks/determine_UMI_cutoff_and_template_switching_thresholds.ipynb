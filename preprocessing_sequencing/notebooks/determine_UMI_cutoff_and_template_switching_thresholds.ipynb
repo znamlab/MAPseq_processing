{
 "cells": [
  {
   "cell_type": "code",
   "execution_count": 1,
   "id": "75c72707",
   "metadata": {},
   "outputs": [],
   "source": [
    "import os\n",
    "import numpy as np\n",
    "import pandas as pd\n",
    "import pathlib\n",
    "import matplotlib as mpl\n",
    "import matplotlib.pyplot as plt\n",
    "from preprocessing_sequencing import preprocess_sequences as ps\n",
    "%matplotlib inline\n",
    "import yaml\n",
    "from collections import Counter\n",
    "from math import log\n",
    "from datetime import datetime"
   ]
  },
  {
   "cell_type": "code",
   "execution_count": 17,
   "id": "23052658",
   "metadata": {},
   "outputs": [],
   "source": [
    "# put in path to processed data folder containing parameters yaml file \n",
    "parameters_path = pathlib.Path('/camp/lab/znamenskiyp/home/shared/projects/turnerb_A1_MAPseq/FIAA55.4d/Sequencing')"
   ]
  },
  {
   "cell_type": "markdown",
   "id": "dcfb3048",
   "metadata": {},
   "source": [
    "Load parameters"
   ]
  },
  {
   "cell_type": "code",
   "execution_count": 37,
   "id": "87e90fc6",
   "metadata": {},
   "outputs": [],
   "source": [
    "parameters = ps.load_parameters(directory=parameters_path)"
   ]
  },
  {
   "cell_type": "markdown",
   "id": "6a0e6a74",
   "metadata": {},
   "source": [
    "Load all reads and combine template switching tables"
   ]
  },
  {
   "cell_type": "code",
   "execution_count": null,
   "id": "fd6a5cf2",
   "metadata": {},
   "outputs": [],
   "source": [
    "#load template switching chunks all together\n",
    "dir_path = pathlib.Path(parameters_path)\n",
    "switching_tab = ps.combine_switch_tables(\n",
    "        template_sw_directory=dir_path / \"template_switching/analysed_chunks\"\n",
    "    )"
   ]
  },
  {
   "cell_type": "code",
   "execution_count": 40,
   "id": "44b70c08",
   "metadata": {},
   "outputs": [],
   "source": [
    "#load file with combined reads corrected\n",
    "dir_path = pathlib.Path(parameters_path)\n",
    "all_seq = pd.read_csv(dir_path / \"template_switching/template_switching_all_seq.csv\")"
   ]
  },
  {
   "cell_type": "markdown",
   "id": "4dbc5b99",
   "metadata": {},
   "source": [
    "Compare UMI cut-off thresholds"
   ]
  },
  {
   "cell_type": "code",
   "execution_count": null,
   "id": "89098330",
   "metadata": {},
   "outputs": [],
   "source": [
    "UMI_cutoff = parameters['UMI_cutoff']\n",
    "UMI_cutoff_adjusted = 3\n",
    "plt.hist(np.log10(all_seq_counts.astype(float)), label='all UMIs after correction', bins=30)\n",
    "plt.hist(np.log10((switching_tab['1st_abundant']).astype(float)), label='UMI duplicates for only most abundant UMI-barcode combination after correction') #these  are less likely to be UMI count errors from template switching\n",
    "plt.axvline(np.log10(UMI_cutoff), label=f'default cut-off threshold ({UMI_cutoff})', color='grey', linestyle='dashed')\n",
    "plt.axvline(np.log10(UMI_cutoff_adjusted), label=f'adjusted cut-off threshold = {UMI_cutoff_adjusted}', color='black', linestyle='dashed')\n",
    "plt.xlabel('log10(UMI count)')\n",
    "plt.legend()"
   ]
  },
  {
   "cell_type": "markdown",
   "id": "07457241",
   "metadata": {},
   "source": [
    "Run below if you want to adjust the threshold in parameters yml"
   ]
  },
  {
   "cell_type": "code",
   "execution_count": 56,
   "id": "124624f4",
   "metadata": {},
   "outputs": [],
   "source": [
    "UMI_cutoff_adjusted = 8\n",
    "with open(parameters_path/'parameters.yml', 'r') as file:\n",
    "    data = yaml.load(file, Loader=yaml.FullLoader)\n",
    "# Update the value in the dictionary\n",
    "data['UMI_collapse_parameters']['UMI_cutoff'] = UMI_cutoff_adjusted\n",
    "with open(parameters_path/'parameters.yml', 'w') as file:\n",
    "    yaml.dump(data, file)"
   ]
  },
  {
   "cell_type": "markdown",
   "id": "38542aed",
   "metadata": {},
   "source": [
    "Now let's look at the distribution of putative template switching events versus expected number of UMI duplicates occuring by chance"
   ]
  },
  {
   "cell_type": "code",
   "execution_count": null,
   "id": "34de46cd",
   "metadata": {},
   "outputs": [],
   "source": [
    "# what frequency of duplicates would you expect in the library?\n",
    "UMI_diversity = pow(4,14)\n",
    "number_UMIs = len(switching_tab)\n",
    "liklihood_two_molecules_the_same = (1/UMI_diversity)*number_UMIs\n",
    "print(f\"Number of duplicate UMIs expected by chance is {liklihood_two_molecules_the_same*100} %\")"
   ]
  },
  {
   "cell_type": "code",
   "execution_count": null,
   "id": "8f971736",
   "metadata": {},
   "outputs": [],
   "source": [
    "#plot frequency distribution of umi's associated with different neuron barcodes (i.e. template switching if # neuron barcodes associated with same umi >1)\n",
    "plt.title(f\"Frequency of 1 neuron barcode per UMI = {(len(switching_tab[switching_tab['different_neurons']==1]))/(len(switching_tab))*100}%\", fontsize=12)\n",
    "plt.yscale('log')\n",
    "plt.xlabel('neuron barcodes per umi')\n",
    "plt.ylabel('frequency')#plt.hist(np.log10(switching_tab['different_neurons'].astype(float)+1))\n",
    "plt.hist(switching_tab['different_neurons'], bins = 100)\n",
    "plt.yscale('log')"
   ]
  },
  {
   "cell_type": "markdown",
   "id": "4efbeeba",
   "metadata": {},
   "source": [
    "To distinguish between real template switching events (versus putative junk or re-used UMI's) let's look at the relative abundance of UMI counts of the same UMI associated with different neuron barcodes. Cut-off is determined by the different population distributions based on relative abundance of UMI counts. Template switching takes place during a PCR cycle. Therefore, one would expect the real UMI-barcode combination to be present at higher UMI counts than template switching events. UMI-barcode combinations found in similar abundance may not be template switching events. Therefore a minimum cut-off threshold is determined manually by inspecting distribution of populations associated with 1st/2nd most abundant UMIs. Below this threshold we will simply remove, since it's not expected to affect the overall distribution of barcodes and could be junk reads."
   ]
  },
  {
   "cell_type": "code",
   "execution_count": null,
   "id": "2c5109a3",
   "metadata": {},
   "outputs": [],
   "source": [
    "#within the umi's sharing a barcode, what is the distribution of 1st/second most abundant?\n",
    "template_abundance_cutoff = parameters['template_switch_abundance']\n",
    "altered_template_abundance_cutoff = 11\n",
    "template_switches = switching_tab[switching_tab['different_neurons']>1]\n",
    "plt.hist((template_switches['1st_abundant']/template_switches['2nd_abundant']), bins=50)\n",
    "plt.title('1st/2nd most abundant UMI counts for UMI shared between neuron barcodes', fontsize=12)\n",
    "plt.xlabel('1st/2nd counts')\n",
    "plt.ylabel('frequency')\n",
    "plt.yscale('log')\n",
    "plt.axvline(x =template_abundance_cutoff, linestyle='dashed', color = \"Grey\", label = \"cut-off\", alpha=0.5)\n",
    "plt.axvline(x =altered_template_abundance_cutoff, linestyle='dashed', color = \"Black\", label = \"new cut-off\", alpha=0.5)\n",
    "plt.legend()\n"
   ]
  },
  {
   "cell_type": "markdown",
   "id": "c7e1c76d",
   "metadata": {},
   "source": [
    "Since junk reads could be associated with less complex sequences, lets check the cut-off by looking at features of the UMI's themselves associated with different 1st/2nd counts"
   ]
  },
  {
   "cell_type": "code",
   "execution_count": null,
   "id": "f558e1a8",
   "metadata": {},
   "outputs": [],
   "source": [
    "#calculate shannon entropy for umi's to see if it might be bias for low complexity sequences\n",
    "s = lambda i : - sum(f * log(f, 2) for f in ((j / len(i)) for j in Counter(i).values()))\n",
    "template_switches['entropy'] = template_switches['UMI'].apply(s)\n",
    "template_switches['relative_abundance'] = template_switches['1st_abundant']/template_switches['2nd_abundant']\n",
    "#calculate AT content\n",
    "AT_calc = lambda x: (x.count('A') + x.count('T')) / len(x)\n",
    "template_switches['AT_content'] = template_switches['UMI'].apply(AT_calc)\n"
   ]
  },
  {
   "cell_type": "code",
   "execution_count": null,
   "id": "1b0e27a3",
   "metadata": {},
   "outputs": [],
   "source": [
    "plt.hist2d(template_switches['entropy'], template_switches['relative_abundance'], norm=mpl.colors.LogNorm(), bins=(20, np.arange(1, 250, 10)))\n",
    "plt.colorbar()\n",
    "plt.xlabel('entropy')\n",
    "plt.ylabel('1st/2nd abundance')\n",
    "plt.title('Entropy of UMI sequence vs Abundance')"
   ]
  },
  {
   "cell_type": "code",
   "execution_count": null,
   "id": "a2c61301",
   "metadata": {},
   "outputs": [],
   "source": [
    "plt.hist2d(template_switches['AT_content'], template_switches['relative_abundance'], norm=mpl.colors.LogNorm(), bins=(15, np.arange(1, 250, 10)))\n",
    "plt.colorbar()\n",
    "plt.xlabel('AT content')\n",
    "plt.ylabel('1st/2nd abundance')\n",
    "plt.title('AT content of UMI sequence vs Abundance')"
   ]
  },
  {
   "cell_type": "markdown",
   "id": "afd20b5e",
   "metadata": {},
   "source": [
    "If change in template switch abundance threshold required, run cell below with altered parameters to update paramaters.yml file in processed data folder."
   ]
  },
  {
   "cell_type": "code",
   "execution_count": null,
   "id": "df13feb3",
   "metadata": {},
   "outputs": [],
   "source": [
    "template_abundance_cutoff_adjusted = 8\n",
    "with open(parameters_path/'parameters.yml', 'r') as file:\n",
    "    data = yaml.load(file, Loader=yaml.FullLoader)\n",
    "# Update the value in the dictionary\n",
    "data['UMI_collapse_parameters']['template_switch_abundance'] = template_abundance_cutoff_adjusted\n",
    "with open(parameters_path/'parameters.yml', 'w') as file:\n",
    "    yaml.dump(data, file)"
   ]
  },
  {
   "cell_type": "markdown",
   "id": "1d778971",
   "metadata": {},
   "source": [
    "Once paramaters for UMI cut-off and template switching abundance have been determined, run cell below to finish preprocessing"
   ]
  },
  {
   "cell_type": "code",
   "execution_count": null,
   "id": "74a45691",
   "metadata": {},
   "outputs": [],
   "source": [
    "# start job for combining UMI and BC of corrected sequences\n",
    "job_id = ps.combine_UMI_and_BC(use_slurm=True, slurm_folder=parameters[\"SLURM_DIR\"], directory = str(parameters_path))\n",
    "t = datetime.now()\n",
    "print(f\"Sent job for final pre-processing step at at {t}\")\n"
   ]
  }
 ],
 "metadata": {
  "kernelspec": {
   "display_name": "MAPseq_processing",
   "language": "python",
   "name": "python3"
  },
  "language_info": {
   "codemirror_mode": {
    "name": "ipython",
    "version": 3
   },
   "file_extension": ".py",
   "mimetype": "text/x-python",
   "name": "python",
   "nbconvert_exporter": "python",
   "pygments_lexer": "ipython3",
   "version": "3.8.16"
  }
 },
 "nbformat": 4,
 "nbformat_minor": 5
}
