{
 "cells": [
  {
   "cell_type": "code",
   "execution_count": null,
   "id": "a5f9e405",
   "metadata": {},
   "outputs": [],
   "source": [
    "import pandas as pd\n",
    "import os\n",
    "import numpy as np\n",
    "import seaborn as sb\n",
    "import matplotlib.pyplot as plt\n",
    "from matplotlib.colors import LogNorm, Normalize\n",
    "import seaborn as sb\n",
    "import os\n",
    "import sys\n",
    "sys.setrecursionlimit(1000000)\n",
    "from scipy.stats import spearmanr\n"
   ]
  },
  {
   "cell_type": "code",
   "execution_count": null,
   "id": "6edf2274",
   "metadata": {},
   "outputs": [],
   "source": [
    "directory = '/camp/lab/znamenskiyp/home/shared/projects/turnerb_MAPseq/A1_MAPseq/FIAA32.6a/Sequencing/Processed_data/final_counts/'\n",
    "os.chdir(directory)\n",
    "barcodes_across_sample = pd.read_pickle(\"barcodes_across_sample.pkl\")"
   ]
  },
  {
   "cell_type": "code",
   "execution_count": null,
   "id": "1eac4573",
   "metadata": {},
   "outputs": [],
   "source": [
    "_3dareas = '/camp/lab/znamenskiyp/home/shared/code/MAPseq_processing/AC_MAPseq/Brain1_FIAA32.6a/LCM_registration/3D_areas_in_sample.csv'\n",
    "areas = pd.read_csv(_3dareas, index_col=0)\n",
    "RTtosample = pd.read_csv('/camp/lab/znamenskiyp/home/shared/code/MAPseq_processing/AC_MAPseq/Brain1_FIAA32.6a/LCM_registration/RTprimer_tosample.csv')\n",
    "areas =areas.merge(RTtosample, how='inner', on='sample')\n",
    "areas_only = areas.drop(['sample', 'RT_primer'], axis=1)"
   ]
  },
  {
   "cell_type": "code",
   "execution_count": null,
   "id": "18479ea3",
   "metadata": {},
   "outputs": [],
   "source": []
  },
  {
   "cell_type": "code",
   "execution_count": null,
   "id": "43b2dedc",
   "metadata": {},
   "outputs": [],
   "source": []
  },
  {
   "cell_type": "code",
   "execution_count": null,
   "id": "29ce0378",
   "metadata": {},
   "outputs": [],
   "source": [
    "#remove barcodes that are only seen in one sample\n",
    "barcodes_across_sample['samplesnotin'] =0\n",
    "for index, row in barcodes_across_sample.iterrows():\n",
    "    barcodes_across_sample['samplesnotin'].iloc[index]=(row.isna().sum())\n",
    "barcodes_across_sample = barcodes_across_sample[barcodes_across_sample['samplesnotin']<90]\n",
    "barcodes_across_sample = barcodes_across_sample.drop('samplesnotin', axis=1)\n",
    "#remove NaN\n",
    "barcodes_across_sample = barcodes_across_sample.fillna(0)"
   ]
  },
  {
   "cell_type": "code",
   "execution_count": null,
   "id": "dbce57b1",
   "metadata": {},
   "outputs": [],
   "source": [
    "#set min val to 1\n",
    "barcodes_across_sample= barcodes_across_sample.reset_index(drop=True)\n",
    "for index, row in barcodes_across_sample.iterrows():\n",
    "    bla = np.array(row)\n",
    "    smallest = np.min(bla[np.nonzero(bla)])\n",
    "    barcodes_across_sample.iloc[[index]]=row/smallest"
   ]
  },
  {
   "cell_type": "code",
   "execution_count": null,
   "id": "346ab9fc",
   "metadata": {},
   "outputs": [],
   "source": [
    "#select rows based on min count at source sites\n",
    "barcodes_norm_sub1 = barcodes_across_sample.loc[(barcodes_across_sample[40] >= 20)]\n",
    "barcodes_norm_sub2 = barcodes_across_sample.loc[(barcodes_across_sample[41] >= 20)]\n",
    "barcodes_norm_sub3 = barcodes_across_sample.loc[(barcodes_across_sample[42] >= 20)]\n",
    "barcodes_norm_sub4 = barcodes_across_sample.loc[(barcodes_across_sample[43] >= 20)]\n",
    "barcodes_norm_sub5 = barcodes_across_sample.loc[(barcodes_across_sample[49] >= 20)]\n",
    "barcodes_norm_sub6 = barcodes_across_sample.loc[(barcodes_across_sample[50] >= 20)]\n",
    "barcodes_norm_sub7 = barcodes_across_sample.loc[(barcodes_across_sample[51] >= 20)]\n",
    "barcodes_norm_sub8 = barcodes_across_sample.loc[(barcodes_across_sample[52] >= 20)]\n",
    "newdf =pd.concat([barcodes_norm_sub1, barcodes_norm_sub2])\n",
    "newdf =pd.concat([newdf, barcodes_norm_sub3])\n",
    "newdf =pd.concat([newdf, barcodes_norm_sub4])\n",
    "newdf =pd.concat([newdf, barcodes_norm_sub5])\n",
    "newdf =pd.concat([newdf, barcodes_norm_sub6])\n",
    "newdf =pd.concat([newdf, barcodes_norm_sub7])\n",
    "newdf =pd.concat([newdf, barcodes_norm_sub8])\n",
    "newdf = newdf[~newdf.index.duplicated(keep='first')] #remove duplicate barcodes"
   ]
  },
  {
   "cell_type": "code",
   "execution_count": null,
   "id": "d862cf87",
   "metadata": {},
   "outputs": [],
   "source": [
    "#plot heatmap showing barcodes in source site\n",
    "fig, ax = plt.subplots(figsize=(60, 10))\n",
    "sb.heatmap(barcodes_across_sample, norm=LogNorm())\n",
    "plt.show()"
   ]
  },
  {
   "cell_type": "code",
   "execution_count": null,
   "id": "17db888b",
   "metadata": {},
   "outputs": [],
   "source": [
    "#plot heatmap showing barcodes in source site with minimum thresholds\n",
    "fig, ax = plt.subplots(figsize=(60, 10))\n",
    "sb.heatmap(newdf, norm=LogNorm())\n",
    "plt.show()"
   ]
  },
  {
   "cell_type": "code",
   "execution_count": null,
   "id": "42932d9a",
   "metadata": {},
   "outputs": [],
   "source": [
    "#now remove columns containing source sites and negative control\n",
    "newdf = newdf.drop([40, 41, 42, 43, 49, 50, 51, 52, 1, 2, 3, 4, 5], axis=1)\n"
   ]
  },
  {
   "cell_type": "code",
   "execution_count": null,
   "id": "24f5a465",
   "metadata": {},
   "outputs": [],
   "source": [
    "total = pd.DataFrame()\n",
    "total['sum'] = areas_only.sum(axis=1)\n",
    "areasFrac = pd.DataFrame(columns=areas_only.columns)\n",
    "for i, row in areas_only.iterrows():\n",
    "    newrow = row/total['sum'].iloc[i]\n",
    "    areasFrac =areasFrac.append(newrow)"
   ]
  },
  {
   "cell_type": "code",
   "execution_count": null,
   "id": "085991f9",
   "metadata": {},
   "outputs": [],
   "source": [
    "#for each barcode, create a matrix of BC count for regions in a sample based on amount of each region in LCM (makes assumption of equal BC distribution)\n",
    "bc_matrix = np.zeros(shape=((len(newdf), (len(areas_only.columns)))))\n",
    "bc_matrix = pd.DataFrame(data= bc_matrix, columns=areas_only.columns, index=newdf.index)\n",
    "for i, row in newdf.iterrows():\n",
    "    bc_matrix1 =pd.DataFrame(columns=areas_only.columns)\n",
    "    for samplename in newdf.columns:\n",
    "        ind = areas.index[areas['RT_primer']==samplename].tolist()\n",
    "        fractionC = areasFrac.iloc[ind[0]]*row.loc[samplename]\n",
    "        bc_matrix1 = bc_matrix1.append(fractionC)\n",
    "    for region in bc_matrix1.columns:\n",
    "        bc_matrix.at[i, region] = bc_matrix1[region].sum()/areas_only[region].sum()\n",
    "bc_matrix.to_pickle('bc_matrix_lcm.pkl')"
   ]
  },
  {
   "cell_type": "code",
   "execution_count": null,
   "id": "8d4f334c",
   "metadata": {},
   "outputs": [],
   "source": [
    "qPCR = pd.read_csv('/camp/lab/znamenskiyp/home/shared/projects/turnerb_MAPseq/A1_MAPseq/FIAA32.6a/qPCR/qPCR_FIAA326a.csv') \n",
    "qPCR['B-act_amount'] = np.power(2,(-(qPCR['B-actin Ct'])))\n",
    "qPCR['vol'] = 0\n",
    "    \n",
    "for i, row in qPCR.iterrows():\n",
    "    ind = areas.index[areas['RT_primer']==qPCR.loc[i, 'RT primer']].tolist()\n",
    "    qPCR.at[i, 'vol'] = total.iloc[ind[0]]\n",
    "qPCR"
   ]
  },
  {
   "cell_type": "code",
   "execution_count": null,
   "id": "0d757b84",
   "metadata": {},
   "outputs": [],
   "source": [
    "\n",
    "#qPCR = qPCR.drop([4]) #remove row with no volume\n",
    "qPCR['logVol'] = np.log(qPCR['vol'])\n",
    "qPCR['logBetaAct'] = np.log(qPCR['B-act_amount'])\n",
    "sb.lmplot(data= qPCR, x='logVol', y='logBetaAct')\n",
    "corr, _ = spearmanr(qPCR[\"vol\"], qPCR[\"B-act_amount\"])\n",
    "print('Spearmans correlation: %.3f' % corr)\n",
    "\n"
   ]
  },
  {
   "cell_type": "code",
   "execution_count": null,
   "id": "2fad91c1",
   "metadata": {},
   "outputs": [],
   "source": [
    "fig = plt.figure()\n",
    "ax=plt.gca() \n",
    "ax.scatter(qPCR['vol'],qPCR['B-act_amount'],alpha=0.95,edgecolors='none', label='data')\n",
    "ax.set_yscale('log')\n",
    "ax.set_xscale('log')"
   ]
  },
  {
   "cell_type": "code",
   "execution_count": null,
   "id": "edac0334",
   "metadata": {},
   "outputs": [],
   "source": [
    "qPCR"
   ]
  },
  {
   "cell_type": "code",
   "execution_count": null,
   "id": "490f6df4",
   "metadata": {},
   "outputs": [],
   "source": [
    "bc_matrix = pd.read_pickle('bc_matrix_lcm.pkl')\n",
    "\n"
   ]
  },
  {
   "cell_type": "code",
   "execution_count": null,
   "id": "77a63526",
   "metadata": {
    "scrolled": true
   },
   "outputs": [],
   "source": [
    "#plot heatmap showing barcodes in source site with minimum thresholds\n",
    "fig, ax = plt.subplots(figsize=(60, 10))\n",
    "sb.heatmap(bc_matrix, norm=LogNorm())\n",
    "plt.show()"
   ]
  },
  {
   "cell_type": "code",
   "execution_count": null,
   "id": "32d1555c",
   "metadata": {},
   "outputs": [],
   "source": [
    "#threshold minimum value of counts/cm3 to zero\n",
    "threshold = 0.0000001\n",
    "bc_matrix_thresholded = pd.DataFrame(np.where(bc_matrix > threshold, 0, bc_matrix))"
   ]
  },
  {
   "cell_type": "code",
   "execution_count": null,
   "id": "a14d6843",
   "metadata": {},
   "outputs": [],
   "source": [
    "#remove columns that are all zeros, and rows that are all zeros\n",
    "for column in bc_matrix.columns:\n",
    "    if bc_matrix[column].sum() == 0:\n",
    "        bc_matrix.drop([column], axis=1, inplace=True)\n",
    "bc_matrix = bc_matrix.loc[~(bc_matrix==0).all(axis=1)]"
   ]
  },
  {
   "cell_type": "code",
   "execution_count": null,
   "id": "0109e59b",
   "metadata": {},
   "outputs": [],
   "source": [
    "bc_matrix"
   ]
  },
  {
   "cell_type": "code",
   "execution_count": null,
   "id": "f4ac9af7",
   "metadata": {},
   "outputs": [],
   "source": [
    "bc_matrix"
   ]
  },
  {
   "cell_type": "code",
   "execution_count": null,
   "id": "4dcd912d",
   "metadata": {},
   "outputs": [],
   "source": [
    "#plot heatmap showing barcodes in source site with minimum thresholds\n",
    "fig, ax = plt.subplots(figsize=(60, 10))\n",
    "sb.heatmap(bc_matrix_thresholded, norm=LogNorm())\n",
    "plt.show()"
   ]
  },
  {
   "cell_type": "code",
   "execution_count": null,
   "id": "d8204bda",
   "metadata": {},
   "outputs": [],
   "source": [
    "sb.clustermap(bc_matrix, metric='euclidean', standard_scale=0, cmap=\"Blues\", figsize=(60, 10))"
   ]
  },
  {
   "cell_type": "code",
   "execution_count": null,
   "id": "47fb92a1",
   "metadata": {},
   "outputs": [],
   "source": [
    "#plot heatmap showing barcodes in source site with minimum thresholds\n",
    "fig, ax = plt.subplots(figsize=(60, 10))\n",
    "sb.heatmap(bc_matrix2, norm=LogNorm())\n",
    "plt.show()"
   ]
  },
  {
   "cell_type": "code",
   "execution_count": null,
   "id": "c8a9ba25",
   "metadata": {},
   "outputs": [],
   "source": [
    "sb.clustermap(barcodes_norm, metric='euclidean', standard_scale=0, cmap=\"Blues\", figsize=(60, 10))"
   ]
  },
  {
   "cell_type": "code",
   "execution_count": null,
   "id": "bddf4efb",
   "metadata": {},
   "outputs": [],
   "source": [
    "barcodes_norm"
   ]
  },
  {
   "cell_type": "code",
   "execution_count": null,
   "id": "b4e34d13",
   "metadata": {},
   "outputs": [],
   "source": []
  },
  {
   "cell_type": "code",
   "execution_count": null,
   "id": "31e0631b",
   "metadata": {},
   "outputs": [],
   "source": [
    "areas['RT_primer'] = areas['RT_primer'].astype(int)"
   ]
  },
  {
   "cell_type": "code",
   "execution_count": null,
   "id": "35f81e71",
   "metadata": {},
   "outputs": [],
   "source": [
    "areas_only = areas.drop(['sample', 'RT_primer'], axis=1)"
   ]
  },
  {
   "cell_type": "code",
   "execution_count": null,
   "id": "f054be77",
   "metadata": {},
   "outputs": [],
   "source": [
    "areas = areas.index[areas['RT_primer']]"
   ]
  },
  {
   "cell_type": "code",
   "execution_count": null,
   "id": "66cb379e",
   "metadata": {},
   "outputs": [],
   "source": [
    "areas_only.iloc[i[0]]"
   ]
  },
  {
   "cell_type": "code",
   "execution_count": null,
   "id": "38447b34",
   "metadata": {},
   "outputs": [],
   "source": [
    "areas"
   ]
  },
  {
   "cell_type": "code",
   "execution_count": null,
   "id": "920397d5",
   "metadata": {},
   "outputs": [],
   "source": []
  }
 ],
 "metadata": {
  "kernelspec": {
   "display_name": "Python [conda env:.conda-MAPseq_processing] *",
   "language": "python",
   "name": "conda-env-.conda-MAPseq_processing-py"
  },
  "language_info": {
   "codemirror_mode": {
    "name": "ipython",
    "version": 3
   },
   "file_extension": ".py",
   "mimetype": "text/x-python",
   "name": "python",
   "nbconvert_exporter": "python",
   "pygments_lexer": "ipython3",
   "version": "3.8.16"
  },
  "vscode": {
   "interpreter": {
    "hash": "aee8b7b246df8f9039afb4144a1f6fd8d2ca17a180786b69acc140d282b71a49"
   }
  }
 },
 "nbformat": 4,
 "nbformat_minor": 5
}
