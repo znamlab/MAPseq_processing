{
 "cells": [
  {
   "cell_type": "code",
   "execution_count": null,
   "metadata": {},
   "outputs": [],
   "source": [
    "import pandas as pd\n",
    "import numpy as np\n",
    "import matplotlib.pyplot as plt\n",
    "from matplotlib.colors import LogNorm, Normalize\n",
    "#from matplotlib import rcParam\n",
    "import seaborn as sb\n",
    "import os\n",
    "import sys\n",
    "sys.setrecursionlimit(1000000)\n",
    "from scipy.stats import spearmanr\n",
    "import pathlib\n",
    "import scipy as sp\n",
    "import scipy.stats as stats\n",
    "from sklearn.linear_model import LinearRegression\n",
    "from allensdk.core.mouse_connectivity_cache import MouseConnectivityCache\n",
    "mcc = MouseConnectivityCache()\n",
    "from scipy.stats import pearsonr\n",
    "import itertools\n",
    "from sklearn.model_selection import train_test_split\n",
    "from sklearn.preprocessing import StandardScaler\n",
    "import umap\n",
    "import hdbscan\n",
    "import sklearn.cluster as cluster\n",
    "from sklearn.metrics import adjusted_rand_score, adjusted_mutual_info_score\n",
    "import scanpy as sc\n",
    "import anndata as ad"
   ]
  },
  {
   "cell_type": "code",
   "execution_count": null,
   "metadata": {},
   "outputs": [],
   "source": [
    "from matplotlib import rcParams\n",
    "#for_binary_barcode_path = pathlib.Path('/camp/lab/znamenskiyp/home/shared/projects/turnerb_MAPseq/A1_MAPseq/FIAA32.6a/Sequencing/Processed_data/UpdatedApril/preprocessed_seq/Final_processed_sequences/filtered_barcode_matrix_for_binary_junk_test.pkl')\n",
    "#normalised_barcode_path_junk_test = pathlib.Path('/camp/lab/znamenskiyp/home/shared/projects/turnerb_MAPseq/A1_MAPseq/FIAA32.6a/Sequencing/Processed_data/UpdatedApril/preprocessed_seq/Final_processed_sequences/barcode_matrix_normalised_junk_test.pkl')\n",
    "normalised_barcode_path= pathlib.Path('/camp/lab/znamenskiyp/home/shared/projects/turnerb_A1_MAPseq/FIAA32.6a/Sequencing/Source_target_together/source_filtered_thresholded.pkl')\n",
    "#normalised_barcode_path= pathlib.Path('/camp/lab/znamenskiyp/home/shared/projects/turnerb_MAPseq/A1_MAPseq/FIAA32.6a/Sequencing/Processed_data/UpdatedApril/preprocessed_seq_corrected/Final_processed_sequences/barcode_matrix_normalised.pkl')\n",
    "lcm_reg_dir = pathlib.PurePath('/nemo/lab/znamenskiyp/home/shared/code/MAPseq_processing/AC_MAPseq/Brain1_FIAA32.6a/LCM_registration')\n",
    "areas = pd.read_csv(lcm_reg_dir/'3d_areas.csv')\n",
    "RTtosample = pd.read_csv(lcm_reg_dir/'RTprimer_tosample.csv')\n",
    "# areas = areas.merge(RTtosample, how='inner', on='sample')\n",
    "#areas.sort_values(\"RT_primer\", inplace=True)\n",
    "\n",
    "\n",
    "\n"
   ]
  },
  {
   "cell_type": "code",
   "execution_count": null,
   "metadata": {},
   "outputs": [],
   "source": [
    "#load barcodes, and drop samples that have been qc'd out\n",
    "barcodes_across_sample = pd.read_pickle(normalised_barcode_path)\n",
    "\n",
    "areas =areas[areas['sample'].isin(barcodes_across_sample.columns)]"
   ]
  },
  {
   "cell_type": "code",
   "execution_count": null,
   "metadata": {},
   "outputs": [],
   "source": [
    "#drop columns that are zero in all values\n",
    "#barcodes_matrix = barcodes_across_sample.loc[:, (barcodes_across_sample != 0).any(axis=0)]"
   ]
  },
  {
   "cell_type": "code",
   "execution_count": null,
   "metadata": {},
   "outputs": [],
   "source": [
    "all_areas_fractions = pd.DataFrame(index=barcodes_across_sample.columns)\n",
    "all_areas_fractions['name'] = 'string'\n",
    "areas_to_look = areas.set_index('sample')\n",
    "for i, row in areas_to_look.iterrows():\n",
    "    row /= row.sum(0)\n",
    "    \n",
    "    if row[row.idxmax()]>0.9999:\n",
    "        name= str(row.idxmax()) + ' ' + str(row[row.idxmax()].round(2))\n",
    "    else:\n",
    "        second_highest_row = row.drop(row.idxmax())\n",
    "        name= str(row.idxmax()) + ' ' + str(row[row.idxmax()].round(2)) + ' ' + str(second_highest_row.idxmax()) + ' ' + str(row[second_highest_row.idxmax()].round(2))\n",
    "    all_areas_fractions.loc[i] = name\n",
    "    "
   ]
  },
  {
   "cell_type": "code",
   "execution_count": null,
   "metadata": {},
   "outputs": [],
   "source": [
    "barcodes_across_sample_renamed = barcodes_across_sample.copy()\n",
    "new_columns= {}\n",
    "for val in barcodes_across_sample_renamed.columns:\n",
    "    new_columns[val]= all_areas_fractions.loc[val]['name'] #create a dictionary to rename columns in the barcode matrix with tube names rather than RT sample names\n",
    "barcodes_across_sample_renamed = barcodes_across_sample_renamed.rename(columns=new_columns)"
   ]
  },
  {
   "cell_type": "code",
   "execution_count": null,
   "metadata": {},
   "outputs": [],
   "source": [
    "barcodes_across_sample_renamed =barcodes_across_sample_renamed.reset_index(drop=True)\n",
    "sb.clustermap(barcodes_across_sample_renamed, metric='euclidean', standard_scale=0, norm=LogNorm(), cmap=\"Greys\", figsize=(15, 10), xticklabels=1 ,yticklabels=False, cbar_pos=(1.01, 0.5, 0.02, 0.18))"
   ]
  },
  {
   "cell_type": "code",
   "execution_count": null,
   "metadata": {},
   "outputs": [],
   "source": [
    "barcodes_no_source = barcodes_across_sample_renamed.drop(columns =['AUDv 0.81 AUDp 0.15','AUDp 0.71 AUDd 0.22', 'AUDp 1.0 AUDd 0.0', 'AUDd 0.62 SSs 0.34', 'TEa 0.41 AUDv 0.36'])"
   ]
  },
  {
   "cell_type": "code",
   "execution_count": null,
   "metadata": {},
   "outputs": [],
   "source": [
    "barcodes_no_source = barcodes_no_source.loc[:, (barcodes_no_source != 0).any(axis=0)]"
   ]
  },
  {
   "cell_type": "code",
   "execution_count": null,
   "metadata": {},
   "outputs": [],
   "source": [
    "barcodes_no_source = barcodes_no_source.loc[~(barcodes_no_source == 0).all(axis=1)]"
   ]
  },
  {
   "cell_type": "code",
   "execution_count": null,
   "metadata": {},
   "outputs": [],
   "source": [
    "\n",
    "sb.clustermap(barcodes_no_source, metric='euclidean', standard_scale=0, norm=LogNorm(), cmap=\"Greys\", figsize=(15, 10), xticklabels=1 ,yticklabels=False, cbar_pos=(1.01, 0.5, 0.02, 0.18))"
   ]
  },
  {
   "cell_type": "code",
   "execution_count": null,
   "metadata": {},
   "outputs": [],
   "source": [
    "barcodes_across_sample_renamed.max(axis=1)"
   ]
  },
  {
   "cell_type": "code",
   "execution_count": null,
   "metadata": {},
   "outputs": [],
   "source": [
    "barcodes_normalised_no_source = barcodes_across_sample_renamed.div(barcodes_across_sample_renamed.max(axis=1), axis=0)"
   ]
  },
  {
   "cell_type": "code",
   "execution_count": null,
   "metadata": {},
   "outputs": [],
   "source": [
    "normalised_with_source = barcodes_across_sample_renamed.div(barcodes_across_sample_renamed.max(axis=1), axis=0)"
   ]
  },
  {
   "cell_type": "code",
   "execution_count": null,
   "metadata": {},
   "outputs": [],
   "source": [
    "barcodes_across_sample_renamed"
   ]
  },
  {
   "cell_type": "code",
   "execution_count": null,
   "metadata": {},
   "outputs": [],
   "source": [
    "#now drop source columns\n",
    "barcodes_normalised_no_source = barcodes_normalised_no_source.loc[:, (barcodes_normalised_no_source != 1).all()]\n",
    "\n",
    "#remove maximum values of source sites for clustering\n",
    "#barcodes_normalised_no_source = barcodes_normalised.replace(1, 0)"
   ]
  },
  {
   "cell_type": "code",
   "execution_count": null,
   "metadata": {},
   "outputs": [],
   "source": [
    "barcodes_normalised_no_source= barcodes_normalised_no_source.loc[:, (barcodes_normalised_no_source != 0).any(axis=0)]"
   ]
  },
  {
   "cell_type": "code",
   "execution_count": null,
   "metadata": {},
   "outputs": [],
   "source": [
    "barcodes_normalised_no_source = barcodes_normalised_no_source.loc[~(barcodes_normalised_no_source == 0).all(axis=1)]"
   ]
  },
  {
   "cell_type": "code",
   "execution_count": null,
   "metadata": {},
   "outputs": [],
   "source": [
    "barcodes_normalised_no_source"
   ]
  },
  {
   "cell_type": "code",
   "execution_count": null,
   "metadata": {},
   "outputs": [],
   "source": [
    "# kmeans_labels = cluster.KMeans(n_clusters=6).fit_predict(barcodes_normalised_no_source)"
   ]
  },
  {
   "cell_type": "code",
   "execution_count": null,
   "metadata": {},
   "outputs": [],
   "source": [
    "# Kmean = cluster.KMeans(n_clusters=3)\n",
    "# Kmean.fit(barcodes_no_source)"
   ]
  },
  {
   "cell_type": "code",
   "execution_count": null,
   "metadata": {},
   "outputs": [],
   "source": [
    "reducer = umap.UMAP()"
   ]
  },
  {
   "cell_type": "code",
   "execution_count": null,
   "metadata": {},
   "outputs": [],
   "source": [
    "scaled_barcode_data = StandardScaler().fit_transform(barcodes_normalised_no_source)"
   ]
  },
  {
   "cell_type": "code",
   "execution_count": null,
   "metadata": {},
   "outputs": [],
   "source": [
    "embedding = reducer.fit_transform(scaled_barcode_data)\n",
    "embedding.shape"
   ]
  },
  {
   "cell_type": "code",
   "execution_count": null,
   "metadata": {},
   "outputs": [],
   "source": [
    "plt.scatter(\n",
    "    embedding[:, 0],\n",
    "    embedding[:, 1]\n",
    "    )\n",
    "plt.gca().set_aspect('equal', 'datalim')\n",
    "plt.title('UMAP projection of the MAPseq dataset', fontsize=12);"
   ]
  },
  {
   "cell_type": "code",
   "execution_count": null,
   "metadata": {},
   "outputs": [],
   "source": [
    "clusterable_embedding = umap.UMAP(\n",
    "    n_neighbors=100,\n",
    "    min_dist=0.7,\n",
    "    n_components=2,\n",
    "    \n",
    ").fit_transform(barcodes_normalised_no_source)\n",
    "plt.scatter(clusterable_embedding[:, 0], clusterable_embedding[:, 1], s=1\n",
    "            );"
   ]
  },
  {
   "cell_type": "code",
   "execution_count": null,
   "metadata": {},
   "outputs": [],
   "source": [
    "labels = hdbscan.HDBSCAN(\n",
    "    min_samples=5,\n",
    "    min_cluster_size=10,\n",
    ").fit_predict(clusterable_embedding)"
   ]
  },
  {
   "cell_type": "code",
   "execution_count": null,
   "metadata": {},
   "outputs": [],
   "source": [
    "np.unique(labels)"
   ]
  },
  {
   "cell_type": "code",
   "execution_count": null,
   "metadata": {},
   "outputs": [],
   "source": [
    "clustered = (labels >= 0)\n",
    "clustered = (labels >= 0)\n",
    "plt.scatter(clusterable_embedding[~clustered, 0],\n",
    "            clusterable_embedding[~clustered, 1],\n",
    "            color=(0.5, 0.5, 0.5),\n",
    "            s=3,\n",
    "            alpha=0.5)\n",
    "plt.scatter(clusterable_embedding[clustered, 0],\n",
    "            clusterable_embedding[clustered, 1],\n",
    "            c=labels[clustered],\n",
    "            s=3,\n",
    "            cmap='tab10');\n",
    "\n",
    "plt.title('UMAP clustering of A1 MAPseq data')\n",
    "plt.colorbar(ticks = [0,1,2, 3, 4, 5, 6], values = [0,1,2, 3, 4, 5, 6], label='cluster')     "
   ]
  },
  {
   "cell_type": "code",
   "execution_count": null,
   "metadata": {},
   "outputs": [],
   "source": [
    "clustered = (labels >= 0)\n",
    "clustered = (labels >= 0)\n",
    "plt.scatter(clusterable_embedding[~clustered, 0],\n",
    "            clusterable_embedding[~clustered, 1],\n",
    "            color=(0.5, 0.5, 0.5),\n",
    "            s=3,\n",
    "            alpha=0.5)\n",
    "plt.scatter(clusterable_embedding[clustered, 0],\n",
    "            clusterable_embedding[clustered, 1],\n",
    "            c=labels[clustered],\n",
    "            s=3,\n",
    "            cmap='tab10');\n",
    "\n",
    "plt.title('UMAP clustering of A1 MAPseq data')\n",
    "plt.colorbar(ticks = [0,1,2, 3, 4, 5], values = [0,1,2, 3, 4, 5], label='cluster')          "
   ]
  },
  {
   "cell_type": "code",
   "execution_count": null,
   "metadata": {},
   "outputs": [],
   "source": [
    "#redo clustering with sample numbers rather than area names\n",
    "barcodes_normalised = barcodes_across_sample.div(barcodes_across_sample.max(axis=1), axis=0)"
   ]
  },
  {
   "cell_type": "code",
   "execution_count": null,
   "metadata": {},
   "outputs": [],
   "source": [
    "#now drop source columns\n",
    "barcodes_normalised_no_source = barcodes_normalised.loc[:, (barcodes_normalised != 1).all()]"
   ]
  },
  {
   "cell_type": "code",
   "execution_count": null,
   "metadata": {},
   "outputs": [],
   "source": [
    "clusterable_embedding = umap.UMAP(\n",
    "    n_neighbors=100,\n",
    "    min_dist=0.7,\n",
    "    n_components=2,\n",
    "    \n",
    ").fit_transform(barcodes_normalised_no_source)\n",
    "plt.scatter(clusterable_embedding[:, 0], clusterable_embedding[:, 1], s=1\n",
    "            );"
   ]
  },
  {
   "cell_type": "code",
   "execution_count": null,
   "metadata": {},
   "outputs": [],
   "source": [
    "labels = hdbscan.HDBSCAN(\n",
    "    min_samples=5,\n",
    "    min_cluster_size=10,\n",
    ").fit_predict(clusterable_embedding)"
   ]
  },
  {
   "cell_type": "code",
   "execution_count": null,
   "metadata": {},
   "outputs": [],
   "source": [
    "np.unique(labels)"
   ]
  },
  {
   "cell_type": "code",
   "execution_count": null,
   "metadata": {},
   "outputs": [],
   "source": [
    "clustered = (labels >= 0)\n",
    "clustered = (labels >= 0)\n",
    "plt.scatter(clusterable_embedding[~clustered, 0],\n",
    "            clusterable_embedding[~clustered, 1],\n",
    "            color=(0.5, 0.5, 0.5),\n",
    "            s=3,\n",
    "            alpha=0.5)\n",
    "plt.scatter(clusterable_embedding[clustered, 0],\n",
    "            clusterable_embedding[clustered, 1],\n",
    "            c=labels[clustered],\n",
    "            s=3,\n",
    "            cmap='tab20');\n",
    "\n",
    "plt.title('UMAP clustering of A1 MAPseq data')\n",
    "plt.colorbar(ticks = [0,1,2, 3, 4, 5, 6, 7, 8, 9, 10, 11, 12, 13], values = [0,1,2, 3, 4, 5, 6, 7, 8, 9, 10, 11, 12, 13], label='cluster')     "
   ]
  },
  {
   "cell_type": "code",
   "execution_count": null,
   "metadata": {},
   "outputs": [],
   "source": [
    "barcodes_normalised_no_source['labels'] = labels\n",
    "barcodes_normalised_no_source =barcodes_normalised_no_source.set_index('labels')\n"
   ]
  },
  {
   "cell_type": "code",
   "execution_count": null,
   "metadata": {},
   "outputs": [],
   "source": [
    "barcodes_normalised\n"
   ]
  },
  {
   "cell_type": "code",
   "execution_count": null,
   "metadata": {},
   "outputs": [],
   "source": [
    "barcodes_normalised_no_source.to_pickle(normalised_barcode_path.parents[0]/'barcodes_with_cluster_label.pkl')"
   ]
  },
  {
   "cell_type": "code",
   "execution_count": null,
   "metadata": {},
   "outputs": [],
   "source": [
    "#also save a copy with source sites\n",
    "barcodes_normalised['labels'] = labels\n",
    "barcodes_normalised =barcodes_normalised.set_index('labels')\n",
    "barcodes_normalised.to_pickle(normalised_barcode_path.parents[0]/'barcodes_with_cluster_label_with_source.pkl')"
   ]
  },
  {
   "cell_type": "code",
   "execution_count": null,
   "metadata": {},
   "outputs": [],
   "source": [
    "barcodes_normalised_no_source =barcodes_normalised_no_source.set_index('labels')"
   ]
  },
  {
   "cell_type": "markdown",
   "metadata": {},
   "source": [
    "Lets use scampy to perform clustering using leiden algorithm"
   ]
  },
  {
   "cell_type": "code",
   "execution_count": null,
   "metadata": {},
   "outputs": [],
   "source": [
    "#drop the thalamus samples\n",
    "barcodes_across_sample_no_thal = barcodes_across_sample.drop([44, 30, 54, 56, 66, 67], axis=1)"
   ]
  },
  {
   "cell_type": "code",
   "execution_count": null,
   "metadata": {},
   "outputs": [],
   "source": [
    "barcodes_across_sample_no_thal"
   ]
  },
  {
   "cell_type": "code",
   "execution_count": null,
   "metadata": {},
   "outputs": [],
   "source": [
    "normalised_with_source = barcodes_across_sample_no_thal.div(barcodes_across_sample_no_thal.max(axis=1), axis=0)"
   ]
  },
  {
   "cell_type": "code",
   "execution_count": null,
   "metadata": {},
   "outputs": [],
   "source": [
    "#now drop source columns\n",
    "barcodes_normalised_no_source = normalised_with_source.loc[:, (normalised_with_source != 1).all()]"
   ]
  },
  {
   "cell_type": "code",
   "execution_count": null,
   "metadata": {},
   "outputs": [],
   "source": [
    "adata = sc.AnnData(barcodes_normalised_no_source, \n",
    "    barcodes_normalised_no_source.index.to_frame(), \n",
    "    barcodes_normalised_no_source.columns.to_frame())"
   ]
  },
  {
   "cell_type": "code",
   "execution_count": null,
   "metadata": {},
   "outputs": [],
   "source": [
    "dataset =ad.AnnData(barcodes_normalised_no_source)"
   ]
  },
  {
   "cell_type": "code",
   "execution_count": null,
   "metadata": {},
   "outputs": [],
   "source": [
    "sc.tl.pca(dataset)\n",
    "sc.pp.neighbors(dataset)\n",
    "sc.tl.umap(dataset, spread=0.8)\n",
    "sc.tl.leiden(dataset)\n",
    "sc.tl.paga(dataset)\n",
    "sc.pl.paga_compare(dataset, edges=True, threshold=0.05)"
   ]
  },
  {
   "cell_type": "code",
   "execution_count": null,
   "metadata": {},
   "outputs": [],
   "source": [
    "sc.pl.paga_compare(dataset, edges=True, threshold=0.05)"
   ]
  },
  {
   "cell_type": "code",
   "execution_count": null,
   "metadata": {},
   "outputs": [],
   "source": [
    "sc.tl.leiden(dataset, key_added = \"leiden_1.0\") "
   ]
  },
  {
   "cell_type": "code",
   "execution_count": null,
   "metadata": {},
   "outputs": [],
   "source": [
    "sc.tl.leiden(dataset, resolution = 0.6, key_added = \"leiden_0.6\")\n",
    "sc.tl.leiden(dataset, resolution = 0.4, key_added = \"leiden_0.4\")\n",
    "sc.tl.leiden(dataset, resolution = 1.4, key_added = \"leiden_1.4\")"
   ]
  },
  {
   "cell_type": "code",
   "execution_count": null,
   "metadata": {},
   "outputs": [],
   "source": [
    "sc.pl.umap(dataset, color=['leiden_0.4', 'leiden_0.6', 'leiden_1.0','leiden_1.4'])"
   ]
  },
  {
   "cell_type": "code",
   "execution_count": null,
   "metadata": {},
   "outputs": [],
   "source": [
    "sc.pl.umap(dataset, color=['leiden_0.6', 'leiden_1.0'], palette='tab20b', s=70)"
   ]
  },
  {
   "cell_type": "code",
   "execution_count": null,
   "metadata": {},
   "outputs": [],
   "source": []
  },
  {
   "cell_type": "code",
   "execution_count": null,
   "metadata": {},
   "outputs": [],
   "source": [
    "sc.pl.umap(dataset, color=['leiden_1.0'], palette='tab20b', s=70, title='A1 Single Neuron Projection Patterns')\n"
   ]
  },
  {
   "cell_type": "code",
   "execution_count": null,
   "metadata": {},
   "outputs": [],
   "source": [
    "leiden_categories = pd.DataFrame(dataset.obs['leiden_1.0'])"
   ]
  },
  {
   "cell_type": "code",
   "execution_count": null,
   "metadata": {},
   "outputs": [],
   "source": [
    "leiden_categories['leiden_1.0']=='1'"
   ]
  },
  {
   "cell_type": "code",
   "execution_count": null,
   "metadata": {},
   "outputs": [],
   "source": [
    "barcodes_across_sample_renamed_1 = barcodes_across_sample_renamed.copy()\n",
    "barcodes_across_sample_renamed_1['leiden'] = leiden_categories['leiden_1.0']"
   ]
  },
  {
   "cell_type": "code",
   "execution_count": null,
   "metadata": {},
   "outputs": [],
   "source": [
    "df = barcodes_across_sample_renamed[leiden_categories['leiden_1.0']=='1']\n",
    "df = df.loc[:, (df != 0).any(axis=0)]\n",
    "df.loc[:, (df != 0).any(axis=0)]"
   ]
  },
  {
   "cell_type": "code",
   "execution_count": null,
   "metadata": {},
   "outputs": [],
   "source": [
    "barcodes_across_sample_renamed_1"
   ]
  },
  {
   "cell_type": "code",
   "execution_count": null,
   "metadata": {},
   "outputs": [],
   "source": [
    "normalised_with_source['leiden'] = leiden_categories['leiden_1.0']"
   ]
  },
  {
   "cell_type": "code",
   "execution_count": null,
   "metadata": {},
   "outputs": [],
   "source": [
    "normalised_with_source = normalised_with_source.set_index('leiden')"
   ]
  },
  {
   "cell_type": "code",
   "execution_count": null,
   "metadata": {},
   "outputs": [],
   "source": [
    "normalised_with_source.to_pickle(normalised_barcode_path.parents[0]/'barcodes_with_leiden_cluster_label_with_source.pkl')"
   ]
  },
  {
   "cell_type": "markdown",
   "metadata": {},
   "source": [
    "Lets try to cluster visual areas only"
   ]
  },
  {
   "cell_type": "code",
   "execution_count": null,
   "metadata": {},
   "outputs": [],
   "source": [
    "all_areas_fractions_vis =all_areas_fractions[all_areas_fractions['name'].str.contains('VIS')]\n",
    "all_areas_fractions_vis = all_areas_fractions_vis[~all_areas_fractions_vis['name'].str.contains('VISC|Contra-VISa|Contra-VISam|Contra-VISC')]"
   ]
  },
  {
   "cell_type": "code",
   "execution_count": null,
   "metadata": {},
   "outputs": [],
   "source": [
    "normalised_with_source = barcodes_across_sample.div(barcodes_across_sample.max(axis=1), axis=0)"
   ]
  },
  {
   "cell_type": "code",
   "execution_count": null,
   "metadata": {},
   "outputs": [],
   "source": [
    "#now drop source columns\n",
    "barcodes_normalised_no_source = normalised_with_source.loc[:, (normalised_with_source != 1).all()]"
   ]
  },
  {
   "cell_type": "code",
   "execution_count": null,
   "metadata": {},
   "outputs": [],
   "source": [
    "visual_areas_only = barcodes_normalised_no_source[all_areas_fractions_vis.index.values]"
   ]
  },
  {
   "cell_type": "code",
   "execution_count": null,
   "metadata": {},
   "outputs": [],
   "source": [
    "dataset =ad.AnnData(visual_areas_only)"
   ]
  },
  {
   "cell_type": "code",
   "execution_count": null,
   "metadata": {},
   "outputs": [],
   "source": [
    "sc.tl.pca(dataset)\n",
    "sc.pp.neighbors(dataset)\n",
    "sc.tl.umap(dataset)\n",
    "sc.tl.leiden(dataset)\n",
    "sc.tl.paga(dataset)\n",
    "sc.pl.paga_compare(dataset, edges=True, threshold=0.05)"
   ]
  },
  {
   "cell_type": "code",
   "execution_count": null,
   "metadata": {},
   "outputs": [],
   "source": [
    "leiden_categories = pd.DataFrame(dataset.obs['leiden'])"
   ]
  },
  {
   "cell_type": "code",
   "execution_count": null,
   "metadata": {},
   "outputs": [],
   "source": [
    "barcodes_across_sample_renamed[leiden_categories['leiden']=='1']"
   ]
  }
 ],
 "metadata": {
  "kernelspec": {
   "display_name": "MAPseq_processing_py39",
   "language": "python",
   "name": "python3"
  },
  "language_info": {
   "codemirror_mode": {
    "name": "ipython",
    "version": 3
   },
   "file_extension": ".py",
   "mimetype": "text/x-python",
   "name": "python",
   "nbconvert_exporter": "python",
   "pygments_lexer": "ipython3",
   "version": "3.8.16"
  },
  "orig_nbformat": 4
 },
 "nbformat": 4,
 "nbformat_minor": 2
}
