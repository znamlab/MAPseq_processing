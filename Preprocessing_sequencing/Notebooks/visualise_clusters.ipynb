{
 "cells": [
  {
   "cell_type": "code",
   "execution_count": null,
   "metadata": {},
   "outputs": [],
   "source": [
    "#NB need to use environment with python3.9 or above for ccf_streamlines to run\n",
    "import nrrd\n",
    "import numpy as np\n",
    "import matplotlib.pyplot as plt\n",
    "import ccf_streamlines.projection as ccfproj\n",
    "import pathlib\n",
    "import pandas as pd\n",
    "import numpy as np\n",
    "import os\n",
    "import matplotlib.colors as mcolors\n",
    "from matplotlib import cm\n",
    "from matplotlib.colors import ListedColormap, LinearSegmentedColormap\n",
    "from matplotlib.colors import LogNorm\n",
    "import copy\n",
    "import cv2\n",
    "import seaborn as sb\n",
    "from mpl_toolkits.axes_grid1.axes_divider import make_axes_locatable\n"
   ]
  },
  {
   "cell_type": "code",
   "execution_count": null,
   "metadata": {},
   "outputs": [],
   "source": [
    "reg_dir = pathlib.Path('/nemo/lab/znamenskiyp/home/shared/projects/turnerb_MAPseq/A1_MAPseq/FIAA32.6a/LCM_registration/allenccf/allen_ccf_coord')\n",
    "ROI_path = pathlib.Path('/nemo/lab/znamenskiyp/home/shared/projects/turnerb_MAPseq/A1_MAPseq/FIAA32.6a/LCM_registration/rois')\n",
    "ROI_table = pathlib.Path('/camp/lab/znamenskiyp/home/shared/projects/turnerb_MAPseq/A1_MAPseq/FIAA32.6a/LCM_registration/allenccf/ROI_vol.pkl')\n",
    "allen_converted_path = pathlib.Path('/camp/lab/znamenskiyp/home/shared/projects/turnerb_MAPseq/A1_MAPseq/FIAA32.6a/LCM_registration/allenccf/allen_ccf_coord')\n",
    "convert_to_flat_path = allen_converted_path.parents[1]\n",
    "lcm_reg_dir = pathlib.PurePath('/nemo/lab/znamenskiyp/home/shared/code/MAPseq_processing/AC_MAPseq/Brain1_FIAA32.6a/LCM_registration')\n",
    "reads_path = pathlib.Path(\"/camp/lab/znamenskiyp/home/shared/projects/turnerb_A1_MAPseq/FIAA32.6a/Sequencing/Source_target_together\")\n",
    "RTtosample = pd.read_csv(allen_converted_path.parents[2]/ 'Sequencing/Processed_data/UpdatedApril/tube_to_RT.csv')\n",
    "#normalised_barcode_path= pathlib.Path('/camp/lab/znamenskiyp/home/shared/projects/turnerb_A1_MAPseq/FIAA32.6a/Sequencing/Source_target_together/barcode_matrix_normalised.pkl')\n",
    "normalised_barcode_path= pathlib.Path('/camp/lab/znamenskiyp/home/shared/projects/turnerb_A1_MAPseq/FIAA32.6a/Sequencing/Source_target_together/barcodes_with_leiden_cluster_label_with_source.pkl')\n",
    "areas = pd.read_csv(lcm_reg_dir/'3d_areas.csv')"
   ]
  },
  {
   "cell_type": "code",
   "execution_count": null,
   "metadata": {},
   "outputs": [],
   "source": [
    "np.seterr(divide = 'ignore') "
   ]
  },
  {
   "cell_type": "code",
   "execution_count": null,
   "metadata": {},
   "outputs": [],
   "source": [
    "bf_boundary_finder = ccfproj.BoundaryFinder(\n",
    "    projected_atlas_file=convert_to_flat_path/\"flatmap_butterfly.nrrd\",\n",
    "    labels_file=convert_to_flat_path/\"labelDescription_ITKSNAPColor.txt\",\n",
    ")\n",
    "\n",
    "# We get the left hemisphere region boundaries with the default arguments\n",
    "bf_left_boundaries = bf_boundary_finder.region_boundaries()\n",
    "\n",
    "# And we can get the right hemisphere boundaries that match up with\n",
    "# our projection if we specify the same configuration\n",
    "bf_right_boundaries = bf_boundary_finder.region_boundaries(\n",
    "    # we want the right hemisphere boundaries, but located in the right place\n",
    "    # to plot both hemispheres at the same time\n",
    "    hemisphere='right_for_both',\n",
    "\n",
    "    # we also want the hemispheres to be adjacent\n",
    "    view_space_for_other_hemisphere='flatmap_butterfly',\n",
    ")"
   ]
  },
  {
   "cell_type": "code",
   "execution_count": null,
   "metadata": {},
   "outputs": [],
   "source": [
    "proj_top = ccfproj.Isocortex2dProjector(\n",
    "    # Specify our view lookup file\n",
    "    convert_to_flat_path/\"flatmap_butterfly.h5\",\n",
    "\n",
    "    # Specify our streamline file\n",
    "    convert_to_flat_path/\"surface_paths_10_v3.h5\",\n",
    "\n",
    "    # Specify that we want to project both hemispheres\n",
    "    hemisphere=\"both\",\n",
    "\n",
    "    # The top view contains space for the right hemisphere, but is empty.\n",
    "    # Therefore, we tell the projector to put both hemispheres side-by-side\n",
    "    view_space_for_other_hemisphere='flatmap_butterfly',\n",
    ")"
   ]
  },
  {
   "cell_type": "code",
   "execution_count": null,
   "metadata": {},
   "outputs": [],
   "source": [
    "ROI_flatmap = np.load(convert_to_flat_path/'ROI_cortical_3D.npy')"
   ]
  },
  {
   "cell_type": "code",
   "execution_count": null,
   "metadata": {},
   "outputs": [],
   "source": [
    "clustered_bc =pd.read_pickle(normalised_barcode_path)"
   ]
  },
  {
   "cell_type": "code",
   "execution_count": null,
   "metadata": {},
   "outputs": [],
   "source": [
    "#remove tubes in ROI flatmap that aren't in normalised barcode path\n",
    "tubes = np.arange(1, 94, 1)\n",
    "tubes_not_in = [i for i in tubes if i not in clustered_bc.columns.to_list()]"
   ]
  },
  {
   "cell_type": "code",
   "execution_count": null,
   "metadata": {},
   "outputs": [],
   "source": [
    "for x in tubes_not_in:\n",
    "    ROI_flatmap[ROI_flatmap == x] = 0"
   ]
  },
  {
   "cell_type": "code",
   "execution_count": null,
   "metadata": {},
   "outputs": [],
   "source": [
    "\n",
    "ROI_projection_max = proj_top.project_volume(ROI_flatmap)"
   ]
  },
  {
   "cell_type": "code",
   "execution_count": null,
   "metadata": {},
   "outputs": [],
   "source": [
    "barcode_matrix = np.zeros((len(clustered_bc), max(clustered_bc.columns.to_list())+1))\n",
    "for column in clustered_bc:\n",
    "    barcode_matrix[:, column] = clustered_bc[column].to_numpy()"
   ]
  },
  {
   "cell_type": "code",
   "execution_count": null,
   "metadata": {},
   "outputs": [],
   "source": [
    "sub_cortical= {}\n",
    "sub_cortical['IC'] = [86, 89, 90]\n",
    "sub_cortical['SC'] = [68, 78, 92, 87, 69, 79, 93]\n",
    "#sub_cortical['CLA'] = [20, 25, 9, 14]\n",
    "sub_cortical['R_STR'] = [8, 13, 19]\n",
    "sub_cortical['C_STR'] = [29]\n",
    "sub_cortical['PONS'] = [72, 80, 88]\n",
    "#only look at subcortical regions that have passed qc\n",
    "sub_cortical_updated = {}\n",
    "for i in sub_cortical:\n",
    "    sub_cortical_updated[i] = []\n",
    "    for val in sub_cortical[i]:\n",
    "        if val in clustered_bc.columns.to_list():\n",
    "            sub_cortical_updated[i].append(val)"
   ]
  },
  {
   "cell_type": "code",
   "execution_count": null,
   "metadata": {},
   "outputs": [],
   "source": [
    "cluster ='1'\n",
    "cluster_df = clustered_bc[clustered_bc.index==cluster]\n",
    "\n",
    "cluster_table = cluster_df.loc[:, (cluster_df != 0).any(axis=0)]\n",
    "cluster_df.loc[:, (cluster_df != 0).any(axis=0)]"
   ]
  },
  {
   "cell_type": "code",
   "execution_count": null,
   "metadata": {},
   "outputs": [],
   "source": [
    "cluster = '3'\n",
    "cluster_df = clustered_bc[clustered_bc.index==cluster]\n",
    "cluster_matrix = np.zeros((len(cluster_df), max(cluster_df.columns.to_list())+1))\n",
    "for column in cluster_df:\n",
    "    cluster_matrix[:, column] = cluster_df[column].to_numpy()\n",
    "\n",
    "normalized_matrix_mean = np.mean(cluster_matrix, axis=0)\n",
    "normalized_matrix_mean[0] = -1\n",
    "fig = plt.figure(figsize=(14, 300))\n",
    "cmap = plt.cm.get_cmap(\"magma\").copy()\n",
    "vmax_max =  0.001#np.partition(normalized_matrix_mean.flatten(), -2)[-2]\n",
    "#new_colours = cmap(np.linspace(0, 1, 30))\n",
    "#grey = ([0.3, 0.3, 0.3, 1])\n",
    "#new_colours[0, :] = grey\n",
    "#new_cmap = ListedColormap(new_colours)\n",
    "cmap.set_bad(color=[0.25, 0.25, 0.25, 1])       \n",
    "gs = fig.add_gridspec(50, 2, width_ratios=[2, 0.15])\n",
    "\n",
    "ax1 = fig.add_subplot(gs[1, 0])\n",
    "\n",
    "new_mat = np.log10(1 + normalized_matrix_mean[ROI_projection_max.astype(int)]).T\n",
    "new_fig = ax1.imshow(new_mat, cmap=cmap, vmax =vmax_max)\n",
    "plt.title(f'Cluster {cluster}, vmax = {vmax_max}')\n",
    "ax1.axis('off')\n",
    "cbar = fig.colorbar(new_fig, ax=ax1, fraction=0.03, pad=0.04)\n",
    "cbar.set_label('log 10 average barcode counts')\n",
    "\n",
    "\n",
    "for k, boundary_coords in bf_left_boundaries.items():\n",
    "    ax1.plot(*boundary_coords.T, c=\"white\", lw=0.3)\n",
    "for k, boundary_coords in bf_right_boundaries.items():\n",
    "    ax1.plot(*boundary_coords.T, c=\"white\", lw=0.3)\n",
    "\n",
    "# Subplot - Seaborn heatmap\n",
    "sub_cort_heat = pd.DataFrame(columns=sub_cortical.keys(), dtype=\"float\")\n",
    "for col in sub_cort_heat.columns:\n",
    "        sub_cort_heat.loc[0, col] = np.log(normalized_matrix_mean[sub_cortical_updated[col]].sum()+1)\n",
    "ax2 = fig.add_subplot(gs[1, 1])\n",
    "sb.heatmap(sub_cort_heat.T, annot=True, cmap=cmap, cbar=False, cbar_ax=ax2, vmax=vmax_max)\n",
    "ax2.set_title('Subcortical')\n",
    "ax2.set(xticklabels=[])\n",
    "#ax2.set_yticklabels(labels=sub_cortical.keys(), rotation=0)\n",
    "ax2.tick_params(left=True, bottom=False)\n"
   ]
  },
  {
   "cell_type": "markdown",
   "metadata": {},
   "source": [
    "Look at individual barcode projection patterns within cluster"
   ]
  },
  {
   "cell_type": "code",
   "execution_count": null,
   "metadata": {},
   "outputs": [],
   "source": [
    "all_areas_fractions = pd.DataFrame(index=clustered_bc.columns)\n",
    "all_areas_fractions['name'] = ''\n",
    "areas_to_look = areas.set_index('sample')\n",
    "#drop tube 5, which has no registration information\n",
    "areas_to_look = areas_to_look.drop(5, axis =0)\n",
    "for i, row in areas_to_look.iterrows():\n",
    "    row /= row.sum(0)\n",
    "    \n",
    "    if row[row.idxmax()]>0.9999:\n",
    "        name= str(row.idxmax()) + ' ' + str(row[row.idxmax()].round(2))\n",
    "    else:\n",
    "        second_highest_row = row.drop(row.idxmax())\n",
    "        name= str(row.idxmax()) + ' ' + str(row[row.idxmax()].round(2)) + ' ' + str(second_highest_row.idxmax()) + ' ' + str(row[second_highest_row.idxmax()].round(2))\n",
    "    all_areas_fractions.loc[i] = name\n",
    "    "
   ]
  },
  {
   "cell_type": "code",
   "execution_count": null,
   "metadata": {},
   "outputs": [],
   "source": [
    "#also calculate sum of projection density\n",
    "density_barcodes = pd.DataFrame()\n",
    "for col in clustered_bc.columns:\n",
    "    density_barcodes[col] = clustered_bc[col]/(areas_to_look.loc[col].sum())\n",
    "\n"
   ]
  },
  {
   "cell_type": "code",
   "execution_count": null,
   "metadata": {},
   "outputs": [],
   "source": [
    "# Create the main figure and gridspec\n",
    "cluster = '3'\n",
    "cluster_df = density_barcodes[density_barcodes.index==cluster].reset_index(drop = True)\n",
    "barcode_density_matrix = np.zeros((len(cluster_df), max(cluster_df.columns.to_list())+1))\n",
    "for column in cluster_df:\n",
    "    barcode_density_matrix[:, column] = cluster_df[column].to_numpy()\n",
    "barcode_density_matrix[:, 0] = -1\n",
    "barcode_index = np.random.randint(len(cluster_df))\n",
    "fig = plt.figure(figsize=(12, 300))\n",
    "gs = fig.add_gridspec(50, 2, width_ratios=[2, 0.15])\n",
    "cmap = plt.cm.get_cmap(\"magma\").copy()\n",
    "vmax_max =  0.02\n",
    "#new_colours = cmap(np.linspace(0, 1, 30))\n",
    "#grey = ([0.3, 0.3, 0.3, 1])\n",
    "#new_colours[0, :] = grey\n",
    "#new_cmap = ListedColormap(new_colours)\n",
    "cmap.set_bad(color=[0.25, 0.25, 0.25, 1])\n",
    "# Iterate over barcode_index values\n",
    "\n",
    "    # add a new subplot iteratively\n",
    "    #\n",
    "    # Subplot - Main plot\n",
    "ax1 = fig.add_subplot(gs[i, 0])\n",
    "new_mat = np.log(1 + barcode_density_matrix[barcode_index, ROI_projection_max.astype(int)]).T\n",
    "new_fig = ax1.imshow(new_mat, cmap=cmap, vmax =vmax_max)\n",
    "ax1.axis('off')\n",
    "cbar = fig.colorbar(new_fig, ax=ax1, fraction=0.03, pad=0.04)\n",
    "cbar.set_label('log barcode density')\n",
    "\n",
    "ax1.set_title(f'Neuron {barcode_index} cortical projections', fontdict={'fontsize': 14})\n",
    "for k, boundary_coords in bf_left_boundaries.items():\n",
    "    ax1.plot(*boundary_coords.T, c=\"white\", lw=0.3)\n",
    "for k, boundary_coords in bf_right_boundaries.items():\n",
    "    ax1.plot(*boundary_coords.T, c=\"white\", lw=0.3)\n",
    "\n",
    "# Subplot - Seaborn heatmap\n",
    "sub_cort_heat = pd.DataFrame(columns=sub_cortical.keys(), dtype=\"float\")\n",
    "for col in sub_cort_heat.columns:\n",
    "        sub_cort_heat.loc[0, col] = np.log(barcode_density_matrix[barcode_index,sub_cortical_updated[col]].sum()+1)\n",
    "ax2 = fig.add_subplot(gs[i, 1])\n",
    "sb.heatmap(sub_cort_heat.T, annot=True, cmap=cmap, cbar=False, cbar_ax=ax2, vmax=vmax_max)\n",
    "ax2.set_title('Subcortical')\n",
    "ax2.set(xticklabels=[])\n",
    "#ax2.set_yticklabels(labels=sub_cortical.keys(), rotation=0)\n",
    "ax2.tick_params(left=True, bottom=False)\n",
    "    \n",
    "plt.tight_layout()\n",
    "plt.show()\n",
    "\n",
    "#plt.savefig(convert_to_flat_path/f'example_projections/random_{iteration}.pdf')"
   ]
  }
 ],
 "metadata": {
  "kernelspec": {
   "display_name": "MAPseq_processing_py39",
   "language": "python",
   "name": "python3"
  },
  "language_info": {
   "codemirror_mode": {
    "name": "ipython",
    "version": 3
   },
   "file_extension": ".py",
   "mimetype": "text/x-python",
   "name": "python",
   "nbconvert_exporter": "python",
   "pygments_lexer": "ipython3",
   "version": "3.9.0"
  },
  "orig_nbformat": 4
 },
 "nbformat": 4,
 "nbformat_minor": 2
}
