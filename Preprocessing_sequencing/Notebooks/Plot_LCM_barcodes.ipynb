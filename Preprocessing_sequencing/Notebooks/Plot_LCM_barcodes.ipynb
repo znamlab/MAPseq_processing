{
 "cells": [
  {
   "cell_type": "code",
   "execution_count": null,
   "id": "a5f9e405",
   "metadata": {},
   "outputs": [],
   "source": [
    "import pandas as pd\n",
    "import numpy as np\n",
    "import matplotlib.pyplot as plt\n",
    "from matplotlib.colors import LogNorm, Normalize\n",
    "import seaborn as sb\n",
    "import os\n",
    "import sys\n",
    "sys.setrecursionlimit(1000000)\n",
    "from scipy.stats import spearmanr\n",
    "import pathlib\n"
   ]
  },
  {
   "cell_type": "markdown",
   "id": "36c5c822",
   "metadata": {},
   "source": [
    "Load barcodes and LCM registration files and assign counts to areas"
   ]
  },
  {
   "cell_type": "code",
   "execution_count": null,
   "id": "6edf2274",
   "metadata": {},
   "outputs": [],
   "source": [
    "directory = pathlib.PurePath('/camp/lab/znamenskiyp/home/shared/projects/turnerb_MAPseq/A1_MAPseq/FIAA32.6a/Sequencing/Processed_data/final_counts/')\n",
    "barcodes_across_sample = pd.read_pickle(directory/'barcodes_across_sample.pkl')"
   ]
  },
  {
   "cell_type": "code",
   "execution_count": null,
   "id": "8fa74c8e",
   "metadata": {},
   "outputs": [],
   "source": [
    "#load registration files containing volume of each brain area within each sample and which RT primer corresponds to which sample name\n",
    "lcm_reg_dir = pathlib.PurePath('/nemo/lab/znamenskiyp/home/shared/code/MAPseq_processing/AC_MAPseq/Brain1_FIAA32.6a/LCM_registration')\n",
    "#_3dareas = '/camp/lab/znamenskiyp/home/shared/code/MAPseq_processing/AC_MAPseq/Brain1_FIAA32.6a/LCM_registration/3D_areas_in_sample.csv'\n",
    "areas = pd.read_csv(lcm_reg_dir/'3d_areas.csv')\n",
    "RTtosample = pd.read_csv(lcm_reg_dir/'RTprimer_tosample.csv')\n",
    "areas = areas.merge(RTtosample, how='inner', on='sample')\n",
    "\n",
    "group_areas = {\n",
    "    'SC': ['SCdg', 'SCdw', 'SCig', 'SCiw', 'SCop', 'SCsg', 'SCzo'],\n",
    "    'IC': ['ICc', 'ICd', 'ICe'],\n",
    "    'SSp': ['SSp-bfd', 'SSp-ll', 'SSp-m', 'SSp-n', 'SSp-tr', 'SSp-ul', 'SSp-un'],\n",
    "    'contra': areas.filter(like=\"Contra\").columns,\n",
    "    'striatum': ['CP', 'STR', 'ACB'],\n",
    "    'pons': ['SOCm', 'SOCl', 'POR', 'PRNr', 'PRNc', 'TRN', 'P', 'P-mot']\n",
    "}\n",
    "\n",
    "for group, columns in group_areas.items():\n",
    "    areas[group] = areas.filter(items=columns).sum(axis=1)\n",
    "    areas = areas.drop(columns, axis=1)\n",
    "\n",
    "areas_only = areas.drop(['sample', 'RT_primer', 'ar', 'bic', 'bsc', 'ccb', 'ccb', 'ccg', 'cing', 'cpd', 'csc', 'cst', 'ec', 'fa', 'fi',\n",
    "    'fiber tracts', 'fp', 'll', 'mcp', 'ml', 'onl', 'or', 'py', 'root', 'sctv', 'scwm', 'tb', 'CTXsp', 'act', 'alv', 'amc', 'cic', 'TH'], axis=1)\n",
    "\n",
    "areas_matrix = areas_only.to_numpy()\n",
    "areas_matrix = areas_matrix / np.sum(areas_matrix, axis=0)\n",
    "\n",
    "barcodes_matrix = barcodes_across_sample.to_numpy()\n",
    "barcodes_matrix[np.isnan(barcodes_matrix)] = 0\n",
    "barcodes_matrix /= np.sum(barcodes_matrix, axis=1)[:, np.newaxis]"
   ]
  },
  {
   "cell_type": "code",
   "execution_count": null,
   "id": "4c9b7810",
   "metadata": {},
   "outputs": [],
   "source": [
    "from sklearn.linear_model import LinearRegression\n",
    "\n",
    "mdl = LinearRegression(fit_intercept=False, positive=True)\n",
    "mdl.fit(areas_matrix, barcodes_matrix.T)"
   ]
  },
  {
   "cell_type": "code",
   "execution_count": null,
   "id": "1fd9eb34",
   "metadata": {},
   "outputs": [],
   "source": [
    "plt.figure(figsize=(20,70))\n",
    "df = pd.DataFrame(mdl.coef_[:15000,:], columns=areas_only.columns)\n",
    "sb.clustermap(df.T, vmax=0.01, dendrogram_ratio=[0.1, 0.1], yticklabels=True)\n"
   ]
  },
  {
   "cell_type": "code",
   "execution_count": null,
   "id": "23b81107",
   "metadata": {},
   "outputs": [],
   "source": [
    "plt.figure(figsize=(20, 5))\n",
    "sb.barplot(df)\n",
    "plt.xticks(rotation=90)"
   ]
  },
  {
   "cell_type": "code",
   "execution_count": null,
   "id": "29ce0378",
   "metadata": {},
   "outputs": [],
   "source": [
    "#remove barcodes that are only seen in one sample (NB this is not needed, I initially put in as a QC)\n",
    "barcodes_across_sample['samplesnotin'] =0\n",
    "for index, row in barcodes_across_sample.iterrows():\n",
    "    barcodes_across_sample['samplesnotin'].iloc[index]=(row.isna().sum())\n",
    "barcodes_across_sample = barcodes_across_sample[barcodes_across_sample['samplesnotin']<90]\n",
    "barcodes_across_sample = barcodes_across_sample.drop('samplesnotin', axis=1)\n"
   ]
  },
  {
   "cell_type": "code",
   "execution_count": null,
   "id": "dbce57b1",
   "metadata": {},
   "outputs": [],
   "source": [
    "#remove NaN\n",
    "barcodes_across_sample = barcodes_across_sample.fillna(0)\n",
    "#set min val to 1\n",
    "barcodes_across_sample= barcodes_across_sample.reset_index(drop=True)\n",
    "for index, row in barcodes_across_sample.iterrows():\n",
    "    bla = np.array(row)\n",
    "    smallest = np.min(bla[np.nonzero(bla)])\n",
    "    barcodes_across_sample.iloc[[index]]=row/smallest"
   ]
  },
  {
   "cell_type": "code",
   "execution_count": null,
   "id": "346ab9fc",
   "metadata": {},
   "outputs": [],
   "source": [
    "#select rows based on min count at source sites\n",
    "barcodes_norm_sub1 = barcodes_across_sample.loc[(barcodes_across_sample[40] >= 20)]\n",
    "barcodes_norm_sub2 = barcodes_across_sample.loc[(barcodes_across_sample[41] >= 20)]\n",
    "barcodes_norm_sub3 = barcodes_across_sample.loc[(barcodes_across_sample[42] >= 20)]\n",
    "barcodes_norm_sub4 = barcodes_across_sample.loc[(barcodes_across_sample[43] >= 20)]\n",
    "barcodes_norm_sub5 = barcodes_across_sample.loc[(barcodes_across_sample[49] >= 20)]\n",
    "barcodes_norm_sub6 = barcodes_across_sample.loc[(barcodes_across_sample[50] >= 20)]\n",
    "barcodes_norm_sub7 = barcodes_across_sample.loc[(barcodes_across_sample[51] >= 20)]\n",
    "barcodes_norm_sub8 = barcodes_across_sample.loc[(barcodes_across_sample[52] >= 20)]\n",
    "newdf =pd.concat([barcodes_norm_sub1, barcodes_norm_sub2])\n",
    "newdf =pd.concat([newdf, barcodes_norm_sub3])\n",
    "newdf =pd.concat([newdf, barcodes_norm_sub4])\n",
    "newdf =pd.concat([newdf, barcodes_norm_sub5])\n",
    "newdf =pd.concat([newdf, barcodes_norm_sub6])\n",
    "newdf =pd.concat([newdf, barcodes_norm_sub7])\n",
    "newdf =pd.concat([newdf, barcodes_norm_sub8])\n",
    "newdf = newdf[~newdf.index.duplicated(keep='first')] #remove duplicate barcodes"
   ]
  },
  {
   "cell_type": "code",
   "execution_count": null,
   "id": "d862cf87",
   "metadata": {},
   "outputs": [],
   "source": [
    "#plot heatmap showing barcodes in source site\n",
    "fig, ax = plt.subplots(figsize=(60, 10))\n",
    "sb.heatmap(barcodes_across_sample, norm=LogNorm())\n",
    "plt.show()"
   ]
  },
  {
   "cell_type": "code",
   "execution_count": null,
   "id": "17db888b",
   "metadata": {},
   "outputs": [],
   "source": [
    "#plot heatmap showing barcodes in source site with minimum thresholds\n",
    "fig, ax = plt.subplots(figsize=(60, 10))\n",
    "sb.heatmap(newdf, norm=LogNorm())\n",
    "plt.show()"
   ]
  },
  {
   "cell_type": "code",
   "execution_count": null,
   "id": "42932d9a",
   "metadata": {},
   "outputs": [],
   "source": [
    "#now remove columns containing source sites and negative control\n",
    "newdf = newdf.drop([40, 41, 42, 43, 49, 50, 51, 52, 1, 2, 3, 4, 5], axis=1)\n"
   ]
  },
  {
   "cell_type": "code",
   "execution_count": null,
   "id": "24f5a465",
   "metadata": {},
   "outputs": [],
   "source": [
    "#create a dataframe of the fractions of each brain area contained within each sample\n",
    "total = pd.DataFrame()\n",
    "total['sum'] = areas_only.sum(axis=1)\n",
    "areasFrac = pd.DataFrame(columns=areas_only.columns)\n",
    "for i, row in areas_only.iterrows():\n",
    "    newrow = row/total['sum'].iloc[i]\n",
    "    areasFrac =areasFrac.append(newrow)"
   ]
  },
  {
   "cell_type": "code",
   "execution_count": null,
   "id": "9704a4bd",
   "metadata": {},
   "outputs": [],
   "source": [
    "areas_only / areas_only.sum(axis=1)"
   ]
  },
  {
   "cell_type": "code",
   "execution_count": null,
   "id": "085991f9",
   "metadata": {},
   "outputs": [],
   "source": [
    "#for each barcode, create a matrix of BC count for regions in a sample based on amount of each region in LCM (makes assumption of equal BC distribution)\n",
    "bc_matrix = np.zeros(shape=((len(newdf), (len(areas_only.columns)))))\n",
    "bc_matrix = pd.DataFrame(data= bc_matrix, columns=areas_only.columns, index=newdf.index)\n",
    "for i, row in newdf.iterrows():\n",
    "    bc_matrix1 =pd.DataFrame(columns=areas_only.columns)\n",
    "    for samplename in newdf.columns:\n",
    "        ind = areas.index[areas['RT_primer']==samplename].tolist()\n",
    "        fractionC = areasFrac.iloc[ind[0]]*row.loc[samplename]\n",
    "        bc_matrix1 = bc_matrix1.append(fractionC)\n",
    "    for region in bc_matrix1.columns:\n",
    "        bc_matrix.at[i, region] = bc_matrix1[region].sum()/areas_only[region].sum()\n",
    "bc_matrix.to_pickle(lcm_reg_dir/'bc_matrix_lcm_2.pkl')"
   ]
  },
  {
   "cell_type": "code",
   "execution_count": null,
   "id": "490f6df4",
   "metadata": {},
   "outputs": [],
   "source": [
    "#load bc_matrix (containing counts in each region for each barcode) if don't want to repeat above  \n",
    "bc_matrix = pd.read_pickle(lcm_reg_dir/'bc_matrix_lcm_2.pkl')\n",
    "\n"
   ]
  },
  {
   "cell_type": "code",
   "execution_count": null,
   "id": "748be93a",
   "metadata": {},
   "outputs": [],
   "source": [
    "#remove columns that are all zeros, and rows that are all zeros\n",
    "for column in bc_matrix.columns:\n",
    "    if bc_matrix[column].sum() == 0:\n",
    "        bc_matrix.drop([column], axis=1, inplace=True)\n",
    "bc_matrix = bc_matrix.loc[~(bc_matrix==0).all(axis=1)]"
   ]
  },
  {
   "cell_type": "code",
   "execution_count": null,
   "id": "192a3c46",
   "metadata": {},
   "outputs": [],
   "source": [
    "# perform hierarchial clustering of all barcodes across samples\n",
    "sb.clustermap(bc_matrix, metric='euclidean', standard_scale=0, cmap=\"Blues\", figsize=(60, 10))"
   ]
  },
  {
   "cell_type": "markdown",
   "id": "308bfcd6",
   "metadata": {},
   "source": [
    "Potentially may want to threshold to minimum barcode counts? I haven't but might be useful set a minimum"
   ]
  },
  {
   "cell_type": "code",
   "execution_count": null,
   "id": "77a63526",
   "metadata": {
    "scrolled": true
   },
   "outputs": [],
   "source": [
    "#threshold minimum value of counts/cm3 to zero\n",
    "threshold = 0.0000001\n",
    "bc_matrix_thresholded = pd.DataFrame(np.where(bc_matrix > threshold, 0, bc_matrix))\n",
    "#remove columns that are all zeros, and rows that are all zeros\n",
    "for column in bc_matrix_thresholded.columns:\n",
    "    if bc_matrix_thresholded[column].sum() == 0:\n",
    "        bc_matrix_thresholded.drop([column], axis=1, inplace=True)\n",
    "bc_matrix_thresholded = bc_matrix_thresholded.loc[~(bc_matrix==0).all(axis=1)]\n",
    "#plot heatmap showing barcodes in source site with minimum thresholds\n",
    "fig, ax = plt.subplots(figsize=(60, 10))\n",
    "sb.heatmap(bc_matrix_thresholded, norm=LogNorm())\n",
    "plt.show()"
   ]
  },
  {
   "cell_type": "markdown",
   "id": "7662d1bf",
   "metadata": {},
   "source": [
    "Looking at barcode distribution across visual areas only"
   ]
  },
  {
   "cell_type": "code",
   "execution_count": null,
   "id": "cce0f1ee",
   "metadata": {},
   "outputs": [],
   "source": [
    "#before selecting subset of areas, set max row projection strength to 1, so preserve relative projection strengths of bc\n",
    "newbcmatrix = pd.DataFrame(columns = bc_matrix.columns)\n",
    "for i, row in bc_matrix.iterrows():\n",
    "    newrow= pd.DataFrame(bc_matrix.loc[i]/bc_matrix.loc[i].max())\n",
    "    newbcmatrix = pd.concat([newbcmatrix, newrow.T])"
   ]
  },
  {
   "cell_type": "code",
   "execution_count": null,
   "id": "b04c7b97",
   "metadata": {},
   "outputs": [],
   "source": [
    "#now take only the regions that contain visual areas\n",
    "visareas= [col for col in newbcmatrix if col.startswith('VIS') and col.startswith('VISC') == False] +  [col for col in newbcmatrix if col.startswith('Contra-VIS')and col.startswith('Contra-VISC') == False]\n",
    "reg = newbcmatrix.loc[:,visareas]\n",
    "\n",
    "\n"
   ]
  },
  {
   "cell_type": "code",
   "execution_count": null,
   "id": "3cef035a",
   "metadata": {},
   "outputs": [],
   "source": [
    "#remove rows and columns containing only zeros\n",
    "for column in reg.columns:\n",
    "    if reg[column].sum() == 0:\n",
    "        reg.drop([column], axis=1, inplace=True)\n",
    "reg = reg.loc[~(reg==0).all(axis=1)]"
   ]
  },
  {
   "cell_type": "code",
   "execution_count": null,
   "id": "8ead4ce6",
   "metadata": {},
   "outputs": [],
   "source": [
    "#perform hierarchial clustering of visual areas only\n",
    "sb.clustermap(reg, metric='euclidean', cmap=\"Blues\", figsize=(30, 10))"
   ]
  },
  {
   "cell_type": "markdown",
   "id": "18b80451",
   "metadata": {},
   "source": [
    "(can ignore) looking at qPCR as potential QC check"
   ]
  },
  {
   "cell_type": "code",
   "execution_count": null,
   "id": "bddf4efb",
   "metadata": {},
   "outputs": [],
   "source": [
    "#plot of qPCR beta actin values against volume for potentially using as QC against sample quality\n",
    "qPCR = pd.read_csv('/camp/lab/znamenskiyp/home/shared/projects/turnerb_MAPseq/A1_MAPseq/FIAA32.6a/qPCR/qPCR_FIAA326a.csv') \n",
    "qPCR['B-act_amount'] = np.power(1.585,(-(qPCR['B-actin Ct'])))\n",
    "qPCR['vol'] = 0\n",
    "    \n",
    "for i, row in qPCR.iterrows():\n",
    "    ind = areas.index[areas['RT_primer']==qPCR.loc[i, 'RT primer']].tolist()\n",
    "    qPCR.at[i, 'vol'] = total.iloc[ind[0]]\n",
    "#qPCR = qPCR.drop([4]) #remove row with no volume\n",
    "qPCR['logVol'] = np.log(qPCR['vol'])\n",
    "qPCR['logBetaAct'] = np.log(qPCR['B-act_amount'])\n",
    "sb.lmplot(data= qPCR, x='logVol', y='logBetaAct')\n",
    "corr, _ = spearmanr(qPCR[\"vol\"], qPCR[\"B-act_amount\"])\n",
    "print('Spearmans correlation: %.3f' % corr)"
   ]
  }
 ],
 "metadata": {
  "kernelspec": {
   "display_name": "Python 3 (ipykernel)",
   "language": "python",
   "name": "python3"
  },
  "language_info": {
   "codemirror_mode": {
    "name": "ipython",
    "version": 3
   },
   "file_extension": ".py",
   "mimetype": "text/x-python",
   "name": "python",
   "nbconvert_exporter": "python",
   "pygments_lexer": "ipython3",
   "version": "3.10.9"
  }
 },
 "nbformat": 4,
 "nbformat_minor": 5
}
