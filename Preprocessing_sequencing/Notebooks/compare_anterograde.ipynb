{
 "cells": [
  {
   "cell_type": "code",
   "execution_count": null,
   "id": "97e848bb",
   "metadata": {},
   "outputs": [],
   "source": [
    "from allensdk.core.mouse_connectivity_cache import MouseConnectivityCache\n",
    "mcc = MouseConnectivityCache()\n",
    "import pandas as pd\n",
    "import numpy as np\n",
    "import matplotlib.pyplot as plt\n",
    "import warnings\n",
    "warnings.filterwarnings('ignore')\n",
    "%matplotlib inline\n",
    "import pathlib\n",
    "import os\n",
    "from allensdk.api.queries.image_download_api import ImageDownloadApi\n",
    "from allensdk.api.queries.svg_api import SvgApi\n",
    "from allensdk.config.manifest import Manifest"
   ]
  },
  {
   "cell_type": "code",
   "execution_count": null,
   "id": "5fdd0896",
   "metadata": {},
   "outputs": [],
   "source": [
    "#load ROIs from LCM datasets from registration data\n",
    "reg_dir = pathlib.Path('/nemo/lab/znamenskiyp/home/shared/projects/turnerb_MAPseq/A1_MAPseq/FIAA32.6a/LCM_registration/allenccf/allen_ccf_coord')\n",
    "ROI_path = pathlib.Path('/nemo/lab/znamenskiyp/home/shared/projects/turnerb_MAPseq/A1_MAPseq/FIAA32.6a/LCM_registration/rois')\n",
    "ROI_table = pathlib.Path('/camp/lab/znamenskiyp/home/shared/projects/turnerb_MAPseq/A1_MAPseq/FIAA32.6a/LCM_registration/allenccf/ROI_vol.pkl')\n",
    "allen_converted_path = pathlib.Path('/camp/lab/znamenskiyp/home/shared/projects/turnerb_MAPseq/A1_MAPseq/FIAA32.6a/LCM_registration/allenccf/allen_ccf_coord')\n",
    "download_allen = pathlib.Path('/camp/lab/znamenskiyp/home/shared/projects/turnerb_MAPseq/A1_MAPseq/Allen_Connectivity')\n",
    "reads_path = pathlib.Path(\"/camp/lab/znamenskiyp/home/shared/projects/turnerb_MAPseq/A1_MAPseq/FIAA32.6a/Sequencing/Processed_data/UpdatedApril/preprocessed_seq/Final_processed_sequences\")\n",
    "tube_to_RT = pathlib.Path(\"/camp/lab/znamenskiyp/home/shared/projects/turnerb_MAPseq/A1_MAPseq/FIAA32.6a/Sequencing/Processed_data/UpdatedApril/tube_to_RT.csv\")"
   ]
  },
  {
   "cell_type": "code",
   "execution_count": null,
   "id": "bcd8a937",
   "metadata": {},
   "outputs": [],
   "source": [
    "#allen anterograde tracing datasets with more than 75% injection site AUDp\n",
    "experiment_id_a = 120491896 # AUDp\n",
    "experiment_id_b =116903230 # AUDp, AUDpo, AUDd, AUDv\n",
    "experiment_id_c =100149109 # AUDp and AUDd\n",
    "#injection volumes to normalise to (mm3)\n",
    "expt_a_inj_vol = 0.097\n",
    "expt_b_inj_vol = 0.114\n",
    "expt_c_inj_vol= 0.073\n",
    "# get projection density for each anterograde tracing expt: values are sum of projecting pixels per voxel.\n",
    "expt_a, pd_a_info = mcc.get_projection_density(experiment_id_a)\n",
    "expt_b, pd_b_info = mcc.get_projection_density(experiment_id_b)\n",
    "expt_c, pd_c_info = mcc.get_projection_density(experiment_id_c)"
   ]
  },
  {
   "cell_type": "code",
   "execution_count": null,
   "id": "51f233f4",
   "metadata": {},
   "outputs": [],
   "source": [
    "#re-get registration info on each ROI\n",
    "#iterate through individual slices, take average difference in in coordinates in z (which is x axes in allen ccf) for last slice (slice s001 for brain 1), take average of previous slices\n",
    "add_z = pd.DataFrame(columns=['slice', 'amountz'], dtype=int)\n",
    "#need to change for mega thick last bit of cortex section, so extend ROI through 3slices\n",
    "for file in os.listdir(allen_converted_path):\n",
    "    if file.startswith('allen_ccf_converted_'):\n",
    "        slice_name = file[20:24]\n",
    "        slicenum = int(file[21:24])\n",
    "        if slice_name != 's001' and slice_name != 's012' and slice_name != 's048' and slice_name != 's053':\n",
    "            slice_before= slicenum-1\n",
    "            if slice_before >9:\n",
    "                slicebefore_name = f's0{slice_before}' \n",
    "            if slice_before<10:\n",
    "                slicebefore_name = f's00{slice_before}' \n",
    "            [x1a, y1a, z1a, one1] = np.load(allen_converted_path/file)\n",
    "            [x2a, y2a, z2a, one2] = np.load(allen_converted_path/f'allen_ccf_converted_{slicebefore_name}.npy')\n",
    "            dif = np.average(x2a.flatten()-x1a.flatten())\n",
    "            add_z= add_z.append({'slice': slice_name, 'amountz': dif},ignore_index=True)\n",
    "#for slices where the one's before are missing, extend them by the mean of slice z extensions for the others\n",
    "s001_add =add_z['amountz'].mean()\n",
    "add_z= add_z.append({'slice': 's001', 'amountz': s001_add},ignore_index=True)\n",
    "s012_add =add_z['amountz'].mean()\n",
    "add_z= add_z.append({'slice': 's012', 'amountz': s012_add},ignore_index=True)\n",
    "s048_add =add_z['amountz'].mean()\n",
    "add_z= add_z.append({'slice': 's048', 'amountz': s048_add},ignore_index=True)\n",
    "s053_add =add_z['amountz'].mean()\n",
    "add_z= add_z.append({'slice': 's053', 'amountz': s053_add},ignore_index=True)"
   ]
  },
  {
   "cell_type": "code",
   "execution_count": null,
   "id": "4007fb8e",
   "metadata": {},
   "outputs": [],
   "source": [
    "#roipath = pathlib.Path('/camp/lab/znamenskiyp/home/shared/projects/turnerb_MAPseq/A1_MAPseq/FIAA32.6a/LCM_registration/rois')\n",
    "ROI_vol_expt_a=pd.DataFrame()\n",
    "\n",
    "for region in os.listdir(ROI_path):\n",
    "    if region.startswith(\"s0\"):\n",
    "        slicename = region[0:4]\n",
    "        tube = region[5:len(region)].split('TUBE', 1)[1]\n",
    "        tube =tube[:-4]\n",
    "        [xa, ya, za, one] = np.load(allen_converted_path/f'allen_ccf_converted_{slicename}.npy')\n",
    "        roi = plt.imread(ROI_path/f'{region}')\n",
    "        allencoord_roiya = roi*ya\n",
    "        allencoord_roiza = roi*za\n",
    "#use shoelace formula to define area of polygon given xy coordinates then calculate volume of each LCM roi\n",
    "        calcz = allencoord_roiza[allencoord_roiza!= 0]\n",
    "        calcy = allencoord_roiya[allencoord_roiya!= 0]\n",
    "        area_roi = 0.5*np.abs(np.dot(calcz,np.roll(calcy,1))-np.dot(calcy,np.roll(calcz,1)))\n",
    "        z_to_add = add_z.loc[add_z['slice'] == slicename, 'amountz'].iloc[0]\n",
    "        vol_roi = area_roi*-z_to_add\n",
    "#convert the x, y, z coordinates to pixel\n",
    "        pixcoord = []\n",
    "        for i, axis in enumerate([xa, ya, za]):\n",
    "            pixel = np.array(np.round(axis/25), dtype=int)\n",
    "            pixel[pixel <0] = 0\n",
    "            pixel[pixel >= expt_a.shape[i]] = 0\n",
    "            pixcoord.append(pixel)\n",
    "\n",
    "# use projection expt to convert each pixel to projection density\n",
    "\n",
    "        registered_slice = np.zeros(xa.shape, dtype = expt_a.dtype)\n",
    "        expt_a_roi=expt_a[pixcoord[0].flatten(),\n",
    "                      pixcoord[1].flatten(),\n",
    "                      pixcoord[2].flatten()].reshape(registered_slice.shape)\n",
    "        ROIanno = expt_a_roi*roi\n",
    "#iterate image by z slices, each additional z, annotate then add to list\n",
    "        slices = -round(z_to_add/25)\n",
    "        for x in range(slices):\n",
    "            if x >0:\n",
    "                newz = pixcoord[0]-x #changed from plus to minus as going backwards\n",
    "                slice = expt_a[newz.flatten(), pixcoord[1].flatten(), pixcoord[2].flatten()].reshape(registered_slice.shape)\n",
    "                ROIanno_add = slice*roi\n",
    "                ROIanno = np.append(ROIanno, ROIanno_add)\n",
    "                sum_projpixels_per_voxel = ROIanno.sum()\n",
    "        ROI_vol_expt_a= ROI_vol_expt_a.append({'slice': slicename, 'tube': tube, 'z_added': z_to_add, 'vol (um3)': vol_roi, 'projection_density_pix': ROIanno, 'sum_projpixels_per_voxel': sum_projpixels_per_voxel},ignore_index=True)\n",
    "\n",
    "\n"
   ]
  },
  {
   "cell_type": "code",
   "execution_count": null,
   "id": "1592c1ad",
   "metadata": {},
   "outputs": [],
   "source": [
    "#combine volumes for LCM\n",
    "finalpix_expt_a = pd.DataFrame(columns=['tube', 'projection_density_summed', 'vol (um3)'], dtype=int)\n",
    "result = ROI_vol_expt_a.groupby(['tube']).agg(', '.join).reset_index()\n",
    "for row, tube in result['tube'].iteritems():\n",
    "    newdf = ROI_vol_expt_a[ROI_vol_expt_a['tube']==tube].reset_index()\n",
    "    #for count, value in enumerate(newdf):\n",
    "    for r, t in newdf['tube'].iteritems():\n",
    "        if r ==0 :\n",
    "            projection_density_summed = newdf.loc[r, 'sum_projpixels_per_voxel']\n",
    "            vol = newdf.loc[r, 'vol (um3)']\n",
    "        if r > 0:\n",
    "            projection_density_summed = projection_density_summed + newdf.loc[r, 'sum_projpixels_per_voxel']\n",
    "            vol = vol + newdf.loc[r, 'vol (um3)']\n",
    "    finalpix_expt_a= finalpix_expt_a.append({'tube': tube, 'projection_density_summed': projection_density_summed, 'vol (um3)': vol},ignore_index=True)\n",
    "finalpix_expt_a.to_pickle('mouse_connectivity/finalpix_expt_a.pkl')\n",
    "    "
   ]
  },
  {
   "cell_type": "code",
   "execution_count": null,
   "id": "a6102fa5",
   "metadata": {},
   "outputs": [],
   "source": [
    "\n",
    "#roipath = pathlib.Path('/camp/lab/znamenskiyp/home/shared/projects/turnerb_MAPseq/A1_MAPseq/FIAA32.6a/LCM_registration/rois')\n",
    "ROI_vol_expt_b=pd.DataFrame()\n",
    "\n",
    "for region in os.listdir(ROI_path):\n",
    "    if region.startswith(\"s0\"):\n",
    "        slicename = region[0:4]\n",
    "        tube = region[5:len(region)].split('TUBE', 1)[1]\n",
    "        tube =tube[:-4]\n",
    "        [xa, ya, za, one] = np.load(allen_converted_path/f'allen_ccf_converted_{slicename}.npy')\n",
    "        roi = plt.imread(ROI_path/f'{region}')\n",
    "        allencoord_roiya = roi*ya\n",
    "        allencoord_roiza = roi*za\n",
    "#use shoelace formula to define area of polygon given xy coordinates then calculate volume of each LCM roi\n",
    "        calcz = allencoord_roiza[allencoord_roiza!= 0]\n",
    "        calcy = allencoord_roiya[allencoord_roiya!= 0]\n",
    "        area_roi = 0.5*np.abs(np.dot(calcz,np.roll(calcy,1))-np.dot(calcy,np.roll(calcz,1)))\n",
    "        z_to_add = add_z.loc[add_z['slice'] == slicename, 'amountz'].iloc[0]\n",
    "        vol_roi = area_roi*-z_to_add\n",
    "#convert the x, y, z coordinates to pixel\n",
    "        pixcoord = []\n",
    "        for i, axis in enumerate([xa, ya, za]):\n",
    "            pixel = np.array(np.round(axis/25), dtype=int)\n",
    "            pixel[pixel <0] = 0\n",
    "            pixel[pixel >= expt_a.shape[i]] = 0\n",
    "            pixcoord.append(pixel)\n",
    "\n",
    "# use projection expt to convert each pixel to projection density\n",
    "\n",
    "        registered_slice = np.zeros(xa.shape, dtype = expt_a.dtype)\n",
    "        expt_b_roi=expt_b[pixcoord[0].flatten(),\n",
    "                      pixcoord[1].flatten(),\n",
    "                      pixcoord[2].flatten()].reshape(registered_slice.shape)\n",
    "        ROIanno = expt_b_roi*roi\n",
    "#iterate image by z slices, each additional z, annotate then add to list\n",
    "        slices = -round(z_to_add/25)\n",
    "        for x in range(slices):\n",
    "            if x >0:\n",
    "                newz = pixcoord[0]-x #changed from plus to minus as going backwards\n",
    "                slice = expt_b[newz.flatten(), pixcoord[1].flatten(), pixcoord[2].flatten()].reshape(registered_slice.shape)\n",
    "                ROIanno_add = slice*roi\n",
    "                ROIanno = np.append(ROIanno, ROIanno_add)\n",
    "                sum_projpixels_per_voxel = ROIanno.sum()\n",
    "        ROI_vol_expt_b= ROI_vol_expt_b.append({'slice': slicename, 'tube': tube, 'z_added': z_to_add, 'vol (um3)': vol_roi, 'projection_density_pix': ROIanno, 'sum_projpixels_per_voxel': sum_projpixels_per_voxel},ignore_index=True)\n",
    "\n",
    "#combine volumes for LCM\n",
    "finalpix_expt_b = pd.DataFrame(columns=['tube', 'projection_density_summed', 'vol (um3)'], dtype=int)\n",
    "result = ROI_vol_expt_b.groupby(['tube']).agg(', '.join).reset_index()\n",
    "for row, tube in result['tube'].iteritems():\n",
    "    newdf = ROI_vol_expt_b[ROI_vol_expt_b['tube']==tube].reset_index()\n",
    "    #for count, value in enumerate(newdf):\n",
    "    for r, t in newdf['tube'].iteritems():\n",
    "        if r ==0 :\n",
    "            projection_density_summed = newdf.loc[r, 'sum_projpixels_per_voxel']\n",
    "            vol = newdf.loc[r, 'vol (um3)']\n",
    "        if r > 0:\n",
    "            projection_density_summed = projection_density_summed + newdf.loc[r, 'sum_projpixels_per_voxel']\n",
    "            vol = vol + newdf.loc[r, 'vol (um3)']\n",
    "    finalpix_expt_b= finalpix_expt_b.append({'tube': tube, 'projection_density_summed': projection_density_summed, 'vol (um3)': vol},ignore_index=True)\n",
    "finalpix_expt_b.to_pickle('mouse_connectivity/finalpix_expt_b.pkl')\n"
   ]
  },
  {
   "cell_type": "code",
   "execution_count": null,
   "id": "7117c470",
   "metadata": {},
   "outputs": [],
   "source": [
    "\n",
    "#roipath = pathlib.Path('/camp/lab/znamenskiyp/home/shared/projects/turnerb_MAPseq/A1_MAPseq/FIAA32.6a/LCM_registration/rois')\n",
    "ROI_vol_expt_c=pd.DataFrame()\n",
    "\n",
    "for region in os.listdir(ROI_path):\n",
    "    if region.startswith(\"s0\"):\n",
    "        slicename = region[0:4]\n",
    "        tube = region[5:len(region)].split('TUBE', 1)[1]\n",
    "        tube =tube[:-4]\n",
    "        [xa, ya, za, one] = np.load(allen_converted_path/f'allen_ccf_converted_{slicename}.npy')\n",
    "        roi = plt.imread(ROI_path/f'{region}')\n",
    "        allencoord_roiya = roi*ya\n",
    "        allencoord_roiza = roi*za\n",
    "#use shoelace formula to define area of polygon given xy coordinates then calculate volume of each LCM roi\n",
    "        calcz = allencoord_roiza[allencoord_roiza!= 0]\n",
    "        calcy = allencoord_roiya[allencoord_roiya!= 0]\n",
    "        area_roi = 0.5*np.abs(np.dot(calcz,np.roll(calcy,1))-np.dot(calcy,np.roll(calcz,1)))\n",
    "        z_to_add = add_z.loc[add_z['slice'] == slicename, 'amountz'].iloc[0]\n",
    "        vol_roi = area_roi*-z_to_add\n",
    "#convert the x, y, z coordinates to pixel\n",
    "        pixcoord = []\n",
    "        for i, axis in enumerate([xa, ya, za]):\n",
    "            pixel = np.array(np.round(axis/25), dtype=int)\n",
    "            pixel[pixel <0] = 0\n",
    "            pixel[pixel >= expt_a.shape[i]] = 0\n",
    "            pixcoord.append(pixel)\n",
    "\n",
    "# use projection expt to convert each pixel to projection density\n",
    "\n",
    "        registered_slice = np.zeros(xa.shape, dtype = expt_a.dtype)\n",
    "        expt_c_roi=expt_c[pixcoord[0].flatten(),\n",
    "                      pixcoord[1].flatten(),\n",
    "                      pixcoord[2].flatten()].reshape(registered_slice.shape)\n",
    "        ROIanno = expt_c_roi*roi\n",
    "#iterate image by z slices, each additional z, annotate then add to list\n",
    "        slices = -round(z_to_add/25)\n",
    "        for x in range(slices):\n",
    "            if x >0:\n",
    "                newz = pixcoord[0]-x #changed from plus to minus as going backwards\n",
    "                slice = expt_c[newz.flatten(), pixcoord[1].flatten(), pixcoord[2].flatten()].reshape(registered_slice.shape)\n",
    "                ROIanno_add = slice*roi\n",
    "                ROIanno = np.append(ROIanno, ROIanno_add)\n",
    "                sum_projpixels_per_voxel = ROIanno.sum()\n",
    "        ROI_vol_expt_c= ROI_vol_expt_c.append({'slice': slicename, 'tube': tube, 'z_added': z_to_add, 'vol (um3)': vol_roi, 'projection_density_pix': ROIanno, 'sum_projpixels_per_voxel': sum_projpixels_per_voxel},ignore_index=True)\n",
    "\n",
    "#combine volumes for LCM\n",
    "finalpix_expt_c = pd.DataFrame(columns=['tube', 'projection_density_summed', 'vol (um3)'], dtype=int)\n",
    "result = ROI_vol_expt_c.groupby(['tube']).agg(', '.join).reset_index()\n",
    "for row, tube in result['tube'].iteritems():\n",
    "    newdf = ROI_vol_expt_c[ROI_vol_expt_c['tube']==tube].reset_index()\n",
    "    #for count, value in enumerate(newdf):\n",
    "    for r, t in newdf['tube'].iteritems():\n",
    "        if r ==0 :\n",
    "            projection_density_summed = newdf.loc[r, 'sum_projpixels_per_voxel']\n",
    "            vol = newdf.loc[r, 'vol (um3)']\n",
    "        if r > 0:\n",
    "            projection_density_summed = projection_density_summed + newdf.loc[r, 'sum_projpixels_per_voxel']\n",
    "            vol = vol + newdf.loc[r, 'vol (um3)']\n",
    "    finalpix_expt_c= finalpix_expt_c.append({'tube': tube, 'projection_density_summed': projection_density_summed, 'vol (um3)': vol},ignore_index=True)\n",
    "\n",
    "    \n",
    "finalpix_expt_c.to_pickle('mouse_connectivity/finalpix_expt_c.pkl')\n"
   ]
  },
  {
   "cell_type": "code",
   "execution_count": null,
   "id": "5079f78c",
   "metadata": {},
   "outputs": [],
   "source": [
    "#plot relative reads to maximum\n",
    "#load tables\n",
    "finalpix_expt_a = pd.read_pickle('mouse_connectivity/finalpix_expt_a.pkl')\n",
    "finalpix_expt_b = pd.read_pickle('mouse_connectivity/finalpix_expt_b.pkl')\n",
    "finalpix_expt_c = pd.read_pickle('mouse_connectivity/finalpix_expt_c.pkl')"
   ]
  },
  {
   "cell_type": "code",
   "execution_count": null,
   "id": "c10f7522",
   "metadata": {},
   "outputs": [],
   "source": [
    "#generate a table with total number of projection pixels normalised by injection volume for each expt.\n",
    "all_projection_allen = pd.DataFrame().assign(Tube=finalpix_expt_a['tube'], ExptA = finalpix_expt_a['projection_density_summed']/expt_a_inj_vol, ExptB=finalpix_expt_b['projection_density_summed']/expt_b_inj_vol, ExptC=finalpix_expt_c['projection_density_summed']/expt_c_inj_vol)\n",
    "all_projection_allen = all_projection_allen.set_index('Tube')                                         \n",
    "                                         \n",
    " "
   ]
  },
  {
   "cell_type": "code",
   "execution_count": null,
   "id": "516e75bd",
   "metadata": {},
   "outputs": [],
   "source": [
    "projection_comp = pd.DataFrame()"
   ]
  },
  {
   "cell_type": "code",
   "execution_count": null,
   "id": "4e7e597b",
   "metadata": {},
   "outputs": [],
   "source": [
    "projection_comp = pd.DataFrame(all_projection_allen.mean(axis=1), columns=['Allen'])\n",
    "projection_comp['std_allen'] = all_projection_allen.std(axis=1)\n",
    "RT_convert = pd.read_csv(tube_to_RT)\n",
    "RT_convert = RT_convert.set_index('RT primer')"
   ]
  },
  {
   "cell_type": "code",
   "execution_count": null,
   "id": "ed932925",
   "metadata": {},
   "outputs": [],
   "source": [
    "#load neuron read counts for each tube\n",
    "projection_comp['MAPseq_counts'] = 0\n",
    "for file in os.listdir(reads_path):\n",
    "    barcode_file = reads_path/file\n",
    "    if barcode_file.stem.startswith('neuron_counts'):\n",
    "        to_read = pd.read_csv(barcode_file) \n",
    "        df = to_read[to_read['counts'] > 2]\n",
    "        counts = df['counts'].sum()\n",
    "        #counts =to_read['counts'].sum()\n",
    "        sample = barcode_file.stem.split(\"neuron_counts_BC\", 1)[1]\n",
    "        tube = RT_convert.loc[int(sample), 'Tube']\n",
    "        projection_comp.loc[f'{tube}', 'MAPseq_counts'] = counts\n",
    "projection_comp.index = projection_comp.index.astype(int)\n",
    "projection_comp = projection_comp.sort_index()"
   ]
  },
  {
   "cell_type": "code",
   "execution_count": null,
   "id": "77149076",
   "metadata": {},
   "outputs": [],
   "source": [
    "#normalise reads to leftmost MAPseq sample\n",
    "div_amount = projection_comp.loc[65, 'MAPseq_counts']/projection_comp.loc[65, 'Allen']\n",
    "projection_comp['Allen_norm'] = projection_comp['Allen']*div_amount\n",
    "projection_comp['std_allen_norm'] = projection_comp['std_allen']*div_amount\n",
    "projection_comp['MAPseq_norm'] = projection_comp['MAPseq_counts']/div_amount\n"
   ]
  },
  {
   "cell_type": "code",
   "execution_count": null,
   "id": "7e7fc335",
   "metadata": {},
   "outputs": [],
   "source": []
  },
  {
   "cell_type": "code",
   "execution_count": null,
   "id": "6ba82e2b",
   "metadata": {},
   "outputs": [],
   "source": [
    "projection_comp['std_allen_norm'] = projection_comp['std_allen']*div_amount"
   ]
  },
  {
   "cell_type": "code",
   "execution_count": null,
   "id": "7e0721ca",
   "metadata": {},
   "outputs": [],
   "source": [
    "Neg_controls = [projection_comp.loc['1', 'Allen'], projection_comp.loc['2', 'Allen'], projection_comp.loc['3', 'Allen'], projection_comp.loc['4', 'Allen']]\n",
    "neg_subtract =np.mean(Neg_controls)"
   ]
  },
  {
   "cell_type": "code",
   "execution_count": null,
   "id": "9f0aa0cb",
   "metadata": {},
   "outputs": [],
   "source": [
    "projection_comp['Allen_neg_subtract'] = projection_comp[\"Allen\"]-neg_subtract"
   ]
  },
  {
   "cell_type": "code",
   "execution_count": null,
   "id": "91bedee9",
   "metadata": {},
   "outputs": [],
   "source": []
  },
  {
   "cell_type": "code",
   "execution_count": null,
   "id": "30f1904c",
   "metadata": {},
   "outputs": [],
   "source": [
    "x_list = []\n",
    "for index in projection_comp.index:\n",
    "    x_list.append(index)\n"
   ]
  },
  {
   "cell_type": "code",
   "execution_count": null,
   "id": "f1aa69ea",
   "metadata": {},
   "outputs": [],
   "source": [
    "from scipy.stats import pearsonr\n",
    "plt.scatter(np.log(projection_comp.Allen), np.log(projection_comp.MAPseq_counts))\n",
    "plt.xlabel('log Allen pixels')\n",
    "plt.ylabel('log MAPseq reads')\n",
    "corr, _ = pearsonr(projection_comp.Allen, projection_comp.MAPseq_counts)\n",
    "print(f'Pearsons correlation: {corr}')"
   ]
  },
  {
   "cell_type": "code",
   "execution_count": null,
   "id": "f8752828",
   "metadata": {},
   "outputs": [],
   "source": [
    "#all anterograde tracings together\n",
    "fig = plt.figure(figsize=(20, 5))\n",
    "ax1 = fig.add_subplot(111)\n",
    "ax1.plot(x_list, all_projection_allen['ExptA']*div_amount, label='tracing expt a')\n",
    "ax1.plot(x_list, all_projection_allen['ExptB']*div_amount, label='tracing expt b')\n",
    "ax1.plot(x_list, all_projection_allen['ExptC']*div_amount, label='tracing expt c')\n",
    "ax1.plot(x_list, projection_comp.MAPseq_counts, label='MAPseq')\n",
    "#ax2 = plt.plot(x_list, projection_comp.Allen_norm)\n",
    "plt.legend(loc='upper left')\n",
    "plt.xticks(rotation = 90)\n",
    "plt.xticks(np.arange(1, 94, 1.0))\n",
    "plt.xlabel('Tubes')\n",
    "plt.ylabel('Reads')\n",
    "plt.yscale('log')\n"
   ]
  },
  {
   "cell_type": "code",
   "execution_count": null,
   "id": "077c6214",
   "metadata": {},
   "outputs": [],
   "source": []
  },
  {
   "cell_type": "code",
   "execution_count": null,
   "id": "3d879974",
   "metadata": {},
   "outputs": [],
   "source": [
    "plt.figure(figsize=(20, 5))\n",
    "ax = fig.add_subplot(111)\n",
    "b1 =plt.bar(x_list, projection_comp.MAPseq_counts, label=\"MAPseq_reads\")\n",
    "#b2 = plt.scatter(x_list, projection_comp.Allen, label=\"Allen_pixels\")\n",
    "berror = plt.errorbar(x_list, projection_comp.Allen_norm, yerr=projection_comp.std_allen_norm, fmt=\"o\", label=\"Allen_pixels (normalised)\", color='grey')\n",
    "plt.yscale('log')\n",
    "plt.xlabel('Tube')\n",
    "plt.ylabel('Reads')\n",
    "plt.legend()\n",
    "plt.xticks(rotation = 90)\n",
    "plt.xticks(np.arange(1, 94, 1.0))\n",
    "plt.xlim(0, 94)\n",
    "plt.show()"
   ]
  },
  {
   "cell_type": "code",
   "execution_count": null,
   "id": "ee023319",
   "metadata": {},
   "outputs": [],
   "source": [
    "#looking at cortex only from SSp (where expect signal)\n",
    "\n",
    "cortex_from_SSP = [26, 27, 28,31, 32, 33, 34, 35, 36, 37, 45, 46, 47, 48, 53, 59, 60, 61, 62, 63, 64, 65, 73, 74, 75, 76, 77]\n",
    "cortex = projection_comp.iloc[cortex_from_SSP]\n",
    "x_list_cortex = []\n",
    "for index in cortex.index:\n",
    "    x_list_cortex.append(index)\n",
    "\n",
    "plt.figure(figsize=(20, 5))\n",
    "ax = fig.add_subplot(111)\n",
    "b1 =plt.bar(x_list_cortex, cortex.MAPseq_counts, label=\"MAPseq_reads\")\n",
    "#b2 = plt.scatter(x_list, projection_comp.Allen, label=\"Allen_pixels\")\n",
    "berror = plt.errorbar(x_list_cortex, cortex.Allen_norm, yerr=cortex.std_allen_norm, fmt=\"o\", label=\"Allen_pixels (normalised)\", color='grey')\n",
    "plt.yscale('log')\n",
    "plt.xlabel('Tube')\n",
    "plt.ylabel('Reads')\n",
    "plt.legend()\n",
    "plt.xticks(rotation = 90)\n",
    "plt.xticks(np.arange(1, 94, 1.0))\n",
    "plt.xlim(0, 94)\n",
    "plt.title('cortex only')\n",
    "plt.show()"
   ]
  },
  {
   "cell_type": "code",
   "execution_count": null,
   "id": "fbe62040",
   "metadata": {},
   "outputs": [],
   "source": [
    "counts = pd.DataFrame()\n",
    "for file in os.listdir(reads_path):\n",
    "    barcode_file = reads_path/file\n",
    "    if barcode_file.stem.startswith('neuron_counts'):\n",
    "        sample = barcode_file.stem.split(\"neuron_counts_BC\", 1)[1]\n",
    "        if int(sample) in cortex_from_SSP:\n",
    "            to_read = pd.read_csv(barcode_file)  \n",
    "        counts =pd.concat([counts,to_read])\n",
    "        #sample = barcode_file.stem.split(\"neuron_counts_BC\", 1)[1]\n",
    "        #tube = RT_convert.loc[int(sample), 'Tube']\n",
    "        #projection_comp.loc[f'{tube}', 'MAPseq_counts'] = counts"
   ]
  },
  {
   "cell_type": "code",
   "execution_count": null,
   "id": "93bb7ce0",
   "metadata": {},
   "outputs": [],
   "source": [
    "plt.hist(counts[\"counts\"], bins=500)\n",
    "plt.title('Number of UMI counts in cortex per barcode per sample post SSp', fontsize=12)\n",
    "plt.yscale('log')"
   ]
  },
  {
   "cell_type": "code",
   "execution_count": null,
   "id": "f7cb66d2",
   "metadata": {},
   "outputs": [],
   "source": [
    "ax = projection_comp.plot(y=[\"Allen\", \"MAPseq_norm\"], use_index=True, figsize=(12, 6))\n",
    "ax.set_ylabel('Summed Projection Density', fontsize=12)\n",
    "ax.set_xlabel('Tube', fontsize=12)\n",
    "ax.set_xticks(np.arange(0, len(all_projection_allen), 1))\n",
    "ax.set_yscale('log')\n",
    "\n",
    "plt.show()                                   \n"
   ]
  },
  {
   "cell_type": "code",
   "execution_count": null,
   "id": "b76fbf33",
   "metadata": {},
   "outputs": [],
   "source": [
    "#check injection mask\n",
    "inj_a, inj_a_info = mcc.get_injection_density(experiment_id_b)\n",
    "ROI_vol_expt_a=pd.DataFrame()\n",
    "\n",
    "for region in os.listdir(ROI_path):\n",
    "    if region.startswith(\"s0\"):\n",
    "        slicename = region[0:4]\n",
    "        tube = region[5:len(region)].split('TUBE', 1)[1]\n",
    "        tube =tube[:-4]\n",
    "        [xa, ya, za, one] = np.load(allen_converted_path/f'allen_ccf_converted_{slicename}.npy')\n",
    "        roi = plt.imread(ROI_path/f'{region}')\n",
    "        allencoord_roiya = roi*ya\n",
    "        allencoord_roiza = roi*za\n",
    "#use shoelace formula to define area of polygon given xy coordinates then calculate volume of each LCM roi\n",
    "        calcz = allencoord_roiza[allencoord_roiza!= 0]\n",
    "        calcy = allencoord_roiya[allencoord_roiya!= 0]\n",
    "        area_roi = 0.5*np.abs(np.dot(calcz,np.roll(calcy,1))-np.dot(calcy,np.roll(calcz,1)))\n",
    "        z_to_add = add_z.loc[add_z['slice'] == slicename, 'amountz'].iloc[0]\n",
    "        vol_roi = area_roi*-z_to_add\n",
    "#convert the x, y, z coordinates to pixel\n",
    "        pixcoord = []\n",
    "        for i, axis in enumerate([xa, ya, za]):\n",
    "            pixel = np.array(np.round(axis/25), dtype=int)\n",
    "            pixel[pixel <0] = 0\n",
    "            pixel[pixel >= inj_a.shape[i]] = 0\n",
    "            pixcoord.append(pixel)\n",
    "\n",
    "# use projection expt to convert each pixel to projection density\n",
    "\n",
    "        registered_slice = np.zeros(xa.shape, dtype = inj_a.dtype)\n",
    "        expt_a_roi=inj_a[pixcoord[0].flatten(),\n",
    "                      pixcoord[1].flatten(),\n",
    "                      pixcoord[2].flatten()].reshape(registered_slice.shape)\n",
    "        ROIanno = expt_a_roi*roi\n",
    "#iterate image by z slices, each additional z, annotate then add to list\n",
    "        slices = -round(z_to_add/25)\n",
    "        for x in range(slices):\n",
    "            if x >0:\n",
    "                newz = pixcoord[0]-x #changed from plus to minus as going backwards\n",
    "                slice = inj_a[newz.flatten(), pixcoord[1].flatten(), pixcoord[2].flatten()].reshape(registered_slice.shape)\n",
    "                ROIanno_add = slice*roi\n",
    "                ROIanno = np.append(ROIanno, ROIanno_add)\n",
    "                sum_projpixels_per_voxel = ROIanno.sum()\n",
    "        ROI_vol_expt_a= ROI_vol_expt_a.append({'slice': slicename, 'tube': tube, 'z_added': z_to_add, 'vol (um3)': vol_roi, 'projection_density_pix': ROIanno, 'sum_projpixels_per_voxel': sum_projpixels_per_voxel},ignore_index=True)\n",
    "\n",
    "\n"
   ]
  },
  {
   "cell_type": "code",
   "execution_count": null,
   "id": "eb9d91eb",
   "metadata": {},
   "outputs": [],
   "source": [
    "finalpix_expt_a = pd.DataFrame(columns=['tube', 'projection_density_summed', 'vol (um3)'], dtype=int)\n",
    "result = ROI_vol_expt_a.groupby(['tube']).agg(', '.join).reset_index()\n",
    "for row, tube in result['tube'].iteritems():\n",
    "    newdf = ROI_vol_expt_a[ROI_vol_expt_a['tube']==tube].reset_index()\n",
    "    #for count, value in enumerate(newdf):\n",
    "    for r, t in newdf['tube'].iteritems():\n",
    "        if r ==0 :\n",
    "            projection_density_summed = newdf.loc[r, 'sum_projpixels_per_voxel']\n",
    "            vol = newdf.loc[r, 'vol (um3)']\n",
    "        if r > 0:\n",
    "            projection_density_summed = projection_density_summed + newdf.loc[r, 'sum_projpixels_per_voxel']\n",
    "            vol = vol + newdf.loc[r, 'vol (um3)']\n",
    "    finalpix_expt_a= finalpix_expt_a.append({'tube': tube, 'projection_density_summed': projection_density_summed, 'vol (um3)': vol},ignore_index=True)\n",
    "    \n",
    "    \n",
    "    finalpix_expt_a.to_pickle('mouse_connectivity/finalpix_expt_b_inj_pixels.pkl')\n",
    "    "
   ]
  },
  {
   "cell_type": "code",
   "execution_count": null,
   "id": "e0e544e8",
   "metadata": {},
   "outputs": [],
   "source": [
    "#load neuron read counts for each tube\n",
    "projection_comp['MAPseq_counts'] = 0\n",
    "for file in os.listdir(reads_path):\n",
    "    barcode_file = reads_path/file\n",
    "    if barcode_file.stem.startswith('neuron_counts'):\n",
    "        to_read = pd.read_csv(barcode_file)  \n",
    "        counts =to_read['counts'].sum()\n",
    "        sample = barcode_file.stem.split(\"neuron_counts_BC\", 1)[1]\n",
    "        tube = RT_convert.loc[int(sample), 'Tube']\n",
    "        projection_comp.loc[f'{tube}', 'MAPseq_counts'] = counts"
   ]
  },
  {
   "cell_type": "code",
   "execution_count": null,
   "id": "5a840924",
   "metadata": {},
   "outputs": [],
   "source": [
    "finalpix_expt_a.to_pickle('mouse_connectivity/finalpix_expt_a_inj_pixels.pkl')"
   ]
  },
  {
   "cell_type": "code",
   "execution_count": null,
   "id": "75ef894f",
   "metadata": {},
   "outputs": [],
   "source": [
    "finalpix_expt_a_proj = pd.read_pickle('mouse_connectivity/finalpix_expt_a.pkl')"
   ]
  },
  {
   "cell_type": "code",
   "execution_count": null,
   "id": "9f2e2df8",
   "metadata": {},
   "outputs": [],
   "source": [
    "for i, row in finalpix_expt_a_proj.iterrows():\n",
    "    print(row['tube'], row['projection_density_summed'])"
   ]
  },
  {
   "cell_type": "code",
   "execution_count": null,
   "id": "73c1182e",
   "metadata": {},
   "outputs": [],
   "source": []
  },
  {
   "cell_type": "code",
   "execution_count": null,
   "id": "688c1267",
   "metadata": {},
   "outputs": [],
   "source": [
    "for i, row in finalpix_expt_a.iterrows():\n",
    "    print(row['tube'], row['projection_density_summed'])"
   ]
  },
  {
   "cell_type": "code",
   "execution_count": null,
   "id": "731b92b8",
   "metadata": {},
   "outputs": [],
   "source": [
    "barcode_file.stem.split(\"neuron_counts_BC\", 1)[0]"
   ]
  },
  {
   "cell_type": "code",
   "execution_count": null,
   "id": "abe83efc",
   "metadata": {},
   "outputs": [],
   "source": [
    "np.unique(inj_a)"
   ]
  },
  {
   "cell_type": "code",
   "execution_count": null,
   "id": "36328a11",
   "metadata": {},
   "outputs": [],
   "source": [
    "mean_allen"
   ]
  },
  {
   "cell_type": "code",
   "execution_count": null,
   "id": "afd10b8b",
   "metadata": {},
   "outputs": [],
   "source": [
    "#generate a table with total number of projection pixels normalised by injection volume for each expt.\n",
    "all_projection_allen = pd.DataFrame().assign(Tube=finalpix_expt_d['tube'], ExptA = finalpix_expt_a['projection_density_summed'], ExptB=finalpix_expt_b['projection_density_summed'], ExptC=finalpix_expt_c['projection_density_summed'], ExptD=finalpix_expt_d['projection_density_summed'])\n",
    "\n",
    "all_projection_allen = all_projection_allen.set_index('Tube')                                         \n",
    "                                         \n",
    "all_projection_allen                                             "
   ]
  },
  {
   "cell_type": "code",
   "execution_count": null,
   "id": "6bdbf8c3",
   "metadata": {},
   "outputs": [],
   "source": [
    "ax = all_projection_allen.plot(figsize=(12, 6))\n",
    "ax.set_ylabel('Summed Projection Density', fontsize=12)\n",
    "ax.set_xlabel('Tube', fontsize=12)\n",
    "ax.set_xticks(np.arange(0, len(all_projection_allen), 1))\n",
    "\n",
    "plt.show()                                   "
   ]
  },
  {
   "cell_type": "code",
   "execution_count": null,
   "id": "6bac71dd",
   "metadata": {},
   "outputs": [],
   "source": []
  },
  {
   "cell_type": "code",
   "execution_count": null,
   "id": "3dab1fb3",
   "metadata": {},
   "outputs": [],
   "source": [
    "#load umi read count from neuron barcodes in MAPseq dataset\n",
    "all_expt = pd.DataFrame(columns=['Tube', 'ExptA', 'ExptB', 'ExptC', 'ExptD'])"
   ]
  },
  {
   "cell_type": "code",
   "execution_count": null,
   "id": "39ea3639",
   "metadata": {},
   "outputs": [],
   "source": []
  },
  {
   "cell_type": "code",
   "execution_count": null,
   "id": "e64070e5",
   "metadata": {},
   "outputs": [],
   "source": [
    "for i, row in finalpix_expt_c.iterrows():\n",
    "    print(row['projection_density_summed'], row['tube'], row['vol (um3)'])"
   ]
  },
  {
   "cell_type": "code",
   "execution_count": null,
   "id": "35287b0a",
   "metadata": {},
   "outputs": [],
   "source": [
    "for i, row in finalpix.iterrows():\n",
    "    print(row['projection_density_summed'], row['tube'], row['vol (um3)'])"
   ]
  },
  {
   "cell_type": "code",
   "execution_count": null,
   "id": "c1f16418",
   "metadata": {},
   "outputs": [],
   "source": [
    "#load ROI info\n",
    "ROI_vol = pd.read_pickle(ROI_table)"
   ]
  },
  {
   "cell_type": "code",
   "execution_count": null,
   "id": "4c09db7d",
   "metadata": {},
   "outputs": [],
   "source": [
    "1274289642.631726/11457280.182171874"
   ]
  },
  {
   "cell_type": "code",
   "execution_count": null,
   "id": "0588900e",
   "metadata": {},
   "outputs": [],
   "source": [
    "print(f'allenccf/allen_ccf_coord/allen_ccf_converted_{slicename}.npy')"
   ]
  },
  {
   "cell_type": "code",
   "execution_count": null,
   "id": "7ecb76fc",
   "metadata": {
    "scrolled": true
   },
   "outputs": [],
   "source": [
    "experiment_id = 100149109\n",
    "#experiment_id =116903230\n",
    "# projection density: number of projecting pixels / voxel volume\n",
    "df, pd_info = mcc.get_projection_density(experiment_id)\n",
    "\n",
    "# injection density: number of projecting pixels in injection site / voxel volume\n",
    "ind, ind_info = mcc.get_injection_density(experiment_id)\n",
    "\n",
    "# injection fraction: number of pixels in injection site / voxel volume\n",
    "inf, inf_info = mcc.get_injection_fraction(experiment_id)\n",
    "\n",
    "# data mask:\n",
    "# binary mask indicating which voxels contain valid data\n",
    "dm, dm_info = mcc.get_data_mask(experiment_id)\n",
    "\n",
    "template, template_info = mcc.get_template_volume()\n",
    "annot, annot_info = mcc.get_annotation_volume()\n",
    "\n",
    "# in addition to the annotation volume, you can get binary masks for individual structures\n",
    "# in this case, we'll get one for the isocortex\n",
    "cortex_mask, cm_info = mcc.get_structure_mask(315)\n",
    "\n",
    "print(pd_info)\n",
    "print(df.shape, template.shape, annot.shape)"
   ]
  },
  {
   "cell_type": "code",
   "execution_count": null,
   "id": "94e92da6",
   "metadata": {},
   "outputs": [],
   "source": [
    "# compute the maximum intensity projection (along the anterior-posterior axis) of the projection data\n",
    "pd_mip = df.max(axis=0)\n",
    "ind_mip = ind.max(axis=0)\n",
    "inf_mip = inf.max(axis=0)\n",
    "\n",
    "# show that slice of all volumes side-by-side\n",
    "f, pr_axes = plt.subplots(1, 3, figsize=(15, 6))\n",
    "\n",
    "pr_axes[0].imshow(pd_mip, cmap='hot', aspect='equal')\n",
    "pr_axes[0].set_title(\"projection density MaxIP\")\n",
    "\n",
    "pr_axes[1].imshow(ind_mip, cmap='hot', aspect='equal')\n",
    "pr_axes[1].set_title(\"injection density MaxIP\")\n",
    "\n",
    "pr_axes[2].imshow(inf_mip, cmap='hot', aspect='equal')\n",
    "pr_axes[2].set_title(\"injection fraction MaxIP\")\n",
    "\n",
    "plt.show()"
   ]
  },
  {
   "cell_type": "code",
   "execution_count": null,
   "id": "24da7d83",
   "metadata": {
    "scrolled": true
   },
   "outputs": [],
   "source": [
    "# compute the maximum intensity projection (along the anterior-posterior axis) of the projection data\n",
    "pd_mip = pd.max(axis=0)\n",
    "ind_mip = ind.max(axis=0)\n",
    "inf_mip = inf.max(axis=0)\n",
    "\n",
    "# show that slice of all volumes side-by-side\n",
    "f, pr_axes = plt.subplots(1, 3, figsize=(15, 6))\n",
    "\n",
    "pr_axes[0].imshow(pd_mip, cmap='hot', aspect='equal')\n",
    "pr_axes[0].set_title(\"projection density MaxIP\")\n",
    "\n",
    "pr_axes[1].imshow(ind_mip, cmap='hot', aspect='equal')\n",
    "pr_axes[1].set_title(\"injection density MaxIP\")\n",
    "\n",
    "pr_axes[2].imshow(inf_mip, cmap='hot', aspect='equal')\n",
    "pr_axes[2].set_title(\"injection fraction MaxIP\")\n",
    "\n",
    "plt.show()"
   ]
  },
  {
   "cell_type": "code",
   "execution_count": null,
   "id": "663cd31e",
   "metadata": {},
   "outputs": [],
   "source": [
    "#get pixel coordinates of each ROI, then apply as mask take projection density \n",
    "np.unique(df[300])"
   ]
  },
  {
   "cell_type": "code",
   "execution_count": null,
   "id": "2607e3eb",
   "metadata": {},
   "outputs": [],
   "source": [
    "np.unique(annot[300])"
   ]
  },
  {
   "cell_type": "code",
   "execution_count": null,
   "id": "ceb16685",
   "metadata": {},
   "outputs": [],
   "source": [
    "df.shape"
   ]
  },
  {
   "cell_type": "code",
   "execution_count": null,
   "id": "54e056e4",
   "metadata": {},
   "outputs": [],
   "source": []
  }
 ],
 "metadata": {
  "kernelspec": {
   "display_name": "Python [conda env:.conda-MAPseq_processing] *",
   "language": "python",
   "name": "conda-env-.conda-MAPseq_processing-py"
  },
  "language_info": {
   "codemirror_mode": {
    "name": "ipython",
    "version": 3
   },
   "file_extension": ".py",
   "mimetype": "text/x-python",
   "name": "python",
   "nbconvert_exporter": "python",
   "pygments_lexer": "ipython3",
   "version": "3.8.16"
  }
 },
 "nbformat": 4,
 "nbformat_minor": 5
}
