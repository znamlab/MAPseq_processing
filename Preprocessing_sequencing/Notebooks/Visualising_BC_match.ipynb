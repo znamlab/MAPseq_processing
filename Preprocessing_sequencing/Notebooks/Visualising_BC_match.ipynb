{
 "cells": [
  {
   "cell_type": "code",
   "execution_count": null,
   "id": "75c72707",
   "metadata": {},
   "outputs": [],
   "source": [
    "import os\n",
    "import numpy as np\n",
    "import pandas as pd"
   ]
  },
  {
   "cell_type": "code",
   "execution_count": null,
   "id": "df13feb3",
   "metadata": {},
   "outputs": [],
   "source": [
    "def barcode_matching(sorting_directory, num_samples):\n",
    "    \"\"\"\n",
    "    Function to identify matching barcodes between samples\n",
    "    Args: sorting directory =sorting directory where bowtieoutput files are saved\n",
    "                num_samples = number of sample barcodes used\n",
    "    \"\"\"\n",
    "    #sorting_directory = '/camp/lab/znamenskiyp/home/shared/projects/turnerb_MAPseq/Sequencing/Processed_data/BRAC5676.1h/140422_full_run/230422/sorting'\n",
    "    os.chdir(sorting_directory)\n",
    "    all_seq = []\n",
    "\n",
    "    for barcodefile in os.listdir(sorting_directory):\n",
    "            if barcodefile.startswith(\"neuroncounts\"):\n",
    "                print('reading barcode file %s' %barcodefile, flush=True)\n",
    "                toread = pd.read_csv(barcodefile)\n",
    "                sequences = toread['sequence']\n",
    "                all_seq.append(sequences)\n",
    "\n",
    "    all_seq = pd.DataFrame(all_seq)\n",
    "    bla = all_seq.to_numpy().flatten()\n",
    "    all_seq = [x for x in bla if str(x) != 'nan']\n",
    "    all_seq_unique = np.unique(all_seq)\n",
    "\n",
    "    #tabulate counts of each barcode in each sample area\n",
    "\n",
    "    samples = list(range(1, num_samples))\n",
    "    barcodes_across_sample = pd.DataFrame(columns = samples, dtype = int)\n",
    "\n",
    "    index = -1\n",
    "    for barcode in all_seq_unique:\n",
    "        index += 1\n",
    "        for barcodefile in os.listdir(sorting_directory):\n",
    "            if barcodefile.startswith(\"neuroncounts_\"):\n",
    "                toread = pd.read_csv(barcodefile)\n",
    "                sample = int(barcodefile.split('neuroncounts_BC', 1)[1][:-len('.csv')])\n",
    "                for r, sequence in toread['sequence'].iteritems():\n",
    "                    if sequence == barcode:\n",
    "                        barcodes_across_sample.at[index, sample]= toread['counts'][r]\n",
    "\n",
    "    barcodes_across_sample.to_pickle(\"barcodes_across_sample.pkl\")\n"
   ]
  },
  {
   "cell_type": "code",
   "execution_count": null,
   "id": "91e43670",
   "metadata": {},
   "outputs": [],
   "source": [
    "directory = '/camp/lab/znamenskiyp/home/shared/projects/turnerb_MAPseq/A1_MAPseq/FIAA32.6a/Sequencing/Processed_data/BC_split/temp/combined'\n"
   ]
  },
  {
   "cell_type": "code",
   "execution_count": null,
   "id": "4dc2eef4",
   "metadata": {},
   "outputs": [],
   "source": [
    "barcode_matching(sorting_directory=directory, num_samples=89)"
   ]
  },
  {
   "cell_type": "code",
   "execution_count": null,
   "id": "9fe55862",
   "metadata": {},
   "outputs": [],
   "source": []
  }
 ],
 "metadata": {
  "kernelspec": {
   "display_name": "Python [conda env:.conda-MAPseq_processing] *",
   "language": "python",
   "name": "conda-env-.conda-MAPseq_processing-py"
  },
  "language_info": {
   "codemirror_mode": {
    "name": "ipython",
    "version": 3
   },
   "file_extension": ".py",
   "mimetype": "text/x-python",
   "name": "python",
   "nbconvert_exporter": "python",
   "pygments_lexer": "ipython3",
   "version": "3.8.16"
  }
 },
 "nbformat": 4,
 "nbformat_minor": 5
}
