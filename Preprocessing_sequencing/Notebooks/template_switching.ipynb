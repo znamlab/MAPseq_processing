{
 "cells": [
  {
   "cell_type": "code",
   "execution_count": null,
   "id": "cc42d48f",
   "metadata": {},
   "outputs": [],
   "source": [
    "import os\n",
    "import numpy as np\n",
    "import pandas as pd\n",
    "import pathlib\n",
    "import matplotlib.pyplot as plt\n",
    "import random\n",
    "from collections import Counter\n",
    "from math import log\n",
    "from datetime import datetime"
   ]
  },
  {
   "cell_type": "code",
   "execution_count": null,
   "id": "78027094",
   "metadata": {},
   "outputs": [],
   "source": [
    "barcode_path = pathlib.Path('/camp/lab/znamenskiyp/home/shared/projects/turnerb_MAPseq/A1_MAPseq/FIAA32.6a/Sequencing/Processed_data/UpdatedApril/preprocessed_seq_corrected/Final_processed_sequences/barcodes_across_sample.pkl')\n",
    "reads_path = pathlib.Path(\"/camp/lab/znamenskiyp/home/shared/projects/turnerb_MAPseq/A1_MAPseq/FIAA32.6a/Sequencing/Processed_data/UpdatedApril/preprocessed_seq_corrected\")"
   ]
  },
  {
   "cell_type": "code",
   "execution_count": null,
   "id": "746c9fb5",
   "metadata": {},
   "outputs": [],
   "source": [
    "dir_path = reads_path/'template_switching/analysed_chunks'\n",
    "#full_tab = reads_path/'template_switching/\"combined_template_switching_chunks.csv'\n",
    "#template_switching_together = pd.read_csv(full_tab)\n",
    "#chunk = reads_path / 'template_switching/chunks/chunk_1.csv'\n",
    "#full_tab = pd.read_csv(reads_path/'template_switching/combined_template_switching_chunks.csv')"
   ]
  },
  {
   "cell_type": "code",
   "execution_count": null,
   "id": "7bed91ee",
   "metadata": {},
   "outputs": [],
   "source": [
    "template_switching_check = pd.DataFrame(\n",
    "        columns=[\n",
    "            \"UMI\",\n",
    "            \"total\",\n",
    "            \"different_neurons\",\n",
    "            \"1st_abundant\",\n",
    "            \"2nd_abundant\",\n",
    "            \"sequence_of_1st\",\n",
    "            \"sample_of_1st\",\n",
    "            \"chunk\",\n",
    "        ]\n",
    "    ).set_index(\"UMI\")\n",
    "print(\"starting combining samples into one big file\", flush=True)\n",
    "for file in os.listdir(dir_path):\n",
    "    barcode_file = dir_path / file\n",
    "    if barcode_file.stem.startswith(\"template_switching_chunk_\"):\n",
    "        bc_table = pd.read_csv(barcode_file)\n",
    "        sample = barcode_file.stem.split(\"template_switching_chunk_\", 1)[1]\n",
    "        bc_table[\"chunk\"] = sample\n",
    "        template_switching_check = pd.concat([template_switching_check, bc_table])"
   ]
  },
  {
   "attachments": {},
   "cell_type": "markdown",
   "id": "ccaec7e6",
   "metadata": {},
   "source": [
    "Looking at frequencing distributions before and after template switching correction"
   ]
  },
  {
   "cell_type": "code",
   "execution_count": null,
   "id": "91874967",
   "metadata": {},
   "outputs": [],
   "source": [
    "#Frequency distribution of number of neuron barcodes per UMI across samples\n",
    "plt.hist(template_switching_check['different_neurons'], bins=100)\n",
    "plt.title(f\"Frequency of 1 per umi = {(len(template_switching_check[template_switching_check['different_neurons']==1]))/(len(template_switching_check))*100}%\", fontsize=12)\n",
    "plt.yscale('log')\n",
    "plt.xlabel('neuron barcodes per umi')\n",
    "plt.ylabel('frequency')"
   ]
  },
  {
   "cell_type": "code",
   "execution_count": null,
   "id": "1550f969",
   "metadata": {},
   "outputs": [],
   "source": [
    "full_tab = template_switching_check"
   ]
  },
  {
   "cell_type": "code",
   "execution_count": null,
   "id": "b5d9b106",
   "metadata": {},
   "outputs": [],
   "source": [
    "#calulate distribution after correction\n",
    "full_tab['corrected_neuron_count'] = full_tab.apply(lambda x: x['different_neurons'] if x['different_neurons']==1 else x['different_neurons'] if (x['1st_abundant']/x['2nd_abundant']<10) else 1,\n",
    "    axis=1,)"
   ]
  },
  {
   "cell_type": "code",
   "execution_count": null,
   "id": "870f64f2",
   "metadata": {},
   "outputs": [],
   "source": [
    "#Frequency distribution of number of neuron barcodes per UMI across samples corrected\n",
    "\n",
    "plt.hist(full_tab['corrected_neuron_count'], bins=np.arange(1, 1000, 1), label = f\"after template switching correction, Frequency of 1 per umi = {(len(full_tab[full_tab['corrected_neuron_count']==1]))/(len(full_tab))*100}%\", alpha =0.5)\n",
    "plt.title(f\"Frequency distributin of number of neuron barcodes with same umi\", fontsize=12)\n",
    "plt.yscale('log')\n",
    "plt.xlabel('neuron barcodes per umi')\n",
    "plt.ylabel('frequency')\n",
    "plt.hist(full_tab['different_neurons'], bins=np.arange(1, 1000, 1), label = f\"before template switching correction, Frequency of 1 per umi = {(len(full_tab[full_tab['different_neurons']==1]))/(len(full_tab))*100}%\", alpha =0.5)\n",
    "plt.legend(bbox_to_anchor=(0, -0.3), loc='lower left', borderaxespad=0)\n",
    "\n",
    "\n"
   ]
  },
  {
   "cell_type": "code",
   "execution_count": null,
   "id": "16b8b8c7",
   "metadata": {},
   "outputs": [],
   "source": [
    "#plot umi abundance distribution\n",
    "plt.hist(full_tab['1st_abundant'], bins=np.arange(1, 1000, 1))\n",
    "plt.title(f\"Frequency distributin of umi's\", fontsize=12)\n",
    "plt.yscale('log')\n",
    "plt.xlabel('neuron barcodes per umi')\n",
    "plt.ylabel('frequency')\n",
    "plt.axvline(x = 9, color = \"Black\", label = \"cut-off\")\n"
   ]
  },
  {
   "cell_type": "code",
   "execution_count": null,
   "id": "de9c84aa",
   "metadata": {},
   "outputs": [],
   "source": [
    "sources_diluted = ['BC40', 'BC41', 'BC42', 'BC43', 'BC49', 'BC50', 'BC51', 'BC52']\n",
    "plt.hist(full_tab[~full_tab['sample_of_1st'].isin(sources_diluted)]['1st_abundant'], bins=np.arange(1, 200, 1), label='undiluted', alpha=0.5)\n",
    "\n",
    "\n",
    "plt.hist(full_tab[full_tab['sample_of_1st'].isin(sources_diluted)]['1st_abundant'], bins=np.arange(1, 200, 1), label ='diluted', alpha=0.5)\n",
    "plt.title(f\"Frequency distribution of umi's\", fontsize=12)\n",
    "plt.yscale('log')\n",
    "plt.xlabel('number of umi duplicates in most abundant neuron-umi barcode combination')\n",
    "plt.ylabel('frequency')\n",
    "plt.axvline(x =2, linestyle='dashed', color = \"Black\", label = \"cut-off\", alpha=0.5)\n",
    "plt.legend()"
   ]
  },
  {
   "cell_type": "code",
   "execution_count": null,
   "id": "60af2f0c",
   "metadata": {},
   "outputs": [],
   "source": [
    "switches = full_tab[full_tab['different_neurons']>1]"
   ]
  },
  {
   "cell_type": "code",
   "execution_count": null,
   "id": "c9bce005",
   "metadata": {},
   "outputs": [],
   "source": [
    "switches"
   ]
  },
  {
   "cell_type": "code",
   "execution_count": null,
   "id": "fd0b60f0",
   "metadata": {},
   "outputs": [],
   "source": [
    "#what is the difference in UMI counts between second most abundant neuron barcode with same UMI between those with high difference and small difference to first\n",
    "switches = full_tab[(full_tab['different_neurons']>1) & (full_tab['1st_abundant']/full_tab['2nd_abundant']>10)]\n",
    "plt.hist(full_tab[full_tab['2nd_abundant']>0]['2nd_abundant'], bins=np.arange(1, 200, 1), alpha=0.5)\n",
    "plt.hist(switches['2nd_abundant'], alpha =0.5)\n",
    "plt.yscale('log')"
   ]
  },
  {
   "cell_type": "code",
   "execution_count": null,
   "id": "f1bca460",
   "metadata": {
    "scrolled": true
   },
   "outputs": [],
   "source": [
    "#plot showing increased number of neurons sharing umi's seen in first few chunks looked at\n",
    "full_tab['sample_int'] = full_tab['chunk'].astype('int')\n",
    "plt1 =plt.figure(figsize=(50,20))\n",
    "plt.scatter(full_tab['sample_int'], full_tab['different_neurons'])\n",
    "plt.yscale('log')\n",
    "plt.show()"
   ]
  },
  {
   "cell_type": "code",
   "execution_count": null,
   "id": "2949b9c5",
   "metadata": {},
   "outputs": [],
   "source": [
    "dif_chunks = pd.DataFrame()\n",
    "dif_chunks['chunks'] = full_tab['chunk'].unique()\n",
    "dif_chunks['freq']= dif_chunks.apply(lambda x: len(full_tab[(full_tab['chunk']==x['chunks']) & (full_tab['different_neurons']==1)])/len(full_tab[full_tab['chunk']==x['chunks']]), axis=1)\n",
    "dif_chunks['sample_int'] = dif_chunks['chunks'].astype('int')                                                        \n",
    "                                                            "
   ]
  },
  {
   "cell_type": "code",
   "execution_count": null,
   "id": "de4a1bda",
   "metadata": {},
   "outputs": [],
   "source": [
    "plt.scatter(dif_chunks['sample_int'], dif_chunks['freq'])\n",
    "plt.xlabel('chunk number')\n",
    "plt.ylabel('frequency of 1 UMI per barcode in total sample')"
   ]
  },
  {
   "cell_type": "code",
   "execution_count": null,
   "id": "117f9b31",
   "metadata": {},
   "outputs": [],
   "source": []
  },
  {
   "attachments": {},
   "cell_type": "markdown",
   "id": "de41812b",
   "metadata": {},
   "source": [
    "What is the liklihood that two UMI's are randomly shared"
   ]
  },
  {
   "cell_type": "code",
   "execution_count": null,
   "id": "b38ce23e",
   "metadata": {},
   "outputs": [],
   "source": [
    "avogadro = 6.02214076E23\n",
    "volume = 1E-6\n",
    "concentration= 1E-6\n",
    "amount_umi = avogadro*volume*concentration\n",
    "UMI_diversity = pow(4,14)\n",
    "numberUMIs = 7.5E6\n",
    "numberUMIs_withdup = 7.5E6 + 1E6 #assuming that those with abundance >10 are real duplicates\n",
    "per_sampleUMIs = numberUMIs_withdup/91"
   ]
  },
  {
   "cell_type": "code",
   "execution_count": null,
   "id": "ad8402f8",
   "metadata": {},
   "outputs": [],
   "source": [
    "liklihood_two_molecules_the_same = (1/UMI_diversity)*numberUMIs_withdup\n",
    "liklihood_two_molecules_the_same"
   ]
  },
  {
   "cell_type": "code",
   "execution_count": null,
   "id": "f814338a",
   "metadata": {},
   "outputs": [],
   "source": [
    "#likewise, fraction unique umis: (1-1/N)^(k-1)\n",
    "fraction_unique_umis =pow((1-(1/UMI_diversity)),(numberUMIs_withdup-1))\n",
    "fraction_unique_umis"
   ]
  },
  {
   "cell_type": "code",
   "execution_count": null,
   "id": "5c27b89c",
   "metadata": {},
   "outputs": [],
   "source": [
    "#D=(k2)/(2N) what is the absolute expected number of duplicate UMI's>\n",
    "pow(numberUMIs_withdup, 2)/(2*UMI_diversity)\n"
   ]
  },
  {
   "attachments": {},
   "cell_type": "markdown",
   "id": "100e216a",
   "metadata": {},
   "source": [
    "Exploring differences between sequences that have more than one neuron barcode per umi"
   ]
  },
  {
   "cell_type": "code",
   "execution_count": null,
   "id": "7cfb5544",
   "metadata": {},
   "outputs": [],
   "source": [
    "#plt.hist(np.log(template_switching_together[\"different_neurons\"]), bins=50)\n",
    "plt.hist(full_tab[\"different_neurons\"], bins=100)\n",
    "plt.title('Number barcodes with same umi', fontsize=12)\n",
    "plt.yscale('log')\n",
    "plt.xlabel('neuron barcodes per umi')\n",
    "plt.ylabel('frequency')"
   ]
  },
  {
   "cell_type": "code",
   "execution_count": null,
   "id": "5c9edb2d",
   "metadata": {},
   "outputs": [],
   "source": [
    "#within the umi's sharing a barcode, what is the distribution of 1st/second most abundant?\n",
    "template_switches = full_tab[full_tab['different_neurons']>1]\n",
    "plt.hist((template_switches['1st_abundant']/template_switches['2nd_abundant']), bins=50)\n",
    "plt.title('1st/2nd most abundant shared umi', fontsize=12)\n",
    "plt.xlabel('1st/2nd counts')\n",
    "plt.ylabel('frequency')\n",
    "plt.yscale('log')\n",
    "plt.axvline(x =10, linestyle='dashed', color = \"Black\", label = \"cut-off\", alpha=0.5)"
   ]
  },
  {
   "cell_type": "code",
   "execution_count": null,
   "id": "18e7e56d",
   "metadata": {},
   "outputs": [],
   "source": [
    "full_tab = full_tab[full_tab.different_neurons>1]\n",
    "full_tab['relative_abundance']= full_tab['1st_abundant']/full_tab['2nd_abundant']"
   ]
  },
  {
   "cell_type": "code",
   "execution_count": null,
   "id": "afd3d3a4",
   "metadata": {},
   "outputs": [],
   "source": [
    "switching_tab =pd.read_csv(seq_path / \"template_switching/combined_template_switching_chunks.csv\")"
   ]
  },
  {
   "cell_type": "code",
   "execution_count": null,
   "id": "21a24491",
   "metadata": {},
   "outputs": [],
   "source": [
    "seq_path = pathlib.Path(\"/camp/lab/znamenskiyp/home/shared/projects/turnerb_MAPseq/A1_MAPseq/FIAA32.6a/Sequencing/Processed_data/UpdatedApril/preprocessed_seq\")\n",
    "\n",
    "sample_table = pd.read_csv(seq_path/'corrected_BC29.csv')\n",
    "\n",
    "switches = switching_tab[switching_tab[\"different_neurons\"] > 1]\n",
    "switches = switches[\n",
    "    switches[\"1st_abundant\"] / switches[\"2nd_abundant\"] > 10\n",
    "].set_index(\"UMI\")\n",
    "sample_table[\"combined\"] = (\n",
    "                sample_table[\"corrected_sequences_neuron\"]\n",
    "                + sample_table[\"corrected_sequences_umi\"]\n",
    "            )\n",
    "pot_switches = sample_table[\n",
    "    sample_table[\"corrected_sequences_umi\"].isin(\n",
    "        list(switches.index.values)\n",
    "    )\n",
    "]"
   ]
  },
  {
   "cell_type": "code",
   "execution_count": null,
   "id": "47510093",
   "metadata": {},
   "outputs": [],
   "source": [
    "template_switches = full_tab"
   ]
  },
  {
   "cell_type": "code",
   "execution_count": null,
   "id": "5cd4071b",
   "metadata": {},
   "outputs": [],
   "source": [
    "barcode='BC29'\n",
    "pot_switches['drop_or_not'] =pot_switches.apply(lambda x: 'yes' if switches.loc[x['corrected_sequences_umi']]['sequence_of_1st'] == x['combined'] and switches.loc[x['corrected_sequences_umi']]['sample_of_1st'] != barcode else 'yes' if switches.loc[x['corrected_sequences_umi']]['sequence_of_1st'] != x['combined'] else 'no', axis=1)\n",
    "\n",
    "\n",
    "\n",
    "\n",
    "#pot_switches['drop_or_not'] =pot_switches.apply(lambda x: 'yes' if switches.loc[x['corrected_sequences_umi']]['sequence_of_1st'] == x['combined'] and switches.loc[x['corrected_sequences_umi']]['sample_of_1st'] != barcode else 'yes' if switches.loc[x['corrected_sequences_umi']]['sequence_of_1st'] != x['combined'] else 'no', axis=1)"
   ]
  },
  {
   "cell_type": "code",
   "execution_count": null,
   "id": "84e19cb5",
   "metadata": {},
   "outputs": [],
   "source": [
    "sample_table.drop(pot_switches[pot_switches['drop_or_not']=='yes'].index.tolist())"
   ]
  },
  {
   "cell_type": "code",
   "execution_count": null,
   "id": "1b799ef2",
   "metadata": {},
   "outputs": [],
   "source": [
    "barcode=\n",
    "for i, row, in pot_switches.iterrows():  # here remove umi sequences that are template switching events\n",
    "    if (\n",
    "        switches.loc[row[\"corrected_sequences_umi\"]][\"sequence_of_1st\"]\n",
    "        == row[\"combined\"]\n",
    "        and switches.loc[row[\"corrected_sequences_umi\"]][\"sample_of_1st\"]\n",
    "        != barcode\n",
    "    ):\n",
    "        pot_switches['drop_or_not'] = 'yes'\n",
    "    if switches.loc[row[\"corrected_sequences_umi\"]][\"sequence_of_1st\"] != row[\"combined\"]:\n",
    "        pot_switches['drop_or_not'] = 'yes'\n",
    "    else:\n",
    "        pot_switches['drop_or_not'] = 'no'"
   ]
  },
  {
   "cell_type": "code",
   "execution_count": null,
   "id": "7b644b71",
   "metadata": {},
   "outputs": [],
   "source": [
    "#calculate shannon entropy for umi's to see if it might be bias for low complexity sequences\n",
    "def shannon_entropy_corrected(dna_sequence):\n",
    "    \"\"\"Custom implementation of shannon entropy with a full non-binarized sequence\n",
    "        Formula looks like this\n",
    "        H(S) = −Σ P(Si) log2 (P(Si))\n",
    "        P(Si) here is simply the relative frequency of character A,T,G,C or n in the string.\n",
    "    \"\"\"\n",
    "    entropy = 0\n",
    "    for nucleotide in {'A', 'T', 'G', 'C'}:\n",
    "        rel_freq = dna_sequence.count(nucleotide) / len(dna_sequence)\n",
    "        if rel_freq > 0:\n",
    "            entropy = entropy + -(rel_freq * log(rel_freq, 2))\n",
    "        \n",
    "    return entropy\n"
   ]
  },
  {
   "cell_type": "code",
   "execution_count": null,
   "id": "e20ef35f",
   "metadata": {},
   "outputs": [],
   "source": [
    "shannon_entropy_corrected(template_switches.iloc[1].UMI)"
   ]
  },
  {
   "cell_type": "code",
   "execution_count": null,
   "id": "85e7c107",
   "metadata": {},
   "outputs": [],
   "source": [
    "template_switches"
   ]
  },
  {
   "cell_type": "code",
   "execution_count": null,
   "id": "05026359",
   "metadata": {},
   "outputs": [],
   "source": [
    "#calculate shannon entropy for umi's to see if it might be bias for low complexity sequences\n",
    "s = lambda i : - sum(f * log(f, 2) for f in ((j / len(i)) for j in Counter(i).values()))\n",
    "template_switches['entropy'] = template_switches['UMI'].apply(s)\n",
    "\n",
    "#calculate AT content\n",
    "AT_calc = lambda x: (x.count('A') + x.count('T')) / len(x)\n",
    "template_switches['AT_content'] = template_switches['UMI'].apply(AT_calc)\n",
    "more_abundant = template_switches[template_switches['relative_abundance']<=10]\n",
    "less_abundant=template_switches[template_switches['relative_abundance']>10]"
   ]
  },
  {
   "cell_type": "code",
   "execution_count": null,
   "id": "afdf5f50",
   "metadata": {},
   "outputs": [],
   "source": [
    "plt.boxplot([template_switches[template_switches['entropy']>1.2]['relative_abundance'], template_switches[template_switches['entropy']<=1.2]['relative_abundance']], labels=['entropy >1.2','entropy <=1.2'])\n",
    "plt.title('1st/2nd ratio for high vs low entropy UMI sequences ', fontsize=12)\n",
    "plt.yscale('log')\n",
    "plt.ylabel('relative abundance 1st/2nd')\n"
   ]
  },
  {
   "cell_type": "code",
   "execution_count": null,
   "id": "0d5bc07d",
   "metadata": {},
   "outputs": [],
   "source": []
  },
  {
   "cell_type": "code",
   "execution_count": null,
   "id": "1f469343",
   "metadata": {},
   "outputs": [],
   "source": [
    "plt.semilogy(template_switches['entropy'], template_switches['relative_abundance'], '.')\n",
    "plt.xlabel('entropy')\n",
    "plt.ylabel('1st/2nd abundance')"
   ]
  },
  {
   "cell_type": "code",
   "execution_count": null,
   "id": "73a333ed",
   "metadata": {},
   "outputs": [],
   "source": [
    "import matplotlib as mpl\n",
    "plt.hist2d(template_switches['entropy'], template_switches['relative_abundance'], norm=mpl.colors.LogNorm(), bins=(20, np.arange(1, 250, 10)))\n",
    "plt.colorbar()\n",
    "plt.xlabel('entropy')\n",
    "plt.ylabel('1st/2nd abundance')\n",
    "plt.title('Entropy of UMI sequence vs Abundance')"
   ]
  },
  {
   "cell_type": "code",
   "execution_count": null,
   "id": "63c3b7f7",
   "metadata": {},
   "outputs": [],
   "source": [
    "#what is AT content\n",
    "plt.hist2d(template_switches['AT_content'], template_switches['relative_abundance'], norm=mpl.colors.LogNorm(), bins=(15, np.arange(1, 250, 10)))\n",
    "plt.colorbar()\n",
    "plt.xlabel('AT content')\n",
    "plt.ylabel('1st/2nd abundance')\n",
    "plt.title('AT content of UMI sequence vs Abundance')"
   ]
  },
  {
   "cell_type": "code",
   "execution_count": null,
   "id": "3b6be73e",
   "metadata": {},
   "outputs": [],
   "source": [
    "def shannon_entropy(dna_sequence):\n",
    "    relative_freq_nucleotide = {'A' : 0, 'T' : 0,  'G' : 0, 'C': 0}\n",
    "    # Formula looks like this\n",
    "    # H(S) = −Σ P(Si) log2 (P(Si))\n",
    "    # P(Si) is a bit confusing but, it's the relative frequency of the current char i in the whole string \n",
    "    # as we are iterating on each character in the string. \n",
    "    # step 1: calculate all the frequency for each characters\n",
    "    for nucleotide in relative_freq_nucleotide:\n",
    "        relative_freq_nucleotide[nucleotide] = dna_sequence.count(nucleotide) / len(dna_sequence)\n",
    "    # step 2: iterate over each nucleotide and sum up the relative frequency\n",
    "    negative_entropy = 0\n",
    "    for nucleotide_i in dna_sequence:\n",
    "        rel_freq = relative_freq_nucleotide[nucleotide_i]\n",
    "        negative_entropy = negative_entropy + (rel_freq * log(rel_freq, 2))\n",
    "    return -negative_entropy"
   ]
  },
  {
   "cell_type": "code",
   "execution_count": null,
   "id": "769cc0a8",
   "metadata": {},
   "outputs": [],
   "source": [
    "shannon_entropy(template_switches.iloc[0].UMI)"
   ]
  },
  {
   "cell_type": "code",
   "execution_count": null,
   "id": "cfa2315a",
   "metadata": {},
   "outputs": [],
   "source": [
    "shannon_entropy('A'*13 + 'T')"
   ]
  },
  {
   "cell_type": "code",
   "execution_count": null,
   "id": "3fd61f86",
   "metadata": {},
   "outputs": [],
   "source": [
    "template_switches.iloc[9].UMI"
   ]
  },
  {
   "cell_type": "code",
   "execution_count": null,
   "id": "3f7b8b3f",
   "metadata": {},
   "outputs": [],
   "source": [
    "template_switches"
   ]
  },
  {
   "cell_type": "code",
   "execution_count": null,
   "id": "5414455c",
   "metadata": {},
   "outputs": [],
   "source": [
    "#from old dataset which looked at samples too\n",
    "import matplotlib as mpl\n",
    "plt.hist(template_switching_together[\"different_samples\"], bins=np.arange(1,40))\n",
    "plt.title('Distribution of same umi across samples', fontsize=12)\n",
    "plt.xlabel('number of samples')\n",
    "plt.ylabel('frequency')\n",
    "#plt.yscale('log')"
   ]
  },
  {
   "cell_type": "code",
   "execution_count": null,
   "id": "5cf79a71",
   "metadata": {},
   "outputs": [],
   "source": [
    "plt.hist(np.log10(switches[switches['relative_abundance'] < 2]['0']))"
   ]
  },
  {
   "cell_type": "code",
   "execution_count": null,
   "id": "d39ac731",
   "metadata": {},
   "outputs": [],
   "source": [
    "newdf=pd.DataFrame(columns=['AT_content', 'relative_abundance'])\n",
    "for i, row in switches.iterrows():\n",
    "    bl = (row['UMI'].count('A')+row['UMI'].count('T'))/14\n",
    "    blbl = row['0']/row['1']\n",
    "    df = pd.DataFrame({'AT_content': bl, 'relative_abundance': blbl}, index=[row['UMI']])\n",
    "    newdf = pd.concat([newdf,df])\n"
   ]
  },
  {
   "cell_type": "code",
   "execution_count": null,
   "id": "6b193e8d",
   "metadata": {},
   "outputs": [],
   "source": [
    "less_abund = newdf[newdf['relative_abundance']>2]\n",
    "more_abund = newdf[newdf['relative_abundance']<2]\n"
   ]
  },
  {
   "cell_type": "code",
   "execution_count": null,
   "id": "4b713562",
   "metadata": {},
   "outputs": [],
   "source": [
    "homopolymer_thresh = 5\n",
    "hopolA = \"A\" * homopolymer_thresh\n",
    "hopolT = \"T\" * homopolymer_thresh\n",
    "hopolC = \"C\" * homopolymer_thresh\n",
    "hopolG = \"G\" * homopolymer_thresh\n",
    "homopolymers = [hopolA, hopolT, hopolC, hopolG]\n",
    "template_switching_together_homopol =switches[switches['UMI'].str.contains(\"AAAAA|TTTTT|CCCCC|GGGGG\")==True]\n",
    "\n",
    "template_switching_together_non_homopol =switches[switches['UMI'].str.contains(\"AAAAA|TTTTT|CCCCC|GGGGG\")==False]"
   ]
  },
  {
   "cell_type": "code",
   "execution_count": null,
   "id": "20e842b7",
   "metadata": {},
   "outputs": [],
   "source": [
    "plt.hist(template_switching_together_non_homopol['relative_abundance'], bins=50)\n",
    "plt.hist(template_switching_together_homopol['relative_abundance'], bins=50)\n",
    "plt.yscale('log')"
   ]
  },
  {
   "cell_type": "code",
   "execution_count": null,
   "id": "0ad8aede",
   "metadata": {},
   "outputs": [],
   "source": [
    "plt.boxplot([template_switching_together_non_homopol['relative_abundance'], template_switching_together_homopol['relative_abundance']])\n",
    "plt.yscale('log')\n",
    "\n",
    "\n"
   ]
  },
  {
   "cell_type": "code",
   "execution_count": null,
   "id": "1267634b",
   "metadata": {},
   "outputs": [],
   "source": [
    "#calculate shannon entropy for umi's to see if it might be bias for low complexity sequences\n",
    "s = lambda i : - sum(f * log(f, 2) for f in ((j / len(i)) for j in Counter(i).values()))\n",
    "entropy_table = pd.DataFrame()\n",
    "for i, row in switches.iterrows():\n",
    "    bl = s(row['UMI'])\n",
    "    blbl = row['0']/row['1']\n",
    "    counts = row['total']\n",
    "    df = pd.DataFrame({'entropy': bl, 'relative_abundance': blbl, 'counts':counts}, index=[row['UMI']])\n",
    "    entropy_table = pd.concat([entropy_table,df])\n"
   ]
  },
  {
   "cell_type": "code",
   "execution_count": null,
   "id": "1e0f740e",
   "metadata": {},
   "outputs": [],
   "source": [
    "plt.boxplot([entropy_table[entropy_table['entropy']>1.2]['relative_abundance'], entropy_table[entropy_table['entropy']<1.2]['relative_abundance']])\n",
    "plt.yscale('log')"
   ]
  },
  {
   "cell_type": "code",
   "execution_count": null,
   "id": "43d65e4c",
   "metadata": {},
   "outputs": [],
   "source": [
    "#calculate shannon entropy for umi's to see if it might be bias for low complexity sequences\n",
    "s = lambda i : - sum(f * log(f, 2) for f in ((j / len(i)) for j in Counter(i).values()))\n",
    "entropy_table = pd.DataFrame()\n",
    "for i, row in switches.iterrows():\n",
    "    bl = s(row['UMI'])\n",
    "    blbl = row['0']/row['1']\n",
    "    counts = row['total']\n",
    "    df = pd.DataFrame({'entropy': bl, 'relative_abundance': blbl, 'counts':counts}, index=[row['UMI']])\n",
    "    entropy_table = pd.concat([entropy_table,df])\n"
   ]
  },
  {
   "cell_type": "code",
   "execution_count": null,
   "id": "d65d4a90",
   "metadata": {},
   "outputs": [],
   "source": [
    "plt.semilogy(entropy_table['entropy'], entropy_table['relative_abundance'], '.')"
   ]
  },
  {
   "cell_type": "code",
   "execution_count": null,
   "id": "e7e99135",
   "metadata": {},
   "outputs": [],
   "source": [
    "#split hist into high and low entropy\n",
    "plt.hist(entropy_table[entropy_table['entropy']>1.2]['relative_abundance'], bins=50, label='high entropy')\n",
    "plt.hist(entropy_table[entropy_table['entropy']<1.2]['relative_abundance'], bins=50, label='lower entropy')\n",
    "plt.yscale('log')\n",
    "plt.legend()"
   ]
  },
  {
   "cell_type": "code",
   "execution_count": null,
   "id": "b20733f5",
   "metadata": {},
   "outputs": [],
   "source": [
    "plt.hist(less_abundant[\"different_samples\"], bins=np.arange(1, 12), alpha=.5)\n",
    "plt.hist(more_abundant[\"different_samples\"], bins=np.arange(1, 12), alpha=.5)"
   ]
  },
  {
   "cell_type": "code",
   "execution_count": null,
   "id": "cb65d561",
   "metadata": {},
   "outputs": [],
   "source": [
    "plt.hist(more_abundant[\"0\"], bins=np.arange(1, 200))\n",
    "plt.hist(more_abundant[\"1\"], bins=np.arange(1, 200))\n",
    "plt.title('Umi count  first vs second most abundunt neuron barcode <2', fontsize=12)"
   ]
  },
  {
   "cell_type": "code",
   "execution_count": null,
   "id": "9c0f149d",
   "metadata": {},
   "outputs": [],
   "source": [
    "chunk_look = pd.read_csv(full_tab)"
   ]
  },
  {
   "cell_type": "code",
   "execution_count": null,
   "id": "3e673f80",
   "metadata": {},
   "outputs": [],
   "source": [
    "UMI_look = chunk_look[chunk_look['corrected_UMI']=='TTTTTAATTATAAT']"
   ]
  },
  {
   "cell_type": "code",
   "execution_count": null,
   "id": "9a45f591",
   "metadata": {},
   "outputs": [],
   "source": [
    "see =chunk_look[chunk_look['corrected_neuron']=='CGAGGTATTGACACAGCAGACGAACAGGTGCT']\n",
    "\n",
    "see[see['corrected_UMI']=='TTTTTAATTATAAT']"
   ]
  },
  {
   "cell_type": "code",
   "execution_count": null,
   "id": "9bc6c31d",
   "metadata": {},
   "outputs": [],
   "source": [
    "reads_path = pathlib.Path(\n",
    "    \"/camp/lab/znamenskiyp/home/shared/projects/turnerb_MAPseq/A1_MAPseq/FIAA32.6a/Sequencing/Processed_data/UpdatedApril/preprocessed_seq\"\n",
    ")\n",
    "template_dir = reads_path / \"template_switching/temp/\""
   ]
  },
  {
   "cell_type": "code",
   "execution_count": null,
   "id": "c7dd390a",
   "metadata": {},
   "outputs": [],
   "source": [
    "bla = template_dir / \"raw_template_switching_check_example.csv\"\n",
    "\n",
    "template_switching_check =pd.read_csv(\"/camp/lab/znamenskiyp/home/shared/projects/turnerb_MAPseq/A1_MAPseq/FIAA32.6a/Sequencing/Processed_data/UpdatedApril/preprocessed_seq/template_switching/temp/raw_template_switching_check_example.csv\")\n"
   ]
  },
  {
   "cell_type": "code",
   "execution_count": null,
   "id": "e579273c",
   "metadata": {},
   "outputs": [],
   "source": [
    "barcode_path = pathlib.Path('/camp/lab/znamenskiyp/home/shared/projects/turnerb_MAPseq/A1_MAPseq/FIAA32.6a/Sequencing/Processed_data/UpdatedApril/preprocessed_seq/Final_processed_sequences/barcodes_across_sample.pkl')\n",
    "barcodes_across_sample = pd.read_pickle(barcode_path)  "
   ]
  },
  {
   "cell_type": "code",
   "execution_count": null,
   "id": "a0ce71d1",
   "metadata": {},
   "outputs": [],
   "source": [
    "#checking individual neuron barcodes associated with more equal abundantly distributed shared umi's look pretty normal\n",
    "barcodes_across_sample.loc['CGAGGTATTGACACAGCAGACGAACAGGTGCT'].sum()"
   ]
  },
  {
   "cell_type": "code",
   "execution_count": null,
   "id": "dbd72a33",
   "metadata": {},
   "outputs": [],
   "source": [
    "bl = pd.DataFrame(barcodes_across_sample.loc['CGAGGTATTGACACAGCAGACGAACAGGTGCT'])"
   ]
  },
  {
   "cell_type": "code",
   "execution_count": null,
   "id": "4c5246f1",
   "metadata": {},
   "outputs": [],
   "source": [
    "bl[bl['CGAGGTATTGACACAGCAGACGAACAGGTGCT']>0]"
   ]
  },
  {
   "cell_type": "code",
   "execution_count": null,
   "id": "bc9c75e9",
   "metadata": {},
   "outputs": [],
   "source": [
    "#does UMI correction affect the number of equally shared UMI's?\n",
    "plt.hist(switches[\"relative_abundance\"], bins=50, label='after UMI correction')\n",
    "plt.hist((template_switching_check[template_switching_check['different_neurons']>1]['0']/template_switching_check[template_switching_check['different_neurons']>1]['1']), bins=50, label='before UMI correction')\n",
    "plt.legend()\n",
    "plt.yscale('log')"
   ]
  },
  {
   "cell_type": "code",
   "execution_count": null,
   "id": "08a96edc",
   "metadata": {},
   "outputs": [],
   "source": [
    "umi_indiv = pd.DataFrame({'UMI': 'ATTGTCATTTTTTT', 'different_neurons': len(newdf), 'different_samples': len(bl['sample'].unique())}, index=[0])\n",
    "\n"
   ]
  },
  {
   "cell_type": "code",
   "execution_count": null,
   "id": "5e64ff22",
   "metadata": {},
   "outputs": [],
   "source": []
  }
 ],
 "metadata": {
  "kernelspec": {
   "display_name": "MAPseq_processing",
   "language": "python",
   "name": "python3"
  },
  "language_info": {
   "codemirror_mode": {
    "name": "ipython",
    "version": 3
   },
   "file_extension": ".py",
   "mimetype": "text/x-python",
   "name": "python",
   "nbconvert_exporter": "python",
   "pygments_lexer": "ipython3",
   "version": "3.8.16"
  }
 },
 "nbformat": 4,
 "nbformat_minor": 5
}
