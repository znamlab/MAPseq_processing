{
 "cells": [
  {
   "cell_type": "code",
   "execution_count": null,
   "metadata": {},
   "outputs": [],
   "source": [
    "import pandas as pd\n",
    "import numpy as np\n",
    "import matplotlib.pyplot as plt\n",
    "from matplotlib.colors import LogNorm, Normalize\n",
    "#from matplotlib import rcParam\n",
    "import seaborn as sb\n",
    "import os\n",
    "import sys\n",
    "sys.setrecursionlimit(1000000)\n",
    "from scipy.stats import spearmanr\n",
    "import pathlib\n",
    "import scipy as sp\n",
    "import scipy.stats as stats\n",
    "from sklearn.linear_model import LinearRegression\n",
    "from allensdk.core.mouse_connectivity_cache import MouseConnectivityCache\n",
    "mcc = MouseConnectivityCache()\n",
    "from scipy.stats import pearsonr\n",
    "from scipy.stats import binomtest\n",
    "import itertools"
   ]
  },
  {
   "cell_type": "code",
   "execution_count": null,
   "metadata": {},
   "outputs": [],
   "source": [
    "from matplotlib import rcParams\n",
    "#for_binary_barcode_path = pathlib.Path('/camp/lab/znamenskiyp/home/shared/projects/turnerb_MAPseq/A1_MAPseq/FIAA32.6a/Sequencing/Processed_data/UpdatedApril/preprocessed_seq/Final_processed_sequences/filtered_barcode_matrix_for_binary_junk_test.pkl')\n",
    "#normalised_barcode_path_junk_test = pathlib.Path('/camp/lab/znamenskiyp/home/shared/projects/turnerb_MAPseq/A1_MAPseq/FIAA32.6a/Sequencing/Processed_data/UpdatedApril/preprocessed_seq/Final_processed_sequences/barcode_matrix_normalised_junk_test.pkl')\n",
    "normalised_barcode_path= pathlib.Path('/camp/lab/znamenskiyp/home/shared/projects/turnerb_MAPseq/A1_MAPseq/FIAA32.6a/Sequencing/Processed_data/UpdatedApril/preprocessed_seq_corrected/Final_processed_sequences/barcode_matrix_normalised.pkl')\n",
    "lcm_reg_dir = pathlib.PurePath('/nemo/lab/znamenskiyp/home/shared/code/MAPseq_processing/AC_MAPseq/Brain1_FIAA32.6a/LCM_registration')\n",
    "areas = pd.read_csv(lcm_reg_dir/'3d_areas.csv')\n",
    "RTtosample = pd.read_csv(lcm_reg_dir/'RTprimer_tosample.csv')\n",
    "areas = areas.merge(RTtosample, how='inner', on='sample')\n",
    "areas.sort_values(\"RT_primer\", inplace=True)\n",
    "\n",
    "\n",
    "\n"
   ]
  },
  {
   "cell_type": "code",
   "execution_count": null,
   "metadata": {},
   "outputs": [],
   "source": [
    "#load barcodes, and drop samples that have been qc'd out\n",
    "barcodes_across_sample = pd.read_pickle(normalised_barcode_path)\n",
    "\n",
    "areas =areas[areas['RT_primer'].isin(barcodes_across_sample.columns)]"
   ]
  },
  {
   "cell_type": "code",
   "execution_count": null,
   "metadata": {},
   "outputs": [],
   "source": [
    "all_areas_fractions = pd.DataFrame(index=barcodes_across_sample.columns)\n",
    "all_areas_fractions['name'] = 'string'\n",
    "areas_to_look = areas.drop('sample', axis=1).set_index('RT_primer')\n",
    "for i, row in areas_to_look.iterrows():\n",
    "    row /= row.sum(0)\n",
    "    \n",
    "    if row[row.idxmax()]>0.9999:\n",
    "        name= str(row.idxmax()) + ' ' + str(row[row.idxmax()].round(2))\n",
    "    else:\n",
    "        second_highest_row = row.drop(row.idxmax())\n",
    "        name= str(row.idxmax()) + ' ' + str(row[row.idxmax()].round(2)) + ' ' + str(second_highest_row.idxmax()) + ' ' + str(row[second_highest_row.idxmax()].round(2))\n",
    "    all_areas_fractions.loc[i] = name\n",
    "    "
   ]
  },
  {
   "attachments": {},
   "cell_type": "markdown",
   "metadata": {},
   "source": [
    "Looking at all samples"
   ]
  },
  {
   "cell_type": "code",
   "execution_count": null,
   "metadata": {},
   "outputs": [],
   "source": [
    "columns = barcodes_across_sample.columns.tolist()\n",
    "#conditional_prob = \n",
    "# pd.DataFrame(columns=['A', 'B', 'conditional_probability'])\n",
    "i = 0\n",
    "for col_a, col_b in itertools.combinations(columns, 2):\n",
    "    prob_df = pd.DataFrame()\n",
    "    prob_df['a'] = barcodes_across_sample[col_a].astype(bool)\n",
    "    prob_df['b'] = barcodes_across_sample[col_b].astype(bool)\n",
    "    prob_df['matching'] = prob_df.sum(axis=1)\n",
    "    probability_a = prob_df['a'].sum()/len(barcodes_across_sample)\n",
    "    probability_b = prob_df['b'].sum()/len(barcodes_across_sample)\n",
    "    prob_a_b_null = probability_a*probability_b\n",
    "    actual = (len(prob_df[prob_df['matching']==2]))/len(barcodes_across_sample)\n",
    "    p_result = binomtest(len(prob_df[prob_df['matching']==3]), n=len(barcodes_across_sample), p=prob_a_b_null, alternative='two-sided').pvalue\n",
    "    temp = pd.DataFrame({'A': col_a, 'B': col_b, 'null_probability': prob_a_b_null, 'actual': actual, 'p_val': p_result}, index=[0])\n",
    "    if i == 0:\n",
    "        conditional_prob = temp\n",
    "    else:\n",
    "        conditional_prob =pd.concat([conditional_prob, temp])\n",
    "    i = i+1\n",
    "\n",
    "num_comb = len(conditional_prob)\n",
    "bonferroni = lambda x: x*num_comb\n",
    "conditional_prob['p_adj'] = conditional_prob['p_val'].apply(bonferroni)\n",
    "condional_prob_2_comb = conditional_prob.copy()"
   ]
  },
  {
   "cell_type": "code",
   "execution_count": null,
   "metadata": {},
   "outputs": [],
   "source": [
    "columns = barcodes_across_sample.columns.tolist()\n",
    "#conditional_prob = \n",
    "# pd.DataFrame(columns=['A', 'B', 'conditional_probability'])\n",
    "i = 0\n",
    "for col_a, col_b, col_c in itertools.combinations(columns, 3):\n",
    "    prob_df = pd.DataFrame()\n",
    "    prob_df['a'] = barcodes_across_sample[col_a].astype(bool)\n",
    "    prob_df['b'] = barcodes_across_sample[col_b].astype(bool)\n",
    "    prob_df['c'] = barcodes_across_sample[col_c].astype(bool)\n",
    "    prob_df['matching'] = prob_df.sum(axis=1)\n",
    "    probability_a = prob_df['a'].sum()/len(barcodes_across_sample)\n",
    "    probability_b = prob_df['b'].sum()/len(barcodes_across_sample)\n",
    "    probability_c = prob_df['c'].sum()/len(barcodes_across_sample)\n",
    "    prob_a_b_null = probability_a*probability_b*probability_c\n",
    "    actual = (len(prob_df[prob_df['matching']==3]))/len(barcodes_across_sample)\n",
    "    p_result = binomtest(len(prob_df[prob_df['matching']==3]), n=len(barcodes_across_sample), p=prob_a_b_null, alternative='two-sided').pvalue\n",
    "    temp = pd.DataFrame({'A': col_a, 'B': col_b, 'C': col_c, 'null_probability': prob_a_b_null, 'actual': actual, 'p_val': p_result}, index=[0])\n",
    "    if i == 0:\n",
    "        conditional_prob = temp\n",
    "    else:\n",
    "        conditional_prob =pd.concat([conditional_prob, temp])\n",
    "    i = i+1\n",
    "num_comb = len(conditional_prob)\n",
    "bonferroni = lambda x: x*num_comb\n",
    "conditional_prob['p_adj'] = conditional_prob['p_val'].apply(bonferroni)\n",
    "condional_prob_3_comb = conditional_prob.copy()"
   ]
  },
  {
   "attachments": {},
   "cell_type": "markdown",
   "metadata": {},
   "source": [
    "Looking at only cortical areas"
   ]
  },
  {
   "cell_type": "code",
   "execution_count": null,
   "metadata": {},
   "outputs": [],
   "source": [
    "cortical_areas =[6, 7, 10, 11, 12, 15, 16, 17, 18, 21, 22, 23, 24, 26, 27, 28, 31, 32, 33, 34, 35, 36, 37, 40, 41, 42, 43, 45, 46, 47, 48, 49, 50, 51, 52, 53, 59, 60, 61, 62, 63, 64, 65, 70, 80, 81, 82, 83, 84]\n",
    "cortical_areas_adj = list(filter(lambda x: x in barcodes_across_sample.columns, cortical_areas))\n",
    "#columns = cortical_areas_adj.columns.tolist()\n",
    "#conditional_prob = \n",
    "# pd.DataFrame(columns=['A', 'B', 'conditional_probability'])\n",
    "i = 0\n",
    "for col_a, col_b, col_c in itertools.combinations(cortical_areas_adj, 3):\n",
    "    prob_df = pd.DataFrame()\n",
    "    prob_df['a'] = barcodes_across_sample[col_a].astype(bool)\n",
    "    prob_df['b'] = barcodes_across_sample[col_b].astype(bool)\n",
    "    prob_df['c'] = barcodes_across_sample[col_c].astype(bool)\n",
    "    prob_df['matching'] = prob_df.sum(axis=1)\n",
    "    probability_a = prob_df['a'].sum()/len(barcodes_across_sample)\n",
    "    probability_b = prob_df['b'].sum()/len(barcodes_across_sample)\n",
    "    probability_c = prob_df['c'].sum()/len(barcodes_across_sample)\n",
    "    prob_a_b_null = probability_a*probability_b*probability_c\n",
    "    actual = (len(prob_df[prob_df['matching']==3]))/len(barcodes_across_sample)\n",
    "    p_result = binomtest(len(prob_df[prob_df['matching']==3]), n=len(barcodes_across_sample), p=prob_a_b_null, alternative='two-sided').pvalue\n",
    "    total_num = len(prob_df[prob_df['matching']==3])\n",
    "    predicted_num = prob_a_b_null*len(barcodes_across_sample)\n",
    "    names_compared = all_areas_fractions.loc[col_a]['name'] + ' & ' + all_areas_fractions.loc[col_b]['name'] + ' & ' + all_areas_fractions.loc[col_c]['name'] \n",
    "    temp = pd.DataFrame({'A': col_a, 'B': col_b, 'C': col_c, 'null_probability': prob_a_b_null, 'actual': actual, 'p_val': p_result, 'which_compared': names_compared, 'predicted_num': predicted_num, 'actual_num': total_num}, index=[0])\n",
    "    if i == 0:\n",
    "        conditional_prob = temp\n",
    "    else:\n",
    "        conditional_prob =pd.concat([conditional_prob, temp])\n",
    "    i = i+1\n",
    "num_comb = len(conditional_prob)\n",
    "bonferroni = lambda x: x*num_comb\n",
    "conditional_prob['p_adj'] = conditional_prob['p_val'].apply(bonferroni)\n",
    "condional_prob_3_comb = conditional_prob.copy()\n",
    "condional_prob_3_comb['effect_size'] = np.log2(condional_prob_3_comb['actual']/condional_prob_3_comb['null_probability'])\n",
    "condional_prob_3_comb['log_p_adj'] = -np.log10(condional_prob_3_comb['p_adj'])"
   ]
  },
  {
   "cell_type": "code",
   "execution_count": null,
   "metadata": {},
   "outputs": [],
   "source": [
    "condional_prob_3_comb"
   ]
  },
  {
   "cell_type": "code",
   "execution_count": null,
   "metadata": {},
   "outputs": [],
   "source": [
    "over_rep_1 = condional_prob_3_comb[(condional_prob_3_comb['effect_size']>6)&(condional_prob_3_comb['log_p_adj']>150)]\n",
    "over_rep_2 = condional_prob_3_comb[(condional_prob_3_comb['effect_size']>7)&(condional_prob_3_comb['log_p_adj']>60)]\n",
    "over_rep_3 = condional_prob_3_comb[(condional_prob_3_comb['effect_size']>8)&(condional_prob_3_comb['log_p_adj']>30)]\n",
    "over_rep_4 = condional_prob_3_comb[(condional_prob_3_comb['effect_size']>8.5)&(condional_prob_3_comb['log_p_adj']>10)]\n",
    "under_rep_1 = condional_prob_3_comb[(condional_prob_3_comb['effect_size']<-2)&(condional_prob_3_comb['log_p_adj']>100)]\n",
    "under_rep_2 = condional_prob_3_comb[(condional_prob_3_comb['effect_size']<-4)&(condional_prob_3_comb['log_p_adj']>20)]\n",
    "under_rep_3 = condional_prob_3_comb[(condional_prob_3_comb['effect_size']<-3.5)&(condional_prob_3_comb['log_p_adj']>40)]\n",
    "to_anno = [over_rep_1, over_rep_2, over_rep_3, over_rep_4, under_rep_1, under_rep_2, under_rep_3]"
   ]
  },
  {
   "cell_type": "code",
   "execution_count": null,
   "metadata": {},
   "outputs": [],
   "source": [
    "under_rep_2"
   ]
  },
  {
   "cell_type": "code",
   "execution_count": null,
   "metadata": {},
   "outputs": [],
   "source": [
    "plt.scatter(x= condional_prob_3_comb['effect_size'], y = condional_prob_3_comb['log_p_adj'], s=20)\n",
    "plt.title('Over- and under-represented motifs of projections between 3 samples containing cortical areas')\n",
    "for i in to_anno:\n",
    "    plt.scatter(x = i.effect_size[0], y= i.log_p_adj[0], s=20)\n",
    "\n",
    "for i in to_anno:\n",
    "    plt.annotate(i.which_compared[0], (i.effect_size[0], i.log_p_adj[0]+5))\n",
    "\n",
    "\n",
    "plt.xlabel('log10 effect size (actual/null probability)')\n",
    "plt.ylabel('-log2 p value')\n"
   ]
  },
  {
   "cell_type": "code",
   "execution_count": null,
   "metadata": {},
   "outputs": [],
   "source": [
    "i = 0\n",
    "for col_a, col_b, col_c, col_d in itertools.combinations(cortical_areas_adj, 4):\n",
    "    prob_df = pd.DataFrame()\n",
    "    prob_df['a'] = barcodes_across_sample[col_a].astype(bool)\n",
    "    prob_df['b'] = barcodes_across_sample[col_b].astype(bool)\n",
    "    prob_df['c'] = barcodes_across_sample[col_c].astype(bool)\n",
    "    prob_df['d'] = barcodes_across_sample[col_d].astype(bool)\n",
    "    prob_df['matching'] = prob_df.sum(axis=1)\n",
    "    probability_a = prob_df['a'].sum()/len(barcodes_across_sample)\n",
    "    probability_b = prob_df['b'].sum()/len(barcodes_across_sample)\n",
    "    probability_c = prob_df['c'].sum()/len(barcodes_across_sample)\n",
    "    probability_d = prob_df['d'].sum()/len(barcodes_across_sample)\n",
    "    prob_a_b_null = probability_a*probability_b*probability_c*probability_d\n",
    "    actual = (len(prob_df[prob_df['matching']==4]))/len(barcodes_across_sample)\n",
    "    p_result = binomtest(len(prob_df[prob_df['matching']==4]), n=len(barcodes_across_sample), p=prob_a_b_null, alternative='two-sided').pvalue\n",
    "    total_num = len(prob_df[prob_df['matching']==4])\n",
    "    predicted_num = prob_a_b_null*len(barcodes_across_sample)\n",
    "    names_compared = all_areas_fractions.loc[col_a]['name'] + ' & ' + all_areas_fractions.loc[col_b]['name'] + ' & ' + all_areas_fractions.loc[col_c]['name'] + ' & ' + all_areas_fractions.loc[col_d]['name'] \n",
    "    temp = pd.DataFrame({'A': col_a, 'B': col_b, 'C': col_c, 'D': col_d, 'null_probability': prob_a_b_null, 'actual': actual, 'p_val': p_result, 'which_compared': names_compared, 'predicted_num': predicted_num, 'actual_num': total_num}, index=[0])\n",
    "    if i == 0:\n",
    "        conditional_prob = temp\n",
    "    else:\n",
    "        conditional_prob =pd.concat([conditional_prob, temp])\n",
    "    i = i+1\n"
   ]
  },
  {
   "cell_type": "code",
   "execution_count": null,
   "metadata": {},
   "outputs": [],
   "source": [
    "num_comb = len(conditional_prob)\n",
    "bonferroni = lambda x: x*num_comb\n",
    "conditional_prob['p_adj'] = conditional_prob['p_val'].apply(bonferroni)\n",
    "condional_prob_4_comb = conditional_prob.copy()\n",
    "condional_prob_4_comb['effect_size'] = np.log2((condional_prob_4_comb['actual']/condional_prob_4_comb['null_probability']))\n",
    "condional_prob_4_comb['log_p_adj'] = -np.log10(condional_prob_4_comb['p_adj'])"
   ]
  },
  {
   "cell_type": "code",
   "execution_count": null,
   "metadata": {},
   "outputs": [],
   "source": [
    "-(np.log10(condional_prob_4_comb.p_adj.max()))"
   ]
  },
  {
   "cell_type": "code",
   "execution_count": null,
   "metadata": {},
   "outputs": [],
   "source": [
    "condional_prob_4_comb.log_p_adj.min()"
   ]
  },
  {
   "cell_type": "code",
   "execution_count": null,
   "metadata": {},
   "outputs": [],
   "source": [
    "condional_prob_4_comb['effect_size'] = np.log2((condional_prob_4_comb['actual']/condional_prob_4_comb['null_probability']))"
   ]
  },
  {
   "cell_type": "code",
   "execution_count": null,
   "metadata": {},
   "outputs": [],
   "source": [
    "under_rep_1"
   ]
  },
  {
   "cell_type": "code",
   "execution_count": null,
   "metadata": {},
   "outputs": [],
   "source": [
    "over_rep_1 = condional_prob_4_comb[(condional_prob_4_comb['effect_size']>7)&(condional_prob_4_comb['log_p_adj']>175)]\n",
    "over_rep_2 = condional_prob_4_comb[(condional_prob_4_comb['effect_size']>10)&(condional_prob_4_comb['log_p_adj']>150)]\n",
    "over_rep_3 = condional_prob_4_comb[(condional_prob_4_comb['effect_size']>12.5)&(condional_prob_4_comb['log_p_adj']>10)]\n",
    "over_rep_4 = condional_prob_4_comb[(condional_prob_4_comb['effect_size']>10.75)&(condional_prob_4_comb['log_p_adj']>75)]\n",
    "under_rep_1 = condional_prob_4_comb[(condional_prob_4_comb['effect_size']<-2.29)&(condional_prob_4_comb['log_p_adj']>10)]\n",
    "under_rep_2 = condional_prob_4_comb[(condional_prob_4_comb['effect_size']<-3)&(condional_prob_4_comb['log_p_adj']>3)]\n",
    "\n",
    "to_anno = [over_rep_1, over_rep_2, over_rep_3, over_rep_4, under_rep_1, under_rep_2]"
   ]
  },
  {
   "cell_type": "code",
   "execution_count": null,
   "metadata": {},
   "outputs": [],
   "source": [
    "over_rep = condional_prob_4_comb[(condional_prob_4_comb['effect_size']>12)&(condional_prob_4_comb['log_p_adj']>3)&(condional_prob_4_comb['actual_num']>30)]\n",
    "plt.scatter(x= condional_prob_4_comb['effect_size'], y = condional_prob_4_comb['log_p_adj'], s=20)\n",
    "\n",
    "for i in to_anno:\n",
    "    plt.scatter(x = i.effect_size[0], y= i.log_p_adj[0], s=20)\n",
    "    plt.annotate(i.which_compared[0], (i.effect_size[0], i.log_p_adj[0]+5))\n",
    "plt.xlabel('log2 effect size (actual/null probability)')\n",
    "plt.ylabel('-log10 p value')\n",
    "plt.title('Over- and under-represented motifs of projections between 4 samples containing cortical areas')"
   ]
  }
 ],
 "metadata": {
  "kernelspec": {
   "display_name": "MAPseq_processing",
   "language": "python",
   "name": "python3"
  },
  "language_info": {
   "codemirror_mode": {
    "name": "ipython",
    "version": 3
   },
   "file_extension": ".py",
   "mimetype": "text/x-python",
   "name": "python",
   "nbconvert_exporter": "python",
   "pygments_lexer": "ipython3",
   "version": "3.8.16"
  },
  "orig_nbformat": 4
 },
 "nbformat": 4,
 "nbformat_minor": 2
}
