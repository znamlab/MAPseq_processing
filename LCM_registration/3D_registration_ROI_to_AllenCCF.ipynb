<!doctype html>
<html lang="en">
<head>
  <meta charset="utf-8">
  <title>JupyterLab</title>
  <meta name="viewport" content="width=device-width, initial-scale=1">
  





  <script id="jupyter-config-data" type="application/json">
    {"appName": "JupyterLab", "appNamespace": "jupyterlab", "appSettingsDir": "/Users/turnerb/opt/miniconda3/share/jupyter/lab/settings", "appUrl": "/lab", "appVersion": "1.2.6", "baseUrl": "/", "buildAvailable": true, "buildCheck": true, "cacheFiles": true, "devMode": false, "fullAppUrl": "/lab", "fullListingsUrl": "/lab/api/listings", "fullMathjaxUrl": "/static/components/MathJax/MathJax.js", "fullSettingsUrl": "/lab/api/settings", "fullStaticUrl": "/static/lab", "fullThemesUrl": "/lab/api/themes", "fullTreeUrl": "/lab/tree", "fullWorkspacesApiUrl": "/lab/api/workspaces", "fullWorkspacesUrl": "/lab/workspaces", "ignorePlugins": [], "listingsUrl": "/lab/api/listings", "mathjaxConfig": "TeX-AMS-MML_HTMLorMML-full,Safe", "notebookVersion": "[6, 0, 3]", "quitButton": true, "schemasDir": "/Users/turnerb/opt/miniconda3/share/jupyter/lab/schemas", "serverRoot": "/Users/turnerb", "settingsUrl": "/lab/api/settings", "staticDir": "/Users/turnerb/opt/miniconda3/share/jupyter/lab/static", "staticUrl": "/static/lab", "store_id": 0, "templatesDir": "/Users/turnerb/opt/miniconda3/share/jupyter/lab/static", "terminalsAvailable": true, "themesDir": "/Users/turnerb/opt/miniconda3/share/jupyter/lab/themes", "themesUrl": "/lab/api/themes", "token": "16f8903e06eb120c3119270a55c8cf204c32c27351a51a82", "treeUrl": "/lab/tree", "userSettingsDir": "/Users/turnerb/.jupyter/lab/user-settings", "workspacesApiUrl": "/lab/api/workspaces", "workspacesDir": "/Users/turnerb/.jupyter/lab/workspaces", "workspacesUrl": "/lab/workspaces", "wsUrl": ""}
  </script>

  
  <link rel="icon" type="image/x-icon" href="/static/base/images/favicon.ico" class="idle favicon">
  <link rel="" type="image/x-icon" href="/static/base/images/favicon-busy-1.ico" class="busy favicon">
  

</head>
<body>

<script type="text/javascript">
  /* Remove token from URL. */
  (function () {
    var location = window.location;
    var search = location.search;

    // If there is no query string, bail.
    if (search.length <= 1) {
      return;
    }

    // Rebuild the query string without the `token`.
    var query = '?' + search.slice(1).split('&')
      .filter(function (param) { return param.split('=')[0] !== 'token'; })
      .join('&');

    // Rebuild the URL with the new query string.
    var url = location.origin + location.pathname +
      (query !== '?' ? query : '') + location.hash;

    if (url === location.href) {
      return;
    }

    window.history.replaceState({ }, '', url);
  })();
</script>

<script type="text/javascript" src="/static/lab/main.54495acbf6856e1bfebf.js"></script><script type="text/javascript" src="/static/lab/vendors~main.d058a93d0bcdd36e2223.js"></script></body>
</html>