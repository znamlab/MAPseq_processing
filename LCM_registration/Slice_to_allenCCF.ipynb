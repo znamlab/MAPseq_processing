{
 "cells": [
  {
   "cell_type": "code",
   "execution_count": 107,
   "id": "118f1da1",
   "metadata": {},
   "outputs": [],
   "source": [
    "import numpy as np\n",
    "from matplotlib import pyplot as plt\n",
    "import pandas as pd\n",
    "import cv2\n",
    "import json\n",
    "import os\n",
    "import datetime"
   ]
  },
  {
   "cell_type": "code",
   "execution_count": 96,
   "id": "85e9680e",
   "metadata": {},
   "outputs": [],
   "source": [
    "#import json file with transformation info and tabulate\n",
    "with open('/Users/turnerb/Desktop/code/image_reg/quickNII_reg/310122_mostrecent.json') as fp:\n",
    "  bla = json.load(fp)\n",
    "\n",
    "slice_coord = pd.DataFrame(columns=['filename','ox', 'oy', 'oz', 'ux', 'uy', 'uz', 'vx', 'vy', 'vz', 'markers', 'height', 'width'], dtype=int)\n",
    "for slice in bla[\"slices\"]:\n",
    "    anchoring = slice[\"anchoring\"]\n",
    "    slice_coord = slice_coord.append({'filename': slice[\"filename\"], 'ox': (anchoring[0]), 'oy': (anchoring[1]), 'oz': (anchoring[2]), 'ux': (anchoring[3]), 'uy': (anchoring[4]), 'uz': (anchoring[5]), 'vx': (anchoring[6]), 'vy': (anchoring[7]), 'vz': (anchoring[8]), 'markers': (slice[\"markers\"]),'height': (slice[\"height\"]), 'width': (slice[\"width\"])},ignore_index=True)\n"
   ]
  },
  {
   "cell_type": "code",
   "execution_count": 92,
   "id": "d07da859",
   "metadata": {},
   "outputs": [],
   "source": [
    "#incorporate allen conversion units, and subsequently also incorporate functions from NITRC.org \n",
    "allen_matrix_conv = [[0, 0, 25, 0],\n",
    "                    [-25, 0, 0, 0],\n",
    "                    [0, -25, 0, 0],\n",
    "                    [13175, 7975, 0, 1]]"
   ]
  },
  {
   "cell_type": "code",
   "execution_count": 101,
   "id": "3384fb93",
   "metadata": {},
   "outputs": [],
   "source": [
    "   def triangulate(w,h,markers):\n",
    "       vertices=[[-0.1*w,-0.1*h,-0.1*w,-0.1*h],\n",
    "                 [ 1.1*w,-0.1*h, 1.1*w,-0.1*h],\n",
    "                 [-0.1*w, 1.1*h,-0.1*w, 1.1*h],\n",
    "                 [ 1.1*w, 1.1*h, 1.1*w, 1.1*h]]\n",
    "       edges=[0]*((len(markers)+4)*(len(markers)+4-1)//2)\n",
    "       triangles=[Triangle(0,1,2,vertices,edges),Triangle(1,2,3,vertices,edges)]\n",
    "       edges[0]=edges[1]=edges[4]=edges[5]=2\n",
    "       for marker in markers:\n",
    "           x,y=marker[2:4]\n",
    "           found=False\n",
    "           keep=[]\n",
    "           remove=[]\n",
    "           for triangle in triangles:\n",
    "               if not found and triangle.intriangle(x,y):\n",
    "                   found=True\n",
    "               if triangle.incircle(x,y):\n",
    "                   remove.append(triangle)\n",
    "               else:\n",
    "                   keep.append(triangle)\n",
    "           if found:\n",
    "               for triangle in remove:\n",
    "                   triangle.removeedges()\n",
    "           else:\n",
    "               keep.extend(remove)\n",
    "           triangles=keep\n",
    "           vcount=len(vertices)\n",
    "           vertices.append(marker)\n",
    "           for i in range(vcount-1):\n",
    "               for j in range(i+1,vcount):\n",
    "                   if edges[edgeindex(i,j)]==1:\n",
    "                       triangles.append(Triangle(i,j,vcount,vertices,edges))\n",
    "       return triangles\n",
    "           \n",
    "   def transform(triangulation,x,y):\n",
    "       for triangle in triangulation:\n",
    "           uv1=triangle.intriangle(x,y)\n",
    "           if uv1:\n",
    "               return (triangle.A[0]\n",
    "                       +(triangle.B[0]-triangle.A[0])*uv1[0]\n",
    "                       +(triangle.C[0]-triangle.A[0])*uv1[1],\n",
    "                       triangle.A[1]\n",
    "                       +(triangle.B[1]-triangle.A[1])*uv1[0]\n",
    "                       +(triangle.C[1]-triangle.A[1])*uv1[1])\n",
    "   \n",
    "   def forwardtransform(triangulation,x,y):\n",
    "       for triangle in triangulation:\n",
    "           uv1=triangle.inforward(x,y)\n",
    "           if uv1:\n",
    "               return (triangle.A[2]\n",
    "                     +(triangle.B[2]-triangle.A[2])*uv1[0]\n",
    "                     +(triangle.C[2]-triangle.A[2])*uv1[1],\n",
    "                       triangle.A[3]\n",
    "                     +(triangle.B[3]-triangle.A[3])*uv1[0]\n",
    "                     +(triangle.C[3]-triangle.A[3])*uv1[1])\n",
    "\n",
    " "
   ]
  },
  {
   "cell_type": "code",
   "execution_count": 97,
   "id": "13b9b6f0",
   "metadata": {},
   "outputs": [],
   "source": [
    "   def inv3x3(m):\n",
    "       det = m[0][0] * (m[1][1] * m[2][2] - m[2][1] * m[1][2])\\\n",
    "           - m[0][1] * (m[1][0] * m[2][2] - m[1][2] * m[2][0])\\\n",
    "           + m[0][2] * (m[1][0] * m[2][1] - m[1][1] * m[2][0])\n",
    "       if det == 0:\n",
    "           return None\n",
    "       return [[(m[1][1] * m[2][2] - m[2][1] * m[1][2]) / det,\n",
    "                (m[0][2] * m[2][1] - m[0][1] * m[2][2]) / det,\n",
    "                (m[0][1] * m[1][2] - m[0][2] * m[1][1]) / det],\n",
    "               [(m[1][2] * m[2][0] - m[1][0] * m[2][2]) / det,\n",
    "                (m[0][0] * m[2][2] - m[0][2] * m[2][0]) / det,\n",
    "                (m[1][0] * m[0][2] - m[0][0] * m[1][2]) / det],\n",
    "               [(m[1][0] * m[2][1] - m[2][0] * m[1][1]) / det,\n",
    "                (m[2][0] * m[0][1] - m[0][0] * m[2][1]) / det,\n",
    "                (m[0][0] * m[1][1] - m[1][0] * m[0][1]) / det]]\n",
    "   \n",
    "   def rowmul3(v,m):return [sum(v[j]*m[j][i] for j in range(3)) for i in range(3)]\n",
    "   def distsquare(ax,ay,bx,by):return (ax-bx)*(ax-bx)+(ay-by)*(ay-by)\n",
    "   def edgeindex(a,b):i=min(a,b);j=max(a,b);return j*(j-1)//2+i\n",
    "   \n",
    "   class Triangle:\n",
    "       def __init__(self,a,b,c,vlist,elist):\n",
    "           self.A=vlist[a]\n",
    "           self.B=vlist[b]\n",
    "           self.C=vlist[c]\n",
    "           self.elist=elist\n",
    "           self.edges=[edgeindex(a,b),\n",
    "                       edgeindex(a,c),\n",
    "                       edgeindex(b,c)]\n",
    "           for edge in self.edges:\n",
    "               elist[edge]+=1\n",
    "           ax,ay=self.A[0:2]\n",
    "           bx,by=self.B[0:2]\n",
    "           cx,cy=self.C[0:2]\n",
    "           self.forwarddecomp=inv3x3([[bx-ax,by-ay,0],\n",
    "                                      [cx-ax,cy-ay,0],\n",
    "                                      [ax,ay,1]])\n",
    "           ax,ay=self.A[2:4]\n",
    "           bx,by=self.B[2:4]\n",
    "           cx,cy=self.C[2:4]\n",
    "           self.decomp=inv3x3([[bx-ax,by-ay,0],\n",
    "                               [cx-ax,cy-ay,0],\n",
    "                               [ax,ay,1]])\n",
    "           a2=distsquare(bx,by,cx,cy)\n",
    "           b2=distsquare(ax,ay,cx,cy)\n",
    "           c2=distsquare(ax,ay,bx,by)\n",
    "           fa=a2*(b2+c2-a2)\n",
    "           fb=b2*(c2+a2-b2)\n",
    "           fc=c2*(a2+b2-c2)\n",
    "           self.den=fa+fb+fc\n",
    "           self.Mdenx=fa*ax+fb*bx+fc*cx\n",
    "           self.Mdeny=fa*ay+fb*by+fc*cy\n",
    "           self.r2den=distsquare(ax*self.den,ay*self.den,self.Mdenx,self.Mdeny)\n",
    "           \n",
    "       def removeedges(self):\n",
    "           for edge in self.edges:\n",
    "               self.elist[edge]-=1\n",
    "           del self.edges\n",
    "           del self.elist\n",
    "       \n",
    "       def incircle(self,x,y):\n",
    "           return distsquare(x*self.den,y*self.den,self.Mdenx,self.Mdeny)<self.r2den\n",
    "       \n",
    "       def intriangle(self,x,y):\n",
    "           uv1=rowmul3([x,y,1],self.decomp)\n",
    "           if 0<=uv1[0]<=1 and 0<=uv1[1]<=1 and uv1[0]+uv1[1]<=1:\n",
    "               return uv1\n",
    "       \n",
    "       def inforward(self,x,y):\n",
    "           uv1=rowmul3([x,y,1],self.forwarddecomp)\n",
    "           if 0<=uv1[0]<=1 and 0<=uv1[1]<=1 and uv1[0]+uv1[1]<=1:\n",
    "               return uv1"
   ]
  },
  {
   "cell_type": "code",
   "execution_count": 143,
   "id": "26cf0e02",
   "metadata": {},
   "outputs": [
    {
     "name": "stdout",
     "output_type": "stream",
     "text": [
      "Performing non-linear deformation for brain1_s001. 18:02:17\n",
      "Converting to Allen Coordinates . 18:03:40\n",
      "Performing non-linear deformation for brain1_s002. 18:03:40\n"
     ]
    },
    {
     "name": "stderr",
     "output_type": "stream",
     "text": [
      "/Users/turnerb/opt/miniconda3/lib/python3.7/site-packages/ipykernel_launcher.py:32: VisibleDeprecationWarning: Creating an ndarray from ragged nested sequences (which is a list-or-tuple of lists-or-tuples-or ndarrays with different lengths or shapes) is deprecated. If you meant to do this, you must specify 'dtype=object' when creating the ndarray.\n",
      "/Users/turnerb/opt/miniconda3/lib/python3.7/site-packages/ipykernel_launcher.py:35: VisibleDeprecationWarning: Creating an ndarray from ragged nested sequences (which is a list-or-tuple of lists-or-tuples-or ndarrays with different lengths or shapes) is deprecated. If you meant to do this, you must specify 'dtype=object' when creating the ndarray.\n"
     ]
    },
    {
     "name": "stdout",
     "output_type": "stream",
     "text": [
      "Converting to Allen Coordinates . 18:06:14\n",
      "Performing non-linear deformation for brain1_s003. 18:06:14\n",
      "Converting to Allen Coordinates . 18:07:35\n",
      "Performing non-linear deformation for brain1_s004. 18:07:35\n",
      "Converting to Allen Coordinates . 18:09:02\n",
      "Performing non-linear deformation for brain1_s005. 18:09:02\n",
      "Converting to Allen Coordinates . 18:09:56\n",
      "Performing non-linear deformation for brain1_s006. 18:09:57\n",
      "Converting to Allen Coordinates . 18:12:31\n",
      "Performing non-linear deformation for brain1_s007. 18:12:31\n",
      "Converting to Allen Coordinates . 18:14:29\n",
      "Performing non-linear deformation for brain1_s008. 18:14:29\n",
      "Converting to Allen Coordinates . 18:18:36\n",
      "Performing non-linear deformation for brain1_s009. 18:18:36\n",
      "Converting to Allen Coordinates . 18:22:20\n",
      "Performing non-linear deformation for brain1_s010. 18:22:20\n",
      "Converting to Allen Coordinates . 18:24:34\n",
      "Performing non-linear deformation for brain1_s011. 18:24:34\n",
      "Converting to Allen Coordinates . 18:30:43\n",
      "Performing non-linear deformation for brain1_s012. 18:30:43\n",
      "Converting to Allen Coordinates . 18:35:44\n",
      "Performing non-linear deformation for brain1_s013. 18:35:44\n",
      "Converting to Allen Coordinates . 19:10:25\n",
      "Performing non-linear deformation for brain1_s014. 19:10:26\n",
      "Converting to Allen Coordinates . 22:28:21\n",
      "Performing non-linear deformation for brain1_s015. 22:28:21\n",
      "Converting to Allen Coordinates . 22:30:40\n",
      "Performing non-linear deformation for brain1_s016. 22:30:40\n",
      "Converting to Allen Coordinates . 22:31:45\n",
      "Performing non-linear deformation for brain1_s017. 22:31:45\n",
      "Converting to Allen Coordinates . 22:34:14\n",
      "Performing non-linear deformation for brain1_s018. 22:34:14\n",
      "Converting to Allen Coordinates . 22:37:47\n",
      "Performing non-linear deformation for brain1_s019. 22:37:47\n",
      "Converting to Allen Coordinates . 22:42:00\n",
      "Performing non-linear deformation for brain1_s020. 22:42:00\n",
      "Converting to Allen Coordinates . 22:45:49\n",
      "Performing non-linear deformation for brain1_s021. 22:45:49\n",
      "Converting to Allen Coordinates . 22:47:54\n",
      "Performing non-linear deformation for brain1_s022. 22:47:55\n",
      "Converting to Allen Coordinates . 22:50:06\n",
      "Performing non-linear deformation for brain1_s023. 22:50:07\n",
      "Converting to Allen Coordinates . 22:53:07\n",
      "Performing non-linear deformation for brain1_s024. 22:53:07\n",
      "Converting to Allen Coordinates . 22:55:39\n"
     ]
    }
   ],
   "source": [
    "savingpath = ('/Users/turnerb/Desktop/code/image_reg/allen_ccf_coord')\n",
    "os.chdir(savingpath)\n",
    "\n",
    "for i, row in slice_coord['filename'].iteritems():\n",
    "    print('Performing non-linear deformation for %s. %s' % \n",
    "            (row[:-len('.jpg')], datetime.datetime.now().strftime('%H:%M:%S')), flush=True)\n",
    "    which = slice_coord.iloc[i]\n",
    "    x_val = list(range(0, which['width']))\n",
    "    y_val = list(range(0, which['height']))\n",
    "    coord = np.meshgrid(x_val, y_val)\n",
    "    width=which['width']\n",
    "    height=which['height']\n",
    "    newcoord=[]\n",
    "#perform non-linear deformation of coordinates on each set of section image pixels according info in json file.\n",
    "    triangulation=triangulate(width,height,which[\"markers\"])\n",
    "    for x, y in np.nditer(coord):\n",
    "        i,j=transform(triangulation,x,y)\n",
    "        nc = (i,j)\n",
    "        newcoord.append(nc)\n",
    "#make  new x y matrices of containing new non-linearly deformed coordinates   \n",
    "    gi = pd.DataFrame(newcoord)\n",
    "    Xt = np.reshape(np.array(gi[0]), (height, width))\n",
    "    Yt = np.reshape(np.array(gi[1]), (height, width))\n",
    "\n",
    "#now transform the deformed and registered quickNII image section coordinates to allen ccf     \n",
    "    print('Converting to Allen Coordinates . %s' % \n",
    "            datetime.datetime.now().strftime('%H:%M:%S'), flush=True)\n",
    "    U_V_O_vector = [[which['ux'], which['uy'], which['uz']],\n",
    "                    [which['vx'], which['vy'], which['vz']],\n",
    "                    [which['ox'], which['oy'], which['oz']]]\n",
    "#generate 3D voxels from pixel coordinates for each file\n",
    "    [xv,  yv,  zv] = np.matmul([(XX/which['width']),  (YY/which['height']),  1 ], U_V_O_vector)\n",
    "#transform into allen coord\n",
    "    filename = 'allen_ccf_converted_%s' %row[:-len('.jpg')]\n",
    "    [xa, ya, za, one] = np.matmul([xv,  yv,  zv, 1], allen_matrix_conv)\n",
    "    allen_vox = [xa, ya, za, one]\n",
    "    np.save(filename, allen_vox)\n",
    "                    "
   ]
  },
  {
   "cell_type": "code",
   "execution_count": 141,
   "id": "dbc32d1a",
   "metadata": {},
   "outputs": [
    {
     "data": {
      "image/png": "[encoded data removed]",
      "text/plain": [
       "<Figure size 432x288 with 1 Axes>"
      ]
     },
     "metadata": {
      "needs_background": "light"
     },
     "output_type": "display_data"
    }
   ],
   "source": [
    "newpath = ('/Users/turnerb/Desktop/code/image_reg/')\n",
    "os.chdir(newpath)\n",
    "\n",
    "[xa, ya, za, one] = np.load('allen_ccf_coord/allen_ccf_converted_brain1_s006.npy')\n",
    "\n",
    "roi = cv2.imread('rois/s006_tube59.png')\n",
    "plt.imshow(roi)\n",
    "roi.shape\n",
    "roi = cv2.cvtColor(roi, cv2.COLOR_BGR2GRAY)\n",
    "thresh = 127\n",
    "roi = cv2.threshold(roi, thresh, 1, cv2.THRESH_BINARY)[1]\n",
    "allencoord_roixa = roi*xa\n",
    "\n"
   ]
  },
  {
   "cell_type": "code",
   "execution_count": 142,
   "id": "9fe0a868",
   "metadata": {},
   "outputs": [
    {
     "data": {
      "text/plain": [
       "<matplotlib.image.AxesImage at 0x7fa9ad7a9c90>"
      ]
     },
     "execution_count": 142,
     "metadata": {},
     "output_type": "execute_result"
    },
    {
     "data": {
      "image/png": "[encoded data removed]",
      "text/plain": [
       "<Figure size 432x288 with 1 Axes>"
      ]
     },
     "metadata": {
      "needs_background": "light"
     },
     "output_type": "display_data"
    }
   ],
   "source": [
    "plt.imshow(allencoord_roixa)\n",
    "\n",
    "#now create 3D volumes extending the size to up to the depth of the next slice"
   ]
  },
  {
   "cell_type": "code",
   "execution_count": 144,
   "id": "d2d480ca",
   "metadata": {},
   "outputs": [
    {
     "data": {
      "text/plain": [
       "[array([[11200.46116897, 11198.49952748, 11196.53788599, ...,\n",
       "          9605.64663704,  9603.68499555,  9601.72335406],\n",
       "        [11199.56692796, 11197.60528647, 11195.64364498, ...,\n",
       "          9604.75239602,  9602.79075453,  9600.82911304],\n",
       "        [11198.67268694, 11196.71104545, 11194.74940396, ...,\n",
       "          9603.85815501,  9601.89651352,  9599.93487203],\n",
       "        ...,\n",
       "        [10634.40660619, 10632.44496469, 10630.4833232 , ...,\n",
       "          9039.59207425,  9037.63043276,  9035.66879127],\n",
       "        [10633.51236517, 10631.55072368, 10629.58908219, ...,\n",
       "          9038.69783323,  9036.73619174,  9034.77455025],\n",
       "        [10632.61812415, 10630.65648266, 10628.69484117, ...,\n",
       "          9037.80359222,  9035.84195073,  9033.88030924]]),\n",
       " array([[-2408.41934395, -2408.09808899, -2407.77683404, ...,\n",
       "         -2147.23906524, -2146.91781028, -2146.59655533],\n",
       "        [-2389.69688573, -2389.37563078, -2389.05437582, ...,\n",
       "         -2128.51660702, -2128.19535207, -2127.87409711],\n",
       "        [-2370.97442751, -2370.65317256, -2370.3319176 , ...,\n",
       "         -2109.7941488 , -2109.47289385, -2109.15163889],\n",
       "        ...,\n",
       "        [ 9442.8967066 ,  9443.21796155,  9443.53921651, ...,\n",
       "          9704.07698531,  9704.39824026,  9704.71949522],\n",
       "        [ 9461.61916481,  9461.94041977,  9462.26167472, ...,\n",
       "          9722.79944352,  9723.12069848,  9723.44195343],\n",
       "        [ 9480.34162303,  9480.66287799,  9480.98413294, ...,\n",
       "          9741.52190174,  9741.8431567 ,  9742.16441165]]),\n",
       " array([[-1630.35099256, -1614.23537499, -1598.11975741, ...,\n",
       "         11471.64609438, 11487.76171196, 11503.87732953],\n",
       "        [-1630.83306299, -1614.71744542, -1598.60182785, ...,\n",
       "         11471.16402395, 11487.27964152, 11503.3952591 ],\n",
       "        [-1631.31513343, -1615.19951585, -1599.08389828, ...,\n",
       "         11470.68195352, 11486.79757109, 11502.91318866],\n",
       "        ...,\n",
       "        [-1935.50157725, -1919.38595968, -1903.27034211, ...,\n",
       "         11166.49550969, 11182.61112726, 11198.72674483],\n",
       "        [-1935.98364769, -1919.86803011, -1903.75241254, ...,\n",
       "         11166.01343925, 11182.12905683, 11198.2446744 ],\n",
       "        [-1936.46571812, -1920.35010055, -1904.23448298, ...,\n",
       "         11165.53136882, 11181.64698639, 11197.76260397]]),\n",
       " array([[1., 1., 1., ..., 1., 1., 1.],\n",
       "        [1., 1., 1., ..., 1., 1., 1.],\n",
       "        [1., 1., 1., ..., 1., 1., 1.],\n",
       "        ...,\n",
       "        [1., 1., 1., ..., 1., 1., 1.],\n",
       "        [1., 1., 1., ..., 1., 1., 1.],\n",
       "        [1., 1., 1., ..., 1., 1., 1.]])]"
      ]
     },
     "execution_count": 144,
     "metadata": {},
     "output_type": "execute_result"
    }
   ],
   "source": [
    "[xa, ya, za, one]"
   ]
  },
  {
   "cell_type": "code",
   "execution_count": null,
   "id": "70ed3cec",
   "metadata": {},
   "outputs": [],
   "source": []
  },
  {
   "cell_type": "code",
   "execution_count": null,
   "id": "582adad9",
   "metadata": {},
   "outputs": [],
   "source": []
  },
  {
   "cell_type": "code",
   "execution_count": null,
   "id": "befaed4d",
   "metadata": {},
   "outputs": [],
   "source": []
  },
  {
   "cell_type": "code",
   "execution_count": 6,
   "id": "1ed09dfe",
   "metadata": {},
   "outputs": [],
   "source": []
  },
  {
   "cell_type": "code",
   "execution_count": 7,
   "id": "86b60152",
   "metadata": {},
   "outputs": [],
   "source": []
  },
  {
   "cell_type": "code",
   "execution_count": null,
   "id": "2e3f72b9",
   "metadata": {},
   "outputs": [],
   "source": []
  },
  {
   "cell_type": "code",
   "execution_count": null,
   "id": "70723097",
   "metadata": {},
   "outputs": [],
   "source": []
  },
  {
   "cell_type": "code",
   "execution_count": 33,
   "id": "5acb0a9d",
   "metadata": {},
   "outputs": [],
   "source": []
  },
  {
   "cell_type": "code",
   "execution_count": null,
   "id": "547ed5d9",
   "metadata": {},
   "outputs": [],
   "source": []
  },
  {
   "cell_type": "code",
   "execution_count": null,
   "id": "e9312f4c",
   "metadata": {},
   "outputs": [],
   "source": [
    "\n"
   ]
  },
  {
   "cell_type": "code",
   "execution_count": null,
   "id": "52d91631",
   "metadata": {},
   "outputs": [],
   "source": []
  },
  {
   "cell_type": "code",
   "execution_count": null,
   "id": "f0f4d321",
   "metadata": {},
   "outputs": [],
   "source": []
  },
  {
   "cell_type": "code",
   "execution_count": null,
   "id": "0a2a012f",
   "metadata": {},
   "outputs": [],
   "source": []
  },
  {
   "cell_type": "code",
   "execution_count": null,
   "id": "1d05fcc5",
   "metadata": {},
   "outputs": [],
   "source": []
  },
  {
   "cell_type": "code",
   "execution_count": null,
   "id": "c6417685",
   "metadata": {},
   "outputs": [],
   "source": []
  },
  {
   "cell_type": "code",
   "execution_count": null,
   "id": "118f3e55",
   "metadata": {},
   "outputs": [],
   "source": []
  },
  {
   "cell_type": "code",
   "execution_count": null,
   "id": "a5d4d256",
   "metadata": {},
   "outputs": [],
   "source": []
  },
  {
   "cell_type": "code",
   "execution_count": null,
   "id": "3216da7c",
   "metadata": {},
   "outputs": [],
   "source": []
  },
  {
   "cell_type": "code",
   "execution_count": null,
   "id": "dc014722",
   "metadata": {},
   "outputs": [],
   "source": []
  }
 ],
 "metadata": {
  "kernelspec": {
   "display_name": "Python 3 (ipykernel)",
   "language": "python",
   "name": "python3"
  },
  "language_info": {
   "codemirror_mode": {
    "name": "ipython",
    "version": 3
   },
   "file_extension": ".py",
   "mimetype": "text/x-python",
   "name": "python",
   "nbconvert_exporter": "python",
   "pygments_lexer": "ipython3",
   "version": "3.7.6"
  }
 },
 "nbformat": 4,
 "nbformat_minor": 5
}
