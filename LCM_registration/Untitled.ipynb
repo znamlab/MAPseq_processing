{
 "cells": [
  {
   "cell_type": "code",
   "execution_count": 13,
   "id": "18266f67",
   "metadata": {},
   "outputs": [],
   "source": [
    "import numpy as np\n",
    "from matplotlib import pyplot as plt\n",
    "import pandas as pd\n",
    "import cv2\n",
    "import json\n",
    "import os\n",
    "import datetime\n",
    "import nrrd\n",
    "import bg_space as bg\n",
    "from pprint import pprint\n",
    "from matplotlib.colors import LogNorm, Normalize\n"
   ]
  },
  {
   "cell_type": "code",
   "execution_count": null,
   "id": "05949c09",
   "metadata": {},
   "outputs": [
    {
     "data": {
      "text/html": [
       "<pre style=\"white-space:pre;overflow-x:auto;line-height:normal;font-family:Menlo,'DejaVu Sans Mono',consolas,'Courier New',monospace\"><span style=\"color: #ff00d7; text-decoration-color: #ff00d7\">Bgatlas_api: allen_mouse_25um not found locally. Downloading...</span>\n",
       "</pre>\n"
      ],
      "text/plain": [
       "\u001b[38;5;200mBgatlas_api: allen_mouse_25um not found locally. Downloading\u001b[0m\u001b[38;5;200m...\u001b[0m\n"
      ]
     },
     "metadata": {},
     "output_type": "display_data"
    },
    {
     "data": {
      "text/html": [
       "<pre style=\"white-space:pre;overflow-x:auto;line-height:normal;font-family:Menlo,'DejaVu Sans Mono',consolas,'Courier New',monospace\">/camp/home/turnerb/.conda/envs/MAPseq_processing/lib/python3.8/site-packages/rich/live.py:231: UserWarning: install\n",
       "\"ipywidgets\" for Jupyter support\n",
       "  warnings.warn('install \"ipywidgets\" for Jupyter support')\n",
       "</pre>\n"
      ],
      "text/plain": [
       "/camp/home/turnerb/.conda/envs/MAPseq_processing/lib/python3.8/site-packages/rich/live.py:231: UserWarning: install\n",
       "\"ipywidgets\" for Jupyter support\n",
       "  warnings.warn('install \"ipywidgets\" for Jupyter support')\n"
      ]
     },
     "metadata": {},
     "output_type": "display_data"
    }
   ],
   "source": [
    "from bg_atlasapi import BrainGlobeAtlas\n",
    "bg_atlas = BrainGlobeAtlas(\"allen_mouse_25um\", check_latest=False)"
   ]
  },
  {
   "cell_type": "code",
   "execution_count": null,
   "id": "9717f02d",
   "metadata": {},
   "outputs": [],
   "source": [
    "y"
   ]
  }
 ],
 "metadata": {
  "kernelspec": {
   "display_name": "Python [conda env:.conda-MAPseq_processing] *",
   "language": "python",
   "name": "conda-env-.conda-MAPseq_processing-py"
  },
  "language_info": {
   "codemirror_mode": {
    "name": "ipython",
    "version": 3
   },
   "file_extension": ".py",
   "mimetype": "text/x-python",
   "name": "python",
   "nbconvert_exporter": "python",
   "pygments_lexer": "ipython3",
   "version": "3.8.16"
  }
 },
 "nbformat": 4,
 "nbformat_minor": 5
}
