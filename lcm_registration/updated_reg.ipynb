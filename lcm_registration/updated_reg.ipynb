{
 "cells": [
  {
   "cell_type": "code",
   "execution_count": null,
   "id": "aac1ec33",
   "metadata": {},
   "outputs": [],
   "source": [
    "import numpy as np\n",
    "from matplotlib import pyplot as plt\n",
    "import pandas as pd\n",
    "import cv2\n",
    "import json\n",
    "import os\n",
    "import datetime\n",
    "import nrrd\n",
    "import bg_space as bg\n",
    "from pprint import pprint\n",
    "from matplotlib.colors import LogNorm, Normalize\n",
    "import seaborn as sb\n",
    "import pathlib\n",
    "import pathlib\n",
    "from bg_atlasapi import BrainGlobeAtlas\n",
    "from lcm_registration import LCM_registration_functions as lrf\n",
    "# from LCM_registration_functions import get_z_value\n",
    "# from LCM_registration_functions import get_roi_vol\n",
    "from lcm_registration import visualign_functions as vis\n",
    "from znamutils import slurm_it\n"
   ]
  },
  {
   "cell_type": "code",
   "execution_count": null,
   "id": "185cdfdb",
   "metadata": {},
   "outputs": [],
   "source": [
    "bg_atlas = BrainGlobeAtlas(\"allen_mouse_25um\", check_latest=False)"
   ]
  },
  {
   "cell_type": "code",
   "execution_count": null,
   "metadata": {},
   "outputs": [],
   "source": [
    "sections_with_nothing_before = []\n",
    "slicebefore_name = 's023'\n",
    "sections_with_nothing_before.append(slicebefore_name)"
   ]
  },
  {
   "cell_type": "code",
   "execution_count": null,
   "metadata": {},
   "outputs": [],
   "source": [
    "sections_with_nothing_before"
   ]
  },
  {
   "cell_type": "code",
   "execution_count": null,
   "id": "cf12f4e8",
   "metadata": {},
   "outputs": [],
   "source": [
    "lcm_directory = pathlib.Path('/camp/lab/znamenskiyp/home/shared/projects/turnerb_V1_MAPseq/BRAC8198.6c/LCM_registration') \n",
    "json_vis = lcm_directory/'reference/191123_visualign.json'#where registration file is saved\n",
    "#savingpath = ('/camp/lab/znamenskiyp/home/shared/projects/turnerb_MAPseq/A1_MAPseq/FIAA32.6a/LCM_registration/allenccf/allen_ccf_coord') #where you want to save\n",
    "#below is path where allen annotation nrrd file is\n",
    "allen_anno_path = '/camp/lab/znamenskiyp/home/shared/projects/turnerb_MAPseq/A1_MAPseq/FIAA32.6a/LCM_registration/reference/annotation_25.nrrd'"
   ]
  },
  {
   "cell_type": "code",
   "execution_count": null,
   "metadata": {},
   "outputs": [],
   "source": [
    "lrf.convert_images(lcm_aligned_dir= json_vis,use_slurm=True, slurm_folder='/camp/home/turnerb/slurm_logs')"
   ]
  },
  {
   "cell_type": "code",
   "execution_count": null,
   "metadata": {},
   "outputs": [],
   "source": [
    "OB_first = 'no' #direction of slicing. If first few sections are OB, type 'yes'\n",
    "#sections where there is a missing section before -> includes first slice\n",
    "add_z = get_z_value(lcm_dir=lcm_directory, OB_first = OB_first)\n"
   ]
  },
  {
   "cell_type": "code",
   "execution_count": null,
   "metadata": {},
   "outputs": [],
   "source": [
    "ROI_vol = lrf.get_roi_vol(lcm_dir=lcm_directory, add_z=add_z, allen_anno_path=allen_anno_path, z_moving_towards_OB='no')"
   ]
  },
  {
   "cell_type": "code",
   "execution_count": null,
   "metadata": {},
   "outputs": [],
   "source": [
    "ROI_vol =pd.read_pickle(lcm_directory/'ROI_vol.pkl', )"
   ]
  },
  {
   "cell_type": "code",
   "execution_count": null,
   "metadata": {},
   "outputs": [],
   "source": [
    "lrf.combine_tubes(lcm_dir=str(lcm_directory), ROI_vol_path=str(lcm_directory/'ROI_vol.pkl'), use_slurm=True, slurm_folder='/camp/home/turnerb/slurm_logs')"
   ]
  },
  {
   "cell_type": "code",
   "execution_count": null,
   "metadata": {},
   "outputs": [],
   "source": [
    "lcm_dir = '/camp/lab/znamenskiyp/home/shared/projects/turnerb_V1_MAPseq/BRAC8198.6c/LCM_registration'\n",
    "lrf.get_euclidean_distance(lcm_dir, use_slurm=True, slurm_folder='/camp/home/turnerb/slurm_logs')"
   ]
  },
  {
   "cell_type": "code",
   "execution_count": null,
   "metadata": {},
   "outputs": [],
   "source": [
    "slice = 's056'\n",
    "directory = '/camp/lab/znamenskiyp/home/shared/projects/turnerb_V1_MAPseq/BRAC8198.6c/LCM_registration'\n",
    "saving_path = pathlib.Path(directory)/'allenccf/allen_ccf_coord'\n",
    "    \n",
    "slicenum = int(slice[1:4])\n",
    "slice_before= slicenum+1\n",
    "if slice_before >9:\n",
    "    slicebefore_name = f's0{slice_before}'\n",
    "if slice_before<10:\n",
    "    slicebefore_name = f's00{slice_before}' \n",
    "[x1a, y1a, z1a, one1] = np.load(saving_path/f'allen_ccf_converted_{slice}.npy')\n",
    "[x2a, y2a, z2a, one2] = np.load(saving_path/f'allen_ccf_converted_{slicebefore_name}.npy')\n",
    "point_z = x1a.flatten()\n",
    "points_xy = np.column_stack((z1a.flatten(), y1a.flatten()))\n",
    "# Stack x1 and y1 to create a single array for [x1, y1]\n",
    "points_xy1 = np.column_stack((z2a.flatten(), y2a.flatten()))\n",
    "point_z2 = x2a.flatten()\n",
    "# Find the closest point in x1, y1 for each point in x, y\n",
    "z_dist_points = []\n",
    "for i, point in enumerate(points_xy):\n",
    "    distances = np.linalg.norm(points_xy1 - point, axis=1)\n",
    "    closest_index = np.argmin(distances)\n",
    "    z_distance = point_z2[closest_index] - point_z[i]\n",
    "    z_dist_points.append(z_distance)"
   ]
  },
  {
   "cell_type": "code",
   "execution_count": null,
   "metadata": {},
   "outputs": [],
   "source": [
    "x1a.shape"
   ]
  },
  {
   "cell_type": "code",
   "execution_count": null,
   "metadata": {},
   "outputs": [],
   "source": [
    "z_dist_points.shape"
   ]
  },
  {
   "cell_type": "code",
   "execution_count": null,
   "metadata": {},
   "outputs": [],
   "source": [
    "z_dist_points= np.array(z_dist_points)"
   ]
  },
  {
   "cell_type": "code",
   "execution_count": null,
   "metadata": {},
   "outputs": [],
   "source": [
    "z_dist_points =z_dist_points.reshape(158, 2)"
   ]
  },
  {
   "cell_type": "code",
   "execution_count": null,
   "metadata": {},
   "outputs": [],
   "source": [
    "for i, r in ROI_vol.iterrows():\n",
    "    unique = r.unique_regions\n",
    "    for x in unique:\n",
    "        if x < 1:\n",
    "            if x > 0:\n",
    "                print(x, i, r['tube'])\n",
    "        "
   ]
  },
  {
   "cell_type": "code",
   "execution_count": null,
   "metadata": {},
   "outputs": [],
   "source": [
    "lcm_dir = lcm_directory\n",
    "roi_path = pathlib.Path('/camp/lab/znamenskiyp/home/shared/projects/turnerb_V1_MAPseq/BRAC8198.6c/LCM_registration/rois/')\n",
    "image_reverse_of_cutting_side = 'yes'\n",
    "z_to_add = add_z\n",
    "region = 'S042_TUBE123.png'\n",
    "slice_name = f's{region[1:4]}'\n",
    "tube = region[5:len(region)].split('TUBE', 1)[1]\n",
    "tube =tube[:-4]\n",
    "[xa, ya, za, one] = np.load(lcm_dir/f'allenccf/allen_ccf_coord/allen_ccf_converted_{slice_name}.npy')\n",
    "roi = plt.imread(roi_path / f'{region}')\n",
    "allencoord_roiya = roi*ya\n",
    "allencoord_roiza = roi*za\n",
    "#use shoelace formula to define area of polygon given xy coordinates then calculate volume of each LCM roi\n",
    "calcz = allencoord_roiza[allencoord_roiza!= 0]\n",
    "calcy = allencoord_roiya[allencoord_roiya!= 0]\n",
    "area_roi = 0.5*np.abs(np.dot(calcz,np.roll(calcy,1))-np.dot(calcy,np.roll(calcz,1)))\n",
    "z_to_add = add_z.loc[add_z['slice'] == slice_name, 'amountz'].iloc[0]\n",
    "if image_reverse_of_cutting_side == 'yes':\n",
    "    vol_roi = area_roi*z_to_add\n",
    "else:\n",
    "    vol_roi = area_roi*-z_to_add\n",
    "#convert the x, y, z coordinates to pixel\n",
    "pixcoord = []\n",
    "for i, axis in enumerate([xa, ya, za]):\n",
    "    pixel = np.array(np.round(axis/25), dtype=int)\n",
    "    pixel[pixel <0] = 0\n",
    "    pixel[pixel >= annotation.shape[i]] = 0\n",
    "    pixcoord.append(pixel)"
   ]
  },
  {
   "cell_type": "code",
   "execution_count": null,
   "metadata": {},
   "outputs": [],
   "source": [
    "registered_slice = np.zeros(xa.shape, dtype = annotation.dtype)\n",
    "a2=annotation[pixcoord[0].flatten(),\n",
    "            pixcoord[1].flatten(),\n",
    "            pixcoord[2].flatten()].reshape(registered_slice.shape)\n",
    "ROI_anno = a2*roi"
   ]
  },
  {
   "cell_type": "code",
   "execution_count": null,
   "metadata": {},
   "outputs": [],
   "source": [
    "np.unique(ROI_anno)"
   ]
  },
  {
   "cell_type": "code",
   "execution_count": null,
   "metadata": {},
   "outputs": [],
   "source": [
    "lrf.combine_tubes(lcm_dir=str(lcm_directory), ROI_vol_path=str(lcm_directory/'ROI_vol.pkl'), use_slurm=True, slurm_folder='/camp/home/turnerb/slurm_logs')"
   ]
  },
  {
   "cell_type": "code",
   "execution_count": null,
   "metadata": {},
   "outputs": [],
   "source": [
    "#load annotation\n",
    "allen_anno = nrrd.read(allen_anno_path)\n",
    "allen_anno = np.array(allen_anno)\n",
    "annotation = allen_anno[0]"
   ]
  },
  {
   "cell_type": "code",
   "execution_count": null,
   "metadata": {},
   "outputs": [],
   "source": [
    "#generate list of unique id regions in all samples\n",
    "for r, tube in final_pix['tube'].iteritems():\n",
    "    if r ==0 :\n",
    "        array = final_pix.loc[r, 'combined_pix']\n",
    "    if r > 0:\n",
    "        next_array = final_pix.loc[r, 'combined_pix']\n",
    "        array = np.concatenate((array, next_array), axis=None)\n",
    "\n",
    "all_regions= np.unique(array)\n",
    "region_col =  all_regions[all_regions!= 0]\n",
    "final_pix.tube = final_pix.tube.astype(float)\n",
    "finalpix1 =final_pix.sort_values('tube').reset_index()\n",
    "np.save(lcm_directory/'region_col.npy', region_col)\n",
    "finalpix1.to_pickle(lcm_directory/\"finalpix1.pkl\")\n",
    "final_pix.to_pickle(lcm_directory/\"finalpix.pkl\")"
   ]
  },
  {
   "cell_type": "code",
   "execution_count": null,
   "id": "73cda8fd",
   "metadata": {},
   "outputs": [],
   "source": [
    "#load annotation\n",
    "allen_anno = nrrd.read(allen_anno_path)\n",
    "allen_anno = np.array(allen_anno)\n",
    "annotation = allen_anno[0]"
   ]
  },
  {
   "cell_type": "code",
   "execution_count": null,
   "id": "8b981e0d",
   "metadata": {},
   "outputs": [],
   "source": [
    "roi_path = pathlib.Path(directory).parents[1]/'rois'\n",
    "ROI_vol=pd.DataFrame()\n",
    "for region in os.listdir(roi_path):\n",
    "    if region.startswith(\"s0\"):\n",
    "        slice_name = region[0:4]\n",
    "        tube = region[5:len(region)].split('TUBE', 1)[1]\n",
    "        tube =tube[:-4]\n",
    "        [xa, ya, za, one] = np.load(f'allenccf/allen_ccf_coord/allen_ccf_converted_{slice_name}.npy')\n",
    "        roi = plt.imread('rois/%s' %region)\n",
    "        allencoord_roiya = roi*ya\n",
    "        allencoord_roiza = roi*za\n",
    "#use shoelace formula to define area of polygon given xy coordinates then calculate volume of each LCM roi\n",
    "        calcz = allencoord_roiza[allencoord_roiza!= 0]\n",
    "        calcy = allencoord_roiya[allencoord_roiya!= 0]\n",
    "        area_roi = 0.5*np.abs(np.dot(calcz,np.roll(calcy,1))-np.dot(calcy,np.roll(calcz,1)))\n",
    "        z_to_add = add_z.loc[add_z['slice'] == slice_name, 'amountz'].iloc[0]\n",
    "        vol_roi = area_roi*-z_to_add\n",
    "#convert the x, y, z coordinates to pixel\n",
    "        pixcoord = []\n",
    "        for i, axis in enumerate([xa, ya, za]):\n",
    "            pixel = np.array(np.round(axis/25), dtype=int)\n",
    "            pixel[pixel <0] = 0\n",
    "            pixel[pixel >= annotation.shape[i]] = 0\n",
    "            pixcoord.append(pixel)\n",
    "\n",
    "# use annotation.json to convert each pixel to region id\n",
    "\n",
    "        registered_slice = np.zeros(xa.shape, dtype = annotation.dtype)\n",
    "        a2=annotation[pixcoord[0].flatten(),\n",
    "                      pixcoord[1].flatten(),\n",
    "                      pixcoord[2].flatten()].reshape(registered_slice.shape)\n",
    "        ROI_anno = a2*roi\n",
    "#iterate image by z slices, each additional z, annotate then add to list\n",
    "        slices = -round(z_to_add/25)\n",
    "        for x in range(slices):\n",
    "            if x >0:\n",
    "                newz = pixcoord[0]-x #changed from plus to minus as going backwards\n",
    "                slice = annotation[newz.flatten(), pixcoord[1].flatten(), pixcoord[2].flatten()].reshape(registered_slice.shape)\n",
    "                ROI_anno_add = slice*roi\n",
    "                ROI_anno = np.append(ROI_anno, ROI_anno_add)\n",
    "    \n",
    "        unique, counts = np.unique(ROI_anno, return_counts=True)\n",
    "        region_vol = (counts/sum(counts))*vol_roi\n",
    "        ROI_vol= ROI_vol.append({'slice': slice_name, 'tube': tube, 'z_added': z_to_add, 'vol (um3)': vol_roi, 'region_pix': ROI_anno, 'unique_regions': unique[1:], 'region_vol (um3)': region_vol[1:]},ignore_index=True)\n",
    "\n"
   ]
  },
  {
   "cell_type": "code",
   "execution_count": null,
   "metadata": {},
   "outputs": [],
   "source": []
  },
  {
   "cell_type": "code",
   "execution_count": null,
   "id": "81f6f011",
   "metadata": {},
   "outputs": [],
   "source": [
    "ROI_saving_path = pathlib.Path(directory).parents[1]/'allenccf'\n",
    "ROI_vol.to_pickle(ROI_saving_path/\"ROI_vol.pkl\")\n"
   ]
  },
  {
   "cell_type": "code",
   "execution_count": null,
   "id": "74badf17",
   "metadata": {},
   "outputs": [],
   "source": [
    "#combine volumes for LCM\n",
    "finalpix = pd.DataFrame(columns=['tube', 'combined_pix', 'vol (um3)'], dtype=int)\n",
    "result = ROI_vol.groupby(['tube']).agg(', '.join).reset_index()"
   ]
  },
  {
   "cell_type": "code",
   "execution_count": null,
   "id": "49359157",
   "metadata": {},
   "outputs": [],
   "source": [
    "for row, tube in result['tube'].iteritems():\n",
    "    newdf = ROI_vol[ROI_vol['tube']==tube].reset_index()\n",
    "    #for count, value in enumerate(newdf):\n",
    "    for r, t in newdf['tube'].iteritems():\n",
    "        if r ==0 :\n",
    "            array = newdf.loc[r, 'region_pix']\n",
    "            vol = newdf.loc[r, 'vol (um3)']\n",
    "        if r > 0:\n",
    "            nextarray = newdf.loc[r, 'region_pix']\n",
    "            vol = vol + newdf.loc[r, 'vol (um3)']\n",
    "            array = np.concatenate((array, nextarray), axis=None)\n",
    "    final_pix= final_pix.append({'tube': tube, 'combined_pix': array, 'vol (um3)': vol},ignore_index=True)"
   ]
  },
  {
   "cell_type": "code",
   "execution_count": null,
   "id": "e30a6dd4",
   "metadata": {},
   "outputs": [],
   "source": [
    "#generate list of unique id regions in all samples\n",
    "for r, tube in final_pix['tube'].iteritems():\n",
    "    if r ==0 :\n",
    "        array = final_pix.loc[r, 'combined_pix']\n",
    "    if r > 0:\n",
    "        next_array = final_pix.loc[r, 'combined_pix']\n",
    "    array = np.concatenate((array, next_array), axis=None)\n",
    "all_regions= np.unique(array)\n",
    "region_col =  all_regions[all_regions!= 0]\n",
    "#calculate region volume in each tube, then create a heatmap of regions coloured according to region\n",
    "final_pix.tube = final_pix.tube.astype(float)\n",
    "finalpix1 =final_pix.sort_values('tube').reset_index()\n",
    "# np.save('region_col.npy', region_col)\n",
    "# finalpix1.to_pickle(\"finalpix1.pkl\")\n",
    "# final_pix.topickle(\"finalpix.pkl\")"
   ]
  },
  {
   "cell_type": "code",
   "execution_count": null,
   "metadata": {},
   "outputs": [],
   "source": [
    "lcm_directory"
   ]
  },
  {
   "cell_type": "code",
   "execution_count": null,
   "id": "198f3fa0",
   "metadata": {},
   "outputs": [],
   "source": [
    "finalpix1= pd.read_pickle(lcm_directory/\"finalpix.pkl\")"
   ]
  },
  {
   "cell_type": "code",
   "execution_count": null,
   "metadata": {},
   "outputs": [],
   "source": [
    "finalpix1"
   ]
  },
  {
   "cell_type": "code",
   "execution_count": null,
   "id": "ca8f74bb",
   "metadata": {},
   "outputs": [],
   "source": [
    "regioncol = np.load(lcm_directory/\"region_col.npy\")"
   ]
  },
  {
   "cell_type": "code",
   "execution_count": null,
   "id": "49602ca8",
   "metadata": {},
   "outputs": [],
   "source": [
    "#now generate empty table for the acronymns of all areas based on allen ccf\n",
    "acronymncol = []\n",
    "for id in regioncol:\n",
    "    if bg_atlas.structures[id]['acronym'][-1].isnumeric():\n",
    "        newid = bg_atlas.structures[id][\"structure_id_path\"][-2] #moving one level up the hierarchy if cortical layer\n",
    "    elif bg_atlas.structures[id]['acronym'][-2:]== '6a' or bg_atlas.structures[id]['acronym'][-2:]== '6b':\n",
    "        newid = bg_atlas.structures[id][\"structure_id_path\"][-2] #moving one level up the hierarchy if layer 6a/6b\n",
    "    else: newid = id\n",
    "    acronymn = bg_atlas.structures[newid]['acronym']\n",
    "    acronymncol.append(acronymn)\n",
    "acronymncol= np.unique(acronymncol).tolist()\n",
    "region_table = pd.DataFrame(columns = acronymncol, dtype =int)"
   ]
  },
  {
   "cell_type": "code",
   "execution_count": null,
   "id": "21950a47",
   "metadata": {},
   "outputs": [],
   "source": [
    "#need to generate reference table to convert id's into higher bit of hierarchy.\n",
    "\n",
    "for row, tube in finalpix1['tube'].iteritems():\n",
    "    regions = finalpix1.loc[row, 'combined_pix']\n",
    "    unique, counts = np.unique(regions, return_counts=True)\n",
    "    region_area = (counts/sum(counts))*(finalpix1.loc[row, 'vol (um3)'])\n",
    "    regions = unique[1:]\n",
    "    region_area = region_area[1:]\n",
    "    values = regions, region_area\n",
    "    region_table.at[row, 'sample'] = tube\n",
    "    index = -1\n",
    "    if regions.size != 0:\n",
    "        for id in np.nditer(regions):\n",
    "            index += 1\n",
    "            if bg_atlas.structures[id]['acronym'][-1].isnumeric():\n",
    "                newid = bg_atlas.structures[id][\"structure_id_path\"][-2] #moving one level up the hierarchy if cortical layer\n",
    "            elif bg_atlas.structures[id]['acronym'][-2:]== '6a' or bg_atlas.structures[id]['acronym'][-2:]== '6b':\n",
    "                newid = bg_atlas.structures[id][\"structure_id_path\"][-2] #moving one level up the hierarchy if layer 6a/6b\n",
    "            else: newid = id\n",
    "            acronym = bg_atlas.structures[newid]['acronym']\n",
    "            region_table.at[row, acronym]= region_area[index]\n",
    "\n"
   ]
  },
  {
   "cell_type": "code",
   "execution_count": null,
   "metadata": {},
   "outputs": [],
   "source": [
    "contra_samples= [27, 45, 46, 80, 90, 105, 118, 125]"
   ]
  },
  {
   "cell_type": "code",
   "execution_count": null,
   "metadata": {},
   "outputs": [],
   "source": [
    "region_table"
   ]
  },
  {
   "cell_type": "code",
   "execution_count": null,
   "id": "5ba586dc",
   "metadata": {},
   "outputs": [],
   "source": [
    "region_tab_contra = region_table\n",
    "#take areas in samples of contralateral hemisphere, and re-label as belonging to contra\n",
    "\n",
    "for i, row in region_table.iterrows():\n",
    "    if region_table['sample'].iloc[i] in contra_samples:\n",
    "        for col in region_table.columns:\n",
    "            if col != 'sample'and col.startswith('Contra')==False and np.isnan(region_table[col].iloc[i])== False:\n",
    "                newcol = 'Contra-' + col\n",
    "                if newcol not in region_tab_contra:\n",
    "                    region_tab_contra[newcol]=0\n",
    "                region_tab_contra[newcol].iloc[i] = region_table[col].iloc[i]\n",
    "                region_tab_contra[col].iloc[i] =0\n",
    "            \n",
    "nozero = region_table.fillna(0)"
   ]
  },
  {
   "cell_type": "code",
   "execution_count": null,
   "metadata": {},
   "outputs": [],
   "source": [
    "nozero"
   ]
  },
  {
   "cell_type": "code",
   "execution_count": null,
   "id": "f1403e1d",
   "metadata": {},
   "outputs": [],
   "source": []
  },
  {
   "cell_type": "code",
   "execution_count": null,
   "id": "a2a4b47a",
   "metadata": {},
   "outputs": [],
   "source": [
    "nozero.to_csv('3d_areas.csv',index=False)"
   ]
  },
  {
   "cell_type": "code",
   "execution_count": null,
   "id": "94f7b539",
   "metadata": {},
   "outputs": [],
   "source": [
    "region_table"
   ]
  },
  {
   "cell_type": "code",
   "execution_count": null,
   "id": "e7c0ad2b",
   "metadata": {},
   "outputs": [],
   "source": [
    "id = 269\n",
    "if bg_atlas.structures[id]['acronym'][-2:]== '6a' or bg_atlas.structures[id]['acronym'][-2:]== '6b':\n",
    "    print('yes')"
   ]
  },
  {
   "cell_type": "code",
   "execution_count": null,
   "id": "840eddcb",
   "metadata": {},
   "outputs": [],
   "source": [
    "bg_atlas.structures[251]['acronym'][-2:]"
   ]
  },
  {
   "cell_type": "code",
   "execution_count": null,
   "id": "a0493a37",
   "metadata": {},
   "outputs": [],
   "source": [
    "df= nozero.reindex(sorted(nozero.columns), axis=1)\n",
    "df= df.drop(['sample'], axis=1)\n",
    "\n",
    "fig, ax = plt.subplots(figsize=(60, 10))\n",
    "sb.heatmap(df, norm=LogNorm(), cbar_kws={'label': 'Vol (um3)'})\n",
    "ax.set(xlabel=\"Brain region\",\n",
    "      ylabel=\"Sample\")\n",
    "\n",
    "plt.savefig(f'{lcm_directory}/region_heatmap.png')\n",
    "plt.show()"
   ]
  },
  {
   "cell_type": "code",
   "execution_count": null,
   "id": "ce6310fa",
   "metadata": {},
   "outputs": [],
   "source": [
    "bg_atlas.structures[bg_atlas.structures[78][\"structure_id_path\"][-2]]['acronym']"
   ]
  },
  {
   "cell_type": "code",
   "execution_count": null,
   "id": "d753588d",
   "metadata": {},
   "outputs": [],
   "source": [
    "finalpix.tube = finalpix.tube.astype(float)\n",
    "finalpix1 =finalpix.sort_values('tube').reset_index()"
   ]
  }
 ],
 "metadata": {
  "kernelspec": {
   "display_name": "MAPseq_processing",
   "language": "python",
   "name": "python3"
  },
  "language_info": {
   "codemirror_mode": {
    "name": "ipython",
    "version": 3
   },
   "file_extension": ".py",
   "mimetype": "text/x-python",
   "name": "python",
   "nbconvert_exporter": "python",
   "pygments_lexer": "ipython3",
   "version": "3.8.16"
  }
 },
 "nbformat": 4,
 "nbformat_minor": 5
}
